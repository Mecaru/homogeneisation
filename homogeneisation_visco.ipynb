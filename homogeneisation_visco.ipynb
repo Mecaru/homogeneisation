{
 "cells": [
  {
   "cell_type": "markdown",
   "metadata": {},
   "source": [
    "# Homogeneisation - Visco-elastic materials"
   ]
  },
  {
   "cell_type": "markdown",
   "metadata": {},
   "source": [
    "### TODO : Description du notebook "
   ]
  },
  {
   "cell_type": "markdown",
   "metadata": {},
   "source": [
    "---"
   ]
  },
  {
   "cell_type": "markdown",
   "metadata": {},
   "source": [
    "## I- Importation des classes et des modules utiles"
   ]
  },
  {
   "cell_type": "code",
   "execution_count": 1,
   "metadata": {},
   "outputs": [
    {
     "name": "stdout",
     "output_type": "stream",
     "text": [
      "Package downloaded\n"
     ]
    }
   ],
   "source": [
    "!pip install ipywidgets # Installation du package permettant la gestion des widgets\n",
    "from IPython.display import clear_output, display\n",
    "clear_output()\n",
    "print(\"Package downloaded\")"
   ]
  },
  {
   "cell_type": "code",
   "execution_count": 2,
   "metadata": {},
   "outputs": [],
   "source": [
    "import ipywidgets as widgets\n",
    "from classes_visco import *\n",
    "from os import listdir\n",
    "import pandas as pd"
   ]
  },
  {
   "cell_type": "code",
   "execution_count": 3,
   "metadata": {},
   "outputs": [
    {
     "name": "stdout",
     "output_type": "stream",
     "text": [
      "Modèles importés : [<class 'classes_visco.Mori_Tanaka'>, <class 'classes_visco.Eshelby_Approximation'>, <class 'classes_visco.Differential_Scheme'>]\n"
     ]
    }
   ],
   "source": [
    "print(\"Modèles importés : {}\".format(list_models))"
   ]
  },
  {
   "cell_type": "markdown",
   "metadata": {},
   "source": [
    "--- "
   ]
  },
  {
   "cell_type": "markdown",
   "metadata": {},
   "source": [
    "## II- Fonctions utiles"
   ]
  },
  {
   "cell_type": "code",
   "execution_count": 4,
   "metadata": {
    "scrolled": true
   },
   "outputs": [],
   "source": [
    "parameters_name = {\n",
    "    'K': 'Bulk modulus K',\n",
    "    'G': 'Shear modulus G',\n",
    "    'E': 'Young modulus E',\n",
    "    'nu': \"Poisson's ratio \" + r'\\(\\nu\\)',\n",
    "    \"G'\": \"Storage modulus G'\",\n",
    "    \"G''\": \"Loss modulus G''\",\n",
    "}\n",
    "parameters_name_bis = {value: key for (key, value) in parameters_name.items()}\n",
    "input_folder = \"inputs/viscoelastic_behaviors\" # Dossier contenant les comportements visco-élastiques\n",
    "\n",
    "def gen_tab_behavior():\n",
    "    \"\"\"\n",
    "    Routine qui génère un widget de type 'tab' permettant le choix des paramètres associés aux comportements. \n",
    "    Chaque onglet généré correspond à un comportement du dictionnaire 'dict_behaviors' implémenté dans 'classes.py'.\n",
    "    La fonction renvoie :\n",
    "    - une liste de liste de widgets (list_widgets) contenant autant de listes que d'onglet. Chaque liste contient les widgets générant les paramètres asssociés au comportement \n",
    "    de l'onglet correspondant.\n",
    "    - un widget tab correspondant au résultat final à afficher.    \n",
    "    \"\"\"\n",
    "    behaviors_str = list(dict_behaviors.keys()) # Liste des noms des comportements déjà implémentés, définis dans classes.py\n",
    "    list_widgets = [] # Liste de liste, chaque liste correspond à un onglet du tab et contient les widgets de cet onglet non formatés\n",
    "    tab_titles = [] # Nom des onglets, chaque onglet est associé à un type de comportement\n",
    "    # Construction des widgets associés à chaque onglet\n",
    "    for behavior_str in behaviors_str:\n",
    "        widgets_onglet = []\n",
    "        parameters = dict_behaviors[behavior_str] # Paramètres associés au comportement (exemple : ['K', 'G'] pour Isotropic)\n",
    "        for parameter in parameters:\n",
    "            w = widgets.FloatSlider(value=1, min=0.01, max=1000, step=0.01) # Widget associé au paramètre parameter\n",
    "            if parameter == 'nu':\n",
    "                w.max = 0.49\n",
    "                w.value = 0.3\n",
    "            # Traitement des paramètres visco-élastiques\n",
    "            if parameter in [\"G'\", \"G''\"]:\n",
    "                # TODO: expliquer le format attendu\n",
    "                # Récupération de la liste des fichiers de comportement disponibles\n",
    "                behavior_files = listdir(input_folder)\n",
    "                # Sélection des fichiers .txt et .csv seuls\n",
    "                behavior_files = [file for file in behavior_files if (file.endswith('.txt') or file.endswith('.csv'))]\n",
    "                # Création du widget\n",
    "                w = widgets.Dropdown(options=behavior_files)\n",
    "            w_label = widgets.Label(value=parameters_name[parameter])\n",
    "            widgets_onglet.append(widgets.HBox([w_label, w]))\n",
    "        list_widgets.append(widgets_onglet)\n",
    "        tab_titles.append(behavior_str)\n",
    "    # Création du tab\n",
    "    tab = widgets.Tab()\n",
    "    tab.children = [widgets.VBox(w) for w in list_widgets]\n",
    "    for pos, title in enumerate(tab_titles):\n",
    "        tab.set_title(pos, title)\n",
    "    return list_widgets, tab\n",
    "\n",
    "def read_behavior(tab, list_widgets):\n",
    "    \"\"\"\n",
    "    Fonction qui, à partir d'un widget 'tab' comme celui construit par la fonction précédente, renvoie le dictionnaire 'behavior' construit par l'utilisateur.\n",
    "    Dans le cas d'un comportement viso-élastique, renvoie une liste de fréquences/températures notée frequency.\n",
    "    Les valeurs du dict behavior sont alors des listes.\n",
    "    \"\"\"\n",
    "    global input_folder\n",
    "    behavior_int = tab.selected_index # Onglet ouvert par l'utilisateur\n",
    "    widgets_parameters = list_widgets[behavior_int] # Widgets des paramètres de l'onglet ouvert\n",
    "    if behavior_int != 2:\n",
    "        # Cas élastique classique\n",
    "        frequency = [] # Les paramètres sont idépendants de la fréquence/température\n",
    "        behavior = {parameters_name_bis[w.children[0].value]: w.children[1].value for w in widgets_parameters}\n",
    "    else:\n",
    "        # Cas visco-élastique\n",
    "        behavior = {}\n",
    "        for w in widgets_parameters:\n",
    "            parameter_name = parameters_name_bis[w.children[0].value] # Lecture du nom du paramètre (ex: 'K', \"G'\")\n",
    "            if parameter_name == 'K':\n",
    "                behavior['K'] = w.children[1].value # Valeur du widget FloatSlider associé\n",
    "            else:\n",
    "                # Cas de G' et G\"\n",
    "                filename = input_folder + '/' + w.children[1].value # Fichier choisi par l'utilisateur\n",
    "                # Lecture du fichier\n",
    "                parameter_values = [] # Liste de tuples (frequency, value)\n",
    "                with open(filename, 'r') as file:\n",
    "                    lines = file.readlines()\n",
    "                    for line in lines:\n",
    "                        line = line.strip().split()\n",
    "                        line = [float(element) for element in line]\n",
    "                        f, value = line\n",
    "                        parameter_values.append((f, value))\n",
    "                # Tri des valeurs par fréquence croissante\n",
    "                parameter_values.sort()\n",
    "                # Extraction des listes frequency et behavior\n",
    "                frequency = [element[0] for element in parameter_values]\n",
    "                behavior[parameter_name] = [element[1] for element in parameter_values]\n",
    "    return behavior, frequency\n",
    "\n",
    "def gen_tab_type():\n",
    "    \"\"\"\n",
    "    Routine qui génère un widget de type 'tab' permettant le choix des paramètres associés aux types d'inclusions (aspect ratio, orientation, etc..). \n",
    "    TODO : Inclure l'orientation\n",
    "    Chaque onglet généré correspond à un type du dictionnaire 'dict_types' implémenté dans 'classes.py'.\n",
    "    La fonction renvoie :\n",
    "    - une liste de liste de widgets (list_widgets) contenant autant de listes que d'onglets. Chaque liste contient les widgets générant les paramètres asssociés au comportement \n",
    "    de l'onglet correspondant.\n",
    "    - un widget tab correspondant au résultat final à afficher.    \n",
    "    \"\"\"\n",
    "    list_widgets = [] # Liste de listes, chaque liste correspond à un onglet et contient les widgets de cet onglet\n",
    "    # Construction des widgets associés à chaque onglet\n",
    "    for type_int in dict_types.keys():\n",
    "        if type_int == 0:\n",
    "            # Sphères, pas besoin de paramètres supllémentaires\n",
    "            list_widgets.append([])\n",
    "        elif type_int == 1:\n",
    "            # Oblate\n",
    "            w_label = widgets.Label(value=\"Aspect ratio\")\n",
    "            w_aspect_ratio = widgets.FloatSlider(min=0.01, max=0.99, step=0.01, value=0.5)\n",
    "            list_widgets.append([w_label, w_aspect_ratio])\n",
    "        elif type_int == 2:\n",
    "            # Prolate\n",
    "            w_label = widgets.Label(value=\"Aspect ratio\")\n",
    "            w_aspect_ratio = widgets.FloatSlider(min=1.01, max=10, step=0.01, value=1.5)\n",
    "            list_widgets.append([w_label, w_aspect_ratio])\n",
    "    # Création du tab\n",
    "    tab = widgets.Tab()\n",
    "    # Attribution des onglets\n",
    "    tab.children = [widgets.HBox(w) for w in list_widgets]\n",
    "    # Attribution des noms des onglets\n",
    "    for pos, title in dict_types.items():\n",
    "        tab.set_title(pos, title)\n",
    "    return list_widgets, tab         \n",
    "\n",
    "def read_type(tab, list_widgets):\n",
    "    \"\"\"\n",
    "    Fonction qui, à partir d'un widget 'tab' comme celui construit par la fonction gen_tab_type, renvoie le type d'inclusion et le rapport d'apsect.\n",
    "    \"\"\"\n",
    "    type_int = tab.selected_index # Onglet ouvert par l'utilisateur\n",
    "    widgets_parameters = list_widgets[type_int]\n",
    "    try:\n",
    "        aspect_ratio = widgets_parameters[1].value\n",
    "    except:\n",
    "        # Il n'y a pas de rapport de forme, cas des sphères par exemple\n",
    "        aspect_ratio = 1\n",
    "    return type_int, aspect_ratio\n",
    "\n",
    "def str_to_model(model_name):\n",
    "    \"\"\"\n",
    "    Fonction qui renvoie l'instance de classe Model associée au nom de classe model_name (str).\n",
    "    \"\"\"\n",
    "    for Model in list_models:\n",
    "        model = Model()\n",
    "        if model.name.upper() == model_name.upper():\n",
    "            return model\n",
    "        \n",
    "def incr(value, value_incr, mini, maxi):\n",
    "    \"\"\"\n",
    "    Incrémente la valeur de la variable value si celle-ci ne dépasse pas les bornes maxi et mini. \n",
    "    Renvoie un booléen qui indique si la variable a été incrémentée ou non (c'est le cas lorsque la variable est en dehors des bornes min max)\n",
    "    \"\"\"\n",
    "    result = value\n",
    "    result += value_incr\n",
    "    if result > maxi:\n",
    "        result = maxi\n",
    "    if result < mini:\n",
    "        result = mini\n",
    "    changed = (result != value)\n",
    "    return result, changed"
   ]
  },
  {
   "cell_type": "markdown",
   "metadata": {},
   "source": [
    "---"
   ]
  },
  {
   "cell_type": "markdown",
   "metadata": {},
   "source": [
    "## III- Calcul de comportement homogénéisé de microstructures\n",
    "Cette section permet la génération manuelle de microstructure et le calcul de comportement homogénéisé avec les modèles disponibles."
   ]
  },
  {
   "cell_type": "code",
   "execution_count": 5,
   "metadata": {},
   "outputs": [],
   "source": [
    "dict_inclusions = {}\n",
    "# Initialise la liste des inclusions créees. dict_inclusions est sous la forme {nam_inclusion (str): inclusion (Inclusion)}"
   ]
  },
  {
   "cell_type": "markdown",
   "metadata": {},
   "source": [
    "### Construction d'une inclusion"
   ]
  },
  {
   "cell_type": "code",
   "execution_count": 6,
   "metadata": {},
   "outputs": [
    {
     "data": {
      "application/vnd.jupyter.widget-view+json": {
       "model_id": "9ca9bb5812e9472794d7ab67591c12dc",
       "version_major": 2,
       "version_minor": 0
      },
      "text/plain": [
       "Label(value='Inclusion name')"
      ]
     },
     "metadata": {},
     "output_type": "display_data"
    },
    {
     "data": {
      "application/vnd.jupyter.widget-view+json": {
       "model_id": "90a87aa239d345dcae7cb2138de8a026",
       "version_major": 2,
       "version_minor": 0
      },
      "text/plain": [
       "Text(value='inclusion 0')"
      ]
     },
     "metadata": {},
     "output_type": "display_data"
    },
    {
     "data": {
      "application/vnd.jupyter.widget-view+json": {
       "model_id": "887b6f526d83455fbf6e37de355b6ec1",
       "version_major": 2,
       "version_minor": 0
      },
      "text/plain": [
       "Label(value='Inclusion type')"
      ]
     },
     "metadata": {},
     "output_type": "display_data"
    },
    {
     "data": {
      "application/vnd.jupyter.widget-view+json": {
       "model_id": "02c1dd4b1d8d4d17a366f8ba81bd8768",
       "version_major": 2,
       "version_minor": 0
      },
      "text/plain": [
       "Tab(children=(HBox(), HBox(children=(Label(value='Aspect ratio'), FloatSlider(value=0.5, max=0.99, min=0.01, s…"
      ]
     },
     "metadata": {},
     "output_type": "display_data"
    },
    {
     "data": {
      "application/vnd.jupyter.widget-view+json": {
       "model_id": "0d69f790ea864d6a92f95674a7975709",
       "version_major": 2,
       "version_minor": 0
      },
      "text/plain": [
       "Label(value='Inclusion behavior')"
      ]
     },
     "metadata": {},
     "output_type": "display_data"
    },
    {
     "data": {
      "application/vnd.jupyter.widget-view+json": {
       "model_id": "15692ce31a7640eba20f16f9dcf53d17",
       "version_major": 2,
       "version_minor": 0
      },
      "text/plain": [
       "Tab(children=(VBox(children=(HBox(children=(Label(value='Bulk modulus K'), FloatSlider(value=1.0, max=1000.0, …"
      ]
     },
     "metadata": {},
     "output_type": "display_data"
    },
    {
     "data": {
      "application/vnd.jupyter.widget-view+json": {
       "model_id": "93bab50e2b1046a398a6e4b735264957",
       "version_major": 2,
       "version_minor": 0
      },
      "text/plain": [
       "Button(description='Generate Inclusion', style=ButtonStyle())"
      ]
     },
     "metadata": {},
     "output_type": "display_data"
    },
    {
     "data": {
      "application/vnd.jupyter.widget-view+json": {
       "model_id": "39c3c2cb585b42579c9facbc911c6e0b",
       "version_major": 2,
       "version_minor": 0
      },
      "text/plain": [
       "Output()"
      ]
     },
     "metadata": {},
     "output_type": "display_data"
    }
   ],
   "source": [
    "# Nom de l'inclusion\n",
    "w_label = widgets.Label(value='Inclusion name')\n",
    "n_inclusion = 0 # Identifiant servant à donner automatiquement un nom unique à chaque inclusion\n",
    "w_name = widgets.Text(value='inclusion '+str(n_inclusion))\n",
    "display(w_label, w_name)\n",
    "\n",
    "# Type d'inclusion\n",
    "display(widgets.Label(value='Inclusion type'))\n",
    "widgets_type, tab_type = gen_tab_type() # Génération du widgets tab de choix du type d'inclusion\n",
    "display(tab_type)\n",
    "\n",
    "# Comportement de l'inclusion\n",
    "caption = widgets.Label(value='Inclusion behavior')\n",
    "display(caption)\n",
    "list_widgets, tab = gen_tab_behavior()\n",
    "display(tab)\n",
    "\n",
    "# Génération de l'inclusion\n",
    "button_generate_inclusion = widgets.Button(description=\"Generate Inclusion\")\n",
    "output = widgets.Output()\n",
    "display(button_generate_inclusion, output)\n",
    "def generate_inclusion(b):\n",
    "    \"\"\"\n",
    "    Fonction appelée lors d'un click sur le bouton, génère une inclusion avec les paramètres choisis.\n",
    "    \"\"\"\n",
    "    global n_inclusion\n",
    "    # Récupération des paramètres choisis\n",
    "    output.clear_output()\n",
    "    inclusion_name = w_name.value\n",
    "    if inclusion_name in list(dict_inclusions.keys()):\n",
    "        with output:\n",
    "            print(\"Name already exists\")\n",
    "    else :\n",
    "        type_inclusion, inclusion_aspect_ratio = read_type(tab_type, widgets_type)\n",
    "        behavior, frequency = read_behavior(tab, list_widgets)\n",
    "        inclusion = Inclusion(\n",
    "            type_inclusion,\n",
    "            behavior,\n",
    "            name=inclusion_name,\n",
    "            aspect_ratio=inclusion_aspect_ratio,\n",
    "            frequency=frequency\n",
    "        )\n",
    "        dict_inclusions[inclusion_name] = inclusion\n",
    "        with output:\n",
    "            print(\"Inclusion generated: \", inclusion)\n",
    "            inclusion.graph_parameter()\n",
    "        # Mise à jour automatique du nom de l'inclusion\n",
    "        n_inclusion += 1\n",
    "        w_name.value = 'inclusion '+str(n_inclusion)\n",
    "    \n",
    "button_generate_inclusion.on_click(generate_inclusion)"
   ]
  },
  {
   "cell_type": "markdown",
   "metadata": {},
   "source": [
    "### Construction d'une microstructure"
   ]
  },
  {
   "cell_type": "code",
   "execution_count": 7,
   "metadata": {},
   "outputs": [],
   "source": [
    "# Création de la variable contenant la microstructure\n",
    "microstructure = None # Initialisation\n",
    "\n",
    "# Fonctions liées aux appuis sur les boutons\n",
    "def add_inclusion_to_structure(b):\n",
    "    \"\"\"\n",
    "    Fonction appelée lors d'un click sur le bouton \"Add inclusion\", génère un widget associé à la fraction volumique de l'inclusion et l'ajoute au dictionnaire \"widgets_f\".\n",
    "    Crée aussi un bouton permettant la suppression de l'inclusion et l'ajoute au dictionnaire buttons.\n",
    "    Enfin, affiche la ligne de widgets correspondante.\n",
    "    \"\"\"\n",
    "    out2.clear_output()\n",
    "    inclusion = w_inclusions.value\n",
    "    if inclusion in list(widgets_f.keys()):\n",
    "        with out2:\n",
    "            print(\"Already added\")\n",
    "    else:\n",
    "        w_name = widgets.Label(inclusion.name)\n",
    "        w_f = widgets.FloatSlider(min=0.01, max=0.99, step=0.01, description='f')\n",
    "        w_b = widgets.Button(description=\"Remove inclusion\")\n",
    "        w_b.on_click(remove_inclusion)\n",
    "        widgets_f[inclusion] = (w_name, w_f)\n",
    "        buttons_suppress[w_b] = inclusion\n",
    "        with out1:\n",
    "            display(w_name, widgets.HBox([w_f, w_b]))\n",
    "\n",
    "def add_inclusion_to_list(b):\n",
    "    \"\"\"\n",
    "    Fonction appelée lors d'un clic sur le bouton 'generate inclusion' de la section précédente.\n",
    "    met à jour le widget permettant le choix des inclusions à ajouter.\n",
    "    \"\"\"\n",
    "    w_inclusions.options = list(dict_inclusions.values())\n",
    "    \n",
    "def remove_inclusion(b):\n",
    "    \"\"\"\n",
    "    Fonction appelée lorsqu'un bouton 'Remove inclusion' est appelé. \n",
    "    Repère l'inclusion associée au bouton, ferme les widgets associés et supprime l'entrée du dictionnaire widgets_f\n",
    "    \"\"\"\n",
    "    out2.clear_output()\n",
    "    inclusion = buttons_suppress[b]\n",
    "    w_name, w_f = widgets_f[inclusion]\n",
    "    # Fermeture des widgets\n",
    "    b.close()\n",
    "    w_name.close()\n",
    "    w_f.close()\n",
    "    del widgets_f[inclusion]\n",
    "    del buttons_suppress[b]\n",
    "\n",
    "def generate_microstructure(b):\n",
    "    \"\"\"\n",
    "    Génère la microstructure avec les paramètres choisis par l'utilisateur. \n",
    "    Si les fractions volumiques choisies ne sont pas cohérentes, affiche un message.\n",
    "    Affiche une description de la microsructure créee.\n",
    "    \"\"\"\n",
    "    global microstructure\n",
    "    matrix_behavior, frequency = read_behavior(tab_m, widgets_m) # Lecture des widgets définis dans la section 'Comportement de la matrice'\n",
    "    dict_inclusions = {}\n",
    "    # Lecture des fractions volumiques choisies\n",
    "    for inclusion, widgets in widgets_f.items():\n",
    "        w_name, w_f = widgets\n",
    "        f = w_f.value\n",
    "        dict_inclusions[inclusion] = f\n",
    "    # Génération de la microstructure\n",
    "    out3.clear_output()\n",
    "    out4.clear_output()\n",
    "    try:\n",
    "        microstructure = Microstructure(matrix_behavior, dict_inclusions, frequency=frequency)\n",
    "        with out3:\n",
    "            print(\"Microstructure generated\\n\" + str(microstructure))\n",
    "            # Dessin de la microstructure\n",
    "            microstructure.draw()\n",
    "        with out4:\n",
    "            # Graphe de comportement visco-élastique\n",
    "            microstructure.graph_parameter()\n",
    "    except NameError:\n",
    "        microstructure = None\n",
    "        with out3:\n",
    "            print(\"Inconsistent choice of volumic fractions\")"
   ]
  },
  {
   "cell_type": "code",
   "execution_count": 15,
   "metadata": {},
   "outputs": [
    {
     "data": {
      "application/vnd.jupyter.widget-view+json": {
       "model_id": "ca1c3a0000534c1d84f2fd9f56a72140",
       "version_major": 2,
       "version_minor": 0
      },
      "text/plain": [
       "Label(value='Matrix behavior')"
      ]
     },
     "metadata": {},
     "output_type": "display_data"
    },
    {
     "data": {
      "application/vnd.jupyter.widget-view+json": {
       "model_id": "d7113652ecd94a47845f6c912e41ac43",
       "version_major": 2,
       "version_minor": 0
      },
      "text/plain": [
       "Tab(children=(VBox(children=(HBox(children=(Label(value='Bulk modulus K'), FloatSlider(value=1.0, max=1000.0, …"
      ]
     },
     "metadata": {},
     "output_type": "display_data"
    },
    {
     "data": {
      "application/vnd.jupyter.widget-view+json": {
       "model_id": "ecdd27c1df0440f892bf058f6746238a",
       "version_major": 2,
       "version_minor": 0
      },
      "text/plain": [
       "HBox(children=(Dropdown(layout=Layout(width='max-content'), options=(inclusion 0, Spheres, K: 1.00, G': Visco-…"
      ]
     },
     "metadata": {},
     "output_type": "display_data"
    },
    {
     "data": {
      "application/vnd.jupyter.widget-view+json": {
       "model_id": "a6545f023efa4cd99b104d0f494ff16a",
       "version_major": 2,
       "version_minor": 0
      },
      "text/plain": [
       "Output()"
      ]
     },
     "metadata": {},
     "output_type": "display_data"
    },
    {
     "data": {
      "application/vnd.jupyter.widget-view+json": {
       "model_id": "5d4e3e2ebfe64bc38f195ac6258edaf6",
       "version_major": 2,
       "version_minor": 0
      },
      "text/plain": [
       "HBox(children=(Button(description='Generate microstructure', layout=Layout(width='max-content'), style=ButtonS…"
      ]
     },
     "metadata": {},
     "output_type": "display_data"
    },
    {
     "data": {
      "application/vnd.jupyter.widget-view+json": {
       "model_id": "5eafcd394a684330ae9694f9c7be2420",
       "version_major": 2,
       "version_minor": 0
      },
      "text/plain": [
       "Output()"
      ]
     },
     "metadata": {},
     "output_type": "display_data"
    },
    {
     "data": {
      "application/vnd.jupyter.widget-view+json": {
       "model_id": "2d1275ca24a24e418f0b958a0d47b7b5",
       "version_major": 2,
       "version_minor": 0
      },
      "text/plain": [
       "Output()"
      ]
     },
     "metadata": {},
     "output_type": "display_data"
    }
   ],
   "source": [
    "# Comportement de la matrice\n",
    "caption = widgets.Label(value='Matrix behavior')\n",
    "display(caption)\n",
    "widgets_m, tab_m = gen_tab_behavior()\n",
    "out4 = widgets.Output() # Dessin du graphe de comportement visco-élastique\n",
    "display(tab_m)\n",
    "\n",
    "# Ajout d'inclusions\n",
    "w_inclusions = widgets.Dropdown(options=list(dict_inclusions.values()), layout={'width': 'max-content'})\n",
    "button_add_inclusion = widgets.Button(description=\"Add inclusion\")\n",
    "out1 = widgets.Output()\n",
    "out2 = widgets.Output()\n",
    "display(widgets.HBox([w_inclusions, button_add_inclusion, out2]), out1)\n",
    "widgets_f = {} # Dictionnaire des inclusions ajoutées et de leurs widgets ('name','fraction volumique') associés\n",
    "buttons_suppress = {} # Dictionnaire des boutons permettant de supprimer une inclusion de la structure et inclusions associés\n",
    "\n",
    "button_add_inclusion.on_click(add_inclusion_to_structure)\n",
    "button_generate_inclusion.on_click(add_inclusion_to_list)\n",
    "\n",
    "# Génération de la microstructure\n",
    "b_generate_structure = widgets.Button(description='Generate microstructure', layout={'width': 'max-content'})\n",
    "# TODO : widget 'valid' qui indique en temps réel si les fractions volumiques choisies sont cohérentes\n",
    "out3 = widgets.Output() # Dessin du VER\n",
    "display(widgets.HBox([b_generate_structure]),out4, out3)\n",
    "b_generate_structure.on_click(generate_microstructure)\n"
   ]
  },
  {
   "cell_type": "markdown",
   "metadata": {},
   "source": [
    "### Calcul du comportement homogénéisé"
   ]
  },
  {
   "cell_type": "code",
   "execution_count": 9,
   "metadata": {},
   "outputs": [
    {
     "data": {
      "application/vnd.jupyter.widget-view+json": {
       "model_id": "dada60c13201480b96e48f888dd55ea1",
       "version_major": 2,
       "version_minor": 0
      },
      "text/plain": [
       "Label(value='Select a model. Only compatible models will be displayed.')"
      ]
     },
     "metadata": {},
     "output_type": "display_data"
    },
    {
     "data": {
      "application/vnd.jupyter.widget-view+json": {
       "model_id": "f6870b25c9fd41ceb107dc8813d15d33",
       "version_major": 2,
       "version_minor": 0
      },
      "text/plain": [
       "HBox(children=(Dropdown(options=(), value=None), Button(description='Compute behavior', style=ButtonStyle())))"
      ]
     },
     "metadata": {},
     "output_type": "display_data"
    },
    {
     "data": {
      "application/vnd.jupyter.widget-view+json": {
       "model_id": "6830c6975c3b4e319667497f1ce8f1bc",
       "version_major": 2,
       "version_minor": 0
      },
      "text/plain": [
       "Output()"
      ]
     },
     "metadata": {},
     "output_type": "display_data"
    }
   ],
   "source": [
    "# Choix du modèle\n",
    "def test_models(b=None):\n",
    "    \"\"\"\n",
    "    Fonction appelée lors d'un appui sur le bouton 'Generate microstructure' juste en haut.\n",
    "    Teste les modèles disponibles sur la microstructure générée et met à jour la liste des modèles valides 'valid_models'.\n",
    "    \"\"\"\n",
    "    valid_models = []\n",
    "    if microstructure == None:\n",
    "        # Vérifie que la microstructure a bien été créee\n",
    "        return None\n",
    "    for Model in list_models:\n",
    "        model = Model()\n",
    "        valid = model.check_hypothesis(microstructure)\n",
    "        if valid:\n",
    "            # La microstructure vérifie les hypothèses du modèle.\n",
    "            valid_models.append((model.name, model))\n",
    "    # Mise à jour du widget de séléection du modèle\n",
    "    select_model.options = valid_models\n",
    "\n",
    "valid_models = [] # Liste des modèles pouvant s'appliquer à la microstructure donnée, format : [(model_name, Model)]\n",
    "select_model = widgets.Dropdown()\n",
    "test_models()\n",
    "label = widgets.Label(value=\"Select a model. Only compatible models will be displayed.\")\n",
    "display(label)\n",
    "b_compute = widgets.Button(description='Compute behavior')\n",
    "display(widgets.HBox([select_model, b_compute]))\n",
    "output_behavior = widgets.Output()\n",
    "display(output_behavior)\n",
    "\n",
    "def compute_model(b):\n",
    "    \"\"\"\n",
    "    Fonction appelée lors d'un appui sur le bouton 'Compute behavior'.\n",
    "    Récupère le modèle choisi par l'utilisateur, calcule le comportement homogénéisé de la structure et l'affiche.\n",
    "    \"\"\"\n",
    "    model = select_model.value\n",
    "    homogenised_behavior = model.compute_h_behavior(microstructure)\n",
    "    output_behavior.clear_output()\n",
    "    with output_behavior:\n",
    "        print(\"Homogenised behavior - {} model\".format(model.name))\n",
    "        print(homogenised_behavior)\n",
    "        print(\"Hashin bounds\")\n",
    "        print(microstructure.Hashin_bounds())\n",
    "    \n",
    "\n",
    "b_generate_structure.on_click(test_models)\n",
    "b_compute.on_click(compute_model)"
   ]
  },
  {
   "cell_type": "markdown",
   "metadata": {},
   "source": [
    "### Comparaison de modèles"
   ]
  },
  {
   "cell_type": "code",
   "execution_count": 10,
   "metadata": {},
   "outputs": [],
   "source": [
    "# Fonction de tracé\n",
    "import warnings\n",
    "import matplotlib.cbook\n",
    "warnings.filterwarnings(\"ignore\",category=matplotlib.cbook.mplDeprecation) # Désactive le message de warning de matplotlib \n",
    "\n",
    "def draw_all_data(subplots):\n",
    "    \"\"\"\n",
    "    Fonction qui trace le graphe des données dans la base de données subplots, dans le widgets de type output w_out.\n",
    "    Le format de la bdd est explicité dans la section suivante.\n",
    "    \"\"\"\n",
    "    global fig\n",
    "    out_graph.clear_output()\n",
    "    # Calcul du nombre de subplots\n",
    "    parameters = list(subplots.keys())\n",
    "    n_parameters = len(parameters)\n",
    "    n_lines = n_parameters//2\n",
    "    if n_parameters%2 == 0:\n",
    "        None\n",
    "    else:\n",
    "        n_lines += 1\n",
    "    with out_graph:\n",
    "        fig, axs = plt.subplots(n_lines, 2, figsize=(20,n_lines*7))\n",
    "        for index, parameter in enumerate(parameters):\n",
    "            plt.subplot(n_lines, 2, index+1)\n",
    "            list_data = subplots[parameter]\n",
    "            for data in list_data:\n",
    "                x, y, label = data\n",
    "                if label.endswith('.txt') or label.endswith('.csv'):\n",
    "                    label = label[:-4] # Suppression de l'extension\n",
    "                if len(x)>50:\n",
    "                    # Représentation continue\n",
    "                    plt.plot(x, y, label=label)\n",
    "                else:\n",
    "                    # Représentation discrète\n",
    "                    plt.plot(x, y, '.', label=label)\n",
    "            plt.xlabel(\"Volumic fraction\")\n",
    "            plt.ylabel(parameter)\n",
    "#             plt.grid(b=True)\n",
    "            plt.title(\"Model comparison - \"+parameter)\n",
    "            plt.xlim(0,1)\n",
    "            plt.legend()\n",
    "        plt.show()\n"
   ]
  },
  {
   "cell_type": "code",
   "execution_count": 11,
   "metadata": {},
   "outputs": [
    {
     "data": {
      "application/vnd.jupyter.widget-view+json": {
       "model_id": "2324f6da0238459682c93049ab14b47a",
       "version_major": 2,
       "version_minor": 0
      },
      "text/plain": [
       "Label(value=\"Select an inclusion, then click on 'Start comparing'. The results of the compared models will be …"
      ]
     },
     "metadata": {},
     "output_type": "display_data"
    },
    {
     "data": {
      "application/vnd.jupyter.widget-view+json": {
       "model_id": "d1a138699fa4479a9bde9897e70049c9",
       "version_major": 2,
       "version_minor": 0
      },
      "text/plain": [
       "HBox(children=(Dropdown(layout=Layout(width='max-content'), options=(), value=None), Button(description='Start…"
      ]
     },
     "metadata": {},
     "output_type": "display_data"
    },
    {
     "data": {
      "application/vnd.jupyter.widget-view+json": {
       "model_id": "b4298c12ecfb4d528832b75a7f477cb9",
       "version_major": 2,
       "version_minor": 0
      },
      "text/plain": [
       "Label(value=\"Select a model to plot and click the 'Add model' button.\")"
      ]
     },
     "metadata": {},
     "output_type": "display_data"
    },
    {
     "data": {
      "application/vnd.jupyter.widget-view+json": {
       "model_id": "e220186dd3794301903d4ad883a17383",
       "version_major": 2,
       "version_minor": 0
      },
      "text/plain": [
       "HBox(children=(Dropdown(options=(), value=None), Button(description='Add model', style=ButtonStyle())))"
      ]
     },
     "metadata": {},
     "output_type": "display_data"
    },
    {
     "data": {
      "application/vnd.jupyter.widget-view+json": {
       "model_id": "519c5a649bf942ac91d36b59a56742b3",
       "version_major": 2,
       "version_minor": 0
      },
      "text/plain": [
       "Label(value=\"Plot data from a text file. Input files are in the 'model_comparison' folder. See 'example.txt' f…"
      ]
     },
     "metadata": {},
     "output_type": "display_data"
    },
    {
     "data": {
      "application/vnd.jupyter.widget-view+json": {
       "model_id": "abeef46321f74c75b6445adc30fc28aa",
       "version_major": 2,
       "version_minor": 0
      },
      "text/plain": [
       "HBox(children=(Dropdown(options=('example.txt',), value='example.txt'), Button(description='Add data', style=B…"
      ]
     },
     "metadata": {},
     "output_type": "display_data"
    },
    {
     "data": {
      "application/vnd.jupyter.widget-view+json": {
       "model_id": "bb69e78c62d74b1a9c2dd2a73a5a3543",
       "version_major": 2,
       "version_minor": 0
      },
      "text/plain": [
       "Label(value='Add Hashin bounds to figures')"
      ]
     },
     "metadata": {},
     "output_type": "display_data"
    },
    {
     "data": {
      "application/vnd.jupyter.widget-view+json": {
       "model_id": "d74c4800989d473f9b1abe2f31772462",
       "version_major": 2,
       "version_minor": 0
      },
      "text/plain": [
       "Button(description='Add Hashin bounds', style=ButtonStyle())"
      ]
     },
     "metadata": {},
     "output_type": "display_data"
    },
    {
     "data": {
      "application/vnd.jupyter.widget-view+json": {
       "model_id": "b15e54889ebf408093f4c30405c3d4d8",
       "version_major": 2,
       "version_minor": 0
      },
      "text/plain": [
       "Label(value=\"Enter a valid file name with an extension (ex: .pdf, .png, .jpg) and click the save button to sav…"
      ]
     },
     "metadata": {},
     "output_type": "display_data"
    },
    {
     "data": {
      "application/vnd.jupyter.widget-view+json": {
       "model_id": "d1be2db9733043cab9cc4c55f3bf9006",
       "version_major": 2,
       "version_minor": 0
      },
      "text/plain": [
       "HBox(children=(Text(value='fig0.pdf'), Button(description='Save figures', style=ButtonStyle())))"
      ]
     },
     "metadata": {},
     "output_type": "display_data"
    },
    {
     "data": {
      "application/vnd.jupyter.widget-view+json": {
       "model_id": "703fe8b5c6c24c458de6194e16295054",
       "version_major": 2,
       "version_minor": 0
      },
      "text/plain": [
       "Label(value=\"Enter a valid file name with an extension (ex: .txt, .csv) and click the save button to save the …"
      ]
     },
     "metadata": {},
     "output_type": "display_data"
    },
    {
     "data": {
      "application/vnd.jupyter.widget-view+json": {
       "model_id": "afe27d7740fb4d1587b4e6df7fc52538",
       "version_major": 2,
       "version_minor": 0
      },
      "text/plain": [
       "HBox(children=(Text(value='data0.csv'), Button(description='Save data', style=ButtonStyle())))"
      ]
     },
     "metadata": {},
     "output_type": "display_data"
    },
    {
     "data": {
      "application/vnd.jupyter.widget-view+json": {
       "model_id": "870cd33efb3f48998662c9b089f70e6d",
       "version_major": 2,
       "version_minor": 0
      },
      "text/plain": [
       "Output()"
      ]
     },
     "metadata": {},
     "output_type": "display_data"
    }
   ],
   "source": [
    "out_graph = widgets.Output()\n",
    "subplot_data = {} # Format {parameter: subplot_data}, avec subplot_data = [[f_list, value, label]] et autant de liste que de modèles\n",
    "plotted = [] # Liste des modèles et fichiers déjà tracés\n",
    "fig = None\n",
    "\n",
    "# Choix de la fraction volumique à faire varier\n",
    "display(widgets.Label(value=\"Select an inclusion, then click on 'Start comparing'. The results of the compared models will be plotted against the volumic fraction of this inclusion.\"))\n",
    "w_inclusion = widgets.Dropdown(layout={'width': 'max-content'})\n",
    "w_setgraph = widgets.Button(description='Start comparing / Reset graph', layout={'width': 'max-content'})\n",
    "display(widgets.HBox([w_inclusion, w_setgraph]))\n",
    "\n",
    "# Mise à jour de la liste des inclusions lors de la génération d'une microstructure\n",
    "def update_inclusions_list(b):\n",
    "    \"\"\"\n",
    "    Routine appelée lors de l'appui sur le bouton 'Generate microstructure'.\n",
    "    Met à jour la liste des inclusions de la microstructure (widget w_inclusion).\n",
    "    \"\"\"\n",
    "    global subplot_data, plotted\n",
    "    inclusions = microstructure.dict_inclusions\n",
    "    w_inclusion.options = list(inclusions.keys())\n",
    "    out_graph.clear_output()\n",
    "    subplot_data = {}\n",
    "    plotted = []\n",
    "\n",
    "if microstructure!= None:\n",
    "    # Condition permettant d'éviter l'erreur qui a lieu lorsque la section est compilée avant qu'une microstructure ne soit générée\n",
    "    update_inclusions_list(None)\n",
    "b_generate_structure.on_click(update_inclusions_list)\n",
    "\n",
    "# Calcul de la liste des fractions volumiques compatibles\n",
    "f_list = [] # Liste des fractions volumiques compatibles\n",
    "inclusion = None # Inclusion choisie\n",
    "\n",
    "def compute_f_list(b):\n",
    "    \"\"\"\n",
    "    Routine appelée lors de l'appui sur le bouton 'Start comparing'.\n",
    "    Récupère l'inclusion choisie, et calcule l'intervalle de fractions volumiques f_list compatible avec le reste des inclusions.\n",
    "    \"\"\"\n",
    "    global f_list, inclusion, subplot_data, plotted\n",
    "    inclusion = w_inclusion.value\n",
    "    # Calcul de f_max\n",
    "    f_max = 0.99\n",
    "    dict_inclusions = microstructure.dict_inclusions\n",
    "    for other_inclusion, f in list(dict_inclusions.items()):\n",
    "        if other_inclusion != inclusion:\n",
    "            f_max -= f\n",
    "    f_list = np.linspace(0.01, f_max, 100)\n",
    "    out_graph.clear_output()\n",
    "    subplot_data = {}\n",
    "    plotted = []\n",
    "\n",
    "w_setgraph.on_click(compute_f_list)\n",
    "\n",
    "# Ajout de modèles\n",
    "display(widgets.Label(value=\"Select a model to plot and click the 'Add model' button.\"))\n",
    "w_addmodel = widgets.Button(description=\"Add model\")\n",
    "display(widgets.HBox([select_model, w_addmodel]))\n",
    "\n",
    "def plot_model(b):\n",
    "    \"\"\"\n",
    "    Routine appelée lors de l'appui sur le bouton 'Add model'.\n",
    "    Vérifie que le modèle choisi n'a pas déjà été ajouté au graphe et l'ajoute le cas échéant.\n",
    "    Met à jour le graphe.\n",
    "    \"\"\"\n",
    "    global subplot_data, plotted, f_list, inclusion, fig\n",
    "    model = select_model.value\n",
    "    if model not in plotted:\n",
    "        f_old = microstructure.dict_inclusions[inclusion] # Sauvegarde de la valeur initiale\n",
    "        plotted.append(model)\n",
    "        # Calcul de la liste des comportements pour les différents f\n",
    "        list_behaviors = {} # Format : {parameter: [values selon f]}\n",
    "        for f in f_list:\n",
    "            microstructure.change_fi(inclusion, f)\n",
    "            h_behavior = model.compute_h_behavior(microstructure)\n",
    "            for parameter, value in h_behavior.items():\n",
    "                if parameter not in list_behaviors.keys():\n",
    "                    # Le paramètre est rencontré pour la première fois\n",
    "                    list_behaviors[parameter] = []\n",
    "                list_behaviors[parameter].append(value)\n",
    "        # Mise à jour de subplot_data\n",
    "        for parameter, values in list_behaviors.items():\n",
    "            data = [f_list, values, model.name]\n",
    "            # Création de l'entrée correspondant au paramètre s'il s'agit du premier plot\n",
    "            if parameter not in subplot_data.keys():\n",
    "                subplot_data[parameter] = []\n",
    "            subplot_data[parameter].append(data)\n",
    "        # Annulation des modifications sur la microstructure\n",
    "        microstructure.change_fi(inclusion, f_old)\n",
    "        # Tracé des données\n",
    "        draw_all_data(subplot_data)\n",
    "                    \n",
    "w_addmodel.on_click(plot_model)\n",
    "\n",
    "# Ajout de données depuis un fichier texte\n",
    "display(widgets.Label(value=\"Plot data from a text file. Input files are in the 'model_comparison' folder. See 'example.txt' for the format.\"))\n",
    "list_files = listdir('model_comparison/')\n",
    "w_file = widgets.Dropdown(options=[file for file in list_files if file.endswith('.txt')])\n",
    "w_add_data = widgets.Button(description=\"Add data\")\n",
    "display(widgets.HBox([w_file, w_add_data]))\n",
    "\n",
    "def plot_data(b):\n",
    "    \"\"\"\n",
    "    Routine appelée lors de l'appui sur le bouton 'Add data'.\n",
    "    Vérifie que le fichier choisi n'a pas déjà été ajouté au graphe et l'ajoute le cas échéant.\n",
    "    Met à jour le graphe.\n",
    "    \"\"\"\n",
    "    global subplot_data, plotted, fig\n",
    "    file_name = w_file.value\n",
    "    if file_name not in plotted:\n",
    "        plotted.append(file_name)\n",
    "        df = pd.read_csv('model_comparison/'+file_name)\n",
    "        # Récupération de la liste des fractions volumiques\n",
    "        try:\n",
    "            f_values = df['f']\n",
    "        except KeyError:\n",
    "            with out_graph:\n",
    "                print(\"Wrong format\")\n",
    "        # Récupération des paramètres\n",
    "        parameters = df.keys()\n",
    "        for parameter in parameters:\n",
    "            if parameter == 'f':\n",
    "                continue\n",
    "            # Création de l'entrée associée au paramètre\n",
    "            if parameter not in subplot_data.keys():\n",
    "                subplot_data[parameter] = []\n",
    "            values = list(df[parameter])\n",
    "            subplot_data[parameter].append([f_values, values, file_name]) \n",
    "        # Tracé du graphe\n",
    "        draw_all_data(subplot_data)\n",
    "    \n",
    "w_add_data.on_click(plot_data)\n",
    "\n",
    "# Bornes de Hashin\n",
    "w_addbounds = widgets.Button(description=\"Add Hashin bounds\")\n",
    "display(widgets.Label(value=\"Add Hashin bounds to figures\"))\n",
    "display(w_addbounds)\n",
    "\n",
    "def plot_bounds(b):\n",
    "    \"\"\"\n",
    "    Routine appelée lors de l'appui sur le bouton 'Add Hashin bounds'.\n",
    "    Vérifie que les bornes (str \"bounds\") n'ont pas été ajoutées aux graphes et les ajoute le cas échéant.\n",
    "    Met à jour le graphe.\n",
    "    \"\"\"\n",
    "    global subplot_data, plotted, f_list, inclusion\n",
    "    if \"bounds\" not in plotted:\n",
    "        plotted.append(\"bounds\")\n",
    "        f_old = microstructure.dict_inclusions[inclusion] # Sauvegarde de la valeur initiale\n",
    "        # Calcul de la liste des comportements pour les différents f\n",
    "        list_behaviors = {} # Format : {parameter: [values selon f]}\n",
    "        for f in f_list:\n",
    "            microstructure.change_fi(inclusion, f)\n",
    "            h_bounds = microstructure.Hashin_bounds()\n",
    "            for parameter, value in h_bounds.items():\n",
    "                if parameter not in list_behaviors.keys():\n",
    "                    # Le paramètre est rencontré pour la première fois\n",
    "                    list_behaviors[parameter] = []\n",
    "                list_behaviors[parameter].append(value)\n",
    "        # Mise à jour de subplot_data\n",
    "        for parameter, values in list_behaviors.items():\n",
    "            parameter_key = parameter[:-3] # Permet de retirer 'inf' et 'sup'\n",
    "            data = [f_list, values, \"Hashin bound \"+parameter]\n",
    "            # Création de l'entrée correspondant au paramètre s'il s'agit du premier plot\n",
    "            if parameter_key not in subplot_data.keys():\n",
    "                subplot_data[parameter_key] = []\n",
    "            subplot_data[parameter_key].append(data)\n",
    "        # Annulation des modifications sur la microstructure\n",
    "        microstructure.change_fi(inclusion, f_old)\n",
    "        # Tracé des données\n",
    "        draw_all_data(subplot_data)\n",
    "\n",
    "w_addbounds.on_click(plot_bounds)\n",
    "\n",
    "# Sauvegarde des figures\n",
    "n_fig = 0 # Identifiant de la figure\n",
    "w_save_image = widgets.Button(description=\"Save figures\")\n",
    "w_filename = widgets.Text(value='fig0.pdf')\n",
    "display(widgets.Label(value=\"Enter a valid file name with an extension (ex: .pdf, .png, .jpg) and click the save button to save the figures. The output file will be saved in the 'outputs' folder\"))\n",
    "display(widgets.HBox([w_filename, w_save_image]))\n",
    "\n",
    "def save_image(b):\n",
    "    \"\"\"\n",
    "    Routine appelée lors d'un appui sur le bouton 'Save figures', sauvegarde la figure dans le dossier 'outputs' avec le nom choisi par l'utilisateur.\n",
    "    Incrémente le nom automatiquement.\n",
    "    \"\"\"\n",
    "    global fig, n_fig\n",
    "    filename = w_filename.value\n",
    "    fig.savefig(\"outputs/\"+filename)\n",
    "    # Mise à jour automatique du nom\n",
    "    n_fig += 1\n",
    "    w_filename.value = 'fig{}.pdf'.format(n_fig)\n",
    "    \n",
    "w_save_image.on_click(save_image)\n",
    "\n",
    "# Sauvegarde des données\n",
    "n_data = 0 # Identifiant du fichier de données\n",
    "w_save_data = widgets.Button(description=\"Save data\")\n",
    "w_data_filename = widgets.Text(value='data0.csv')\n",
    "display(widgets.Label(value=\"Enter a valid file name with an extension (ex: .txt, .csv) and click the save button to save the figures data. The ouput file will be saved in the 'outputs' folder\"))\n",
    "display(widgets.HBox([w_data_filename, w_save_data]))\n",
    "\n",
    "def save_data(b):\n",
    "    \"\"\"\n",
    "    Routine appelée lors d'un appui sur le bouton 'Save data', sauvegarde les données (txt) dans le dossier 'outputs' avec le nom choisi par l'utilisateur.\n",
    "    Incrémente le nom automatiquement.\n",
    "    \"\"\" \n",
    "    global subplot_data, n_data\n",
    "    filename = w_data_filename.value\n",
    "    # Mise à jour automatique du nom\n",
    "    n_data += 1\n",
    "    w_data_filename.value = 'data{}.csv'.format(n_data)\n",
    "    # Création d'un dataframe contenant les données\n",
    "    data = {}\n",
    "    # Récupération des données des modèles\n",
    "    for parameter, parameter_data in subplot_data.items():\n",
    "        for model_data in parameter_data:\n",
    "            f_list, model_values, label = model_data\n",
    "            if label.endswith('.txt') == False and label.endswith('.csv') == False:\n",
    "                # Les données ne correspondent pas à un fichier texte d'entrée mais à un modèle\n",
    "                data[\"Volumic fraction f\"] = f_list\n",
    "                data[parameter + \" - \" + label] = model_values\n",
    "    df = pd.DataFrame(data)\n",
    "    df.to_csv('outputs/'+filename, header=True, index=False, sep=',', mode='a')\n",
    "    \n",
    "w_save_data.on_click(save_data)\n",
    "\n",
    "display(out_graph)"
   ]
  },
  {
   "cell_type": "markdown",
   "metadata": {},
   "source": [
    "## Tests"
   ]
  },
  {
   "cell_type": "code",
   "execution_count": 12,
   "metadata": {},
   "outputs": [
    {
     "name": "stdout",
     "output_type": "stream",
     "text": [
      "[20.08553692 20.08553692 20.08553692 20.08553692 20.08553692 20.08553692\n",
      " 20.08553692 20.08553692 20.08553692 20.08553692 20.08553692 20.08553692\n",
      " 20.08553692 20.08553692 20.08553692 20.08553692 20.08553692 20.08553692\n",
      " 20.08553692 20.08553692 20.08553692 20.08553692 20.08553692 20.08553692\n",
      " 20.08553692 20.08553692 20.08553692 20.08553692 20.08553692 20.08553692\n",
      " 20.08553692 20.08553692 20.08553692 20.08553692 20.08553692 20.08553692\n",
      " 20.08553692 20.08553692 20.08553692 20.08553692 20.08553692 20.08553692\n",
      " 20.08553692 20.08553692 20.08553692 20.08553692 20.08553692 20.08553692\n",
      " 20.08553692 20.08553692 20.08553692 20.08553692 20.08553692 20.08553692\n",
      " 20.08553692 20.08553692 20.08553692 20.08553692 20.08553692 20.08553692\n",
      " 20.08553692 20.08553692 20.08553692 20.08553692 20.08553692 20.08553692\n",
      " 20.08553692 20.08553692 20.08553692 20.08553692 20.08553692 20.08553692\n",
      " 20.08553692 20.08553692 20.08553692 20.08553692 20.08553692 20.08553692\n",
      " 20.08553692 20.08553692 20.08553692 20.08553692 20.08553692 20.08553692\n",
      " 20.08553692 20.08553692 20.08553692 20.08553692 20.08553692 20.08553692\n",
      " 20.08553692 20.08553692 20.08553692 20.08553692 20.08553692 20.08553692\n",
      " 20.08553692 20.08553692 20.08553692 20.08553692]\n"
     ]
    },
    {
     "data": {
      "image/png": "[encoded data removed]",
      "text/plain": [
       "<Figure size 432x288 with 1 Axes>"
      ]
     },
     "metadata": {
      "needs_background": "light"
     },
     "output_type": "display_data"
    }
   ],
   "source": [
    "import numpy as np\n",
    "import matplotlib.pyplot as plt\n",
    "x = [0,1,2,3]\n",
    "y = np.exp(np.array(x))\n",
    "plt.plot(x,y,'.')\n",
    "xinter = np.linspace(3,5,100)\n",
    "yinter = np.interp(xinter, x, y)\n",
    "plt.plot(xinter, yinter, '.')\n",
    "print(yinter)\n",
    "plt.show()"
   ]
  },
  {
   "cell_type": "code",
   "execution_count": 13,
   "metadata": {},
   "outputs": [
    {
     "data": {
      "application/vnd.jupyter.widget-view+json": {
       "model_id": "98bc7e026677420f9075f82bb45f7f56",
       "version_major": 2,
       "version_minor": 0
      },
      "text/plain": [
       "HBox(box_style='success', children=(Label(value='test très très long'), FloatSlider(value=0.0)))"
      ]
     },
     "metadata": {},
     "output_type": "display_data"
    },
    {
     "data": {
      "application/vnd.jupyter.widget-view+json": {
       "model_id": "528cdda6ea2640e69fea0cdbe3cf25a0",
       "version_major": 2,
       "version_minor": 0
      },
      "text/plain": [
       "HBox(box_style='warning', children=(Label(value='test pas très très long'), FloatSlider(value=0.0)))"
      ]
     },
     "metadata": {},
     "output_type": "display_data"
    }
   ],
   "source": [
    "layout_test = {'width': 500}\n",
    "a = widgets.Label(value=\"test très très long\")\n",
    "c = widgets.FloatSlider()\n",
    "d = widgets.FloatSlider()\n",
    "b = widgets.Label(value=\"test pas très très long\")\n",
    "display(widgets.HBox([a, c], box_style='success'), widgets.HBox([b, d],box_style='warning'))"
   ]
  }
 ],
 "metadata": {
  "kernelspec": {
   "display_name": "Python 3",
   "language": "python",
   "name": "python3"
  },
  "language_info": {
   "codemirror_mode": {
    "name": "ipython",
    "version": 3
   },
   "file_extension": ".py",
   "mimetype": "text/x-python",
   "name": "python",
   "nbconvert_exporter": "python",
   "pygments_lexer": "ipython3",
   "version": "3.6.9"
  }
 },
 "nbformat": 4,
 "nbformat_minor": 4
}
