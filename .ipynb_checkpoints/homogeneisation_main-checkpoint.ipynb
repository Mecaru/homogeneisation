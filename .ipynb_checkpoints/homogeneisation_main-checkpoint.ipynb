{
 "cells": [
  {
   "cell_type": "markdown",
   "metadata": {},
   "source": [
    "# Homogeneisation - main"
   ]
  },
  {
   "cell_type": "markdown",
   "metadata": {},
   "source": [
    "L'objectif est de mettre à disposition des chercheurs une interface permettant :\n",
    "- le calcul de comportements homogénéisés sur des microstructures données à l'aide de différents modèles pré-implémentés, manuellement ou à partir d'un fichier texte (TODO),\n",
    "- de faciliter des études parmaétriques sur ces mêmes modèles et microstructures,\n",
    "- de déterminer des paramètres idéaux pour atteindre des comportements homogénéisés cibles(TODO),\n",
    "- de fournir une description des modèles utilisés, de leur forces et de leurs limites(TODO)."
   ]
  },
  {
   "cell_type": "markdown",
   "metadata": {},
   "source": [
    "Ce code contient plusieurs sections. **Lorsque le code est lancé pour la première fois sur un nouveau kernel, les sections suivantes doivent être executées dans l'ordre** :\n",
    "- Importation des classes et des modules utiles\n",
    "- Fonctions utiles \n",
    "\n",
    "Les sections suivantes sont indépendantes. Si une section est lancée pour la première fois, ses cellules doivent être executées dans l'ordre."
   ]
  },
  {
   "cell_type": "markdown",
   "metadata": {},
   "source": [
    "TODO : Schéma des modèles avec la taille des inclusions qui change"
   ]
  },
  {
   "cell_type": "markdown",
   "metadata": {},
   "source": [
    "---"
   ]
  },
  {
   "cell_type": "markdown",
   "metadata": {},
   "source": [
    "## I- Importation des classes et des modules utiles"
   ]
  },
  {
   "cell_type": "code",
   "execution_count": 260,
   "metadata": {},
   "outputs": [
    {
     "name": "stdout",
     "output_type": "stream",
     "text": [
      "Requirement already satisfied: ipywidgets in /usr/local/lib/python3.8/site-packages (7.5.1)\n",
      "Requirement already satisfied: ipython>=4.0.0; python_version >= \"3.3\" in /usr/local/lib/python3.8/site-packages (from ipywidgets) (7.13.0)\n",
      "Requirement already satisfied: nbformat>=4.2.0 in /usr/local/lib/python3.8/site-packages (from ipywidgets) (5.0.4)\n",
      "Requirement already satisfied: traitlets>=4.3.1 in /usr/local/lib/python3.8/site-packages (from ipywidgets) (4.3.3)\n",
      "Requirement already satisfied: widgetsnbextension~=3.5.0 in /usr/local/lib/python3.8/site-packages (from ipywidgets) (3.5.1)\n",
      "Requirement already satisfied: ipykernel>=4.5.1 in /usr/local/lib/python3.8/site-packages (from ipywidgets) (5.1.4)\n",
      "Requirement already satisfied: prompt-toolkit!=3.0.0,!=3.0.1,<3.1.0,>=2.0.0 in /usr/local/lib/python3.8/site-packages (from ipython>=4.0.0; python_version >= \"3.3\"->ipywidgets) (3.0.3)\n",
      "Requirement already satisfied: backcall in /usr/local/lib/python3.8/site-packages (from ipython>=4.0.0; python_version >= \"3.3\"->ipywidgets) (0.1.0)\n",
      "Requirement already satisfied: pickleshare in /usr/local/lib/python3.8/site-packages (from ipython>=4.0.0; python_version >= \"3.3\"->ipywidgets) (0.7.5)\n",
      "Requirement already satisfied: jedi>=0.10 in /usr/local/lib/python3.8/site-packages (from ipython>=4.0.0; python_version >= \"3.3\"->ipywidgets) (0.16.0)\n",
      "Requirement already satisfied: pygments in /usr/local/lib/python3.8/site-packages (from ipython>=4.0.0; python_version >= \"3.3\"->ipywidgets) (2.5.2)\n",
      "Requirement already satisfied: decorator in /usr/local/lib/python3.8/site-packages (from ipython>=4.0.0; python_version >= \"3.3\"->ipywidgets) (4.4.2)\n",
      "Requirement already satisfied: pexpect; sys_platform != \"win32\" in /usr/local/lib/python3.8/site-packages (from ipython>=4.0.0; python_version >= \"3.3\"->ipywidgets) (4.8.0)\n",
      "Requirement already satisfied: setuptools>=18.5 in /usr/local/lib/python3.8/site-packages (from ipython>=4.0.0; python_version >= \"3.3\"->ipywidgets) (45.2.0)\n",
      "Requirement already satisfied: ipython-genutils in /usr/local/lib/python3.8/site-packages (from nbformat>=4.2.0->ipywidgets) (0.2.0)\n",
      "Requirement already satisfied: jupyter-core in /usr/local/lib/python3.8/site-packages (from nbformat>=4.2.0->ipywidgets) (4.6.3)\n",
      "Requirement already satisfied: jsonschema!=2.5.0,>=2.4 in /usr/local/lib/python3.8/site-packages (from nbformat>=4.2.0->ipywidgets) (3.2.0)\n",
      "Requirement already satisfied: six in /usr/local/lib/python3.8/site-packages (from traitlets>=4.3.1->ipywidgets) (1.14.0)\n",
      "Requirement already satisfied: notebook>=4.4.1 in /usr/local/lib/python3.8/site-packages (from widgetsnbextension~=3.5.0->ipywidgets) (6.0.3)\n",
      "Requirement already satisfied: tornado>=4.2 in /usr/local/lib/python3.8/site-packages (from ipykernel>=4.5.1->ipywidgets) (6.0.3)\n",
      "Requirement already satisfied: jupyter-client in /usr/local/lib/python3.8/site-packages (from ipykernel>=4.5.1->ipywidgets) (6.0.0)\n",
      "Requirement already satisfied: wcwidth in /usr/local/lib/python3.8/site-packages (from prompt-toolkit!=3.0.0,!=3.0.1,<3.1.0,>=2.0.0->ipython>=4.0.0; python_version >= \"3.3\"->ipywidgets) (0.1.8)\n",
      "Requirement already satisfied: parso>=0.5.2 in /usr/local/lib/python3.8/site-packages (from jedi>=0.10->ipython>=4.0.0; python_version >= \"3.3\"->ipywidgets) (0.6.2)\n",
      "Requirement already satisfied: ptyprocess>=0.5 in /usr/local/lib/python3.8/site-packages (from pexpect; sys_platform != \"win32\"->ipython>=4.0.0; python_version >= \"3.3\"->ipywidgets) (0.6.0)\n",
      "Requirement already satisfied: attrs>=17.4.0 in /usr/local/lib/python3.8/site-packages (from jsonschema!=2.5.0,>=2.4->nbformat>=4.2.0->ipywidgets) (19.3.0)\n",
      "Requirement already satisfied: pyrsistent>=0.14.0 in /usr/local/lib/python3.8/site-packages (from jsonschema!=2.5.0,>=2.4->nbformat>=4.2.0->ipywidgets) (0.15.7)\n",
      "Requirement already satisfied: pyzmq>=17 in /usr/local/lib/python3.8/site-packages (from notebook>=4.4.1->widgetsnbextension~=3.5.0->ipywidgets) (19.0.0)\n",
      "Requirement already satisfied: prometheus-client in /usr/local/lib/python3.8/site-packages (from notebook>=4.4.1->widgetsnbextension~=3.5.0->ipywidgets) (0.7.1)\n",
      "Requirement already satisfied: terminado>=0.8.1 in /usr/local/lib/python3.8/site-packages (from notebook>=4.4.1->widgetsnbextension~=3.5.0->ipywidgets) (0.8.3)\n",
      "Requirement already satisfied: Send2Trash in /usr/local/lib/python3.8/site-packages (from notebook>=4.4.1->widgetsnbextension~=3.5.0->ipywidgets) (1.5.0)\n",
      "Requirement already satisfied: jinja2 in /usr/local/lib/python3.8/site-packages (from notebook>=4.4.1->widgetsnbextension~=3.5.0->ipywidgets) (2.11.1)\n",
      "Requirement already satisfied: nbconvert in /usr/local/lib/python3.8/site-packages (from notebook>=4.4.1->widgetsnbextension~=3.5.0->ipywidgets) (5.6.1)\n",
      "Requirement already satisfied: python-dateutil>=2.1 in /usr/local/lib/python3.8/site-packages (from jupyter-client->ipykernel>=4.5.1->ipywidgets) (2.8.1)\n",
      "Requirement already satisfied: MarkupSafe>=0.23 in /usr/local/lib/python3.8/site-packages (from jinja2->notebook>=4.4.1->widgetsnbextension~=3.5.0->ipywidgets) (1.1.1)\n",
      "Requirement already satisfied: mistune<2,>=0.8.1 in /usr/local/lib/python3.8/site-packages (from nbconvert->notebook>=4.4.1->widgetsnbextension~=3.5.0->ipywidgets) (0.8.4)\n",
      "Requirement already satisfied: entrypoints>=0.2.2 in /usr/local/lib/python3.8/site-packages (from nbconvert->notebook>=4.4.1->widgetsnbextension~=3.5.0->ipywidgets) (0.3)\n",
      "Requirement already satisfied: defusedxml in /usr/local/lib/python3.8/site-packages (from nbconvert->notebook>=4.4.1->widgetsnbextension~=3.5.0->ipywidgets) (0.6.0)\n",
      "Requirement already satisfied: bleach in /usr/local/lib/python3.8/site-packages (from nbconvert->notebook>=4.4.1->widgetsnbextension~=3.5.0->ipywidgets) (3.1.1)\n",
      "Requirement already satisfied: testpath in /usr/local/lib/python3.8/site-packages (from nbconvert->notebook>=4.4.1->widgetsnbextension~=3.5.0->ipywidgets) (0.4.4)\n",
      "Requirement already satisfied: pandocfilters>=1.4.1 in /usr/local/lib/python3.8/site-packages (from nbconvert->notebook>=4.4.1->widgetsnbextension~=3.5.0->ipywidgets) (1.4.2)\n",
      "Requirement already satisfied: webencodings in /usr/local/lib/python3.8/site-packages (from bleach->nbconvert->notebook>=4.4.1->widgetsnbextension~=3.5.0->ipywidgets) (0.5.1)\n",
      "\u001b[33mWARNING: You are using pip version 20.0.2; however, version 20.1 is available.\n",
      "You should consider upgrading via the '/usr/local/bin/python -m pip install --upgrade pip' command.\u001b[0m\n"
     ]
    }
   ],
   "source": [
    "!pip install ipywidgets # Installation du package permettant la gestion des widgets"
   ]
  },
  {
   "cell_type": "code",
   "execution_count": 261,
   "metadata": {},
   "outputs": [],
   "source": [
    "import ipywidgets as widgets\n",
    "from IPython.display import display\n",
    "from classes import *"
   ]
  },
  {
   "cell_type": "code",
   "execution_count": 262,
   "metadata": {},
   "outputs": [
    {
     "name": "stdout",
     "output_type": "stream",
     "text": [
      "Modèles importés : [<class 'classes.Mori_Tanaka'>]\n"
     ]
    }
   ],
   "source": [
    "print(\"Modèles importés : {}\".format(list_models))"
   ]
  },
  {
   "cell_type": "markdown",
   "metadata": {},
   "source": [
    "---"
   ]
  },
  {
   "cell_type": "markdown",
   "metadata": {},
   "source": [
    "## II- Fonctions utiles"
   ]
  },
  {
   "cell_type": "code",
   "execution_count": 263,
   "metadata": {},
   "outputs": [],
   "source": [
    "def gen_tab_behavior():\n",
    "    \"\"\"\n",
    "    Routine qui génère un widget de type 'tab' permettant le choix des paramètres associés aux comportements. \n",
    "    Chaque onglet généré correspond à un comportement du dictionnaire 'dict_behaviors' implémenté dans 'classes.py'.\n",
    "    La fonction renvoie :\n",
    "    - une liste de liste de widgets (list_widgets) contenant autant de listes que d'onglet. Chaque liste contient les widgets générant les paramètres asssociés au comportement \n",
    "    de l'onglet correspondant.\n",
    "    - un widget tab correspondant au résultat final à afficher.    \n",
    "    TODO : cas isotrope, rempalcer K et G par Bulk et Shear modulus\n",
    "    \"\"\"\n",
    "    behaviors_str = list(dict_behaviors.keys()) # Liste des noms des comportements déjà implémentés, définis dans classes.py\n",
    "    list_widgets = [] # Liste de liste, chaque liste correspond à un onglet du tab et contient les widgets de cet onglet non formatés\n",
    "    tab_titles = [] # Nom des onglets, chaque onglet est associé à un type de comportement\n",
    "    # Construction des widgets associés à chaque onglet\n",
    "    for behavior_str in behaviors_str:\n",
    "        widgets_onglet = []\n",
    "        parameters = dict_behaviors[behavior_str] # Paramètres associés au comportement (exemple : ['K', 'G'] pour Isotropic)\n",
    "        for parameter in parameters: # TODO : possibilité de choisir E et mu ou lambda et nu pour l'isotrope, avec des widgets accordéons dans le tab\n",
    "            w = widgets.FloatSlider(value=1, min=0.01, max=1000, step=0.1, description=parameter) # Widget associé au paramètre parameter\n",
    "            widgets_onglet.append(w)\n",
    "        list_widgets.append(widgets_onglet)\n",
    "        tab_titles.append(behavior_str)\n",
    "    # Création du tab\n",
    "    tab = widgets.Tab()\n",
    "    tab.children = [widgets.HBox(w) for w in list_widgets]\n",
    "    for pos, title in enumerate(tab_titles):\n",
    "        tab.set_title(pos, title)\n",
    "    return list_widgets, tab"
   ]
  },
  {
   "cell_type": "code",
   "execution_count": 264,
   "metadata": {},
   "outputs": [],
   "source": [
    "def read_behavior(tab, list_widgets):\n",
    "    \"\"\"\n",
    "    Fonction qui, à partir d'un widget 'tab' comme celui construit par la fonction précédente, renvoie le dictionnaire 'behavior' construit par l'utilisateur.\n",
    "    \"\"\"\n",
    "    behavior_int = tab.selected_index # Onglet ouvert par l'utilisateur\n",
    "    widgets_parameters = list_widgets[behavior_int] # Widgets des paramètres de l'onglet ouvert\n",
    "    behavior = {w.description : w.value for w in widgets_parameters}\n",
    "    return behavior"
   ]
  },
  {
   "cell_type": "code",
   "execution_count": 265,
   "metadata": {},
   "outputs": [],
   "source": [
    "def str_to_model(model_name):\n",
    "    \"\"\"\n",
    "    Fonction qui renvoie l'instance de classe Model associée au nom de classe model_name (str).\n",
    "    TODO : formater le nom pour être plus souple (majuscules, etc..)\n",
    "    \"\"\"\n",
    "    for Model in list_models:\n",
    "        model = Model()\n",
    "        if model.name == model_name:\n",
    "            return model"
   ]
  },
  {
   "cell_type": "markdown",
   "metadata": {},
   "source": [
    "---"
   ]
  },
  {
   "cell_type": "markdown",
   "metadata": {},
   "source": [
    "## III- Calcul de comportement homogénéisé de microstructures\n",
    "Cette section permet la génération manuelle de microstructure et le calcul de comportement homogénéisé avec les modèles disponibles."
   ]
  },
  {
   "cell_type": "code",
   "execution_count": null,
   "metadata": {},
   "outputs": [],
   "source": [
    "dict_inclusions = {}\n",
    "# Initialise la liste des inclusions créees. dict_inclusions est sous la forme {nam_inclusion (str): inclusion (Inclusion)}"
   ]
  },
  {
   "cell_type": "markdown",
   "metadata": {},
   "source": [
    "### Construction d'une inclusion"
   ]
  },
  {
   "cell_type": "code",
   "execution_count": null,
   "metadata": {},
   "outputs": [],
   "source": [
    "# Nom de l'inclusion\n",
    "w_label = widgets.Label(value='Inclusion name')\n",
    "w_name = widgets.Text(value='inclusion0')\n",
    "display(w_label, w_name)\n",
    "\n",
    "# Type d'inclusion\n",
    "w_label = widgets.Label(value='Inclusion type')\n",
    "w_type = widgets.Dropdown(options=[('Spheres', 0)], value=0) #TODO : synchroniser avec classes.py à l'aide d'un dict pour ajouter plus facilement des types d'inclusions\n",
    "w = widgets.VBox([w_label, w_type])\n",
    "display(w)\n",
    "\n",
    "# TODO : caractéristiques géométriques (rayon, etc..) selon le type\n",
    "\n",
    "# Comportement de l'inclusion\n",
    "caption = widgets.Label(value='Inclusion behavior')\n",
    "display(caption)\n",
    "list_widgets, tab = gen_tab_behavior()\n",
    "display(tab)\n",
    "\n",
    "# Génération de l'inclusion\n",
    "button_generate_inclusion = widgets.Button(description=\"Generate Inclusion\")\n",
    "output = widgets.Output()\n",
    "display(button_generate_inclusion, output)\n",
    "def generate_inclusion(b):\n",
    "    \"\"\"\n",
    "    Fonction appelée lors d'un click sur le bouton, génère une inclusion avec les paramètres choisis.\n",
    "    TODO : modifier le nom de l'inclusion automatiquement\n",
    "    \"\"\"\n",
    "    # Récupération des paramètres choisis\n",
    "    output.clear_output()\n",
    "    inclusion_name = w_name.value\n",
    "    if inclusion_name in list(dict_inclusions.keys()):\n",
    "        with output:\n",
    "            print(\"Name already exists\")\n",
    "    else :\n",
    "        type_inclusion = w_type.value\n",
    "        behavior = read_behavior(tab, list_widgets)\n",
    "        inclusion = Inclusion(type_inclusion, behavior, name=inclusion_name)\n",
    "        dict_inclusions[inclusion_name] = inclusion\n",
    "        with output:\n",
    "            print(\"Inclusion generated: \", inclusion)\n",
    "    \n",
    "button_generate_inclusion.on_click(generate_inclusion)"
   ]
  },
  {
   "cell_type": "markdown",
   "metadata": {},
   "source": [
    "### Construction d'une microstructure"
   ]
  },
  {
   "cell_type": "code",
   "execution_count": null,
   "metadata": {},
   "outputs": [],
   "source": [
    "# Création de la variable contenant la microstructure\n",
    "microstructure = None # Initialisation"
   ]
  },
  {
   "cell_type": "code",
   "execution_count": null,
   "metadata": {},
   "outputs": [],
   "source": [
    "# Comportement de la matrice\n",
    "caption = widgets.Label(value='Matrix behavior')\n",
    "display(caption)\n",
    "widgets_m, tab_m = gen_tab_behavior()\n",
    "display(tab_m)\n",
    "\n",
    "# Ajout d'inclusions\n",
    "w_inclusions = widgets.Dropdown(options=list(dict_inclusions.values()))\n",
    "button_add_inclusion = widgets.Button(description=\"Add inclusion\")\n",
    "out1 = widgets.Output()\n",
    "out2 = widgets.Output()\n",
    "display(widgets.HBox([w_inclusions, button_add_inclusion, out2]), out1)\n",
    "widgets_f = {} # Dictionnaire des inclusions ajoutées et de leurs widgets ('name','fraction volumique') associés\n",
    "buttons_suppress = {} # Dictionnaire des boutons permettant de supprimer une inclusion de la structure et inclusions associés\n",
    "\n",
    "def add_inclusion_to_structure(b):\n",
    "    \"\"\"\n",
    "    Fonction appelée lors d'un click sur le bouton \"Add inclusion\", génère un widget associé à la fraction volumique de l'inclusion et l'ajoute au dictionnaire \"widgets_f\".\n",
    "    Crée aussi un bouton permettant la suppression de l'inclusion et l'ajoute au dictionnaire buttons.\n",
    "    Enfin, affiche la ligne de widgets correspondante.\n",
    "    \"\"\"\n",
    "    out2.clear_output()\n",
    "    inclusion = w_inclusions.value\n",
    "    if inclusion in list(widgets_f.keys()):\n",
    "        with out2:\n",
    "            print(\"Already added\")\n",
    "    else:\n",
    "        w_name = widgets.Label(inclusion.name)\n",
    "        w_f = widgets.FloatSlider(min=0.01, max=1, step=0.01, description='f')\n",
    "        w_b = widgets.Button(description=\"Remove inclusion\")\n",
    "        w_b.on_click(remove_inclusion)\n",
    "        widgets_f[inclusion] = (w_name, w_f)\n",
    "        buttons_suppress[w_b] = inclusion\n",
    "        with out1:\n",
    "            display(w_name, widgets.HBox([w_f, w_b]))\n",
    "\n",
    "def add_inclusion_to_list(b):\n",
    "    \"\"\"\n",
    "    Fonction appelée lors d'un clic sur le bouton 'generate inclusion' de la section précédente.\n",
    "    met à jour le widget permettant le choix des inclusions à ajouter.\n",
    "    \"\"\"\n",
    "    w_inclusions.options = list(dict_inclusions.values())\n",
    "    \n",
    "def remove_inclusion(b):\n",
    "    \"\"\"\n",
    "    Fonction appelée lorsqu'un bouton 'Remove inclusion' est appelé. \n",
    "    Repère l'inclusion associée au bouton, ferme les widgets associés et supprime l'entrée du dictionnaire widgets_f\n",
    "    \"\"\"\n",
    "    out2.clear_output()\n",
    "    inclusion = buttons_suppress[b]\n",
    "    w_name, w_f = widgets_f[inclusion]\n",
    "    # Fermeture des widgets\n",
    "    b.close()\n",
    "    w_name.close()\n",
    "    w_f.close()\n",
    "    del widgets_f[inclusion]\n",
    "    del buttons_suppress[b]\n",
    "\n",
    "def generate_microstructure(b):\n",
    "    \"\"\"\n",
    "    Génère la microstructure avec les paramètres choisis par l'utilisateur. \n",
    "    Si les fractions volumiques choisies ne sont pas cohérentes, affiche un message.\n",
    "    Affiche une description de la microsructure créee.\n",
    "    \"\"\"\n",
    "    global microstructure\n",
    "    matrix_behavior = read_behavior(tab_m, widgets_m) # Lecture des widgets définis dans la section 'Comportement de la matrice'\n",
    "    dict_inclusions = {}\n",
    "    # Lecture des fractions volumiques choisies\n",
    "    for inclusion, widgets in widgets_f.items():\n",
    "        w_name, w_f = widgets\n",
    "        f = w_f.value\n",
    "        dict_inclusions[inclusion] = f\n",
    "    # Génération de la microstructure\n",
    "    out3.clear_output()\n",
    "    try:\n",
    "        microstructure = Microstructure(matrix_behavior, dict_inclusions)\n",
    "        with out3:\n",
    "            print(\"Microstructure generated\\n\" + str(microstructure))\n",
    "    except NameError:\n",
    "        microstructure = None\n",
    "        with out3:\n",
    "            print(\"Inconsistent choice of volumic fractions\")\n",
    "\n",
    "button_add_inclusion.on_click(add_inclusion_to_structure)\n",
    "button_generate_inclusion.on_click(add_inclusion_to_list)\n",
    "\n",
    "# Génération de la microstructure\n",
    "b_generate_structure = widgets.Button(description='Generate microstructure', layout={'width': 'max-content'})\n",
    "# TODO : widget 'valid' qui indique en temps réel si les fractions volumiques choisies sont cohérentes\n",
    "out3 = widgets.Output()\n",
    "display(widgets.HBox([b_generate_structure]),out3)\n",
    "b_generate_structure.on_click(generate_microstructure)\n"
   ]
  },
  {
   "cell_type": "markdown",
   "metadata": {},
   "source": [
    "### Calcul du comportement homogénéisé"
   ]
  },
  {
   "cell_type": "code",
   "execution_count": null,
   "metadata": {},
   "outputs": [],
   "source": [
    "# Choix du modèle\n",
    "def test_models(b=None):\n",
    "    \"\"\"\n",
    "    Fonction appelée lors d'un appui sur le bouton 'Generate microstructure' juste en haut.\n",
    "    Teste les modèles disponibles sur la microstructure générée et met à jour la liste des modèles valides 'valid_models'.\n",
    "    \"\"\"\n",
    "    valid_models = []\n",
    "    if microstructure == None:\n",
    "        # Vérifie que la microstructure a bien été créee\n",
    "        return None\n",
    "    for Model in list_models:\n",
    "        model = Model()\n",
    "        valid = model.check_hypothesis(microstructure)\n",
    "        if valid:\n",
    "            # La microstructure vérifie les hypothèses du modèle.\n",
    "            valid_models.append((model.name, model))\n",
    "    # Mise à jour du widget de séléection du modèle\n",
    "    select_model.options = valid_models\n",
    "\n",
    "valid_models = [] # Liste des modèles pouvant s'appliquer à la microstructure donnée, format : [(model_name, Model)]\n",
    "select_model = widgets.Dropdown()\n",
    "test_models()\n",
    "label = widgets.Label(value=\"Select a model. Only compatible models will be displayed.\")\n",
    "display(label)\n",
    "b_compute = widgets.Button(description='Compute behavior')\n",
    "display(widgets.HBox([select_model, b_compute]))\n",
    "output_behavior = widgets.Output()\n",
    "display(output_behavior)\n",
    "\n",
    "def compute_model(b):\n",
    "    \"\"\"\n",
    "    Fonction appelée lors d'un appui sur le bouton 'Compute behavior'.\n",
    "    Récupère le modèle choisi par l'utilisateur, calcule le comportement homogénéisé de la structure et l'affiche.\n",
    "    \"\"\"\n",
    "    model = select_model.value\n",
    "    homogenised_behavior = model.compute_h_behavior(microstructure)\n",
    "    output_behavior.clear_output()\n",
    "    with output_behavior:\n",
    "        print(\"Homogenised behavior - {} model\".format(model.name))\n",
    "        print(homogenised_behavior)\n",
    "    \n",
    "\n",
    "b_generate_structure.on_click(test_models)\n",
    "b_compute.on_click(compute_model)"
   ]
  },
  {
   "cell_type": "markdown",
   "metadata": {},
   "source": [
    "---"
   ]
  },
  {
   "cell_type": "markdown",
   "metadata": {},
   "source": [
    "## IV- Calculs automatisés depuis un fichier texte\n",
    "TODO : Description de la section\n",
    "\n",
    "TODO : Décrire les fichiers compatibles et le format voulu, demander à l'utilisateur de mettre ses fichiers dans le dossier inputs \n",
    "\n",
    "TODO : Réfléchir à un format pertinent des fichiers d'entrée "
   ]
  },
  {
   "cell_type": "code",
   "execution_count": null,
   "metadata": {},
   "outputs": [],
   "source": [
    "from os import listdir\n",
    "\n",
    "list_inputs = [] # Liste des fichiers compatibles avec le format présents dans le dossier 'inputs'\n",
    "folder = 'inputs/'\n",
    "\n",
    "# Recherche de fichiers\n",
    "def compatible_file(file_name, folder):\n",
    "    \"\"\"\n",
    "    Fonction qui vérifies si un fichier donné 'file_name' (str) dans le dossier 'folder' correspond au format.\n",
    "    Cette fonction vérifie uniquement si le fichier est bien un fichier texte et si sa première ligne est '*homogeneisation'.\n",
    "    Renvoie True si le fichier est compatible et False sinon.\n",
    "    \"\"\"\n",
    "    result = True # Initialisation\n",
    "    # Test du nom du fichier\n",
    "    if len(file_name)<5 or file_name[-4:]!='.txt':\n",
    "        result = False\n",
    "    else:\n",
    "        # Lecture de la première ligne\n",
    "        with open(folder+file_name, 'r') as file:\n",
    "            line = file.readline()\n",
    "            if line.strip() != '*homogeneisation':\n",
    "                result = False\n",
    "    return result\n",
    "\n",
    "def check_files(folder = 'inputs/'):\n",
    "    \"\"\"\n",
    "    Routine qui met à jour la liste 'list_inputs' des fichiers compatibles dans le dossier 'inputs'.\n",
    "    Appelée lors de l'appui sur le bouton 'refresh list' plus bas.\n",
    "    \"\"\"\n",
    "    global list_inputs\n",
    "    list_inputs_raw = listdir(folder)\n",
    "    list_inputs = [] # Réinitialisation de la liste\n",
    "    for file_name in list_inputs_raw:\n",
    "        if compatible_file(file_name, folder):\n",
    "            list_inputs.append(file_name)\n",
    "    "
   ]
  },
  {
   "cell_type": "code",
   "execution_count": null,
   "metadata": {},
   "outputs": [],
   "source": [
    "# Lecture des fichiers et calcul des comportement homogénéisés\n",
    "def read_file(b):\n",
    "    \"\"\"\n",
    "    Routine appelée lors d'un appui sur le bouton 'Generate output file'.\n",
    "    Lis le nom du fichier choisi par l'utilisateur. Ouvre et lit le fichier.\n",
    "    Affiche un message à l'utilisateur si une erreur est détectée.\n",
    "    Sinon, calcule le comportement homogénéisé de chaque microstructure et crée un fichier de sortie dans le dossier 'outputs'.\n",
    "    \"\"\"\n",
    "    folder_in = 'inputs/'\n",
    "    folder_out = 'outputs/'\n",
    "    file_name = w_file.value\n",
    "    out_file.clear_output()\n",
    "    read_matrix = False # Définit si la ligne lue correspond à la définition d'une nouvelle microstructure ou d'une inclusion.\n",
    "    read_model = True # Définit si la ligne lue correspond à la définition d'un modèle.\n",
    "    dict_inclusions = {}\n",
    "    n = 0\n",
    "    # Initialisation du fichier de sortie\n",
    "    with open(folder_out+'out_'+file_name, 'w') as file_out:\n",
    "        None\n",
    "    # lecture du fichier d'entrée\n",
    "    with open(folder_in+file_name, 'r') as file:\n",
    "        lines = file.readlines()\n",
    "        for n_line, line in enumerate(lines[1:]):\n",
    "            try:\n",
    "                if read_model:\n",
    "                    # Définition du modèle\n",
    "                    model_name = line.strip()\n",
    "                    model = str_to_model(model_name)\n",
    "                    # Passage à la ligne suivante\n",
    "                    read_model = False\n",
    "                    read_matrix = True\n",
    "                elif read_matrix:\n",
    "                    # Lecture du comportement de la matrice\n",
    "                    matrix_behavior = {}\n",
    "                    line1 = line.strip().split(',')\n",
    "                    for parameter in line1:\n",
    "                        parameter = parameter.split(':')\n",
    "                        matrix_behavior[parameter[0]] = float(parameter[1])\n",
    "                    # Passage à la ligne suivante\n",
    "                    read_matrix = False\n",
    "                elif line.strip() == '*':\n",
    "                    # Calcul de la microstructure précédente\n",
    "                    microstructure = Microstructure(matrix_behavior, dict_inclusions)\n",
    "                    behavior_h = model.compute_h_behavior(microstructure)\n",
    "                    # Écriture du comportement dans le fichier de sortie\n",
    "                    with open(folder_out+'out_'+file_name, 'a') as file_out:\n",
    "                        file_out.write('Essai {}\\n'.format(n))\n",
    "                        file_out.write(str(behavior_h)+'\\n')\n",
    "                    # Passage à la ligne suivante\n",
    "                    read_model = True\n",
    "                    dict_inclusions = {}\n",
    "                    n += 1\n",
    "                else:\n",
    "                    # Lecture d'une inclusion\n",
    "                    line1 = line.strip().split(',')\n",
    "                    type_inclusion = line1[0]\n",
    "                    f = line1[-1] # Fraction volumique\n",
    "                    inclusion_behavior = {}\n",
    "                    for parameter in line1[1:-1]:\n",
    "                        parameter = parameter.strip().split(':')\n",
    "                        inclusion_behavior[parameter[0]] = float(parameter[1])\n",
    "                    # Génération de l'inclusion\n",
    "                    inclusion = Inclusion(int(type_inclusion), inclusion_behavior)\n",
    "                    dict_inclusions[inclusion] = float(f)\n",
    "            except:\n",
    "                with out_file:\n",
    "                    print(\"Error on line {} : {} \".format(n_line+1, line))\n",
    "                    return None\n",
    "    with out_file:\n",
    "        print(\"Output file generated \")"
   ]
  },
  {
   "cell_type": "code",
   "execution_count": null,
   "metadata": {},
   "outputs": [],
   "source": [
    "b_refresh = widgets.Button(description='Refresh input files list')\n",
    "display(b_refresh)\n",
    "w_label = widgets.Label(value='Choose an input file :')\n",
    "w_file = widgets.Dropdown(options=list_inputs)\n",
    "refresh(None) # Mise à jour de la liste des fichiers d'entrée disponibles\n",
    "b_compute = widgets.Button(description='Generate output file')\n",
    "display(widgets.HBox([w_label, w_file, b_compute]))\n",
    "out_file = widgets.Output(layout={'width': 'max-content', 'border': '1px solid #FF625BF5'})\n",
    "display(out_file)\n",
    "out_file.clear_output()\n",
    "with out_file:\n",
    "    print(\"Press 'Generate output file' to compute \")\n",
    "    \n",
    "\n",
    "def refresh(b):\n",
    "    \"\"\"\n",
    "    Routine appelée lors d'un appui sur le bouton 'Refresh input files'. \n",
    "    Met à jour la liste des fichiers d'input compatibles et met à jour le widget de sélection.\n",
    "    \"\"\"\n",
    "    check_files()\n",
    "    w_file.options = list_inputs\n",
    "    \n",
    "b_refresh.on_click(refresh)\n",
    "b_compute.on_click(read_file)\n",
    "\n",
    "message = \"\"\"If your file does not appear :\n",
    "- Check that it is a '.txt' file and that its first line is '*homogeneisation',\n",
    "- Check that your file is in the 'inputs' folder,\n",
    "- Press the 'Refresh input files list' button.\"\"\"\n",
    "\n",
    "print(message)\n"
   ]
  },
  {
   "cell_type": "markdown",
   "metadata": {},
   "source": [
    "---"
   ]
  },
  {
   "cell_type": "markdown",
   "metadata": {},
   "source": [
    "## V- Description des modèles"
   ]
  },
  {
   "cell_type": "code",
   "execution_count": 270,
   "metadata": {},
   "outputs": [],
   "source": [
    "# Récupération des fichiers de description des modèles  \n",
    "dict_description = {}\n",
    "for Model in list_models:\n",
    "    model = Model()\n",
    "    model_name = model.name\n",
    "    file_name = 'model_descriptions/' + model_name + '.txt'\n",
    "    dict_description[model] = file_name"
   ]
  },
  {
   "cell_type": "code",
   "execution_count": 274,
   "metadata": {},
   "outputs": [
    {
     "data": {
      "application/vnd.jupyter.widget-view+json": {
       "model_id": "2bf4f3194b8743e8b7df50b7660e1a61",
       "version_major": 2,
       "version_minor": 0
      },
      "text/plain": [
       "Dropdown(options=(Modèle de Mori-Tanaka,), value=Modèle de Mori-Tanaka)"
      ]
     },
     "metadata": {},
     "output_type": "display_data"
    }
   ],
   "source": [
    "# Affichage de la description\n",
    "w_description = widgets.Dropdown(options=list(dict_description.keys()))\n",
    "display(w_description)\n",
    "\n",
    "def display_description():\n",
    "    \"\"\"\n",
    "    Fonction appelée lors d'un changement de value du widget w_description.\n",
    "    Récupère le modèle choisi et affiche sa description.\n",
    "    \"\"\""
   ]
  },
  {
   "cell_type": "markdown",
   "metadata": {},
   "source": [
    "---"
   ]
  },
  {
   "cell_type": "markdown",
   "metadata": {},
   "source": [
    "# Tests "
   ]
  },
  {
   "cell_type": "code",
   "execution_count": 253,
   "metadata": {},
   "outputs": [],
   "source": [
    "from IPython.display import Latex, Markdown"
   ]
  },
  {
   "cell_type": "code",
   "execution_count": 259,
   "metadata": {},
   "outputs": [
    {
     "data": {
      "text/latex": [
       "$x_3\\int_i^132$"
      ],
      "text/plain": [
       "<IPython.core.display.Latex object>"
      ]
     },
     "metadata": {},
     "output_type": "display_data"
    },
    {
     "data": {
      "text/markdown": [
       "Test\n",
       "\n",
       "$\\int_i^432$\n",
       "\n",
       "Test"
      ],
      "text/plain": [
       "<IPython.core.display.Markdown object>"
      ]
     },
     "metadata": {},
     "output_type": "display_data"
    }
   ],
   "source": [
    "display(Latex('$x_3\\int_i^132$'))\n",
    "display(Markdown(\"\"\"Test\n",
    "\n",
    "$\\int_i^432$\n",
    "\n",
    "Test\"\"\"))"
   ]
  },
  {
   "cell_type": "code",
   "execution_count": 252,
   "metadata": {},
   "outputs": [
    {
     "data": {
      "application/vnd.jupyter.widget-view+json": {
       "model_id": "69d7c7b359b74cf1899e61c97d2e17bc",
       "version_major": 2,
       "version_minor": 0
      },
      "text/plain": [
       "Label(value='Ok test\\n test')"
      ]
     },
     "metadata": {},
     "output_type": "display_data"
    }
   ],
   "source": [
    "label = widgets.Label(value=)\n",
    "display(label)"
   ]
  }
 ],
 "metadata": {
  "kernelspec": {
   "display_name": "Python 3",
   "language": "python",
   "name": "python3"
  },
  "language_info": {
   "codemirror_mode": {
    "name": "ipython",
    "version": 3
   },
   "file_extension": ".py",
   "mimetype": "text/x-python",
   "name": "python",
   "nbconvert_exporter": "python",
   "pygments_lexer": "ipython3",
   "version": "3.8.1"
  }
 },
 "nbformat": 4,
 "nbformat_minor": 4
}
