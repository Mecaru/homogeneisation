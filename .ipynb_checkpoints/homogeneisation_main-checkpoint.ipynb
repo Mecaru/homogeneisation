{
 "cells": [
  {
   "cell_type": "markdown",
   "metadata": {},
   "source": [
    "# Homogeneisation - main"
   ]
  },
  {
   "cell_type": "markdown",
   "metadata": {},
   "source": [
    "L'objectif est de mettre à disposition des chercheurs une interface permettant :\n",
    "- le calcul de comportements homogénéisés sur des microstructures données à l'aide de différents modèles pré-implémentés, manuellement (TODO) ou à partir d'un fichier texte (TODO),\n",
    "- de faciliter des études parmaétriques sur ces mêmes modèles et microstructures (TODO),\n",
    "- de déterminer des paramètres idéaux pour atteindre des comportements homogénéisés cibles(TODO),\n",
    "- de fournir une description des modèles utilisés, de leur forces et de leurs limites(TODO)."
   ]
  },
  {
   "cell_type": "markdown",
   "metadata": {},
   "source": [
    "---"
   ]
  },
  {
   "cell_type": "markdown",
   "metadata": {},
   "source": [
    "## I- Importation des classes et des modules utiles"
   ]
  },
  {
   "cell_type": "code",
   "execution_count": 1,
   "metadata": {},
   "outputs": [
    {
     "name": "stdout",
     "output_type": "stream",
     "text": [
      "Requirement already satisfied: ipywidgets in /usr/local/lib/python3.8/site-packages (7.5.1)\n",
      "Requirement already satisfied: nbformat>=4.2.0 in /usr/local/lib/python3.8/site-packages (from ipywidgets) (5.0.4)\n",
      "Requirement already satisfied: ipykernel>=4.5.1 in /usr/local/lib/python3.8/site-packages (from ipywidgets) (5.1.4)\n",
      "Requirement already satisfied: widgetsnbextension~=3.5.0 in /usr/local/lib/python3.8/site-packages (from ipywidgets) (3.5.1)\n",
      "Requirement already satisfied: traitlets>=4.3.1 in /usr/local/lib/python3.8/site-packages (from ipywidgets) (4.3.3)\n",
      "Requirement already satisfied: ipython>=4.0.0; python_version >= \"3.3\" in /usr/local/lib/python3.8/site-packages (from ipywidgets) (7.13.0)\n",
      "Requirement already satisfied: jsonschema!=2.5.0,>=2.4 in /usr/local/lib/python3.8/site-packages (from nbformat>=4.2.0->ipywidgets) (3.2.0)\n",
      "Requirement already satisfied: ipython-genutils in /usr/local/lib/python3.8/site-packages (from nbformat>=4.2.0->ipywidgets) (0.2.0)\n",
      "Requirement already satisfied: jupyter-core in /usr/local/lib/python3.8/site-packages (from nbformat>=4.2.0->ipywidgets) (4.6.3)\n",
      "Requirement already satisfied: tornado>=4.2 in /usr/local/lib/python3.8/site-packages (from ipykernel>=4.5.1->ipywidgets) (6.0.3)\n",
      "Requirement already satisfied: jupyter-client in /usr/local/lib/python3.8/site-packages (from ipykernel>=4.5.1->ipywidgets) (6.0.0)\n",
      "Requirement already satisfied: notebook>=4.4.1 in /usr/local/lib/python3.8/site-packages (from widgetsnbextension~=3.5.0->ipywidgets) (6.0.3)\n",
      "Requirement already satisfied: decorator in /usr/local/lib/python3.8/site-packages (from traitlets>=4.3.1->ipywidgets) (4.4.2)\n",
      "Requirement already satisfied: six in /usr/local/lib/python3.8/site-packages (from traitlets>=4.3.1->ipywidgets) (1.14.0)\n",
      "Requirement already satisfied: jedi>=0.10 in /usr/local/lib/python3.8/site-packages (from ipython>=4.0.0; python_version >= \"3.3\"->ipywidgets) (0.16.0)\n",
      "Requirement already satisfied: backcall in /usr/local/lib/python3.8/site-packages (from ipython>=4.0.0; python_version >= \"3.3\"->ipywidgets) (0.1.0)\n",
      "Requirement already satisfied: prompt-toolkit!=3.0.0,!=3.0.1,<3.1.0,>=2.0.0 in /usr/local/lib/python3.8/site-packages (from ipython>=4.0.0; python_version >= \"3.3\"->ipywidgets) (3.0.3)\n",
      "Requirement already satisfied: setuptools>=18.5 in /usr/local/lib/python3.8/site-packages (from ipython>=4.0.0; python_version >= \"3.3\"->ipywidgets) (45.2.0)\n",
      "Requirement already satisfied: pexpect; sys_platform != \"win32\" in /usr/local/lib/python3.8/site-packages (from ipython>=4.0.0; python_version >= \"3.3\"->ipywidgets) (4.8.0)\n",
      "Requirement already satisfied: pygments in /usr/local/lib/python3.8/site-packages (from ipython>=4.0.0; python_version >= \"3.3\"->ipywidgets) (2.5.2)\n",
      "Requirement already satisfied: pickleshare in /usr/local/lib/python3.8/site-packages (from ipython>=4.0.0; python_version >= \"3.3\"->ipywidgets) (0.7.5)\n",
      "Requirement already satisfied: attrs>=17.4.0 in /usr/local/lib/python3.8/site-packages (from jsonschema!=2.5.0,>=2.4->nbformat>=4.2.0->ipywidgets) (19.3.0)\n",
      "Requirement already satisfied: pyrsistent>=0.14.0 in /usr/local/lib/python3.8/site-packages (from jsonschema!=2.5.0,>=2.4->nbformat>=4.2.0->ipywidgets) (0.15.7)\n",
      "Requirement already satisfied: python-dateutil>=2.1 in /usr/local/lib/python3.8/site-packages (from jupyter-client->ipykernel>=4.5.1->ipywidgets) (2.8.1)\n",
      "Requirement already satisfied: pyzmq>=13 in /usr/local/lib/python3.8/site-packages (from jupyter-client->ipykernel>=4.5.1->ipywidgets) (19.0.0)\n",
      "Requirement already satisfied: prometheus-client in /usr/local/lib/python3.8/site-packages (from notebook>=4.4.1->widgetsnbextension~=3.5.0->ipywidgets) (0.7.1)\n",
      "Requirement already satisfied: nbconvert in /usr/local/lib/python3.8/site-packages (from notebook>=4.4.1->widgetsnbextension~=3.5.0->ipywidgets) (5.6.1)\n",
      "Requirement already satisfied: Send2Trash in /usr/local/lib/python3.8/site-packages (from notebook>=4.4.1->widgetsnbextension~=3.5.0->ipywidgets) (1.5.0)\n",
      "Requirement already satisfied: terminado>=0.8.1 in /usr/local/lib/python3.8/site-packages (from notebook>=4.4.1->widgetsnbextension~=3.5.0->ipywidgets) (0.8.3)\n",
      "Requirement already satisfied: jinja2 in /usr/local/lib/python3.8/site-packages (from notebook>=4.4.1->widgetsnbextension~=3.5.0->ipywidgets) (2.11.1)\n",
      "Requirement already satisfied: parso>=0.5.2 in /usr/local/lib/python3.8/site-packages (from jedi>=0.10->ipython>=4.0.0; python_version >= \"3.3\"->ipywidgets) (0.6.2)\n",
      "Requirement already satisfied: wcwidth in /usr/local/lib/python3.8/site-packages (from prompt-toolkit!=3.0.0,!=3.0.1,<3.1.0,>=2.0.0->ipython>=4.0.0; python_version >= \"3.3\"->ipywidgets) (0.1.8)\n",
      "Requirement already satisfied: ptyprocess>=0.5 in /usr/local/lib/python3.8/site-packages (from pexpect; sys_platform != \"win32\"->ipython>=4.0.0; python_version >= \"3.3\"->ipywidgets) (0.6.0)\n",
      "Requirement already satisfied: defusedxml in /usr/local/lib/python3.8/site-packages (from nbconvert->notebook>=4.4.1->widgetsnbextension~=3.5.0->ipywidgets) (0.6.0)\n",
      "Requirement already satisfied: testpath in /usr/local/lib/python3.8/site-packages (from nbconvert->notebook>=4.4.1->widgetsnbextension~=3.5.0->ipywidgets) (0.4.4)\n",
      "Requirement already satisfied: pandocfilters>=1.4.1 in /usr/local/lib/python3.8/site-packages (from nbconvert->notebook>=4.4.1->widgetsnbextension~=3.5.0->ipywidgets) (1.4.2)\n",
      "Requirement already satisfied: bleach in /usr/local/lib/python3.8/site-packages (from nbconvert->notebook>=4.4.1->widgetsnbextension~=3.5.0->ipywidgets) (3.1.1)\n",
      "Requirement already satisfied: entrypoints>=0.2.2 in /usr/local/lib/python3.8/site-packages (from nbconvert->notebook>=4.4.1->widgetsnbextension~=3.5.0->ipywidgets) (0.3)\n",
      "Requirement already satisfied: mistune<2,>=0.8.1 in /usr/local/lib/python3.8/site-packages (from nbconvert->notebook>=4.4.1->widgetsnbextension~=3.5.0->ipywidgets) (0.8.4)\n",
      "Requirement already satisfied: MarkupSafe>=0.23 in /usr/local/lib/python3.8/site-packages (from jinja2->notebook>=4.4.1->widgetsnbextension~=3.5.0->ipywidgets) (1.1.1)\n",
      "Requirement already satisfied: webencodings in /usr/local/lib/python3.8/site-packages (from bleach->nbconvert->notebook>=4.4.1->widgetsnbextension~=3.5.0->ipywidgets) (0.5.1)\n",
      "\u001b[33mWARNING: You are using pip version 20.0.2; however, version 20.1 is available.\n",
      "You should consider upgrading via the '/usr/local/bin/python -m pip install --upgrade pip' command.\u001b[0m\n"
     ]
    }
   ],
   "source": [
    "!pip install ipywidgets # Installation du package permettant la gestion des widgets"
   ]
  },
  {
   "cell_type": "code",
   "execution_count": 17,
   "metadata": {},
   "outputs": [],
   "source": [
    "import ipywidgets as widgets\n",
    "from IPython.display import display\n",
    "from classes import *"
   ]
  },
  {
   "cell_type": "code",
   "execution_count": 2,
   "metadata": {},
   "outputs": [
    {
     "name": "stdout",
     "output_type": "stream",
     "text": [
      "Modèles importés : [<class 'classes.Mori_Tanaka'>]\n"
     ]
    }
   ],
   "source": [
    "print(\"Modèles importés : {}\".format(list_models))"
   ]
  },
  {
   "cell_type": "markdown",
   "metadata": {},
   "source": [
    "---"
   ]
  },
  {
   "cell_type": "markdown",
   "metadata": {},
   "source": [
    "## II- Fonctions utiles"
   ]
  },
  {
   "cell_type": "code",
   "execution_count": 3,
   "metadata": {},
   "outputs": [],
   "source": [
    "def gen_tab_behavior():\n",
    "    \"\"\"\n",
    "    Routine qui génère un widget de type 'tab' permettant le choix des paramètres associés aux comportements. \n",
    "    Chaque onglet généré correspond à un comportement du dictionnaire 'dict_behaviors' implémenté dans 'classes.py'.\n",
    "    La fonction renvoie :\n",
    "    - une liste de liste de widgets (list_widgets) contenant autant de listes que d'onglet. Chaque liste contient les widgets générant les paramètres asssociés au comportement \n",
    "    de l'onglet correspondant.\n",
    "    - un widget tab correspondant au résultat final à afficher.    \n",
    "    TODO : cas isotrope, rempalcer K et G par Bulk et Shear modulus\n",
    "    \"\"\"\n",
    "    behaviors_str = list(dict_behaviors.keys()) # Liste des noms des comportements déjà implémentés, définis dans classes.py\n",
    "    list_widgets = [] # Liste de liste, chaque liste correspond à un onglet du tab et contient les widgets de cet onglet non formatés\n",
    "    tab_titles = [] # Nom des onglets, chaque onglet est associé à un type de comportement\n",
    "    # Construction des widgets associés à chaque onglet\n",
    "    for behavior_str in behaviors_str:\n",
    "        widgets_onglet = []\n",
    "        parameters = dict_behaviors[behavior_str] # Paramètres associés au comportement (exemple : ['K', 'G'] pour Isotropic)\n",
    "        for parameter in parameters: # TODO : possibilité de choisir E et mu ou lambda et nu pour l'isotrope, avec des widgets accordéons dans le tab\n",
    "            w = widgets.FloatSlider(value=1, min=0.01, max=1000, step=0.1, description=parameter) # Widget associé au paramètre parameter\n",
    "            widgets_onglet.append(w)\n",
    "        list_widgets.append(widgets_onglet)\n",
    "        tab_titles.append(behavior_str)\n",
    "    # Création du tab\n",
    "    tab = widgets.Tab()\n",
    "    tab.children = [widgets.HBox(w) for w in list_widgets]\n",
    "    for pos, title in enumerate(tab_titles):\n",
    "        tab.set_title(pos, title)\n",
    "    return list_widgets, tab"
   ]
  },
  {
   "cell_type": "code",
   "execution_count": 4,
   "metadata": {},
   "outputs": [],
   "source": [
    "def read_behavior(tab, list_widgets):\n",
    "    \"\"\"\n",
    "    Fonction qui, à partir d'un widget 'tab' comme celui construit par la fonction précédente, renvoie le dictionnaire 'behavior' construit par l'utilisateur.\n",
    "    \"\"\"\n",
    "    behavior_int = tab.selected_index # Onglet ouvert par l'utilisateur\n",
    "    widgets_parameters = list_widgets[behavior_int] # Widgets des paramètres de l'onglet ouvert\n",
    "    behavior = {w.description : w.value for w in widgets_parameters}\n",
    "    return behavior"
   ]
  },
  {
   "cell_type": "markdown",
   "metadata": {},
   "source": [
    "---"
   ]
  },
  {
   "cell_type": "markdown",
   "metadata": {},
   "source": [
    "## III- Calcul de comportement homogénéisé de microstructures"
   ]
  },
  {
   "cell_type": "code",
   "execution_count": 5,
   "metadata": {},
   "outputs": [],
   "source": [
    "dict_inclusions = {}\n",
    "# Initialise la liste des inclusions créees. dict_inclusions est sous la forme {nam_inclusion (str): inclusion (Inclusion)}"
   ]
  },
  {
   "cell_type": "markdown",
   "metadata": {},
   "source": [
    "### Construction d'une inclusion"
   ]
  },
  {
   "cell_type": "code",
   "execution_count": 6,
   "metadata": {},
   "outputs": [
    {
     "data": {
      "application/vnd.jupyter.widget-view+json": {
       "model_id": "745601f6b1ea49c3b99238db351c742d",
       "version_major": 2,
       "version_minor": 0
      },
      "text/plain": [
       "Label(value='Inclusion name')"
      ]
     },
     "metadata": {},
     "output_type": "display_data"
    },
    {
     "data": {
      "application/vnd.jupyter.widget-view+json": {
       "model_id": "e3ef528b2eb041d9a3873abcd18e5549",
       "version_major": 2,
       "version_minor": 0
      },
      "text/plain": [
       "Text(value='inclusion0')"
      ]
     },
     "metadata": {},
     "output_type": "display_data"
    },
    {
     "data": {
      "application/vnd.jupyter.widget-view+json": {
       "model_id": "55e82a3827724238b0f2199aea81196d",
       "version_major": 2,
       "version_minor": 0
      },
      "text/plain": [
       "VBox(children=(Label(value='Inclusion type'), Dropdown(options=(('Spheres', 0),), value=0)))"
      ]
     },
     "metadata": {},
     "output_type": "display_data"
    },
    {
     "data": {
      "application/vnd.jupyter.widget-view+json": {
       "model_id": "5d8615bd2bfb4ba0ac1371d4fb8891eb",
       "version_major": 2,
       "version_minor": 0
      },
      "text/plain": [
       "Label(value='Inclusion behavior')"
      ]
     },
     "metadata": {},
     "output_type": "display_data"
    },
    {
     "data": {
      "application/vnd.jupyter.widget-view+json": {
       "model_id": "8bf1d371bead4a8fbf9ba5c62ca19592",
       "version_major": 2,
       "version_minor": 0
      },
      "text/plain": [
       "Tab(children=(HBox(children=(FloatSlider(value=1.0, description='K', max=1000.0, min=0.01), FloatSlider(value=…"
      ]
     },
     "metadata": {},
     "output_type": "display_data"
    },
    {
     "data": {
      "application/vnd.jupyter.widget-view+json": {
       "model_id": "d689a565c65a437ca6ee6c677dc30bd9",
       "version_major": 2,
       "version_minor": 0
      },
      "text/plain": [
       "Button(description='Generate Inclusion', style=ButtonStyle())"
      ]
     },
     "metadata": {},
     "output_type": "display_data"
    },
    {
     "data": {
      "application/vnd.jupyter.widget-view+json": {
       "model_id": "11590fc68c1c4754a760048bb642fe51",
       "version_major": 2,
       "version_minor": 0
      },
      "text/plain": [
       "Output()"
      ]
     },
     "metadata": {},
     "output_type": "display_data"
    }
   ],
   "source": [
    "# Nom de l'inclusion\n",
    "w_label = widgets.Label(value='Inclusion name')\n",
    "w_name = widgets.Text(value='inclusion0')\n",
    "display(w_label, w_name)\n",
    "\n",
    "# Type d'inclusion\n",
    "w_label = widgets.Label(value='Inclusion type')\n",
    "w_type = widgets.Dropdown(options=[('Spheres', 0)], value=0) #TODO : synchroniser avec classes.py à l'aide d'un dict pour ajouter plus facilement des types d'inclusions\n",
    "w = widgets.VBox([w_label, w_type])\n",
    "display(w)\n",
    "\n",
    "# TODO : caractéristiques géométriques (rayon, etc..) selon le type\n",
    "\n",
    "# Comportement de l'inclusion\n",
    "caption = widgets.Label(value='Inclusion behavior')\n",
    "display(caption)\n",
    "list_widgets, tab = gen_tab_behavior()\n",
    "display(tab)\n",
    "\n",
    "# Génération de l'inclusion\n",
    "button_generate_inclusion = widgets.Button(description=\"Generate Inclusion\")\n",
    "output = widgets.Output()\n",
    "display(button_generate_inclusion, output)\n",
    "def generate_inclusion(b):\n",
    "    \"\"\"\n",
    "    Fonction appelée lors d'un click sur le bouton, génère une inclusion avec les paramètres choisis.\n",
    "    \"\"\"\n",
    "    # Récupération des paramètres choisis\n",
    "    output.clear_output()\n",
    "    inclusion_name = w_name.value\n",
    "    if inclusion_name in list(dict_inclusions.keys()):\n",
    "        with output:\n",
    "            print(\"Name already exists\")\n",
    "    else :\n",
    "        type_inclusion = w_type.value\n",
    "        behavior = read_behavior(tab, list_widgets)\n",
    "        inclusion = Inclusion(type_inclusion, behavior, name=inclusion_name)\n",
    "        dict_inclusions[inclusion_name] = inclusion\n",
    "        with output:\n",
    "            print(\"Inclusion generated: \", inclusion)\n",
    "    \n",
    "button_generate_inclusion.on_click(generate_inclusion)"
   ]
  },
  {
   "cell_type": "markdown",
   "metadata": {},
   "source": [
    "### Construction d'une microstructure"
   ]
  },
  {
   "cell_type": "code",
   "execution_count": 7,
   "metadata": {},
   "outputs": [],
   "source": [
    "# Création de la variable contenant la microstructure\n",
    "microstructure = None # Initialisation"
   ]
  },
  {
   "cell_type": "code",
   "execution_count": 8,
   "metadata": {},
   "outputs": [
    {
     "data": {
      "application/vnd.jupyter.widget-view+json": {
       "model_id": "3bdc92d44a524929b61a74ea5e2ef8d9",
       "version_major": 2,
       "version_minor": 0
      },
      "text/plain": [
       "Label(value='Matrix behavior')"
      ]
     },
     "metadata": {},
     "output_type": "display_data"
    },
    {
     "data": {
      "application/vnd.jupyter.widget-view+json": {
       "model_id": "34f54685f046406d83f13cd72e4f6518",
       "version_major": 2,
       "version_minor": 0
      },
      "text/plain": [
       "Tab(children=(HBox(children=(FloatSlider(value=1.0, description='K', max=1000.0, min=0.01), FloatSlider(value=…"
      ]
     },
     "metadata": {},
     "output_type": "display_data"
    }
   ],
   "source": [
    "# Comportement de la matrice\n",
    "caption = widgets.Label(value='Matrix behavior')\n",
    "display(caption)\n",
    "widgets_m, tab_m = gen_tab_behavior()\n",
    "display(tab_m)"
   ]
  },
  {
   "cell_type": "code",
   "execution_count": 19,
   "metadata": {},
   "outputs": [
    {
     "data": {
      "application/vnd.jupyter.widget-view+json": {
       "model_id": "9af9c1f425e2411c9f27f0fc38ea0aad",
       "version_major": 2,
       "version_minor": 0
      },
      "text/plain": [
       "HBox(children=(Dropdown(options=(inclusion0, spheres, {'K': 1.0, 'G': 1.0}, inclusion1, spheres, {'K': 1.0, 'G…"
      ]
     },
     "metadata": {},
     "output_type": "display_data"
    },
    {
     "data": {
      "application/vnd.jupyter.widget-view+json": {
       "model_id": "6a44ab1cdf2646be9ccc88ce21c60428",
       "version_major": 2,
       "version_minor": 0
      },
      "text/plain": [
       "Output()"
      ]
     },
     "metadata": {},
     "output_type": "display_data"
    },
    {
     "data": {
      "application/vnd.jupyter.widget-view+json": {
       "model_id": "5b1929f2cb5346e3a045f62d1c9df256",
       "version_major": 2,
       "version_minor": 0
      },
      "text/plain": [
       "HBox(children=(Button(description='Generate microstructure', layout=Layout(width='max-content'), style=ButtonS…"
      ]
     },
     "metadata": {},
     "output_type": "display_data"
    },
    {
     "data": {
      "application/vnd.jupyter.widget-view+json": {
       "model_id": "8926be7d6c854ac7bca6c35728576b0b",
       "version_major": 2,
       "version_minor": 0
      },
      "text/plain": [
       "Output()"
      ]
     },
     "metadata": {},
     "output_type": "display_data"
    }
   ],
   "source": [
    "# Ajout d'inclusions\n",
    "w_inclusions = widgets.Dropdown(options=list(dict_inclusions.values()))\n",
    "button_add_inclusion = widgets.Button(description=\"Add inclusion\")\n",
    "out1 = widgets.Output()\n",
    "out2 = widgets.Output()\n",
    "display(widgets.HBox([w_inclusions, button_add_inclusion, out2]), out1)\n",
    "widgets_f = {} # Dictionnaire des inclusions ajoutées et de leurs widgets ('name','fraction volumique') associés\n",
    "buttons_suppress = {} # Dictionnaire des boutons permettant de supprimer une inclusion de la structure et inclusions associés\n",
    "\n",
    "def add_inclusion_to_structure(b):\n",
    "    \"\"\"\n",
    "    Fonction appelée lors d'un click sur le bouton \"Add inclusion\", génère un widget associé à la fraction volumique de l'inclusion et l'ajoute au dictionnaire \"widgets_f\".\n",
    "    Crée aussi un bouton permettant la suppression de l'inclusion et l'ajoute au dictionnaire buttons. (TODO)\n",
    "    Enfin, affiche la ligne de widgets correspondante.\n",
    "    \"\"\"\n",
    "    out2.clear_output()\n",
    "    inclusion = w_inclusions.value\n",
    "    if inclusion in list(widgets_f.keys()):\n",
    "        with out2:\n",
    "            print(\"Already added\")\n",
    "    else:\n",
    "        w_name = widgets.Label(inclusion.name)\n",
    "        w_f = widgets.FloatSlider(min=0.01, max=1, step=0.01, description='f')\n",
    "        w_b = widgets.Button(description=\"Remove inclusion\")\n",
    "        w_b.on_click(remove_inclusion)\n",
    "        widgets_f[inclusion] = (w_name, w_f)\n",
    "        buttons_suppress[w_b] = inclusion\n",
    "        with out1:\n",
    "            display(w_name, widgets.HBox([w_f, w_b]))\n",
    "\n",
    "def add_inclusion_to_list(b):\n",
    "    \"\"\"\n",
    "    Fonction appelée lors d'un clic sur le bouton 'generate inclusion' de la section précédente.\n",
    "    met à jour le widget permettant le choix des inclusions à ajouter.\n",
    "    \"\"\"\n",
    "    w_inclusions.options = list(dict_inclusions.values())\n",
    "    \n",
    "def remove_inclusion(b):\n",
    "    \"\"\"\n",
    "    Fonction appelée lorsqu'un bouton 'Remove inclusion' est appelé. \n",
    "    Repère l'inclusion associée au bouton, ferme les widgets associés et supprime l'entrée du dictionnaire widgets_f\n",
    "    \"\"\"\n",
    "    out2.clear_output()\n",
    "    inclusion = buttons_suppress[b]\n",
    "    w_name, w_f = widgets_f[inclusion]\n",
    "    # Fermeture des widgets\n",
    "    b.close()\n",
    "    w_name.close()\n",
    "    w_f.close()\n",
    "    del widgets_f[inclusion]\n",
    "    del buttons_suppress[b]\n",
    "\n",
    "def generate_microstructure(b):\n",
    "    \"\"\"\n",
    "    Génère la microstructure avec les paramètres choisis par l'utilisateur. \n",
    "    Si les fractions volumiques choisies ne sont pas cohérentes, affiche un message.\n",
    "    Affiche une description de la microsructure créee.\n",
    "    \"\"\"\n",
    "    global microstructure\n",
    "    matrix_behavior = read_behavior(tab_m, widgets_m) # Lecture des widgets définis dans la section 'Comportement de la matrice'\n",
    "    dict_inclusions = {}\n",
    "    # Lecture des fractions volumiques choisies\n",
    "    for inclusion, widgets in widgets_f.items():\n",
    "        w_name, w_f = widgets\n",
    "        f = w_f.value\n",
    "        dict_inclusions[inclusion] = f\n",
    "    # Génération de la microstructure\n",
    "    out3.clear_output()\n",
    "    try:\n",
    "        microstructure = Microstructure(matrix_behavior, dict_inclusions)\n",
    "        with out3:\n",
    "            print(\"Microstructure generated\\n\" + str(microstructure))\n",
    "    except NameError:\n",
    "        with out3:\n",
    "            print(\"Inconsistent choice of volumic fractions\")\n",
    "\n",
    "button_add_inclusion.on_click(add_inclusion_to_structure)\n",
    "button_generate_inclusion.on_click(add_inclusion_to_list)\n",
    "\n",
    "# Génération de la microstructure\n",
    "b_generate_structure = widgets.Button(description='Generate microstructure', layout={'width': 'max-content'})\n",
    "# TODO : widget 'valid' qui indique en temps réel si les fractions volumiques choisies sont cohérentes\n",
    "out3 = widgets.Output()\n",
    "display(widgets.HBox([b_generate_structure]),out3)\n",
    "b_generate_structure.on_click(generate_microstructure)\n"
   ]
  },
  {
   "cell_type": "markdown",
   "metadata": {},
   "source": [
    "---"
   ]
  },
  {
   "cell_type": "markdown",
   "metadata": {},
   "source": [
    "# Tests "
   ]
  },
  {
   "cell_type": "code",
   "execution_count": 10,
   "metadata": {},
   "outputs": [
    {
     "data": {
      "application/vnd.jupyter.widget-view+json": {
       "model_id": "1e4e8ccbd0714e1aa7f3fa3ac4a64b7f",
       "version_major": 2,
       "version_minor": 0
      },
      "text/plain": [
       "Button(description='Test', style=ButtonStyle())"
      ]
     },
     "metadata": {},
     "output_type": "display_data"
    },
    {
     "data": {
      "application/vnd.jupyter.widget-view+json": {
       "model_id": "7f03430d6c3f46f8a709e332be764ba3",
       "version_major": 2,
       "version_minor": 0
      },
      "text/plain": [
       "Output()"
      ]
     },
     "metadata": {},
     "output_type": "display_data"
    }
   ],
   "source": [
    "# Test de la création de widgets par appui sur un bouton\n",
    "button = widgets.Button(description=\"Test\")\n",
    "output = widgets.Output()\n",
    "display(button, output)\n",
    "def click(b):\n",
    "    with output:\n",
    "        w = widgets.FloatSlider()\n",
    "        display(w)\n",
    "button.on_click(click)"
   ]
  },
  {
   "cell_type": "code",
   "execution_count": 11,
   "metadata": {},
   "outputs": [
    {
     "data": {
      "application/vnd.jupyter.widget-view+json": {
       "model_id": "00db74370b8c496387cf730ce0497aaa",
       "version_major": 2,
       "version_minor": 0
      },
      "text/plain": [
       "IntSlider(value=0)"
      ]
     },
     "metadata": {},
     "output_type": "display_data"
    }
   ],
   "source": [
    "# Test de la modification d'un widget par un autre widget défini plus haut\n",
    "w = widgets.IntSlider(value=0)\n",
    "def click2(b):\n",
    "    w.value += 1\n",
    "button.on_click(click2)\n",
    "display(w)"
   ]
  },
  {
   "cell_type": "code",
   "execution_count": 12,
   "metadata": {},
   "outputs": [
    {
     "data": {
      "text/plain": [
       "[(0, 'test0'), (2, 'deux')]"
      ]
     },
     "execution_count": 12,
     "metadata": {},
     "output_type": "execute_result"
    }
   ],
   "source": [
    "dico = {0:'test0', 2:'deux'}\n",
    "list(dico.items())"
   ]
  },
  {
   "cell_type": "code",
   "execution_count": 13,
   "metadata": {},
   "outputs": [
    {
     "data": {
      "application/vnd.jupyter.widget-view+json": {
       "model_id": "644618deca234d798b88086fdd43adc5",
       "version_major": 2,
       "version_minor": 0
      },
      "text/plain": [
       "Button(style=ButtonStyle())"
      ]
     },
     "metadata": {},
     "output_type": "display_data"
    },
    {
     "data": {
      "application/vnd.jupyter.widget-view+json": {
       "model_id": "607224ed732e4da3a07eec36ea2d6a94",
       "version_major": 2,
       "version_minor": 0
      },
      "text/plain": [
       "Output()"
      ]
     },
     "metadata": {},
     "output_type": "display_data"
    },
    {
     "data": {
      "application/vnd.jupyter.widget-view+json": {
       "model_id": "a6404abd02c94706a479e5f48b8811c4",
       "version_major": 2,
       "version_minor": 0
      },
      "text/plain": [
       "Output()"
      ]
     },
     "metadata": {},
     "output_type": "display_data"
    }
   ],
   "source": [
    "button = widgets.Button()\n",
    "out1 = widgets.Output()\n",
    "out2 = widgets.Output()\n",
    "display(button, out1, out2)\n",
    "def click(b):\n",
    "    with out1:\n",
    "        print(\"Output 1\")\n",
    "    with out2:\n",
    "        print(\"Output 2\")\n",
    "button.on_click(click)"
   ]
  },
  {
   "cell_type": "code",
   "execution_count": 19,
   "metadata": {},
   "outputs": [
    {
     "data": {
      "application/vnd.jupyter.widget-view+json": {
       "model_id": "3ea768e0911743a0b7a65b46df369bfb",
       "version_major": 2,
       "version_minor": 0
      },
      "text/plain": [
       "Output()"
      ]
     },
     "metadata": {},
     "output_type": "display_data"
    }
   ],
   "source": [
    "out = widgets.Output()\n",
    "with out:\n",
    "    print('Test')\n",
    "display(out)"
   ]
  }
 ],
 "metadata": {
  "kernelspec": {
   "display_name": "Python 3",
   "language": "python",
   "name": "python3"
  },
  "language_info": {
   "codemirror_mode": {
    "name": "ipython",
    "version": 3
   },
   "file_extension": ".py",
   "mimetype": "text/x-python",
   "name": "python",
   "nbconvert_exporter": "python",
   "pygments_lexer": "ipython3",
   "version": "3.8.1"
  }
 },
 "nbformat": 4,
 "nbformat_minor": 4
}
