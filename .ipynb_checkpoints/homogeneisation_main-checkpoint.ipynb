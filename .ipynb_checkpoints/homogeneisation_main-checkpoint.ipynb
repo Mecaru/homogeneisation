{
 "cells": [
  {
   "cell_type": "markdown",
   "metadata": {},
   "source": [
    "# Homogeneisation - main"
   ]
  },
  {
   "cell_type": "markdown",
   "metadata": {},
   "source": [
    "L'objectif est de mettre à disposition des chercheurs une interface permettant :\n",
    "- le calcul de comportements homogénéisés sur des microstructures données à l'aide de différents modèles pré-implémentés, manuellement ou à partir d'un fichier texte,\n",
    "- de faciliter des études parmaétriques sur ces mêmes modèles et microstructures,\n",
    "- de déterminer des paramètres idéaux pour atteindre des comportements homogénéisés cibles(TODO),\n",
    "- de fournir une description des modèles utilisés, de leur forces et de leurs limites."
   ]
  },
  {
   "cell_type": "markdown",
   "metadata": {},
   "source": [
    "Ce code contient plusieurs sections. **Lorsque le code est lancé pour la première fois sur un nouveau kernel, les sections suivantes doivent être executées dans l'ordre** :\n",
    "- Importation des classes et des modules utiles\n",
    "- Fonctions utiles \n",
    "\n",
    "Les sections suivantes sont indépendantes. Si une section est lancée pour la première fois, ses cellules doivent être executées dans l'ordre."
   ]
  },
  {
   "cell_type": "markdown",
   "metadata": {},
   "source": [
    "---"
   ]
  },
  {
   "cell_type": "markdown",
   "metadata": {},
   "source": [
    "## I- Importation des classes et des modules utiles"
   ]
  },
  {
   "cell_type": "code",
   "execution_count": 1,
   "metadata": {},
   "outputs": [
    {
     "name": "stdout",
     "output_type": "stream",
     "text": [
      "Package downloaded\n"
     ]
    }
   ],
   "source": [
    "!pip install ipywidgets # Installation du package permettant la gestion des widgets\n",
    "from IPython.display import clear_output\n",
    "clear_output()\n",
    "print(\"Package downloaded\")"
   ]
  },
  {
   "cell_type": "code",
   "execution_count": 1,
   "metadata": {},
   "outputs": [],
   "source": [
    "import ipywidgets as widgets\n",
    "from IPython.display import display\n",
    "from classes import *\n",
    "from os import listdir"
   ]
  },
  {
   "cell_type": "code",
   "execution_count": 2,
   "metadata": {},
   "outputs": [
    {
     "name": "stdout",
     "output_type": "stream",
     "text": [
      "Modèles importés : [<class 'classes.Mori_Tanaka'>]\n"
     ]
    }
   ],
   "source": [
    "print(\"Modèles importés : {}\".format(list_models))"
   ]
  },
  {
   "cell_type": "markdown",
   "metadata": {},
   "source": [
    "---"
   ]
  },
  {
   "cell_type": "markdown",
   "metadata": {},
   "source": [
    "## II- Fonctions utiles"
   ]
  },
  {
   "cell_type": "code",
   "execution_count": 3,
   "metadata": {},
   "outputs": [],
   "source": [
    "parameters_name = {'K': 'Bulk modulus K', 'G': 'Shear modulus G', 'E': 'Young modulus E', 'nu': \"Poisson's ratio nu\"}\n",
    "parameters_name = {'K': 'Bulk modulus K', 'G': 'Shear modulus G', 'E': 'Young modulus E', 'nu': \"Poisson's ratio \" + r'\\(\\nu\\)'}\n",
    "parameters_name_bis = {value: key for (key, value) in parameters_name.items()}\n",
    "\n",
    "def gen_tab_behavior():\n",
    "    \"\"\"\n",
    "    Routine qui génère un widget de type 'tab' permettant le choix des paramètres associés aux comportements. \n",
    "    Chaque onglet généré correspond à un comportement du dictionnaire 'dict_behaviors' implémenté dans 'classes.py'.\n",
    "    La fonction renvoie :\n",
    "    - une liste de liste de widgets (list_widgets) contenant autant de listes que d'onglet. Chaque liste contient les widgets générant les paramètres asssociés au comportement \n",
    "    de l'onglet correspondant.\n",
    "    - un widget tab correspondant au résultat final à afficher.    \n",
    "    \"\"\"\n",
    "    behaviors_str = list(dict_behaviors.keys()) # Liste des noms des comportements déjà implémentés, définis dans classes.py\n",
    "    list_widgets = [] # Liste de liste, chaque liste correspond à un onglet du tab et contient les widgets de cet onglet non formatés\n",
    "    tab_titles = [] # Nom des onglets, chaque onglet est associé à un type de comportement\n",
    "    # Construction des widgets associés à chaque onglet\n",
    "    for behavior_str in behaviors_str:\n",
    "        widgets_onglet = []\n",
    "        parameters = dict_behaviors[behavior_str] # Paramètres associés au comportement (exemple : ['K', 'G'] pour Isotropic)\n",
    "        for parameter in parameters:\n",
    "            w = widgets.FloatSlider(value=1, min=0.01, max=1000, step=0.01) # Widget associé au paramètre parameter\n",
    "            if parameter == 'nu':\n",
    "                w.max = 0.5\n",
    "                w.value = 0.3\n",
    "            w_label = widgets.Label(value=parameters_name[parameter])\n",
    "            widgets_onglet.append(widgets.HBox([w_label, w]))\n",
    "        list_widgets.append(widgets_onglet)\n",
    "        tab_titles.append(behavior_str)\n",
    "    # Création du tab\n",
    "    tab = widgets.Tab()\n",
    "    tab.children = [widgets.HBox(w) for w in list_widgets]\n",
    "    for pos, title in enumerate(tab_titles):\n",
    "        tab.set_title(pos, title)\n",
    "    return list_widgets, tab\n",
    "\n",
    "def read_behavior(tab, list_widgets):\n",
    "    \"\"\"\n",
    "    Fonction qui, à partir d'un widget 'tab' comme celui construit par la fonction précédente, renvoie le dictionnaire 'behavior' construit par l'utilisateur.\n",
    "    \"\"\"\n",
    "    behavior_int = tab.selected_index # Onglet ouvert par l'utilisateur\n",
    "    widgets_parameters = list_widgets[behavior_int] # Widgets des paramètres de l'onglet ouvert\n",
    "    behavior = {parameters_name_bis[w.children[0].value] : w.children[1].value for w in widgets_parameters}\n",
    "    return behavior\n",
    "\n",
    "def gen_tab_type():\n",
    "    \"\"\"\n",
    "    Routine qui génère un widget de type 'tab' permettant le choix des paramètres associés aux types d'inclusions (aspect ratio, orientation, etc..). \n",
    "    TODO : Inclure l'orientation\n",
    "    Chaque onglet généré correspond à un type du dictionnaire 'dict_types' implémenté dans 'classes.py'.\n",
    "    La fonction renvoie :\n",
    "    - une liste de liste de widgets (list_widgets) contenant autant de listes que d'onglets. Chaque liste contient les widgets générant les paramètres asssociés au comportement \n",
    "    de l'onglet correspondant.\n",
    "    - un widget tab correspondant au résultat final à afficher.    \n",
    "    \"\"\"\n",
    "    list_widgets = [] # Liste de listes, chaque liste correspond à un onglet et contient les widgets de cet onglet\n",
    "    # Construction des widgets associés à chaque onglet\n",
    "    for type_int in dict_types.keys():\n",
    "        if type_int == 0:\n",
    "            # Sphères, pas besoin de paramètres supllémentaires\n",
    "            list_widgets.append([])\n",
    "        elif type_int == 1:\n",
    "            # Oblate\n",
    "            w_label = widgets.Label(value=\"Aspect ratio\")\n",
    "            w_aspect_ratio = widgets.FloatSlider(min=0.01, max=0.99, step=0.01)\n",
    "            list_widgets.append([w_label, w_aspect_ratio])\n",
    "        elif type_int == 2:\n",
    "            # Prolate\n",
    "            w_label = widgets.Label(value=\"Aspect ratio\")\n",
    "            w_aspect_ratio = widgets.FloatSlider(min=1.01, max=10, step=0.01)\n",
    "            list_widgets.append([w_label, w_aspect_ratio])\n",
    "    # Création du tab\n",
    "    tab = widgets.Tab()\n",
    "    # Attribution des onglets\n",
    "    tab.children = [widgets.HBox(w) for w in list_widgets]\n",
    "    # Attribution des noms des onglets\n",
    "    for pos, title in dict_types.items():\n",
    "        tab.set_title(pos, title)\n",
    "    return list_widgets, tab         \n",
    "\n",
    "def read_type(tab, list_widgets):\n",
    "    \"\"\"\n",
    "    Fonction qui, à partir d'un widget 'tab' comme celui construit par la fonction gen_tab_type, renvoie le type d'inclusion et le rapport d'apsect.\n",
    "    \"\"\"\n",
    "    type_int = tab.selected_index # Onglet ouvert par l'utilisateur\n",
    "    widgets_parameters = list_widgets[type_int]\n",
    "    try:\n",
    "        aspect_ratio = widgets_parameters[1].value\n",
    "    except:\n",
    "        # Il n'y a pas de rapport de forme, cas des sphères par exemple\n",
    "        aspect_ratio = 1\n",
    "    return type_int, aspect_ratio\n",
    "\n",
    "def str_to_model(model_name):\n",
    "    \"\"\"\n",
    "    Fonction qui renvoie l'instance de classe Model associée au nom de classe model_name (str).\n",
    "    \"\"\"\n",
    "    for Model in list_models:\n",
    "        model = Model()\n",
    "        if model.name.upper() == model_name.upper():\n",
    "            return model"
   ]
  },
  {
   "cell_type": "markdown",
   "metadata": {},
   "source": [
    "---"
   ]
  },
  {
   "cell_type": "markdown",
   "metadata": {},
   "source": [
    "## III- Calcul de comportement homogénéisé de microstructures\n",
    "Cette section permet la génération manuelle de microstructure et le calcul de comportement homogénéisé avec les modèles disponibles."
   ]
  },
  {
   "cell_type": "code",
   "execution_count": 4,
   "metadata": {},
   "outputs": [],
   "source": [
    "dict_inclusions = {}\n",
    "# Initialise la liste des inclusions créees. dict_inclusions est sous la forme {nam_inclusion (str): inclusion (Inclusion)}"
   ]
  },
  {
   "cell_type": "markdown",
   "metadata": {},
   "source": [
    "### Construction d'une inclusion"
   ]
  },
  {
   "cell_type": "code",
   "execution_count": 5,
   "metadata": {},
   "outputs": [
    {
     "data": {
      "application/vnd.jupyter.widget-view+json": {
       "model_id": "70cb56369554459e878f5b292d254862",
       "version_major": 2,
       "version_minor": 0
      },
      "text/plain": [
       "Label(value='Inclusion name')"
      ]
     },
     "metadata": {},
     "output_type": "display_data"
    },
    {
     "data": {
      "application/vnd.jupyter.widget-view+json": {
       "model_id": "cfd2998e44384324992cdda939dd3809",
       "version_major": 2,
       "version_minor": 0
      },
      "text/plain": [
       "Text(value='inclusion 0')"
      ]
     },
     "metadata": {},
     "output_type": "display_data"
    },
    {
     "data": {
      "application/vnd.jupyter.widget-view+json": {
       "model_id": "032c46bb208f40f18b4301b91573b727",
       "version_major": 2,
       "version_minor": 0
      },
      "text/plain": [
       "Label(value='Inclusion type')"
      ]
     },
     "metadata": {},
     "output_type": "display_data"
    },
    {
     "data": {
      "application/vnd.jupyter.widget-view+json": {
       "model_id": "af994e5b920f43fe8c807f971e19cf20",
       "version_major": 2,
       "version_minor": 0
      },
      "text/plain": [
       "Tab(children=(HBox(), HBox(children=(Label(value='Aspect ratio'), FloatSlider(value=0.01, max=0.99, min=0.01, …"
      ]
     },
     "metadata": {},
     "output_type": "display_data"
    },
    {
     "data": {
      "application/vnd.jupyter.widget-view+json": {
       "model_id": "b37b0e7976a14e199ce0fc6086fc874b",
       "version_major": 2,
       "version_minor": 0
      },
      "text/plain": [
       "Label(value='Inclusion behavior')"
      ]
     },
     "metadata": {},
     "output_type": "display_data"
    },
    {
     "data": {
      "application/vnd.jupyter.widget-view+json": {
       "model_id": "5da137faaece40ea823ba051034a129c",
       "version_major": 2,
       "version_minor": 0
      },
      "text/plain": [
       "Tab(children=(HBox(children=(HBox(children=(Label(value='Bulk modulus K'), FloatSlider(value=1.0, max=1000.0, …"
      ]
     },
     "metadata": {},
     "output_type": "display_data"
    },
    {
     "data": {
      "application/vnd.jupyter.widget-view+json": {
       "model_id": "17f4f83d94ac4c5ba35a8b20cf34cee1",
       "version_major": 2,
       "version_minor": 0
      },
      "text/plain": [
       "Button(description='Generate Inclusion', style=ButtonStyle())"
      ]
     },
     "metadata": {},
     "output_type": "display_data"
    },
    {
     "data": {
      "application/vnd.jupyter.widget-view+json": {
       "model_id": "0d693e354b1e42b58fff522374538540",
       "version_major": 2,
       "version_minor": 0
      },
      "text/plain": [
       "Output()"
      ]
     },
     "metadata": {},
     "output_type": "display_data"
    }
   ],
   "source": [
    "# Nom de l'inclusion\n",
    "w_label = widgets.Label(value='Inclusion name')\n",
    "n_inclusion = 0 # Identifiant servant à donner automatiquement un nom unique à chaque inclusion\n",
    "w_name = widgets.Text(value='inclusion '+str(n_inclusion))\n",
    "display(w_label, w_name)\n",
    "\n",
    "# Type d'inclusion\n",
    "display(widgets.Label(value='Inclusion type'))\n",
    "widgets_type, tab_type = gen_tab_type() # Génération du widgets tab de choix du type d'inclusion\n",
    "display(tab_type)\n",
    "\n",
    "# Comportement de l'inclusion\n",
    "caption = widgets.Label(value='Inclusion behavior')\n",
    "display(caption)\n",
    "list_widgets, tab = gen_tab_behavior()\n",
    "display(tab)\n",
    "\n",
    "# Génération de l'inclusion\n",
    "button_generate_inclusion = widgets.Button(description=\"Generate Inclusion\")\n",
    "output = widgets.Output()\n",
    "display(button_generate_inclusion, output)\n",
    "def generate_inclusion(b):\n",
    "    \"\"\"\n",
    "    Fonction appelée lors d'un click sur le bouton, génère une inclusion avec les paramètres choisis.\n",
    "    TODO : modifier le nom de l'inclusion automatiquement\n",
    "    \"\"\"\n",
    "    global n_inclusion\n",
    "    # Récupération des paramètres choisis\n",
    "    output.clear_output()\n",
    "    inclusion_name = w_name.value\n",
    "    if inclusion_name in list(dict_inclusions.keys()):\n",
    "        with output:\n",
    "            print(\"Name already exists\")\n",
    "    else :\n",
    "        type_inclusion, inclusion_aspect_ratio = read_type(tab_type, widgets_type)\n",
    "        behavior = read_behavior(tab, list_widgets)\n",
    "        inclusion = Inclusion(type_inclusion, behavior, name=inclusion_name, aspect_ratio=inclusion_aspect_ratio)\n",
    "        dict_inclusions[inclusion_name] = inclusion\n",
    "        with output:\n",
    "            print(\"Inclusion generated: \", inclusion)\n",
    "        # Mise à jour automatique du nom de l'inclusion\n",
    "        n_inclusion += 1\n",
    "        w_name.value = 'inclusion '+str(n_inclusion)\n",
    "    \n",
    "button_generate_inclusion.on_click(generate_inclusion)"
   ]
  },
  {
   "cell_type": "markdown",
   "metadata": {},
   "source": [
    "### Construction d'une microstructure"
   ]
  },
  {
   "cell_type": "code",
   "execution_count": 7,
   "metadata": {},
   "outputs": [],
   "source": [
    "# Création de la variable contenant la microstructure\n",
    "microstructure = None # Initialisation\n",
    "\n",
    "# Fonctions liées aux appuis sur les boutons\n",
    "def add_inclusion_to_structure(b):\n",
    "    \"\"\"\n",
    "    Fonction appelée lors d'un click sur le bouton \"Add inclusion\", génère un widget associé à la fraction volumique de l'inclusion et l'ajoute au dictionnaire \"widgets_f\".\n",
    "    Crée aussi un bouton permettant la suppression de l'inclusion et l'ajoute au dictionnaire buttons.\n",
    "    Enfin, affiche la ligne de widgets correspondante.\n",
    "    \"\"\"\n",
    "    out2.clear_output()\n",
    "    inclusion = w_inclusions.value\n",
    "    if inclusion in list(widgets_f.keys()):\n",
    "        with out2:\n",
    "            print(\"Already added\")\n",
    "    else:\n",
    "        w_name = widgets.Label(inclusion.name)\n",
    "        w_f = widgets.FloatSlider(min=0.01, max=1, step=0.01, description='f')\n",
    "        w_b = widgets.Button(description=\"Remove inclusion\")\n",
    "        w_b.on_click(remove_inclusion)\n",
    "        widgets_f[inclusion] = (w_name, w_f)\n",
    "        buttons_suppress[w_b] = inclusion\n",
    "        with out1:\n",
    "            display(w_name, widgets.HBox([w_f, w_b]))\n",
    "\n",
    "def add_inclusion_to_list(b):\n",
    "    \"\"\"\n",
    "    Fonction appelée lors d'un clic sur le bouton 'generate inclusion' de la section précédente.\n",
    "    met à jour le widget permettant le choix des inclusions à ajouter.\n",
    "    \"\"\"\n",
    "    w_inclusions.options = list(dict_inclusions.values())\n",
    "    \n",
    "def remove_inclusion(b):\n",
    "    \"\"\"\n",
    "    Fonction appelée lorsqu'un bouton 'Remove inclusion' est appelé. \n",
    "    Repère l'inclusion associée au bouton, ferme les widgets associés et supprime l'entrée du dictionnaire widgets_f\n",
    "    \"\"\"\n",
    "    out2.clear_output()\n",
    "    inclusion = buttons_suppress[b]\n",
    "    w_name, w_f = widgets_f[inclusion]\n",
    "    # Fermeture des widgets\n",
    "    b.close()\n",
    "    w_name.close()\n",
    "    w_f.close()\n",
    "    del widgets_f[inclusion]\n",
    "    del buttons_suppress[b]\n",
    "\n",
    "def generate_microstructure(b):\n",
    "    \"\"\"\n",
    "    Génère la microstructure avec les paramètres choisis par l'utilisateur. \n",
    "    Si les fractions volumiques choisies ne sont pas cohérentes, affiche un message.\n",
    "    Affiche une description de la microsructure créee.\n",
    "    \"\"\"\n",
    "    global microstructure\n",
    "    matrix_behavior = read_behavior(tab_m, widgets_m) # Lecture des widgets définis dans la section 'Comportement de la matrice'\n",
    "    dict_inclusions = {}\n",
    "    # Lecture des fractions volumiques choisies\n",
    "    for inclusion, widgets in widgets_f.items():\n",
    "        w_name, w_f = widgets\n",
    "        f = w_f.value\n",
    "        dict_inclusions[inclusion] = f\n",
    "    # Génération de la microstructure\n",
    "    out3.clear_output()\n",
    "    try:\n",
    "        microstructure = Microstructure(matrix_behavior, dict_inclusions)\n",
    "        with out3:\n",
    "            print(\"Microstructure generated\\n\" + str(microstructure))\n",
    "            # Dessin de la microstructure TODO : ajouter le dessin d'inclusion ellipsoïdales\n",
    "            microstructure.draw()\n",
    "    except NameError:\n",
    "        microstructure = None\n",
    "        with out3:\n",
    "            print(\"Inconsistent choice of volumic fractions\")"
   ]
  },
  {
   "cell_type": "code",
   "execution_count": 8,
   "metadata": {},
   "outputs": [
    {
     "data": {
      "application/vnd.jupyter.widget-view+json": {
       "model_id": "8d9742d4fa224b5aac6674499c60c7f3",
       "version_major": 2,
       "version_minor": 0
      },
      "text/plain": [
       "Label(value='Matrix behavior')"
      ]
     },
     "metadata": {},
     "output_type": "display_data"
    },
    {
     "data": {
      "application/vnd.jupyter.widget-view+json": {
       "model_id": "8f8dcec81c0949d9a888a2ee73502248",
       "version_major": 2,
       "version_minor": 0
      },
      "text/plain": [
       "Tab(children=(HBox(children=(HBox(children=(Label(value='Bulk modulus K'), FloatSlider(value=1.0, max=1000.0, …"
      ]
     },
     "metadata": {},
     "output_type": "display_data"
    },
    {
     "data": {
      "application/vnd.jupyter.widget-view+json": {
       "model_id": "68cf938f784c45449b4bf877a5670dca",
       "version_major": 2,
       "version_minor": 0
      },
      "text/plain": [
       "HBox(children=(Dropdown(layout=Layout(width='max-content'), options=(inclusion 0, Oblate (c=0.01), K: 1.00, G:…"
      ]
     },
     "metadata": {},
     "output_type": "display_data"
    },
    {
     "data": {
      "application/vnd.jupyter.widget-view+json": {
       "model_id": "3e8c4903df9346759f53025e9a9df9c5",
       "version_major": 2,
       "version_minor": 0
      },
      "text/plain": [
       "Output()"
      ]
     },
     "metadata": {},
     "output_type": "display_data"
    },
    {
     "data": {
      "application/vnd.jupyter.widget-view+json": {
       "model_id": "23b80049f55b438d85a4d1c628459a9a",
       "version_major": 2,
       "version_minor": 0
      },
      "text/plain": [
       "HBox(children=(Button(description='Generate microstructure', layout=Layout(width='max-content'), style=ButtonS…"
      ]
     },
     "metadata": {},
     "output_type": "display_data"
    },
    {
     "data": {
      "application/vnd.jupyter.widget-view+json": {
       "model_id": "54fd9fb015b64fbe8d3d5e26305080a9",
       "version_major": 2,
       "version_minor": 0
      },
      "text/plain": [
       "Output()"
      ]
     },
     "metadata": {},
     "output_type": "display_data"
    }
   ],
   "source": [
    "# Comportement de la matrice\n",
    "caption = widgets.Label(value='Matrix behavior')\n",
    "display(caption)\n",
    "widgets_m, tab_m = gen_tab_behavior()\n",
    "display(tab_m)\n",
    "\n",
    "# Ajout d'inclusions\n",
    "w_inclusions = widgets.Dropdown(options=list(dict_inclusions.values()), layout={'width': 'max-content'})\n",
    "button_add_inclusion = widgets.Button(description=\"Add inclusion\")\n",
    "out1 = widgets.Output()\n",
    "out2 = widgets.Output()\n",
    "display(widgets.HBox([w_inclusions, button_add_inclusion, out2]), out1)\n",
    "widgets_f = {} # Dictionnaire des inclusions ajoutées et de leurs widgets ('name','fraction volumique') associés\n",
    "buttons_suppress = {} # Dictionnaire des boutons permettant de supprimer une inclusion de la structure et inclusions associés\n",
    "\n",
    "button_add_inclusion.on_click(add_inclusion_to_structure)\n",
    "button_generate_inclusion.on_click(add_inclusion_to_list)\n",
    "\n",
    "# Génération de la microstructure\n",
    "b_generate_structure = widgets.Button(description='Generate microstructure', layout={'width': 'max-content'})\n",
    "# TODO : widget 'valid' qui indique en temps réel si les fractions volumiques choisies sont cohérentes\n",
    "out3 = widgets.Output()\n",
    "display(widgets.HBox([b_generate_structure]),out3)\n",
    "b_generate_structure.on_click(generate_microstructure)\n"
   ]
  },
  {
   "cell_type": "markdown",
   "metadata": {},
   "source": [
    "### Calcul du comportement homogénéisé"
   ]
  },
  {
   "cell_type": "code",
   "execution_count": 8,
   "metadata": {},
   "outputs": [
    {
     "data": {
      "application/vnd.jupyter.widget-view+json": {
       "model_id": "d9613433d0ac4f81beb8220410e7d171",
       "version_major": 2,
       "version_minor": 0
      },
      "text/plain": [
       "Label(value='Select a model. Only compatible models will be displayed.')"
      ]
     },
     "metadata": {},
     "output_type": "display_data"
    },
    {
     "data": {
      "application/vnd.jupyter.widget-view+json": {
       "model_id": "23c2a1b3135e44708c9cd686b8d0720d",
       "version_major": 2,
       "version_minor": 0
      },
      "text/plain": [
       "HBox(children=(Dropdown(options=(('Mori-Tanaka', Modèle de Mori-Tanaka),), value=Modèle de Mori-Tanaka), Butto…"
      ]
     },
     "metadata": {},
     "output_type": "display_data"
    },
    {
     "data": {
      "application/vnd.jupyter.widget-view+json": {
       "model_id": "189bcb9de8a143ac87ec0a5d7b5a30f6",
       "version_major": 2,
       "version_minor": 0
      },
      "text/plain": [
       "Output()"
      ]
     },
     "metadata": {},
     "output_type": "display_data"
    }
   ],
   "source": [
    "# Choix du modèle\n",
    "def test_models(b=None):\n",
    "    \"\"\"\n",
    "    Fonction appelée lors d'un appui sur le bouton 'Generate microstructure' juste en haut.\n",
    "    Teste les modèles disponibles sur la microstructure générée et met à jour la liste des modèles valides 'valid_models'.\n",
    "    \"\"\"\n",
    "    valid_models = []\n",
    "    if microstructure == None:\n",
    "        # Vérifie que la microstructure a bien été créee\n",
    "        return None\n",
    "    for Model in list_models:\n",
    "        model = Model()\n",
    "        valid = model.check_hypothesis(microstructure)\n",
    "        if valid:\n",
    "            # La microstructure vérifie les hypothèses du modèle.\n",
    "            valid_models.append((model.name, model))\n",
    "    # Mise à jour du widget de séléection du modèle\n",
    "    select_model.options = valid_models\n",
    "\n",
    "valid_models = [] # Liste des modèles pouvant s'appliquer à la microstructure donnée, format : [(model_name, Model)]\n",
    "select_model = widgets.Dropdown()\n",
    "test_models()\n",
    "label = widgets.Label(value=\"Select a model. Only compatible models will be displayed.\")\n",
    "display(label)\n",
    "b_compute = widgets.Button(description='Compute behavior')\n",
    "display(widgets.HBox([select_model, b_compute]))\n",
    "output_behavior = widgets.Output()\n",
    "display(output_behavior)\n",
    "\n",
    "def compute_model(b):\n",
    "    \"\"\"\n",
    "    Fonction appelée lors d'un appui sur le bouton 'Compute behavior'.\n",
    "    Récupère le modèle choisi par l'utilisateur, calcule le comportement homogénéisé de la structure et l'affiche.\n",
    "    \"\"\"\n",
    "    model = select_model.value\n",
    "    homogenised_behavior = model.compute_h_behavior(microstructure)\n",
    "    output_behavior.clear_output()\n",
    "    with output_behavior:\n",
    "        print(\"Homogenised behavior - {} model\".format(model.name))\n",
    "        print(homogenised_behavior)\n",
    "        print(\"Hashin bounds\")\n",
    "        print(microstructure.Hashin_bounds())\n",
    "    \n",
    "\n",
    "b_generate_structure.on_click(test_models)\n",
    "b_compute.on_click(compute_model)"
   ]
  },
  {
   "cell_type": "markdown",
   "metadata": {},
   "source": [
    "### Comparaison de modèles"
   ]
  },
  {
   "cell_type": "code",
   "execution_count": 10,
   "metadata": {},
   "outputs": [],
   "source": [
    "# Fonction de tracé\n",
    "def draw_all_data(w_out, dict_models, f_list, dict_data):\n",
    "    \"\"\"\n",
    "    Fonction qui trace le graphe des données contenues dans les deux dictionnaires en entrée dans le widgets de type output w_out.\n",
    "    Les dictionnaires sont définis dans la section suivante.\n",
    "    \"\"\"\n",
    "    out_graph.clear_output()\n",
    "    with w_out:\n",
    "        plt.figure()\n",
    "        # Tracé des modèles\n",
    "        for model_plot, list_Y in list(dict_models.items()):\n",
    "            model_label = model_plot.name\n",
    "            plt.plot(f_list, list_Y, label=model_label)\n",
    "            plt.xlabel('Volumic fraction of chosen inclusion')\n",
    "            plt.ylabel('Bulk modulus')\n",
    "            plt.grid()\n",
    "            plt.title(\"Model comparison\")\n",
    "        # Tracé des données des fichiers .txt\n",
    "        for data_name, data in list(dict_data.items()):\n",
    "            X, Y = data\n",
    "            plt.plot(X, Y, '.', label=data_name)\n",
    "        plt.legend()\n",
    "        plt.show()\n",
    "        \n",
    "# Lecture des fichiers .txt\n",
    "def read_file(file_path):\n",
    "    \"\"\"\n",
    "    Fonction qui lit un fichier de data et renvoie la liste des abscisses X et la liste des ordonnées.\n",
    "    \"\"\"\n",
    "    X, Y = [], []\n",
    "    with open(file_path) as file:\n",
    "        lines = file.readlines()\n",
    "        for line in lines[1:]:\n",
    "            line = line.strip().split(',')\n",
    "            X.append(float(line[0]))\n",
    "            Y.append(float(line[1]))\n",
    "    return X, Y"
   ]
  },
  {
   "cell_type": "code",
   "execution_count": 11,
   "metadata": {},
   "outputs": [
    {
     "data": {
      "application/vnd.jupyter.widget-view+json": {
       "model_id": "b425a86e374242b581c29b59bade67f3",
       "version_major": 2,
       "version_minor": 0
      },
      "text/plain": [
       "Label(value=\"Select an inclusion, then click on 'Start comparing'. The results of the compared models will be …"
      ]
     },
     "metadata": {},
     "output_type": "display_data"
    },
    {
     "data": {
      "application/vnd.jupyter.widget-view+json": {
       "model_id": "a2f181fb92e34785b9864c54c84a03f0",
       "version_major": 2,
       "version_minor": 0
      },
      "text/plain": [
       "HBox(children=(Dropdown(layout=Layout(width='max-content'), options=(), value=None), Button(description='Start…"
      ]
     },
     "metadata": {},
     "output_type": "display_data"
    },
    {
     "data": {
      "application/vnd.jupyter.widget-view+json": {
       "model_id": "5085387684164dccab01c8e54eb49fa2",
       "version_major": 2,
       "version_minor": 0
      },
      "text/plain": [
       "Label(value=\"Select a model to plot and click the 'Add model' button.\")"
      ]
     },
     "metadata": {},
     "output_type": "display_data"
    },
    {
     "data": {
      "application/vnd.jupyter.widget-view+json": {
       "model_id": "31ff894002414eb3bbaca8b9abe1aaae",
       "version_major": 2,
       "version_minor": 0
      },
      "text/plain": [
       "HBox(children=(Dropdown(options=(('Mori-Tanaka', Modèle de Mori-Tanaka),), value=Modèle de Mori-Tanaka), Butto…"
      ]
     },
     "metadata": {},
     "output_type": "display_data"
    },
    {
     "data": {
      "application/vnd.jupyter.widget-view+json": {
       "model_id": "cd44dac7bf0d4f88a7e5bd0f8330860e",
       "version_major": 2,
       "version_minor": 0
      },
      "text/plain": [
       "Label(value='Plot data from a text file.')"
      ]
     },
     "metadata": {},
     "output_type": "display_data"
    },
    {
     "data": {
      "application/vnd.jupyter.widget-view+json": {
       "model_id": "adbcb8121fdc4c4080e801faca282451",
       "version_major": 2,
       "version_minor": 0
      },
      "text/plain": [
       "HBox(children=(Dropdown(options=('example.txt',), value='example.txt'), Button(description='Add data', style=B…"
      ]
     },
     "metadata": {},
     "output_type": "display_data"
    },
    {
     "data": {
      "application/vnd.jupyter.widget-view+json": {
       "model_id": "dea342036b0f4f44be90e4913dae6a00",
       "version_major": 2,
       "version_minor": 0
      },
      "text/plain": [
       "Output()"
      ]
     },
     "metadata": {},
     "output_type": "display_data"
    }
   ],
   "source": [
    "out_graph = widgets.Output()\n",
    "dict_models = {} # Dictionnaire avec pour clés, les modèles ajoutés au graphe et pour valeurs, la liste des comportements homogénéisés en fonction de f\n",
    "dict_data = {} # Dictionnaire avec pour clés, les noms des fichiers .txt ajoutés au graphe, et pour values, une liste de liste avec les valeurs de f et de paramètres\n",
    "\n",
    "# Choix de la fraction volumique à faire varier\n",
    "display(widgets.Label(value=\"Select an inclusion, then click on 'Start comparing'. The results of the compared models will be plotted against the volumic fraction of this inclusion.\"))\n",
    "w_inclusion = widgets.Dropdown(layout={'width': 'max-content'})\n",
    "w_setgraph = widgets.Button(description='Start comparing / Reset graph', layout={'width': 'max-content'})\n",
    "display(widgets.HBox([w_inclusion, w_setgraph]))\n",
    "\n",
    "\n",
    "# Mise à jour de la liste des inclusions lors de la génération d'une microstructure\n",
    "def update_inclusions_list(b):\n",
    "    \"\"\"\n",
    "    Routine appelée lors de l'appui sur le bouton 'Generate microstructure'.\n",
    "    Met à jour la liste des inclusions de la microstructure (widget w_inclusion).\n",
    "    \"\"\"\n",
    "    global dict_models, dict_data\n",
    "    inclusions = microstructure.dict_inclusions\n",
    "    w_inclusion.options = list(inclusions.keys())\n",
    "    out_graph.clear_output()\n",
    "    dict_models = {}\n",
    "    dict_data = {}\n",
    "\n",
    "if microstructure!= None:\n",
    "    # Condition permettant d'éviter l'erreur qui a lieu lorsque la section est compilée avant qu'une microstructure ne soit générée\n",
    "    update_inclusions_list(None)\n",
    "b_generate_structure.on_click(update_inclusions_list)\n",
    "\n",
    "# Calcul de la liste des fractions volumiques compatibles\n",
    "f_list = [] # Liste des fractions volumiques compatibles\n",
    "inclusion = None # Inclusion choisie\n",
    "def compute_f_list(b):\n",
    "    \"\"\"\n",
    "    Routine appelée lors de l'appui sur le bouton 'Start comparing'.\n",
    "    Récupère l'inclusion choisie, et calcule l'intervalle de fractions volumiques f_list compatible avec le reste des inclusions.\n",
    "    \"\"\"\n",
    "    global f_list, inclusion, dict_models, dict_data\n",
    "    inclusion = w_inclusion.value\n",
    "    # Calcul de f_max\n",
    "    f_max = 0.99\n",
    "    dict_inclusions = microstructure.dict_inclusions\n",
    "    for other_inclusion, f in list(dict_inclusions.items()):\n",
    "        if other_inclusion != inclusion:\n",
    "            f_max -= f\n",
    "    f_list = np.linspace(0.01, f_max, 200)\n",
    "    out_graph.clear_output()\n",
    "    dict_models = {}\n",
    "    dict_data = {}\n",
    "\n",
    "w_setgraph.on_click(compute_f_list)\n",
    "\n",
    "# Ajout de modèles\n",
    "display(widgets.Label(value=\"Select a model to plot and click the 'Add model' button.\"))\n",
    "w_addmodel = widgets.Button(description=\"Add model\")\n",
    "display(widgets.HBox([select_model, w_addmodel]))\n",
    "\n",
    "def plot_model(b):\n",
    "    \"\"\"\n",
    "    Routine appelée lors de l'appui sur le bouton 'Add model'.\n",
    "    Vérifie que le modèle choisi n'a pas déjà été ajouté au graphe et l'ajoute le cas échéant.\n",
    "    Met à jour le graphe.\n",
    "    \"\"\"\n",
    "    global dict_models, dict_data, f_list, inclusion\n",
    "    model = select_model.value\n",
    "    if model not in dict_models.keys():\n",
    "        microstructure1 = microstructure # Copie de la microstructure\n",
    "        # Calcul de la liste des comportements pour les différents f\n",
    "        list_G = [] # TODO : adapter au calcul de plusieurs caractéristiques automatiquement\n",
    "        for f in f_list:\n",
    "            microstructure1.dict_inclusions[inclusion] = f\n",
    "            h_behavior = model.compute_h_behavior(microstructure)\n",
    "            list_G.append(h_behavior['G'])\n",
    "        dict_models[model] = list_G\n",
    "        draw_all_data(out_graph, dict_models, f_list, dict_data)\n",
    "            \n",
    "w_addmodel.on_click(plot_model)\n",
    "\n",
    "# Ajout de données depuis un fichier texte\n",
    "#TODO description du format\n",
    "#TODO gestion des erreurs de formattage des fichiers d'entrée\n",
    "display(widgets.Label(value=\"Plot data from a text file.\"))\n",
    "list_files = listdir('model_comparison/')\n",
    "w_file = widgets.Dropdown(options=[file for file in list_files if file.endswith('.txt')])\n",
    "w_add_data = widgets.Button(description=\"Add data\")\n",
    "display(widgets.HBox([w_file, w_add_data]))\n",
    "\n",
    "def plot_data(b):\n",
    "    \"\"\"\n",
    "    Routine appelée lors de l'appui sur le bouton 'Add data'.\n",
    "    Vérifie que le fichier choisi n'a pas déjà été ajouté au graphe et l'ajoute le cas échéant.\n",
    "    Met à jour le graphe.\n",
    "    TODO : Pareil avec plusieurs paramètres\n",
    "    \"\"\"\n",
    "    global dict_models, dict_data, f_list, inclusion\n",
    "    file_name = w_file.value[:-4]\n",
    "    if file_name not in dict_data.keys():\n",
    "        # TODO : lecture du fichier, récupération de la liste f et de la liste des ordonnées, update dict_data, appel de draw_all_data.\n",
    "        f, Y = read_file('model_comparison/' + w_file.value)\n",
    "        dict_data[file_name] = [f, Y]\n",
    "        draw_all_data(out_graph, dict_models, f_list, dict_data)\n",
    "\n",
    "w_add_data.on_click(plot_data)\n",
    "display(out_graph)\n",
    "\n"
   ]
  },
  {
   "cell_type": "markdown",
   "metadata": {},
   "source": [
    "---"
   ]
  },
  {
   "cell_type": "markdown",
   "metadata": {},
   "source": [
    "## IV- Calculs automatisés depuis un fichier texte\n",
    "TODO : Description de la section\n",
    "\n",
    "TODO : Décrire les fichiers compatibles et le format voulu, demander à l'utilisateur de mettre ses fichiers dans le dossier inputs \n",
    "\n",
    "TODO : Réfléchir à un format pertinent des fichiers d'entrée \n",
    "\n",
    "TODO : Ajout d'une barre de progression (utile pour les longs fichiers)"
   ]
  },
  {
   "cell_type": "code",
   "execution_count": 17,
   "metadata": {},
   "outputs": [],
   "source": [
    "list_inputs = [] # Liste des fichiers compatibles avec le format présents dans le dossier 'inputs'\n",
    "folder = 'inputs/'\n",
    "\n",
    "# Recherche de fichiers\n",
    "def compatible_file(file_name, folder):\n",
    "    \"\"\"\n",
    "    Fonction qui vérifies si un fichier donné 'file_name' (str) dans le dossier 'folder' correspond au format.\n",
    "    Cette fonction vérifie uniquement si le fichier est bien un fichier texte et si sa première ligne est '*homogeneisation'.\n",
    "    Renvoie True si le fichier est compatible et False sinon.\n",
    "    \"\"\"\n",
    "    result = True # Initialisation\n",
    "    # Test du nom du fichier\n",
    "    if len(file_name)<5 or file_name[-4:]!='.txt':\n",
    "        result = False\n",
    "    else:\n",
    "        # Lecture de la première ligne\n",
    "        with open(folder+file_name, 'r') as file:\n",
    "            line = file.readline()\n",
    "            if line.strip() != '*homogeneisation':\n",
    "                result = False\n",
    "    return result\n",
    "\n",
    "def check_files(folder = 'inputs/'):\n",
    "    \"\"\"\n",
    "    Routine qui met à jour la liste 'list_inputs' des fichiers compatibles dans le dossier 'inputs'.\n",
    "    Appelée lors de l'appui sur le bouton 'refresh list' plus bas.\n",
    "    \"\"\"\n",
    "    global list_inputs\n",
    "    list_inputs_raw = listdir(folder)\n",
    "    list_inputs = [] # Réinitialisation de la liste\n",
    "    for file_name in list_inputs_raw:\n",
    "        if compatible_file(file_name, folder):\n",
    "            list_inputs.append(file_name)\n",
    "\n",
    "# Lecture des fichiers et calcul des comportement homogénéisés\n",
    "def read_file(b):\n",
    "    \"\"\"\n",
    "    Routine appelée lors d'un appui sur le bouton 'Generate output file'.\n",
    "    Lis le nom du fichier choisi par l'utilisateur. Ouvre et lit le fichier.\n",
    "    Affiche un message à l'utilisateur si une erreur est détectée.\n",
    "    Sinon, calcule le comportement homogénéisé de chaque microstructure et crée un fichier de sortie dans le dossier 'outputs'.\n",
    "    \"\"\"\n",
    "    folder_in = 'inputs/'\n",
    "    folder_out = 'outputs/'\n",
    "    file_name = w_file.value\n",
    "    out_file.clear_output()\n",
    "    read_matrix = False # Définit si la ligne lue correspond à la définition d'une nouvelle microstructure ou d'une inclusion.\n",
    "    read_model = True # Définit si la ligne lue correspond à la définition d'un modèle.\n",
    "    dict_inclusions = {}\n",
    "    n = 0\n",
    "    # Initialisation du fichier de sortie\n",
    "    with open(folder_out+'out_'+file_name, 'w') as file_out:\n",
    "        None\n",
    "    # lecture du fichier d'entrée\n",
    "    with open(folder_in+file_name, 'r') as file:\n",
    "        lines = file.readlines()\n",
    "        for n_line, line in enumerate(lines[1:]):\n",
    "            try:\n",
    "                if read_model:\n",
    "                    # Définition du modèle\n",
    "                    model_name = line.strip()\n",
    "                    model = str_to_model(model_name)\n",
    "                    # Passage à la ligne suivante\n",
    "                    read_model = False\n",
    "                    read_matrix = True\n",
    "                elif read_matrix:\n",
    "                    # Lecture du comportement de la matrice\n",
    "                    matrix_behavior = {}\n",
    "                    line1 = line.strip().split(',')\n",
    "                    for parameter in line1:\n",
    "                        parameter = parameter.split(':')\n",
    "                        matrix_behavior[parameter[0]] = float(parameter[1])\n",
    "                    # Passage à la ligne suivante\n",
    "                    read_matrix = False\n",
    "                elif line.strip() == '*':\n",
    "                    # Calcul de la microstructure précédente\n",
    "                    microstructure = Microstructure(matrix_behavior, dict_inclusions)\n",
    "                    behavior_h = model.compute_h_behavior(microstructure)\n",
    "                    # Écriture du comportement dans le fichier de sortie\n",
    "                    with open(folder_out+'out_'+file_name, 'a') as file_out:\n",
    "                        file_out.write('Essai {}\\n'.format(n))\n",
    "                        file_out.write(str(behavior_h)+'\\n')\n",
    "                    # Passage à la ligne suivante\n",
    "                    read_model = True\n",
    "                    dict_inclusions = {}\n",
    "                    n += 1\n",
    "                else:\n",
    "                    # Lecture d'une inclusion\n",
    "                    line1 = line.strip().split(',')\n",
    "                    type_inclusion = line1[0]\n",
    "                    f = line1[-1] # Fraction volumique\n",
    "                    inclusion_behavior = {}\n",
    "                    for parameter in line1[1:-1]:\n",
    "                        parameter = parameter.strip().split(':')\n",
    "                        inclusion_behavior[parameter[0]] = float(parameter[1])\n",
    "                    # Génération de l'inclusion\n",
    "                    inclusion = Inclusion(int(type_inclusion), inclusion_behavior)\n",
    "                    dict_inclusions[inclusion] = float(f)\n",
    "            except:\n",
    "                with out_file:\n",
    "                    print(\"Error on line {} : {} \".format(n_line+1, line))\n",
    "                    return None\n",
    "    with out_file:\n",
    "        print(\"Output file generated in the 'outputs' folder \")"
   ]
  },
  {
   "cell_type": "code",
   "execution_count": 19,
   "metadata": {},
   "outputs": [
    {
     "data": {
      "application/vnd.jupyter.widget-view+json": {
       "model_id": "1f8352411221494fb27f2164e2f14b7f",
       "version_major": 2,
       "version_minor": 0
      },
      "text/plain": [
       "Button(description='Refresh input files list', style=ButtonStyle())"
      ]
     },
     "metadata": {},
     "output_type": "display_data"
    },
    {
     "data": {
      "application/vnd.jupyter.widget-view+json": {
       "model_id": "6272968ba57b42aaa4d4e758d2e7c377",
       "version_major": 2,
       "version_minor": 0
      },
      "text/plain": [
       "HBox(children=(Label(value='Choose an input file :'), Dropdown(options=('example.txt',), value='example.txt'),…"
      ]
     },
     "metadata": {},
     "output_type": "display_data"
    },
    {
     "data": {
      "application/vnd.jupyter.widget-view+json": {
       "model_id": "1fb20ca0805a4df7ac43258396ce345c",
       "version_major": 2,
       "version_minor": 0
      },
      "text/plain": [
       "Output(layout=Layout(border='1px solid #FF625BF5', width='max-content'))"
      ]
     },
     "metadata": {},
     "output_type": "display_data"
    },
    {
     "name": "stdout",
     "output_type": "stream",
     "text": [
      "If your file does not appear :\n",
      "- Check that it is a '.txt' file and that its first line is '*homogeneisation',\n",
      "- Check that your file is in the 'inputs' folder,\n",
      "- Press the 'Refresh input files list' button.\n"
     ]
    }
   ],
   "source": [
    "def refresh(b):\n",
    "    \"\"\"\n",
    "    Routine appelée lors d'un appui sur le bouton 'Refresh input files'. \n",
    "    Met à jour la liste des fichiers d'input compatibles et met à jour le widget de sélection.\n",
    "    \"\"\"\n",
    "    check_files()\n",
    "    w_file.options = list_inputs\n",
    "\n",
    "b_refresh = widgets.Button(description='Refresh input files list')\n",
    "display(b_refresh)\n",
    "w_label = widgets.Label(value='Choose an input file :')\n",
    "w_file = widgets.Dropdown(options=list_inputs)\n",
    "refresh(None) # Mise à jour de la liste des fichiers d'entrée disponibles\n",
    "b_compute = widgets.Button(description='Generate output file')\n",
    "display(widgets.HBox([w_label, w_file, b_compute]))\n",
    "out_file = widgets.Output(layout={'width': 'max-content', 'border': '1px solid #FF625BF5'})\n",
    "display(out_file)\n",
    "out_file.clear_output()\n",
    "with out_file:\n",
    "    print(\"Press 'Generate output file' to compute \")\n",
    "    \n",
    "b_refresh.on_click(refresh)\n",
    "b_compute.on_click(read_file)\n",
    "\n",
    "message = \"\"\"If your file does not appear :\n",
    "- Check that it is a '.txt' file and that its first line is '*homogeneisation',\n",
    "- Check that your file is in the 'inputs' folder,\n",
    "- Press the 'Refresh input files list' button.\"\"\"\n",
    "\n",
    "print(message)\n"
   ]
  },
  {
   "cell_type": "markdown",
   "metadata": {},
   "source": [
    "---"
   ]
  },
  {
   "cell_type": "markdown",
   "metadata": {},
   "source": [
    "## V- Description des modèles\n",
    "\n",
    "Pour ajouter un modèle, écrire simplement sa description dans un fichier Markdown (.md) dans le dossier 'model_descriptions'. \n",
    "\n",
    "La première ligne doit être de la forme :\n",
    "\n",
    "'# Nom du modèle'\n"
   ]
  },
  {
   "cell_type": "code",
   "execution_count": 20,
   "metadata": {},
   "outputs": [],
   "source": [
    "from IPython.display import Latex, Markdown\n",
    "from os import listdir\n",
    "\n",
    "# Récupération des fichiers de description des modèles  \n",
    "folder = 'model_descriptions/'\n",
    "folder_files = listdir(folder)\n",
    "descriptions = [] # Liste des fichiers correspondants aux modèles décrits, sous la forme [('nom modèle', chemin_fichier)]\n",
    "for file_name in folder_files:\n",
    "    if file_name.endswith('.md'):\n",
    "        path = folder + file_name\n",
    "        with open(path, 'r') as opened_file:\n",
    "            title = opened_file.readline()\n",
    "        model_name = title[2:].strip() # Suppression des caractères '# ' au début du titre\n",
    "        descriptions.append((model_name, path))"
   ]
  },
  {
   "cell_type": "code",
   "execution_count": 22,
   "metadata": {},
   "outputs": [
    {
     "data": {
      "application/vnd.jupyter.widget-view+json": {
       "model_id": "22b26bf11e1e46d38610bb2d8bf9805e",
       "version_major": 2,
       "version_minor": 0
      },
      "text/plain": [
       "Dropdown(options=(('Differential scheme', 'model_descriptions/Differential_scheme.md'), ('Self-consistent mode…"
      ]
     },
     "metadata": {},
     "output_type": "display_data"
    },
    {
     "data": {
      "application/vnd.jupyter.widget-view+json": {
       "model_id": "3f42f41cd371459fb26cf8ab9a210ce4",
       "version_major": 2,
       "version_minor": 0
      },
      "text/plain": [
       "Output(layout=Layout(border='1px solid #FF625BF5'))"
      ]
     },
     "metadata": {},
     "output_type": "display_data"
    }
   ],
   "source": [
    "# Affichage de la description\n",
    "w_description = widgets.Dropdown(options=descriptions)\n",
    "display(w_description)\n",
    "out_description = widgets.Output(layout={'border': '1px solid #FF625BF5'})\n",
    "display(out_description)\n",
    "\n",
    "def display_description(change):\n",
    "    \"\"\"\n",
    "    Fonction appelée lors d'un changement de value du widget w_description.\n",
    "    Récupère le modèle choisi et affiche sa description.\n",
    "    \"\"\"\n",
    "    out_description.clear_output()\n",
    "    file_name = w_description.value\n",
    "    with open(file_name, 'r') as file:\n",
    "        description = file.read()\n",
    "        with out_description:\n",
    "            display(Markdown(description))\n",
    "            \n",
    "display_description(None)\n",
    "w_description.observe(display_description, names='value')\n"
   ]
  },
  {
   "cell_type": "markdown",
   "metadata": {},
   "source": [
    "---"
   ]
  },
  {
   "cell_type": "markdown",
   "metadata": {},
   "source": [
    "# Tests "
   ]
  },
  {
   "cell_type": "code",
   "execution_count": 14,
   "metadata": {},
   "outputs": [],
   "source": [
    "def gen_tab_type():\n",
    "    \"\"\"\n",
    "    Routine qui génère un widget de type 'tab' permettant le choix des paramètres associés aux types d'inclusions (aspect ratio, orientation, etc..). \n",
    "    TODO : Inclure l'orientation\n",
    "    Chaque onglet généré correspond à un type du dictionnaire 'dict_types' implémenté dans 'classes.py'.\n",
    "    La fonction renvoie :\n",
    "    - une liste de liste de widgets (list_widgets) contenant autant de listes que d'onglets. Chaque liste contient les widgets générant les paramètres asssociés au comportement \n",
    "    de l'onglet correspondant.\n",
    "    - un widget tab correspondant au résultat final à afficher.    \n",
    "    \"\"\"\n",
    "    list_widgets = [] # Liste de listes, chaque liste correspond à un onglet et contient les widgets de cet onglet\n",
    "    # Construction des widgets associés à chaque onglet\n",
    "    for type_int in dict_types.keys():\n",
    "        if type_int == 0:\n",
    "            # Sphères, pas besoin de paramètres supllémentaires\n",
    "            list_widgets.append([])\n",
    "        elif type_int == 1:\n",
    "            # Oblate\n",
    "            w_label = widgets.Label(value=\"Aspect ratio\")\n",
    "            w_aspect_ratio = widgets.FloatSlider(min=0.01, max=0.99, step=0.01)\n",
    "            list_widgets.append([w_label, w_aspect_ratio])\n",
    "        elif type_int == 2:\n",
    "            # Prolate\n",
    "            w_label = widgets.Label(value=\"Aspect ratio\")\n",
    "            w_aspect_ratio = widgets.FloatSlider(min=1.01, max=10, step=0.01)\n",
    "            list_widgets.append([w_label, w_aspect_ratio])\n",
    "    # Création du tab\n",
    "    tab = widgets.Tab()\n",
    "    # Attribution des onglets\n",
    "    tab.children = [widgets.HBox(w) for w in list_widgets]\n",
    "    # Attribution des noms des onglets\n",
    "    for pos, title in dict_types.items():\n",
    "        tab.set_title(pos, title)\n",
    "    return list_widgets, tab         \n"
   ]
  },
  {
   "cell_type": "code",
   "execution_count": 18,
   "metadata": {},
   "outputs": [],
   "source": [
    "def read_behavior(tab, list_widgets):\n",
    "    \"\"\"\n",
    "    Fonction qui, à partir d'un widget 'tab' comme celui construit par la fonction précédente, renvoie le dictionnaire 'behavior' construit par l'utilisateur.\n",
    "    \"\"\"\n",
    "    behavior_int = tab.selected_index # Onglet ouvert par l'utilisateur\n",
    "    widgets_parameters = list_widgets[behavior_int] # Widgets des paramètres de l'onglet ouvert\n",
    "    behavior = {parameters_name_bis[w.children[0].value] : w.children[1].value for w in widgets_parameters}\n",
    "    return behavior\n",
    "\n",
    "def read_type(tab, list_widgets):\n",
    "    \"\"\"\n",
    "    Fonction qui, à partir d'un widget 'tab' comme celui construit par la fonction gen_tab_type, renvoie le type d'inclusion et le rapport d'apsect.\n",
    "    \"\"\"\n",
    "    type_int = tab.selected_index # Onglet ouvert par l'utilisateur\n",
    "    widgets_parameters = list_widgets[type_int]\n",
    "    try:\n",
    "        aspect_ratio = widgets_parameters[1].value\n",
    "    except:\n",
    "        # Il n'y a pas de rapport de forme, cas des sphères par exemple\n",
    "        aspect_ratio = 0\n",
    "    return type_int, aspect_ratio"
   ]
  },
  {
   "cell_type": "code",
   "execution_count": 20,
   "metadata": {},
   "outputs": [
    {
     "data": {
      "application/vnd.jupyter.widget-view+json": {
       "model_id": "a7a6cbe5a257453793d3cd67ec99ce02",
       "version_major": 2,
       "version_minor": 0
      },
      "text/plain": [
       "Tab(children=(HBox(), HBox(children=(Label(value='Aspect ratio'), FloatSlider(value=0.01, max=0.99, min=0.01, …"
      ]
     },
     "metadata": {},
     "output_type": "display_data"
    }
   ],
   "source": [
    "list_widgets, tab = gen_tab_type()\n",
    "display(tab)"
   ]
  },
  {
   "cell_type": "code",
   "execution_count": 24,
   "metadata": {},
   "outputs": [
    {
     "data": {
      "text/plain": [
       "(2, 7.64)"
      ]
     },
     "execution_count": 24,
     "metadata": {},
     "output_type": "execute_result"
    }
   ],
   "source": [
    "read_type(tab, list_widgets)"
   ]
  }
 ],
 "metadata": {
  "kernelspec": {
   "display_name": "Python 3",
   "language": "python",
   "name": "python3"
  },
  "language_info": {
   "codemirror_mode": {
    "name": "ipython",
    "version": 3
   },
   "file_extension": ".py",
   "mimetype": "text/x-python",
   "name": "python",
   "nbconvert_exporter": "python",
   "pygments_lexer": "ipython3",
   "version": "3.8.1"
  }
 },
 "nbformat": 4,
 "nbformat_minor": 4
}
