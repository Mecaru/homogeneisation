{
 "cells": [
  {
   "cell_type": "markdown",
   "metadata": {},
   "source": [
    "# Calcul du tenseur d'Eshelby dans le cas des ellipses"
   ]
  },
  {
   "cell_type": "markdown",
   "metadata": {},
   "source": [
    "## I Cas Isotropes"
   ]
  },
  {
   "cell_type": "markdown",
   "metadata": {},
   "source": [
    "### 1) Cas sphéroïdaux\n",
    "\n",
    "Définition des fonctions"
   ]
  },
  {
   "cell_type": "code",
   "execution_count": 6,
   "metadata": {},
   "outputs": [],
   "source": [
    "from classes import *\n",
    "import numpy as np\n",
    "\n",
    "def Eshelby_tensor(microstructure) : \n",
    "    \n",
    "     ## Détermination du type de spheroïde\n",
    "    dict_inclusions = microstructure.dict_inclusions\n",
    "    inclusion = list(dict_inclusions.keys())[0] #Inclusion unique ici\n",
    "    ar = inclusion.aspect_ratio\n",
    "    \n",
    "    if  inclusion.aspect_ratio == 1 : \n",
    "        raise NameError(\"For spherical inclusion, please use the suitable notebook\")\n",
    "    elif ar < 1 :\n",
    "        g = g_oblate(inclusion.aspect_ratio)\n",
    "    else : \n",
    "        g = g_prolate(inclusion.aspect_ratio)\n",
    "        \n",
    "    ## Calcul du tenseur d'Eshelby\n",
    "    \n",
    "    S = np.zeros((6,6))\n",
    "    S[1,1] = 1/(2*(1-nu)) * (1-2*nu + (3*ar**2-1)/(ar**2-1) - g*(1-2*nu + 3*ar**2/(ar**2-1))\n",
    "    S[1,2] = -1/(2*(1-nu)) * (1-2*nu + 1/(ar**2-1) + g*(1-2*nu + 3/(ar**2-1))\n",
    "    S[2,1] = -ar**2/(2*(1-nu))*(ar**2-1) + g/(4*(1-nu))*(3*ar**2/(ar**2-1) - (1-2*nu)))\n",
    "    S[3,1] = S[2,1]\n",
    "    S[2,2] = 3*ar**2/(8*(1-nu))*(ar**2-1) + g/(4*(1-nu))*(1-2*nu - 9/(4*(ar**2-1)))\n",
    "    S[1,3] = S[1,2]\n",
    "    S[2,3] = \n",
    "    S[3,3] = S[2,2]\n",
    "    S[4,4] = 1/(2*(1-nu))*(1-2*nu+(3*ar**2-1)/(ar**2-1)-g*(1-2*nu+3*ar**2/(ar**2-1))\n",
    "    S[5,5] = S[4,4]\n",
    "    S[6,6] = 1/(2*(1-nu))*(1-2*nu+(3*ar**2-1)/(ar**2-1)-g*(1-2*nu+3*ar**2/(ar**2-1))\n",
    "    \n",
    "    "
   ]
  },
  {
   "cell_type": "markdown",
   "metadata": {},
   "source": [
    "### Tests "
   ]
  },
  {
   "cell_type": "code",
   "execution_count": null,
   "metadata": {},
   "outputs": [],
   "source": []
  }
 ],
 "metadata": {
  "kernelspec": {
   "display_name": "Python 3",
   "language": "python",
   "name": "python3"
  },
  "language_info": {
   "codemirror_mode": {
    "name": "ipython",
    "version": 3
   },
   "file_extension": ".py",
   "mimetype": "text/x-python",
   "name": "python",
   "nbconvert_exporter": "python",
   "pygments_lexer": "ipython3",
   "version": "3.8.1"
  }
 },
 "nbformat": 4,
 "nbformat_minor": 4
}
