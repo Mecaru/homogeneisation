{
 "cells": [
  {
   "cell_type": "code",
   "execution_count": 1,
   "metadata": {},
   "outputs": [],
   "source": [
    "from classes_ellipsoidales import *    "
   ]
  },
  {
   "cell_type": "code",
   "execution_count": 2,
   "metadata": {},
   "outputs": [
    {
     "name": "stdout",
     "output_type": "stream",
     "text": [
      "Requirement already up-to-date: fortran-magic in /usr/local/lib/python3.8/site-packages (0.7)\n",
      "Requirement already satisfied, skipping upgrade: numpy in /usr/local/lib/python3.8/site-packages (from fortran-magic) (1.18.1)\n",
      "Requirement already satisfied, skipping upgrade: ipython in /usr/local/lib/python3.8/site-packages (from fortran-magic) (7.13.0)\n",
      "Requirement already satisfied, skipping upgrade: prompt-toolkit!=3.0.0,!=3.0.1,<3.1.0,>=2.0.0 in /usr/local/lib/python3.8/site-packages (from ipython->fortran-magic) (3.0.3)\n",
      "Requirement already satisfied, skipping upgrade: setuptools>=18.5 in /usr/local/lib/python3.8/site-packages (from ipython->fortran-magic) (45.2.0)\n",
      "Requirement already satisfied, skipping upgrade: decorator in /usr/local/lib/python3.8/site-packages (from ipython->fortran-magic) (4.4.2)\n",
      "Requirement already satisfied, skipping upgrade: pexpect; sys_platform != \"win32\" in /usr/local/lib/python3.8/site-packages (from ipython->fortran-magic) (4.8.0)\n",
      "Requirement already satisfied, skipping upgrade: pickleshare in /usr/local/lib/python3.8/site-packages (from ipython->fortran-magic) (0.7.5)\n",
      "Requirement already satisfied, skipping upgrade: pygments in /usr/local/lib/python3.8/site-packages (from ipython->fortran-magic) (2.5.2)\n",
      "Requirement already satisfied, skipping upgrade: jedi>=0.10 in /usr/local/lib/python3.8/site-packages (from ipython->fortran-magic) (0.16.0)\n",
      "Requirement already satisfied, skipping upgrade: backcall in /usr/local/lib/python3.8/site-packages (from ipython->fortran-magic) (0.1.0)\n",
      "Requirement already satisfied, skipping upgrade: traitlets>=4.2 in /usr/local/lib/python3.8/site-packages (from ipython->fortran-magic) (4.3.3)\n",
      "Requirement already satisfied, skipping upgrade: wcwidth in /usr/local/lib/python3.8/site-packages (from prompt-toolkit!=3.0.0,!=3.0.1,<3.1.0,>=2.0.0->ipython->fortran-magic) (0.1.8)\n",
      "Requirement already satisfied, skipping upgrade: ptyprocess>=0.5 in /usr/local/lib/python3.8/site-packages (from pexpect; sys_platform != \"win32\"->ipython->fortran-magic) (0.6.0)\n",
      "Requirement already satisfied, skipping upgrade: parso>=0.5.2 in /usr/local/lib/python3.8/site-packages (from jedi>=0.10->ipython->fortran-magic) (0.6.2)\n",
      "Requirement already satisfied, skipping upgrade: six in /usr/local/lib/python3.8/site-packages (from traitlets>=4.2->ipython->fortran-magic) (1.14.0)\n",
      "Requirement already satisfied, skipping upgrade: ipython-genutils in /usr/local/lib/python3.8/site-packages (from traitlets>=4.2->ipython->fortran-magic) (0.2.0)\n",
      "\u001b[33mWARNING: You are using pip version 20.0.2; however, version 20.1.1 is available.\n",
      "You should consider upgrading via the '/usr/local/bin/python -m pip install --upgrade pip' command.\u001b[0m\n"
     ]
    }
   ],
   "source": [
    "!pip install -U fortran-magic"
   ]
  },
  {
   "cell_type": "code",
   "execution_count": 3,
   "metadata": {},
   "outputs": [
    {
     "data": {
      "application/javascript": [
       "new Promise(function(resolve, reject) {\n",
       "\tvar script = document.createElement(\"script\");\n",
       "\tscript.onload = resolve;\n",
       "\tscript.onerror = reject;\n",
       "\tscript.src = \"https://raw.github.com/marijnh/CodeMirror/master/mode/fortran/fortran.js\";\n",
       "\tdocument.head.appendChild(script);\n",
       "}).then(() => {\n",
       "IPython.config.cell_magic_highlight['magic_fortran'] = {'reg':[/^%%fortran/]};\n",
       "});"
      ]
     },
     "metadata": {},
     "output_type": "display_data"
    }
   ],
   "source": [
    "%load_ext fortranmagic"
   ]
  },
  {
   "cell_type": "markdown",
   "metadata": {},
   "source": [
    "## Routine de rotation des tenseur d'ordre 4 (3x3x3x3) \n",
    "A est le tenseur d'origine, R la matrice de rotation (3x3) correspondant à la rotation voulue et B le résultat\n",
    "Le calcul est bien plus rapide en utilisant des vecteurs de 81 éléments plutôt que des matrices 3x3x3x3 , on utilise transforme donc le matrices avant de les injecter dans cette routine"
   ]
  },
  {
   "cell_type": "code",
   "execution_count": 4,
   "metadata": {},
   "outputs": [
    {
     "name": "stdout",
     "output_type": "stream",
     "text": [
      "\n",
      "Ok. The following fortran objects are ready to use: fast_tensor_rotation\n"
     ]
    }
   ],
   "source": [
    "%%fortran -v\n",
    "\n",
    "subroutine fast_tensor_rotation(A , R, B)\n",
    "real, dimension(81),intent(in) :: A\n",
    "real, dimension(3,3),intent(in) :: R\n",
    "real ::  product\n",
    "real, dimension(81), intent(out) :: B\n",
    "\n",
    "do i = 0,2\n",
    "    do j = 0,2\n",
    "        do k = 0,2\n",
    "            do l = 0,2\n",
    "                B(27*i + 9*j + 3*k + l + 1) = 0\n",
    "            end do\n",
    "        end do\n",
    "    end do\n",
    "end do\n",
    "\n",
    "do i=0,2\n",
    "    do j = 0,i\n",
    "        do k = 0,2\n",
    "            do l = 0,k\n",
    "                do m = 0,2\n",
    "                    do n = 0,2\n",
    "                        do ll = 0,2\n",
    "                            do kk = 0,2\n",
    "                                product = R(i+1,m+1)* R(j+1,n+1)*R(k+1,ll+1)*R(l+1,kk+1)\n",
    "                                B(27*i + 9*j + 3*k + l + 1) =  B(27*i + 9*j + 3*k + l + 1) + A(27*m + 9*n +3*ll + kk +1)*product\n",
    "                            end do\n",
    "                        end do\n",
    "                    end do\n",
    "                end do\n",
    "                B(27*j + 9*i + 3*k + l + 1) = B(27*i + 9*j + 3*k + l + 1)\n",
    "                B(27*i + 9*j + 3*l + k + 1) = B(27*i + 9*j + 3*k + l + 1)\n",
    "                B(27*j + 9*i + 3*l + k + 1) = B(27*i + 9*j + 3*k + l + 1)\n",
    "            end do\n",
    "        end do\n",
    "    end do\n",
    "end do\n",
    "\n",
    "\n",
    "\n",
    "\n",
    "end subroutine fast_tensor_rotation"
   ]
  },
  {
   "cell_type": "markdown",
   "metadata": {},
   "source": [
    "## Routine d'inversion de matrice 3x3\n",
    "L'inversion de CXX est répétée à de très nombreuses reprises dans le calcul du tenseur d'Eshelby, d'où l'utilisation d'une routine pour gagner du temps"
   ]
  },
  {
   "cell_type": "code",
   "execution_count": 5,
   "metadata": {},
   "outputs": [
    {
     "name": "stdout",
     "output_type": "stream",
     "text": [
      "\n",
      "Ok. The following fortran objects are ready to use: inversiont\n"
     ]
    }
   ],
   "source": [
    "%%fortran -v\n",
    "\n",
    "subroutine inversionT(A,S)\n",
    "real, dimension(3,3),intent(in) :: A\n",
    "real, dimension(3,3),intent(out) :: S\n",
    "real :: det\n",
    "\n",
    "det = A(1,1)*A(2,2)*A(3,3) + A(1,2)*A(2,3)*A(3,1) + A(1,3)*A(2,1)*A(3,2) \n",
    "det = det - A(3,2)*A(2,3)*A(1,1) - A(3,3)*A(2,1)*A(1,2) - A(3,1)*A(2,2)*A(1,3)\n",
    "\n",
    "S(1,1) = (A(2,2)*A(3,3)-A(3,2)*A(2,3))/det\n",
    "S(2,1) = -(A(1,2)*A(3,3)-A(3,2)*A(1,3))/det\n",
    "S(3,1) = (A(1,2)*A(2,3)-A(2,2)*A(1,3))/det\n",
    "\n",
    "S(1,2) = -(A(2,1)*A(3,3)-A(3,1)*A(2,3))/det\n",
    "S(2,2) = (A(1,1)*A(3,3)-A(3,1)*A(1,3))/det\n",
    "S(3,2) = -(A(1,1)*A(2,3)-A(2,1)*A(1,3))/det\n",
    "\n",
    "S(1,3) = (A(2,1)*A(3,2)-A(3,1)*A(2,2))/det\n",
    "S(2,3) = -(A(1,1)*A(3,2)-A(3,1)*A(1,2))/det\n",
    "S(3,3) = (A(1,1)*A(2,2)-A(2,1)*A(1,2))/det\n",
    "\n",
    "\n",
    "end subroutine inversionT"
   ]
  },
  {
   "cell_type": "code",
   "execution_count": 6,
   "metadata": {},
   "outputs": [],
   "source": [
    "def Fast_eshelby_tensor(Axis,Em,nu) : \n",
    "    \n",
    "    Sm = Matrice_Souplesse_Isotrope(Em,nu)\n",
    "    Cm = inv(Sm)\n",
    "    Cm3 = Comp66_to_3333(Cm)\n",
    "    a0,a1,a2 = Axis\n",
    "    IJV = np.array([[0,0],[1,1],[2,2],[1,2],[0,2],[0,1]])\n",
    "    Nit = 40\n",
    "    Ntop = Nit\n",
    "    Mtop = Nit\n",
    "    dphi = pi/(Ntop-1)\n",
    "    dtheta = pi/(Ntop-1)\n",
    "    A = np.zeros((6,6))\n",
    "    B = np.zeros((6,6,Mtop))\n",
    "    G = np.zeros((6,6,Ntop))\n",
    "    E = np.zeros((6,6))\n",
    "    \n",
    "    # Integration de la fonction de green sur la demi ellipsoïde\n",
    "    for m in range(Mtop) : \n",
    "        phi = m*dphi\n",
    "        for n in range(Ntop) : \n",
    "            theta = n*dtheta\n",
    "            X = np.array([sin(theta)*cos(phi)/a0 , sin(theta)*sin(phi)/a1 , cos(theta)/a2])\n",
    "            TCXX = np.zeros((3,3))\n",
    "            for i in range(3) :\n",
    "                for j in range(3) :\n",
    "                    for k in range(3) : \n",
    "                        for l in range(3) :\n",
    "                            TCXX[i,k] += Cm3[k,j,i,l]*X[j]*X[l] ## Calcul de la transposée de CXX\n",
    "             \n",
    "            CXX = inversiont(TCXX)  ## Calcul de l'inverse de CXX par Fortran\n",
    "            \n",
    "            for i in range(6) :\n",
    "                for j in range(6) :                     \n",
    "                    I1 = IJV[i,0]\n",
    "                    J1 = IJV[j,0]\n",
    "                    I2 = IJV[i,1]\n",
    "                    J2 = IJV[j,1]\n",
    "                    G[i,j,n] = 0.5 * sin(theta) * (CXX[I1,J1]*X[I2]*X[J2] + CXX[I2,J1]*X[I1]*X[J2] + CXX[I1,J2]*X[I2]*X[J1] + CXX[I2,J2]*X[I1]*X[J1])\n",
    "        \n",
    "        \n",
    "        B[:,:,m] = 0.5 * dtheta * (G[:,:,0]+G[:,:,Ntop-1])\n",
    "        for i in range(1,Ntop-1) : \n",
    "            B[:,:,m] +=  dtheta * G[:,:,i]\n",
    "\n",
    "    A = 0.5*(B[:,:,0]+B[:,:,Ntop-1])* dphi/(4*pi)\n",
    "    for i in range(1,Ntop-1) : \n",
    "         A += B[:,:,i]* dphi/(4*pi)  \n",
    "    \n",
    "    for i in range(6) : \n",
    "        for j in range(6) : \n",
    "            E[i,j]=A[i,0]*Cm[0,j]+A[i,1]*Cm[1,j]+A[i,2]*Cm[2,j] + 4* (A[i,3]*Cm[3,j]+A[i,4]*Cm[4,j]+A[i,5]*Cm[5,j]) \n",
    "    \n",
    "    return E "
   ]
  },
  {
   "cell_type": "markdown",
   "metadata": {},
   "source": [
    "# Modele de Mori-Tanaka"
   ]
  },
  {
   "cell_type": "code",
   "execution_count": 7,
   "metadata": {},
   "outputs": [],
   "source": [
    "def Mori_Tanaka(Cm, inclusion_behaviors):\n",
    "    \n",
    "        \"\"\"\n",
    "        Calcule le comportement élastique homogène équivalent. \n",
    "        Renvoie un dict de comportement.\n",
    "        Cm: (dict), dictionnaire du comportement de la matrice\n",
    "        inclusion_behaviors(list), format [(Cf, f, aspect_ratio)] avec Cf les dictionnaires de comportement des inclusions et aspect_ratio un tuple contenant les deux valeurs de rapports de forme\n",
    "        Ch = (Somme(fi*Ci*Ai)+(1-f)*Cm) * (Somme(fi*Ai)+(1-f)*I)**-1  avec Ai = (I+Esh*Sm*(Ci-Cm))**-1\n",
    "        \"\"\"\n",
    "        \n",
    "        n_renforts = 100     # paramètre non physique qui permet de forcer lisotropie\n",
    "        \n",
    "        Sm = Cm['S']\n",
    "        Cm = Cm['C']\n",
    "        Id = np.identity(6) \n",
    "        \n",
    "        # Calcul de fm\n",
    "        fm = 1\n",
    "        for i in range(len(inclusion_behaviors)) :   \n",
    "            fm -= inclusion_behaviors[i][1]\n",
    "\n",
    "        # Création des matrices de rotations\n",
    "        Rotation_Matrix = Rotation_matrices(n_renforts)\n",
    "        \n",
    "        T = fm*Id\n",
    "        \n",
    "        W = np.zeros((6,6)) # Matrice f*C1:A1 des contributions de l'inclusion dans Ch\n",
    "        \n",
    "        for i in range(len(inclusion_behaviors)) :   \n",
    "            Sfi = inclusion_behaviors[i][0]['S']\n",
    "            Cfi = inclusion_behaviors[i][0]['C']\n",
    "            fi = inclusion_behaviors[i][1]\n",
    "            Ai = (1,inclusion_behaviors[i][2][0],inclusion_behaviors[i][2][0])\n",
    "        \n",
    "            fi_1_renfort = fi/n_renforts \n",
    "            \n",
    "            Esh = Fast_eshelby_tensor(Ai,Em,num)\n",
    "            Aeshi = inv(Id + np.matmul(Esh,np.matmul(Sm,Cfi-Cm)))\n",
    "            T += fi*Aeshi\n",
    "            V6i = np.matmul(Cfi,Aeshi)\n",
    "            clear_matrix2(V6i)\n",
    "            # Ajout des contribution de chaque renfort en fonction de son orientation\n",
    "            \n",
    "            V3 = Comp66_to_3333(V6i)\n",
    "            V3L = Matrix_to_vecteur(V3)\n",
    "            for j in range(n_renforts) :                 \n",
    "                V3RL = fast_tensor_rotation(V3L,Rotation_Matrix[j])\n",
    "                V3R = Vecteur_to_matrix(V3RL)\n",
    "                V = Comp3333_to_66(V3R)\n",
    "                W += fi_1_renfort * V\n",
    "\n",
    "        Ch = np.matmul( (W + fm*Cm) , inv(T))\n",
    "        Sh = inv(Ch)\n",
    "        \n",
    "        return {'C' : Ch, 'S' : Sh}"
   ]
  },
  {
   "cell_type": "markdown",
   "metadata": {},
   "source": [
    "# Modele Autocoherent"
   ]
  },
  {
   "cell_type": "code",
   "execution_count": 8,
   "metadata": {},
   "outputs": [],
   "source": [
    "def Self_Consistent(Cm, inclusion_behaviors):\n",
    "    # Paramètres internes du modèles         \n",
    "    n_renforts = 1     # paramètre non physique qui permet de forcer l'isotropie\n",
    "    n_points_fixe = 10   # précise le nombre de pas de dilution (pour l'initialisation du point fixe)\n",
    "    precision = 10**-2  # précision désirée dans l'algorithme du point fixe\n",
    "    seuil_divergence = 100 # Nombre d'itération au bou duquel on considère le modèle comme divergent\n",
    "    ### Seulement pour le test ####\n",
    "    LE = np.zeros(n_points_fixe+1)\n",
    "    F = np.zeros(n_points_fixe+1)\n",
    "    ################################\n",
    "    Sm = Cm['S']\n",
    "    Cm = Cm['C']\n",
    "    Id = np.identity(6) \n",
    "    n_inclusions = len(inclusion_behaviors)\n",
    "\n",
    "    # Création des matrices de rotations\n",
    "    Rotation_Matrix = Rotation_matrices(n_renforts)\n",
    "    \n",
    "    #Initialisation du point fixe\n",
    "    Cp = Cm\n",
    "    Sp = Sm\n",
    "\n",
    "    # Boucle d'incrémentation de la fraction volumique\n",
    "    for i in range(n_points_fixe+1) :\n",
    "        \n",
    "        # Algorithme du point fixe : Ch=f(Ch) pour f fixé\n",
    "        convergence = 2\n",
    "        n_boucles = 0\n",
    "        Eh = Young_isotrope(Sp)\n",
    "        nuh = nu_isotrope(Sp)\n",
    "        #print(i,\" pas sur \",n_points_fixe)\n",
    "        while convergence>precision : \n",
    "            \n",
    "            # Comptage du nombre de boucle pour l'arrêter en cas de divergence\n",
    "            n_boucles += 1   \n",
    "            if n_boucles >seuil_divergence : \n",
    "                raise NameError('Self-Consistent model diverge for the values prescribed from the step '+str(i))\n",
    "                \n",
    "                \n",
    "            W = np.zeros((6,6))           # Matrice des contributions de l'inclusion dans Ch\n",
    "\n",
    "            # Boucle sur les différentes formes d'inclusions\n",
    "            for j in range(n_inclusions) : \n",
    "                Cf = inclusion_behaviors[j][0]['C']\n",
    "                fi_pas = inclusion_behaviors[j][1]*i/n_points_fixe\n",
    "                fi_1_renfort = fi_pas/n_renforts \n",
    "                a2,a3 = inclusion_behaviors[j][2]\n",
    "                A = 1,a2,a3\n",
    "                \n",
    "                Esh = Fast_eshelby_tensor(A,Eh,nuh)\n",
    "                Aesh = inv(Id + np.matmul(Esh,np.matmul(Sp,Cf-Cp)))\n",
    "                \n",
    "                V6 = np.dot(Cf-Cm,Aesh)\n",
    "                V3 = Comp66_to_3333(V6)\n",
    "\n",
    "                # Ajout des contribution de chaque renfort en fonction de son orientation\n",
    "                V3L = Matrix_to_vecteur(V3)\n",
    "                for k in range(n_renforts) :                 \n",
    "                    V3RL = fast_tensor_rotation(V3L,Rotation_Matrix[k])\n",
    "                    V3R = Vecteur_to_matrix(V3RL)\n",
    "                    V = Comp3333_to_66(V3R)\n",
    "                    W += fi_1_renfort * V\n",
    "            Ch = Cm + W\n",
    "\n",
    "            # Actualisation du matériau homogénéisé\n",
    "            Cp = Ch\n",
    "\n",
    "            # Test de sortie\n",
    "            E = Young_isotropeC(Cp)\n",
    "            nu = nu_isotropeC(Cp)\n",
    "            convergence = abs((E-Eh)/Eh)+abs((nu-nuh)/nuh)\n",
    "            \n",
    "            Eh = E\n",
    "            nuh = nu           \n",
    "\n",
    "            # Forçage de la matrice en matrice isotrope\n",
    "            Sp = Matrice_Souplesse_Isotrope(Eh,nuh)\n",
    "            Cp = inv(Sp)\n",
    "        print(\"f = \",fi_pas)\n",
    "        print(\"E = \",E)\n",
    "        print(\"nu = \",nu)\n",
    "        print(\"******************\")\n",
    "        ### Seulement pour le test ###\n",
    "        LE[i] = E\n",
    "        F[i] = fi_pas\n",
    "        ############################\n",
    "\n",
    "    #return {'C' : Cp, 'S' : Sp}\n",
    "    return LE,F"
   ]
  },
  {
   "cell_type": "markdown",
   "metadata": {},
   "source": [
    "# Modèle Differentiel"
   ]
  },
  {
   "cell_type": "code",
   "execution_count": 9,
   "metadata": {},
   "outputs": [],
   "source": [
    "def Differential(Cm, inclusion_behaviors):\n",
    "    \n",
    "        \"\"\"\n",
    "        Calcule le comportement élastique homogène équivalent. \n",
    "        Renvoie un dict de comportement.\n",
    "        Cm: (dict), dictionnaire du comportement de la matrice\n",
    "        inclusion_behaviors(list), format [(Cf, f, aspect_ratio)] avec Cf les dictionnaires de comportement des inclusions et aspect_ratio un tuple contenant les deux valeurs de rapports de forme\n",
    "        Ch (f+df) = Ch(f) + 1/fm * Somme sur i (dfi*(Ci-Ch)*Aeshi)  avec Aeshi = (I+Esh*Sm*(Ci-Cm))**-1\n",
    "        \"\"\"\n",
    "        \n",
    "        n_renforts = 1     # paramètre non physique qui permet de forcer lisotropie\n",
    "        n_pas = 100\n",
    "        \n",
    "        Sm = Cm['S']\n",
    "        Cm = Cm['C']\n",
    "        Id = np.eye(6) \n",
    "\n",
    "        # Création des matrices de rotations\n",
    "        Rotation_Matrix = Rotation_matrices(n_renforts)\n",
    "        \n",
    "        # Initialisation de la solution diluée : \n",
    "        Ch = Cm\n",
    "        Sh = Sm        \n",
    "        \n",
    "        # Calculs préléminaires :\n",
    "        Esh = []\n",
    "        df = []\n",
    "        Cf = []\n",
    "        for i in range (len(inclusion_behaviors)) :\n",
    "            Cfi = inclusion_behaviors[i][0]['C']\n",
    "            fi = inclusion_behaviors[i][1]\n",
    "            Ai = (1,inclusion_behaviors[i][2][0],inclusion_behaviors[i][2][0])     \n",
    "            \n",
    "            Esh.append(Fast_eshelby_tensor(Ai,Em,num))\n",
    "            df.append(fi/n_pas)\n",
    "            Cf.append(Cfi)\n",
    "            \n",
    "        # Boucle d'incrementation de la concentration\n",
    "        for k in range (1,n_pas+1) :             \n",
    "            dCh = np.zeros((6,6))\n",
    "            fm_pas = 1\n",
    "            for i in range(len(inclusion_behaviors)) :\n",
    "                DCi = Cf[i]-Ch\n",
    "                Aeshi = inv(Id + np.matmul(Esh[i],np.matmul(Sh,DCi)))                \n",
    "                fi_pas = df[i]*k\n",
    "                fm_pas -= fi_pas\n",
    "                \n",
    "                # Ajout des contribution de chaque renfort en fonction de son orientation     \n",
    "                DCi3 = Comp66_to_3333(DCi)\n",
    "                DCi3L = Matrix_to_vecteur(DCi3)\n",
    "                DCi3RL = np.zeros(81)\n",
    "                for j in range(n_renforts) :                                    \n",
    "                    DCi3RL += fast_tensor_rotation(DCi3L,Rotation_Matrix[j])                  \n",
    "                    DCi3R = Vecteur_to_matrix(DCi3RL)\n",
    "                    DCi6 = Comp3333_to_66(DCi3R)\n",
    "                    RCi = df[i]/n_renforts * DCi6\n",
    "                    dCh += np.matmul(RCi,Aeshi)\n",
    "\n",
    "            Ch = Ch + 1/fm_pas*dCh\n",
    "            Sh = inv(Ch)\n",
    "            \n",
    "            E = Young_isotropeC(Ch)\n",
    "            nu = nu_isotropeC(Ch)\n",
    "\n",
    "\n",
    "        return {'C' : Ch, 'S' : Sh}\n",
    "    "
   ]
  },
  {
   "cell_type": "code",
   "execution_count": null,
   "metadata": {},
   "outputs": [
    {
     "name": "stderr",
     "output_type": "stream",
     "text": [
      "/app/homogeneisation/classes_ellipsoidales.py:225: RuntimeWarning: divide by zero encountered in double_scalars\n",
      "  x = 2 * (C[0,0]+C[1,1]+C[2,2]) / (C[0,1]+C[0,2]+C[1,2]+C[1,0]+C[2,0]+C[2,1])\n",
      "<ipython-input-8-4b26aa5c5ce0>:71: RuntimeWarning: invalid value encountered in double_scalars\n",
      "  convergence = abs((E-Eh)/Eh)+abs((nu-nuh)/nuh)\n"
     ]
    },
    {
     "name": "stdout",
     "output_type": "stream",
     "text": [
      "f =  0.0\n",
      "E =  1.0\n",
      "nu =  0.0\n",
      "******************\n"
     ]
    },
    {
     "name": "stderr",
     "output_type": "stream",
     "text": [
      "<ipython-input-8-4b26aa5c5ce0>:71: RuntimeWarning: divide by zero encountered in double_scalars\n",
      "  convergence = abs((E-Eh)/Eh)+abs((nu-nuh)/nuh)\n"
     ]
    },
    {
     "name": "stdout",
     "output_type": "stream",
     "text": [
      "f =  0.1\n",
      "E =  1.279106944486968\n",
      "nu =  0.03760443531368972\n",
      "******************\n",
      "f =  0.2\n",
      "E =  1.7396506787058608\n",
      "nu =  0.07593095292702788\n",
      "******************\n",
      "f =  0.3\n",
      "E =  2.6393501253177676\n",
      "nu =  0.11474433115500106\n",
      "******************\n"
     ]
    }
   ],
   "source": [
    "from classes_v2 import * \n",
    "from classes_ellipsoidales import *    \n",
    "Ef,Em = 1000,1\n",
    "nuf,num = 0.,0.\n",
    "ar = (1,1)\n",
    "Sm = Matrice_Souplesse_Isotrope(Em,num)\n",
    "Cm = inv(Sm)\n",
    "\n",
    "Sf = Matrice_Souplesse_Isotrope(Ef,nuf)\n",
    "Cf = inv(Sf)\n",
    "\n",
    "inclusion_behavior = {'C':Cf , 'S':Sf}\n",
    "matrix_behavior = {'C': Cm, 'S': Sm}\n",
    "\n",
    "inclusion_behavior2 = {'E':Ef , 'nu':nuf}\n",
    "matrix_behavior2 = {'E': Em, 'nu': num}\n",
    "\n",
    "inclusion = Inclusion(0,inclusion_behavior2)\n",
    "\n",
    "F = np.linspace(0,1,100)\n",
    "LE2,LE3,LEr = [],[],[]\n",
    "LE2,F = Autocoherent(matrix_behavior,[[inclusion_behavior,f,ar]])\n",
    "for i in range(len(F)) : \n",
    "    f = F[i]\n",
    "    print(\"f=\",f)\n",
    "    microstructure = Microstructure(matrix_behavior2,{inclusion : f})\n",
    "    \n",
    "    E3 = Autocoherent().compute_h_behavior(microstructure)['E']\n",
    "    #E2 = Young_isotropeC(Differentiel(matrix_behavior,[[inclusion_behavior,f,ar]])['C'])\n",
    "    E2 = LE2[i]\n",
    "    Er = (E2-E3)/E3    \n",
    "    \n",
    "    #LE2.append(E2)\n",
    "    LE3.append(E3)\n",
    "    LEr.append(Er)\n",
    "\n",
    "\n",
    "plt.plot(F,LE2,'--k',label = \"ellipses multiples\")\n",
    "plt.plot(F,LE3,'r',label = \"spheres\")\n",
    "plt.legend()\n",
    "plt.show()\n",
    "\n",
    "plt.plot(F,LEr)\n",
    "plt.title(\"Erreur relative\")\n",
    "plt.show()"
   ]
  },
  {
   "cell_type": "markdown",
   "metadata": {},
   "source": [
    "## Comparaison avec Fortran"
   ]
  },
  {
   "cell_type": "code",
   "execution_count": 22,
   "metadata": {},
   "outputs": [
    {
     "name": "stdout",
     "output_type": "stream",
     "text": [
      "[ 1.          1.24586328  1.64752628  2.3839379   4.14547922  9.68080794\n",
      " 23.35910006 41.37608679 60.38332407 79.96626906 99.5593659 ]\n",
      "[0.9999999999999999, 1.2468764147510185, 1.6446908572398518, 2.3732189471845038, 3.99055371651181, 8.511831121045791, 20.591770014903524, 39.15527004752574, 58.844358253019585, 78.6357072693533, 98.44942044232953]\n"
     ]
    }
   ],
   "source": [
    "print(LE2)\n",
    "print(LE3)"
   ]
  },
  {
   "cell_type": "code",
   "execution_count": null,
   "metadata": {},
   "outputs": [],
   "source": []
  }
 ],
 "metadata": {
  "kernelspec": {
   "display_name": "Python 3",
   "language": "python",
   "name": "python3"
  },
  "language_info": {
   "codemirror_mode": {
    "name": "ipython",
    "version": 3
   },
   "file_extension": ".py",
   "mimetype": "text/x-python",
   "name": "python",
   "nbconvert_exporter": "python",
   "pygments_lexer": "ipython3",
   "version": "3.8.1"
  }
 },
 "nbformat": 4,
 "nbformat_minor": 4
}
