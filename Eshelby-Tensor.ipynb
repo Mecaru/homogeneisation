{
 "cells": [
  {
   "cell_type": "markdown",
   "metadata": {},
   "source": [
    "# Calcul du tenseur d'Eshelby dans le cas des ellipses"
   ]
  },
  {
   "cell_type": "markdown",
   "metadata": {},
   "source": [
    "## I Cas Isotropes"
   ]
  },
  {
   "cell_type": "markdown",
   "metadata": {},
   "source": [
    "### 1) Cas sphéroïdaux\n",
    "\n",
    "Définition des fonctions"
   ]
  },
  {
   "cell_type": "code",
   "execution_count": 6,
   "metadata": {},
   "outputs": [],
   "source": [
    "from classes import *\n",
    "import numpy as np\n",
    "\n",
    "def g_prolate(ar) : \n",
    "    X = ar*np.sqrt(ar**2-1)\n",
    "    Y = np.power(ar**2-1,3/2)\n",
    "    return ar * X/Y - ar*np.cos(ar)\n",
    "\n",
    "def g_oblate(ar) : \n",
    "    X = -ar*np.sqrt(1-ar**2)\n",
    "    Y = np.power(1-ar**2,3/2)\n",
    "    return ar * X/Y - ar*np.cos(ar)\n",
    "\n",
    "def Eshelby_tensor(microstructure) : \n",
    "    \n",
    "     ## Détermination du type de spheroïde\n",
    "    dict_inclusions = microstructure.dict_inclusions\n",
    "    inclusion = list(dict_inclusions.keys())[0] #Inclusion unique ici\n",
    "    ar = inclusion.aspect_ratio\n",
    "    \n",
    "    if  inclusion.aspect_ratio == 1 : \n",
    "        raise NameError(\"For spherical inclusion, please use the suitable notebook\")\n",
    "    elif ar < 1 :\n",
    "        g = g_oblate(inclusion.aspect_ratio)\n",
    "    else : \n",
    "        g = g_prolate(inclusion.aspect_ratio)\n",
    "        \n",
    "    ## Calcul du tenseur d'Eshelby\n",
    "    \n",
    "    Cm = microstructure.matrix_behavior\n",
    "    nu = Cm['nu']\n",
    "    \n",
    "    S = np.zeros((6,6))\n",
    "    S[0,0] = 1/(2*(1-nu)) * (1-2*nu + (3*ar**2-1)/(ar**2-1) - g*(1-2*nu + 3*ar**2/(ar**2-1)))\n",
    "    S[0,1] = -1/(2*(1-nu)) * (1-2*nu + 1/(ar**2-1) + g*(1-2*nu + 3/(ar**2-1)))\n",
    "    S[1,0] = -ar**2/(2*(1-nu))*(ar**2-1) + g/(4*(1-nu))*(3*ar**2/(ar**2-1) - (1-2*nu))\n",
    "    S[2,0] = S[1,0]\n",
    "    S[1,1] = 3*ar**2/(8*(1-nu))*(ar**2-1) + g/(4*(1-nu))*(1-2*nu - 9/(4*(ar**2-1)))\n",
    "    S[0,2] = S[0,1]\n",
    "    S[1,2] = 1/(4*(1-nu)) * ( ar**2/(2*(ar**2-1)) - g* (1-2*nu + 3/(4*(ar**2-1))))\n",
    "    S[2,2] = S[1,1]\n",
    "    S[3,3] = 2/(4*(1-nu)) * (1-2*nu - (ar**2+1)/(ar**2-1) - g/2 * (1-2*nu + (3*ar**2+1)/(ar**2-1)))\n",
    "    S[4,4] = S[3,3]\n",
    "    S[5,5] = 2/(4*(1-nu)) * (ar**2/(2*(ar**2-1)) + g * (1-2*nu - 3/(4*(ar**2-1))))\n",
    "    \n",
    "    return S\n",
    "    \n",
    "    \n",
    "    \n",
    "    "
   ]
  },
  {
   "cell_type": "markdown",
   "metadata": {},
   "source": [
    "### Tests "
   ]
  },
  {
   "cell_type": "code",
   "execution_count": 7,
   "metadata": {},
   "outputs": [
    {
     "name": "stdout",
     "output_type": "stream",
     "text": [
      "[[ 1.07826029 -0.27993968 -0.27993968  0.          0.          0.        ]\n",
      " [ 0.08902863 -0.20451783  0.01788526  0.          0.          0.        ]\n",
      " [ 0.08902863  0.         -0.20451783  0.          0.          0.        ]\n",
      " [ 0.          0.          0.          1.03967939  0.          0.        ]\n",
      " [ 0.          0.          0.          0.          1.03967939  0.        ]\n",
      " [ 0.          0.          0.          0.          0.         -0.22351673]]\n",
      "[[-2.3566778  -2.88990902 -2.88990902  0.          0.          0.        ]\n",
      " [-1.97513485  2.55663533 -0.48283674  0.          0.          0.        ]\n",
      " [-1.97513485  0.          2.55663533  0.          0.          0.        ]\n",
      " [ 0.          0.          0.         -2.83899153  0.          0.        ]\n",
      " [ 0.          0.          0.          0.         -2.83899153  0.        ]\n",
      " [ 0.          0.          0.          0.          0.          1.0583909 ]]\n"
     ]
    }
   ],
   "source": [
    "## OBLATE\n",
    "f_inclusion = 0.1\n",
    "Km,Gm = 1,2\n",
    "Kf,Gf = 10,20\n",
    "inclusion_behavior = {\"K\":Kf, \"G\":Gf}        \n",
    "matrix_behavior = {\"K\":Km, \"G\":Gm} \n",
    "inclusion = Inclusion(1 ,inclusion_behavior,0.2)\n",
    "microstructure = Microstructure(matrix_behavior,{inclusion : f_inclusion})\n",
    "print(Eshelby_tensor(microstructure))\n",
    "\n",
    "## PROLATE\n",
    "f_inclusion = 0.1\n",
    "inclusion_behavior = {\"K\":Kf, \"G\":Gf}        \n",
    "matrix_behavior = {\"K\":Km, \"G\":Gm} \n",
    "inclusion = Inclusion(2 ,inclusion_behavior,1.8)\n",
    "microstructure = Microstructure(matrix_behavior,{inclusion : f_inclusion})\n",
    "print(Eshelby_tensor(microstructure))"
   ]
  },
  {
   "cell_type": "code",
   "execution_count": null,
   "metadata": {},
   "outputs": [],
   "source": []
  }
 ],
 "metadata": {
  "kernelspec": {
   "display_name": "Python 3",
   "language": "python",
   "name": "python3"
  },
  "language_info": {
   "codemirror_mode": {
    "name": "ipython",
    "version": 3
   },
   "file_extension": ".py",
   "mimetype": "text/x-python",
   "name": "python",
   "nbconvert_exporter": "python",
   "pygments_lexer": "ipython3",
   "version": "3.8.1"
  }
 },
 "nbformat": 4,
 "nbformat_minor": 4
}
