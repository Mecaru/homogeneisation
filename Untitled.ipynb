{
 "cells": [
  {
   "cell_type": "code",
   "execution_count": 2,
   "metadata": {},
   "outputs": [
    {
     "name": "stdout",
     "output_type": "stream",
     "text": [
      "Reading package lists... Done\n",
      "Building dependency tree       \n",
      "Reading state information... Done\n",
      "gfortran is already the newest version (4:8.3.0-1).\n",
      "0 upgraded, 0 newly installed, 0 to remove and 24 not upgraded.\n",
      "\u001b[39mrunning build\u001b[0m\n",
      "\u001b[39mrunning config_cc\u001b[0m\n",
      "\u001b[39munifing config_cc, config, build_clib, build_ext, build commands --compiler options\u001b[0m\n",
      "\u001b[39mrunning config_fc\u001b[0m\n",
      "\u001b[39munifing config_fc, config, build_clib, build_ext, build commands --fcompiler options\u001b[0m\n",
      "\u001b[39mrunning build_src\u001b[0m\n",
      "\u001b[39mbuild_src\u001b[0m\n",
      "\u001b[39mbuilding extension \"module\" sources\u001b[0m\n",
      "\u001b[39mf2py options: []\u001b[0m\n",
      "\u001b[39mf2py:> /tmp/tmppm7oscjk/src.linux-x86_64-3.8/modulemodule.c\u001b[0m\n",
      "\u001b[39mcreating /tmp/tmppm7oscjk/src.linux-x86_64-3.8\u001b[0m\n",
      "Reading fortran codes...\n",
      "\tReading file 'Norme.f' (format:fix,strict)\n",
      "Post-processing...\n",
      "\tBlock: module\n",
      "\t\t\tBlock: norme\n",
      "Post-processing (stage 2)...\n",
      "Building modules...\n",
      "\tBuilding module \"module\"...\n",
      "\t\tConstructing wrapper function \"norme\"...\n",
      "\t\t  c = norme(a,b)\n",
      "\tWrote C/API module \"module\" to file \"/tmp/tmppm7oscjk/src.linux-x86_64-3.8/modulemodule.c\"\n",
      "\u001b[39m  adding '/tmp/tmppm7oscjk/src.linux-x86_64-3.8/fortranobject.c' to sources.\u001b[0m\n",
      "\u001b[39m  adding '/tmp/tmppm7oscjk/src.linux-x86_64-3.8' to include_dirs.\u001b[0m\n",
      "\u001b[39mcopying /usr/local/lib/python3.8/site-packages/numpy/f2py/src/fortranobject.c -> /tmp/tmppm7oscjk/src.linux-x86_64-3.8\u001b[0m\n",
      "\u001b[39mcopying /usr/local/lib/python3.8/site-packages/numpy/f2py/src/fortranobject.h -> /tmp/tmppm7oscjk/src.linux-x86_64-3.8\u001b[0m\n",
      "\u001b[39mbuild_src: building npy-pkg config files\u001b[0m\n",
      "\u001b[39mrunning build_ext\u001b[0m\n",
      "\u001b[39mcustomize UnixCCompiler\u001b[0m\n",
      "\u001b[39mcustomize UnixCCompiler using build_ext\u001b[0m\n",
      "\u001b[39mget_default_fcompiler: matching types: '['gnu95', 'intel', 'lahey', 'pg', 'absoft', 'nag', 'vast', 'compaq', 'intele', 'intelem', 'gnu', 'g95', 'pathf95', 'nagfor']'\u001b[0m\n",
      "\u001b[39mcustomize Gnu95FCompiler\u001b[0m\n",
      "\u001b[39mFound executable /usr/bin/gfortran\u001b[0m\n",
      "\u001b[39mcustomize Gnu95FCompiler\u001b[0m\n",
      "\u001b[39mcustomize Gnu95FCompiler using build_ext\u001b[0m\n",
      "\u001b[39mbuilding 'module' extension\u001b[0m\n",
      "\u001b[39mcompiling C sources\u001b[0m\n",
      "\u001b[39mC compiler: gcc -pthread -Wno-unused-result -Wsign-compare -DNDEBUG -g -fwrapv -O3 -Wall -fPIC\n",
      "\u001b[0m\n",
      "\u001b[39mcreating /tmp/tmppm7oscjk/tmp\u001b[0m\n",
      "\u001b[39mcreating /tmp/tmppm7oscjk/tmp/tmppm7oscjk\u001b[0m\n",
      "\u001b[39mcreating /tmp/tmppm7oscjk/tmp/tmppm7oscjk/src.linux-x86_64-3.8\u001b[0m\n",
      "\u001b[39mcompile options: '-I/tmp/tmppm7oscjk/src.linux-x86_64-3.8 -I/usr/local/lib/python3.8/site-packages/numpy/core/include -I/usr/local/include/python3.8 -c'\u001b[0m\n",
      "\u001b[39mgcc: /tmp/tmppm7oscjk/src.linux-x86_64-3.8/modulemodule.c\u001b[0m\n",
      "\u001b[39mgcc: /tmp/tmppm7oscjk/src.linux-x86_64-3.8/fortranobject.c\u001b[0m\n",
      "In file included from \u001b[01m\u001b[K/usr/local/lib/python3.8/site-packages/numpy/core/include/numpy/ndarraytypes.h:1832\u001b[m\u001b[K,\n",
      "                 from \u001b[01m\u001b[K/usr/local/lib/python3.8/site-packages/numpy/core/include/numpy/ndarrayobject.h:12\u001b[m\u001b[K,\n",
      "                 from \u001b[01m\u001b[K/usr/local/lib/python3.8/site-packages/numpy/core/include/numpy/arrayobject.h:4\u001b[m\u001b[K,\n",
      "                 from \u001b[01m\u001b[K/tmp/tmppm7oscjk/src.linux-x86_64-3.8/fortranobject.h:13\u001b[m\u001b[K,\n",
      "                 from \u001b[01m\u001b[K/tmp/tmppm7oscjk/src.linux-x86_64-3.8/fortranobject.c:2\u001b[m\u001b[K:\n",
      "\u001b[01m\u001b[K/usr/local/lib/python3.8/site-packages/numpy/core/include/numpy/npy_1_7_deprecated_api.h:17:2:\u001b[m\u001b[K \u001b[01;35m\u001b[Kwarning: \u001b[m\u001b[K#warning \"Using deprecated NumPy API, disable it with \" \"#define NPY_NO_DEPRECATED_API NPY_1_7_API_VERSION\" [\u001b[01;35m\u001b[K-Wcpp\u001b[m\u001b[K]\n",
      " #\u001b[01;35m\u001b[Kwarning\u001b[m\u001b[K \"Using deprecated NumPy API, disable it with \" \\\n",
      "  \u001b[01;35m\u001b[K^~~~~~~\u001b[m\u001b[K\n",
      "In file included from \u001b[01m\u001b[K/usr/local/lib/python3.8/site-packages/numpy/core/include/numpy/ndarraytypes.h:1832\u001b[m\u001b[K,\n",
      "                 from \u001b[01m\u001b[K/usr/local/lib/python3.8/site-packages/numpy/core/include/numpy/ndarrayobject.h:12\u001b[m\u001b[K,\n",
      "                 from \u001b[01m\u001b[K/usr/local/lib/python3.8/site-packages/numpy/core/include/numpy/arrayobject.h:4\u001b[m\u001b[K,\n",
      "                 from \u001b[01m\u001b[K/tmp/tmppm7oscjk/src.linux-x86_64-3.8/fortranobject.h:13\u001b[m\u001b[K,\n",
      "                 from \u001b[01m\u001b[K/tmp/tmppm7oscjk/src.linux-x86_64-3.8/modulemodule.c:15\u001b[m\u001b[K:\n",
      "\u001b[01m\u001b[K/usr/local/lib/python3.8/site-packages/numpy/core/include/numpy/npy_1_7_deprecated_api.h:17:2:\u001b[m\u001b[K \u001b[01;35m\u001b[Kwarning: \u001b[m\u001b[K#warning \"Using deprecated NumPy API, disable it with \" \"#define NPY_NO_DEPRECATED_API NPY_1_7_API_VERSION\" [\u001b[01;35m\u001b[K-Wcpp\u001b[m\u001b[K]\n",
      " #\u001b[01;35m\u001b[Kwarning\u001b[m\u001b[K \"Using deprecated NumPy API, disable it with \" \\\n",
      "  \u001b[01;35m\u001b[K^~~~~~~\u001b[m\u001b[K\n",
      "\u001b[39mcompiling Fortran sources\u001b[0m\n",
      "\u001b[39mFortran f77 compiler: /usr/bin/gfortran -Wall -g -ffixed-form -fno-second-underscore -fPIC -O3 -funroll-loops\n",
      "Fortran f90 compiler: /usr/bin/gfortran -Wall -g -fno-second-underscore -fPIC -O3 -funroll-loops\n",
      "Fortran fix compiler: /usr/bin/gfortran -Wall -g -ffixed-form -fno-second-underscore -Wall -g -fno-second-underscore -fPIC -O3 -funroll-loops\u001b[0m\n",
      "\u001b[39mcompile options: '-I/tmp/tmppm7oscjk/src.linux-x86_64-3.8 -I/usr/local/lib/python3.8/site-packages/numpy/core/include -I/usr/local/include/python3.8 -c'\u001b[0m\n",
      "\u001b[39mgfortran:f77: Norme.f\u001b[0m\n",
      "\u001b[39m/usr/bin/gfortran -Wall -g -Wall -g -shared /tmp/tmppm7oscjk/tmp/tmppm7oscjk/src.linux-x86_64-3.8/modulemodule.o /tmp/tmppm7oscjk/tmp/tmppm7oscjk/src.linux-x86_64-3.8/fortranobject.o /tmp/tmppm7oscjk/Norme.o -L/usr/lib/gcc/x86_64-linux-gnu/8 -L/usr/lib/gcc/x86_64-linux-gnu/8 -L/usr/local/lib -lgfortran -o ./module.cpython-38-x86_64-linux-gnu.so\u001b[0m\n",
      "Removing build directory /tmp/tmppm7oscjk\n"
     ]
    }
   ],
   "source": [
    "!apt install -y gfortran\n",
    "!f2py -c Norme.f -m module"
   ]
  },
  {
   "cell_type": "code",
   "execution_count": 4,
   "metadata": {},
   "outputs": [],
   "source": [
    "import os"
   ]
  },
  {
   "cell_type": "code",
   "execution_count": 5,
   "metadata": {},
   "outputs": [
    {
     "data": {
      "text/plain": [
       "'/app/homogeneisation'"
      ]
     },
     "execution_count": 5,
     "metadata": {},
     "output_type": "execute_result"
    }
   ],
   "source": [
    "os.getcwd()"
   ]
  },
  {
   "cell_type": "code",
   "execution_count": 1,
   "metadata": {},
   "outputs": [
    {
     "ename": "ImportError",
     "evalue": "/app/homogeneisation/module.cpython-38-x86_64-linux-gnu.so: failed to map segment from shared object",
     "output_type": "error",
     "traceback": [
      "\u001b[0;31m---------------------------------------------------------------------------\u001b[0m",
      "\u001b[0;31mImportError\u001b[0m                               Traceback (most recent call last)",
      "\u001b[0;32m<ipython-input-1-ed3cf0961e67>\u001b[0m in \u001b[0;36m<module>\u001b[0;34m\u001b[0m\n\u001b[0;32m----> 1\u001b[0;31m \u001b[0;32mimport\u001b[0m \u001b[0mmodule\u001b[0m\u001b[0;34m\u001b[0m\u001b[0;34m\u001b[0m\u001b[0m\n\u001b[0m",
      "\u001b[0;31mImportError\u001b[0m: /app/homogeneisation/module.cpython-38-x86_64-linux-gnu.so: failed to map segment from shared object"
     ]
    }
   ],
   "source": [
    "import module"
   ]
  },
  {
   "cell_type": "code",
   "execution_count": null,
   "metadata": {},
   "outputs": [],
   "source": []
  }
 ],
 "metadata": {
  "kernelspec": {
   "display_name": "Python 3",
   "language": "python",
   "name": "python3"
  },
  "language_info": {
   "codemirror_mode": {
    "name": "ipython",
    "version": 3
   },
   "file_extension": ".py",
   "mimetype": "text/x-python",
   "name": "python",
   "nbconvert_exporter": "python",
   "pygments_lexer": "ipython3",
   "version": "3.8.1"
  }
 },
 "nbformat": 4,
 "nbformat_minor": 4
}
