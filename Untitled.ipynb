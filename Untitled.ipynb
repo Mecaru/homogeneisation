{
 "cells": [
  {
   "cell_type": "code",
   "execution_count": 3,
   "metadata": {},
   "outputs": [],
   "source": [
    "import numpy as np\n",
    "from classes import *\n",
    "from scipy.special import ellipeinc\n",
    "from scipy.special import ellipkinc\n",
    "from numpy import pi,arcsin,sqrt"
   ]
  },
  {
   "cell_type": "code",
   "execution_count": 21,
   "metadata": {},
   "outputs": [
    {
     "name": "stdout",
     "output_type": "stream",
     "text": [
      "[0 1 2 1 0 0]\n",
      "[[1.]\n",
      " [1.]\n",
      " [1.]]\n"
     ]
    }
   ],
   "source": [
    "n= 5\n",
    "G2 = np.zeros((6,6,5))\n",
    "IJV = np.array([[0,0],[1,1],[2,2],[1,2],[0,2],[0,1]])\n",
    "CXX = np.eye(6)\n",
    "X=np.array([0,1,10])\n",
    "for i in range(n) :\n",
    "    I1 = IJV[:,0]\n",
    "    J1 = IJV[:,0]\n",
    "    I2 = IJV[:,1]\n",
    "    J2 = IJV[:,1]\n",
    "    G2[:,:,i] = CXX[I1,J1]*X[I2]*X[J2] + CXX[I2,J1]*X[I1]*X[J2] + CXX[I1,J2]*X[I2]*X[J1] + CXX[I2,J2]*X[I1]*X[J1] \n",
    "\n",
    "print(I1)\n",
    "\n",
    "I = np.ones(3)\n",
    "G = np.zeros((3,1))\n",
    "G[:] = np.sum(I[1])\n",
    "print(G)\n"
   ]
  },
  {
   "cell_type": "code",
   "execution_count": null,
   "metadata": {},
   "outputs": [],
   "source": []
  }
 ],
 "metadata": {
  "kernelspec": {
   "display_name": "Python 3",
   "language": "python",
   "name": "python3"
  },
  "language_info": {
   "codemirror_mode": {
    "name": "ipython",
    "version": 3
   },
   "file_extension": ".py",
   "mimetype": "text/x-python",
   "name": "python",
   "nbconvert_exporter": "python",
   "pygments_lexer": "ipython3",
   "version": "3.8.1"
  }
 },
 "nbformat": 4,
 "nbformat_minor": 4
}
