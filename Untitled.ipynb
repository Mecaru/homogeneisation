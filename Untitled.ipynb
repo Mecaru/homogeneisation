{
 "cells": [
  {
   "cell_type": "code",
   "execution_count": 1,
   "metadata": {},
   "outputs": [],
   "source": [
    "import numpy as np\n",
    "from classes import *\n",
    "from scipy.special import ellipeinc\n",
    "from scipy.special import ellipkinc\n",
    "from numpy import pi,arcsin,sqrt"
   ]
  },
  {
   "cell_type": "code",
   "execution_count": 17,
   "metadata": {},
   "outputs": [
    {
     "name": "stdout",
     "output_type": "stream",
     "text": [
      "[[1. 0.]\n",
      " [0. 1.]]\n",
      "[[[1. 0.]\n",
      "  [0. 1.]]\n",
      "\n",
      " [[1. 0.]\n",
      "  [0. 8.]]]\n",
      "[[[1.    0.   ]\n",
      "  [0.    1.   ]]\n",
      "\n",
      " [[1.    0.   ]\n",
      "  [0.    0.125]]]\n",
      "[[[[ 1.  0.]\n",
      "   [ 1.  0.]]\n",
      "\n",
      "  [[ 0.  1.]\n",
      "   [ 0.  8.]]]\n",
      "\n",
      "\n",
      " [[[ 1.  0.]\n",
      "   [ 1.  0.]]\n",
      "\n",
      "  [[ 0.  8.]\n",
      "   [ 0. 64.]]]]\n"
     ]
    }
   ],
   "source": [
    "a = np.zeros((2,2,2))\n",
    "b = np.identity(2)\n",
    "print(b)\n",
    "a[0,0,0] = 1\n",
    "a[0,1,1] = 1\n",
    "\n",
    "a[1,0,0] = 1\n",
    "a[1,1,1] = 8\n",
    "\n",
    "print(a)\n",
    "print(np.linalg.inv(a))\n",
    "print(np.dot(a,a))"
   ]
  },
  {
   "cell_type": "code",
   "execution_count": null,
   "metadata": {},
   "outputs": [],
   "source": []
  }
 ],
 "metadata": {
  "kernelspec": {
   "display_name": "Python 3",
   "language": "python",
   "name": "python3"
  },
  "language_info": {
   "codemirror_mode": {
    "name": "ipython",
    "version": 3
   },
   "file_extension": ".py",
   "mimetype": "text/x-python",
   "name": "python",
   "nbconvert_exporter": "python",
   "pygments_lexer": "ipython3",
   "version": "3.8.1"
  }
 },
 "nbformat": 4,
 "nbformat_minor": 4
}
