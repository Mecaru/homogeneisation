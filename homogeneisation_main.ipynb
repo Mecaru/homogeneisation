{
 "cells": [
  {
   "cell_type": "markdown",
   "metadata": {},
   "source": [
    "# Homogeneisation - main"
   ]
  },
  {
   "cell_type": "markdown",
   "metadata": {},
   "source": [
    "L'objectif est de mettre à disposition des chercheurs une interface permettant :\n",
    "- le calcul de comportements homogénéisés sur des microstructures données à l'aide de différents modèles pré-implémentés, manuellement ou à partir d'un fichier texte,\n",
    "- de faciliter des études parmaétriques sur ces mêmes modèles et microstructures,\n",
    "- de déterminer des paramètres idéaux pour atteindre des comportements homogénéisés cibles(TODO),\n",
    "- de fournir une description des modèles utilisés, de leur forces et de leurs limites."
   ]
  },
  {
   "cell_type": "markdown",
   "metadata": {},
   "source": [
    "Ce code contient plusieurs sections. **Lorsque le code est lancé pour la première fois sur un nouveau kernel, les sections suivantes doivent être executées dans l'ordre** :\n",
    "- Importation des classes et des modules utiles\n",
    "- Fonctions utiles \n",
    "\n",
    "Les sections suivantes sont indépendantes. Si une section est lancée pour la première fois, ses cellules doivent être executées dans l'ordre."
   ]
  },
  {
   "cell_type": "markdown",
   "metadata": {},
   "source": [
    "---"
   ]
  },
  {
   "cell_type": "markdown",
   "metadata": {},
   "source": [
    "## I- Importation des classes et des modules utiles"
   ]
  },
  {
   "cell_type": "code",
   "execution_count": 22,
   "metadata": {},
   "outputs": [
    {
     "name": "stdout",
     "output_type": "stream",
     "text": [
      "Package downloaded\n"
     ]
    }
   ],
   "source": [
    "!pip install ipywidgets # Installation du package permettant la gestion des widgets\n",
    "from IPython.display import clear_output, display\n",
    "clear_output()\n",
    "print(\"Package downloaded\")"
   ]
  },
  {
   "cell_type": "code",
   "execution_count": 23,
   "metadata": {},
   "outputs": [],
   "source": [
    "import ipywidgets as widgets\n",
    "from classes import *\n",
    "from os import listdir"
   ]
  },
  {
   "cell_type": "code",
   "execution_count": 24,
   "metadata": {},
   "outputs": [
    {
     "name": "stdout",
     "output_type": "stream",
     "text": [
      "Modèles importés : [<class 'classes.Mori_Tanaka'>, <class 'classes.Eshelby_Approximation'>, <class 'classes.Differential_Scheme'>]\n"
     ]
    }
   ],
   "source": [
    "print(\"Modèles importés : {}\".format(list_models))"
   ]
  },
  {
   "cell_type": "markdown",
   "metadata": {},
   "source": [
    "---"
   ]
  },
  {
   "cell_type": "markdown",
   "metadata": {},
   "source": [
    "## II- Fonctions utiles"
   ]
  },
  {
   "cell_type": "code",
   "execution_count": 25,
   "metadata": {},
   "outputs": [],
   "source": [
    "parameters_name = {'K': 'Bulk modulus K', 'G': 'Shear modulus G', 'E': 'Young modulus E', 'nu': \"Poisson's ratio nu\"}\n",
    "parameters_name = {'K': 'Bulk modulus K', 'G': 'Shear modulus G', 'E': 'Young modulus E', 'nu': \"Poisson's ratio \" + r'\\(\\nu\\)'}\n",
    "parameters_name_bis = {value: key for (key, value) in parameters_name.items()}\n",
    "\n",
    "def gen_tab_behavior():\n",
    "    \"\"\"\n",
    "    Routine qui génère un widget de type 'tab' permettant le choix des paramètres associés aux comportements. \n",
    "    Chaque onglet généré correspond à un comportement du dictionnaire 'dict_behaviors' implémenté dans 'classes.py'.\n",
    "    La fonction renvoie :\n",
    "    - une liste de liste de widgets (list_widgets) contenant autant de listes que d'onglet. Chaque liste contient les widgets générant les paramètres asssociés au comportement \n",
    "    de l'onglet correspondant.\n",
    "    - un widget tab correspondant au résultat final à afficher.    \n",
    "    \"\"\"\n",
    "    behaviors_str = list(dict_behaviors.keys()) # Liste des noms des comportements déjà implémentés, définis dans classes.py\n",
    "    list_widgets = [] # Liste de liste, chaque liste correspond à un onglet du tab et contient les widgets de cet onglet non formatés\n",
    "    tab_titles = [] # Nom des onglets, chaque onglet est associé à un type de comportement\n",
    "    # Construction des widgets associés à chaque onglet\n",
    "    for behavior_str in behaviors_str:\n",
    "        widgets_onglet = []\n",
    "        parameters = dict_behaviors[behavior_str] # Paramètres associés au comportement (exemple : ['K', 'G'] pour Isotropic)\n",
    "        for parameter in parameters:\n",
    "            w = widgets.FloatSlider(value=1, min=0.01, max=1000, step=0.01) # Widget associé au paramètre parameter\n",
    "            if parameter == 'nu':\n",
    "                w.max = 0.5\n",
    "                w.value = 0.3\n",
    "            w_label = widgets.Label(value=parameters_name[parameter])\n",
    "            widgets_onglet.append(widgets.HBox([w_label, w]))\n",
    "        list_widgets.append(widgets_onglet)\n",
    "        tab_titles.append(behavior_str)\n",
    "    # Création du tab\n",
    "    tab = widgets.Tab()\n",
    "    tab.children = [widgets.HBox(w) for w in list_widgets]\n",
    "    for pos, title in enumerate(tab_titles):\n",
    "        tab.set_title(pos, title)\n",
    "    return list_widgets, tab\n",
    "\n",
    "def read_behavior(tab, list_widgets):\n",
    "    \"\"\"\n",
    "    Fonction qui, à partir d'un widget 'tab' comme celui construit par la fonction précédente, renvoie le dictionnaire 'behavior' construit par l'utilisateur.\n",
    "    \"\"\"\n",
    "    behavior_int = tab.selected_index # Onglet ouvert par l'utilisateur\n",
    "    widgets_parameters = list_widgets[behavior_int] # Widgets des paramètres de l'onglet ouvert\n",
    "    behavior = {parameters_name_bis[w.children[0].value] : w.children[1].value for w in widgets_parameters}\n",
    "    return behavior\n",
    "\n",
    "def gen_tab_type():\n",
    "    \"\"\"\n",
    "    Routine qui génère un widget de type 'tab' permettant le choix des paramètres associés aux types d'inclusions (aspect ratio, orientation, etc..). \n",
    "    TODO : Inclure l'orientation\n",
    "    Chaque onglet généré correspond à un type du dictionnaire 'dict_types' implémenté dans 'classes.py'.\n",
    "    La fonction renvoie :\n",
    "    - une liste de liste de widgets (list_widgets) contenant autant de listes que d'onglets. Chaque liste contient les widgets générant les paramètres asssociés au comportement \n",
    "    de l'onglet correspondant.\n",
    "    - un widget tab correspondant au résultat final à afficher.    \n",
    "    \"\"\"\n",
    "    list_widgets = [] # Liste de listes, chaque liste correspond à un onglet et contient les widgets de cet onglet\n",
    "    # Construction des widgets associés à chaque onglet\n",
    "    for type_int in dict_types.keys():\n",
    "        if type_int == 0:\n",
    "            # Sphères, pas besoin de paramètres supllémentaires\n",
    "            list_widgets.append([])\n",
    "        elif type_int == 1:\n",
    "            # Oblate\n",
    "            w_label = widgets.Label(value=\"Aspect ratio\")\n",
    "            w_aspect_ratio = widgets.FloatSlider(min=0.01, max=0.99, step=0.01, value=0.5)\n",
    "            list_widgets.append([w_label, w_aspect_ratio])\n",
    "        elif type_int == 2:\n",
    "            # Prolate\n",
    "            w_label = widgets.Label(value=\"Aspect ratio\")\n",
    "            w_aspect_ratio = widgets.FloatSlider(min=1.01, max=10, step=0.01, value=1.5)\n",
    "            list_widgets.append([w_label, w_aspect_ratio])\n",
    "    # Création du tab\n",
    "    tab = widgets.Tab()\n",
    "    # Attribution des onglets\n",
    "    tab.children = [widgets.HBox(w) for w in list_widgets]\n",
    "    # Attribution des noms des onglets\n",
    "    for pos, title in dict_types.items():\n",
    "        tab.set_title(pos, title)\n",
    "    return list_widgets, tab         \n",
    "\n",
    "def read_type(tab, list_widgets):\n",
    "    \"\"\"\n",
    "    Fonction qui, à partir d'un widget 'tab' comme celui construit par la fonction gen_tab_type, renvoie le type d'inclusion et le rapport d'apsect.\n",
    "    \"\"\"\n",
    "    type_int = tab.selected_index # Onglet ouvert par l'utilisateur\n",
    "    widgets_parameters = list_widgets[type_int]\n",
    "    try:\n",
    "        aspect_ratio = widgets_parameters[1].value\n",
    "    except:\n",
    "        # Il n'y a pas de rapport de forme, cas des sphères par exemple\n",
    "        aspect_ratio = 1\n",
    "    return type_int, aspect_ratio\n",
    "\n",
    "def str_to_model(model_name):\n",
    "    \"\"\"\n",
    "    Fonction qui renvoie l'instance de classe Model associée au nom de classe model_name (str).\n",
    "    \"\"\"\n",
    "    for Model in list_models:\n",
    "        model = Model()\n",
    "        if model.name.upper() == model_name.upper():\n",
    "            return model"
   ]
  },
  {
   "cell_type": "markdown",
   "metadata": {},
   "source": [
    "---"
   ]
  },
  {
   "cell_type": "markdown",
   "metadata": {},
   "source": [
    "## III- Calcul de comportement homogénéisé de microstructures\n",
    "Cette section permet la génération manuelle de microstructure et le calcul de comportement homogénéisé avec les modèles disponibles."
   ]
  },
  {
   "cell_type": "code",
   "execution_count": 26,
   "metadata": {},
   "outputs": [],
   "source": [
    "dict_inclusions = {}\n",
    "# Initialise la liste des inclusions créees. dict_inclusions est sous la forme {nam_inclusion (str): inclusion (Inclusion)}"
   ]
  },
  {
   "cell_type": "markdown",
   "metadata": {},
   "source": [
    "### Construction d'une inclusion"
   ]
  },
  {
   "cell_type": "code",
   "execution_count": 27,
   "metadata": {},
   "outputs": [
    {
     "data": {
      "application/vnd.jupyter.widget-view+json": {
       "model_id": "950f876d0c6e4bcba5ab3c72c63f5274",
       "version_major": 2,
       "version_minor": 0
      },
      "text/plain": [
       "Label(value='Inclusion name')"
      ]
     },
     "metadata": {},
     "output_type": "display_data"
    },
    {
     "data": {
      "application/vnd.jupyter.widget-view+json": {
       "model_id": "29f1a92c21184174b7f1311b1cf22173",
       "version_major": 2,
       "version_minor": 0
      },
      "text/plain": [
       "Text(value='inclusion 0')"
      ]
     },
     "metadata": {},
     "output_type": "display_data"
    },
    {
     "data": {
      "application/vnd.jupyter.widget-view+json": {
       "model_id": "d56d2e8841f1498db6c76da8d2e188eb",
       "version_major": 2,
       "version_minor": 0
      },
      "text/plain": [
       "Label(value='Inclusion type')"
      ]
     },
     "metadata": {},
     "output_type": "display_data"
    },
    {
     "data": {
      "application/vnd.jupyter.widget-view+json": {
       "model_id": "cacaf4c4c10c4ffca1270595b4321c50",
       "version_major": 2,
       "version_minor": 0
      },
      "text/plain": [
       "Tab(children=(HBox(), HBox(children=(Label(value='Aspect ratio'), FloatSlider(value=0.5, max=0.99, min=0.01, s…"
      ]
     },
     "metadata": {},
     "output_type": "display_data"
    },
    {
     "data": {
      "application/vnd.jupyter.widget-view+json": {
       "model_id": "716fa8af7c2e4ff9ae5354e2931914b8",
       "version_major": 2,
       "version_minor": 0
      },
      "text/plain": [
       "Label(value='Inclusion behavior')"
      ]
     },
     "metadata": {},
     "output_type": "display_data"
    },
    {
     "data": {
      "application/vnd.jupyter.widget-view+json": {
       "model_id": "fe50295e500d4437b07693ba5c5f7d01",
       "version_major": 2,
       "version_minor": 0
      },
      "text/plain": [
       "Tab(children=(HBox(children=(HBox(children=(Label(value='Bulk modulus K'), FloatSlider(value=1.0, max=1000.0, …"
      ]
     },
     "metadata": {},
     "output_type": "display_data"
    },
    {
     "data": {
      "application/vnd.jupyter.widget-view+json": {
       "model_id": "210d9a85c58f407f956ec51848efca9f",
       "version_major": 2,
       "version_minor": 0
      },
      "text/plain": [
       "Button(description='Generate Inclusion', style=ButtonStyle())"
      ]
     },
     "metadata": {},
     "output_type": "display_data"
    },
    {
     "data": {
      "application/vnd.jupyter.widget-view+json": {
       "model_id": "72c3fc6f3fb1436f8273a7a255efd2ce",
       "version_major": 2,
       "version_minor": 0
      },
      "text/plain": [
       "Output()"
      ]
     },
     "metadata": {},
     "output_type": "display_data"
    }
   ],
   "source": [
    "# Nom de l'inclusion\n",
    "w_label = widgets.Label(value='Inclusion name')\n",
    "n_inclusion = 0 # Identifiant servant à donner automatiquement un nom unique à chaque inclusion\n",
    "w_name = widgets.Text(value='inclusion '+str(n_inclusion))\n",
    "display(w_label, w_name)\n",
    "\n",
    "# Type d'inclusion\n",
    "display(widgets.Label(value='Inclusion type'))\n",
    "widgets_type, tab_type = gen_tab_type() # Génération du widgets tab de choix du type d'inclusion\n",
    "display(tab_type)\n",
    "\n",
    "# Comportement de l'inclusion\n",
    "caption = widgets.Label(value='Inclusion behavior')\n",
    "display(caption)\n",
    "list_widgets, tab = gen_tab_behavior()\n",
    "display(tab)\n",
    "\n",
    "# Génération de l'inclusion\n",
    "button_generate_inclusion = widgets.Button(description=\"Generate Inclusion\")\n",
    "output = widgets.Output()\n",
    "display(button_generate_inclusion, output)\n",
    "def generate_inclusion(b):\n",
    "    \"\"\"\n",
    "    Fonction appelée lors d'un click sur le bouton, génère une inclusion avec les paramètres choisis.\n",
    "    TODO : modifier le nom de l'inclusion automatiquement\n",
    "    \"\"\"\n",
    "    global n_inclusion\n",
    "    # Récupération des paramètres choisis\n",
    "    output.clear_output()\n",
    "    inclusion_name = w_name.value\n",
    "    if inclusion_name in list(dict_inclusions.keys()):\n",
    "        with output:\n",
    "            print(\"Name already exists\")\n",
    "    else :\n",
    "        type_inclusion, inclusion_aspect_ratio = read_type(tab_type, widgets_type)\n",
    "        behavior = read_behavior(tab, list_widgets)\n",
    "        inclusion = Inclusion(type_inclusion, behavior, name=inclusion_name, aspect_ratio=inclusion_aspect_ratio)\n",
    "        dict_inclusions[inclusion_name] = inclusion\n",
    "        with output:\n",
    "            print(\"Inclusion generated: \", inclusion)\n",
    "        # Mise à jour automatique du nom de l'inclusion\n",
    "        n_inclusion += 1\n",
    "        w_name.value = 'inclusion '+str(n_inclusion)\n",
    "    \n",
    "button_generate_inclusion.on_click(generate_inclusion)"
   ]
  },
  {
   "cell_type": "markdown",
   "metadata": {},
   "source": [
    "### Construction d'une microstructure"
   ]
  },
  {
   "cell_type": "code",
   "execution_count": 28,
   "metadata": {},
   "outputs": [],
   "source": [
    "# Création de la variable contenant la microstructure\n",
    "microstructure = None # Initialisation\n",
    "\n",
    "# Fonctions liées aux appuis sur les boutons\n",
    "def add_inclusion_to_structure(b):\n",
    "    \"\"\"\n",
    "    Fonction appelée lors d'un click sur le bouton \"Add inclusion\", génère un widget associé à la fraction volumique de l'inclusion et l'ajoute au dictionnaire \"widgets_f\".\n",
    "    Crée aussi un bouton permettant la suppression de l'inclusion et l'ajoute au dictionnaire buttons.\n",
    "    Enfin, affiche la ligne de widgets correspondante.\n",
    "    \"\"\"\n",
    "    out2.clear_output()\n",
    "    inclusion = w_inclusions.value\n",
    "    if inclusion in list(widgets_f.keys()):\n",
    "        with out2:\n",
    "            print(\"Already added\")\n",
    "    else:\n",
    "        w_name = widgets.Label(inclusion.name)\n",
    "        w_f = widgets.FloatSlider(min=0.01, max=0.99, step=0.01, description='f')\n",
    "        w_b = widgets.Button(description=\"Remove inclusion\")\n",
    "        w_b.on_click(remove_inclusion)\n",
    "        widgets_f[inclusion] = (w_name, w_f)\n",
    "        buttons_suppress[w_b] = inclusion\n",
    "        with out1:\n",
    "            display(w_name, widgets.HBox([w_f, w_b]))\n",
    "\n",
    "def add_inclusion_to_list(b):\n",
    "    \"\"\"\n",
    "    Fonction appelée lors d'un clic sur le bouton 'generate inclusion' de la section précédente.\n",
    "    met à jour le widget permettant le choix des inclusions à ajouter.\n",
    "    \"\"\"\n",
    "    w_inclusions.options = list(dict_inclusions.values())\n",
    "    \n",
    "def remove_inclusion(b):\n",
    "    \"\"\"\n",
    "    Fonction appelée lorsqu'un bouton 'Remove inclusion' est appelé. \n",
    "    Repère l'inclusion associée au bouton, ferme les widgets associés et supprime l'entrée du dictionnaire widgets_f\n",
    "    \"\"\"\n",
    "    out2.clear_output()\n",
    "    inclusion = buttons_suppress[b]\n",
    "    w_name, w_f = widgets_f[inclusion]\n",
    "    # Fermeture des widgets\n",
    "    b.close()\n",
    "    w_name.close()\n",
    "    w_f.close()\n",
    "    del widgets_f[inclusion]\n",
    "    del buttons_suppress[b]\n",
    "\n",
    "def generate_microstructure(b):\n",
    "    \"\"\"\n",
    "    Génère la microstructure avec les paramètres choisis par l'utilisateur. \n",
    "    Si les fractions volumiques choisies ne sont pas cohérentes, affiche un message.\n",
    "    Affiche une description de la microsructure créee.\n",
    "    \"\"\"\n",
    "    global microstructure\n",
    "    matrix_behavior = read_behavior(tab_m, widgets_m) # Lecture des widgets définis dans la section 'Comportement de la matrice'\n",
    "    dict_inclusions = {}\n",
    "    # Lecture des fractions volumiques choisies\n",
    "    for inclusion, widgets in widgets_f.items():\n",
    "        w_name, w_f = widgets\n",
    "        f = w_f.value\n",
    "        dict_inclusions[inclusion] = f\n",
    "    # Génération de la microstructure\n",
    "    out3.clear_output()\n",
    "    try:\n",
    "        microstructure = Microstructure(matrix_behavior, dict_inclusions)\n",
    "        with out3:\n",
    "            print(\"Microstructure generated\\n\" + str(microstructure))\n",
    "            # Dessin de la microstructure TODO : ajouter le dessin d'inclusion ellipsoïdales\n",
    "            microstructure.draw()\n",
    "    except NameError:\n",
    "        microstructure = None\n",
    "        with out3:\n",
    "            print(\"Inconsistent choice of volumic fractions\")"
   ]
  },
  {
   "cell_type": "code",
   "execution_count": 29,
   "metadata": {},
   "outputs": [
    {
     "data": {
      "application/vnd.jupyter.widget-view+json": {
       "model_id": "31ff0a8046344698a554694ddfea5ec5",
       "version_major": 2,
       "version_minor": 0
      },
      "text/plain": [
       "Label(value='Matrix behavior')"
      ]
     },
     "metadata": {},
     "output_type": "display_data"
    },
    {
     "data": {
      "application/vnd.jupyter.widget-view+json": {
       "model_id": "e0e8937b80954415a209a1ea2a7ab42e",
       "version_major": 2,
       "version_minor": 0
      },
      "text/plain": [
       "Tab(children=(HBox(children=(HBox(children=(Label(value='Bulk modulus K'), FloatSlider(value=1.0, max=1000.0, …"
      ]
     },
     "metadata": {},
     "output_type": "display_data"
    },
    {
     "data": {
      "application/vnd.jupyter.widget-view+json": {
       "model_id": "951f28214ce04be5a9c91d04349c6cd1",
       "version_major": 2,
       "version_minor": 0
      },
      "text/plain": [
       "HBox(children=(Dropdown(layout=Layout(width='max-content'), options=(inclusion 0, Spheres, E: 1000.00, nu: 0.3…"
      ]
     },
     "metadata": {},
     "output_type": "display_data"
    },
    {
     "data": {
      "application/vnd.jupyter.widget-view+json": {
       "model_id": "017e02e3655143cd91f994adec3a7187",
       "version_major": 2,
       "version_minor": 0
      },
      "text/plain": [
       "Output()"
      ]
     },
     "metadata": {},
     "output_type": "display_data"
    },
    {
     "data": {
      "application/vnd.jupyter.widget-view+json": {
       "model_id": "65e57e45f8e14732a0b30ee10b58f695",
       "version_major": 2,
       "version_minor": 0
      },
      "text/plain": [
       "HBox(children=(Button(description='Generate microstructure', layout=Layout(width='max-content'), style=ButtonS…"
      ]
     },
     "metadata": {},
     "output_type": "display_data"
    },
    {
     "data": {
      "application/vnd.jupyter.widget-view+json": {
       "model_id": "50a6eeb8441f4c9dbfc9bf411eeb7673",
       "version_major": 2,
       "version_minor": 0
      },
      "text/plain": [
       "Output()"
      ]
     },
     "metadata": {},
     "output_type": "display_data"
    }
   ],
   "source": [
    "# Comportement de la matrice\n",
    "caption = widgets.Label(value='Matrix behavior')\n",
    "display(caption)\n",
    "widgets_m, tab_m = gen_tab_behavior()\n",
    "display(tab_m)\n",
    "\n",
    "# Ajout d'inclusions\n",
    "w_inclusions = widgets.Dropdown(options=list(dict_inclusions.values()), layout={'width': 'max-content'})\n",
    "button_add_inclusion = widgets.Button(description=\"Add inclusion\")\n",
    "out1 = widgets.Output()\n",
    "out2 = widgets.Output()\n",
    "display(widgets.HBox([w_inclusions, button_add_inclusion, out2]), out1)\n",
    "widgets_f = {} # Dictionnaire des inclusions ajoutées et de leurs widgets ('name','fraction volumique') associés\n",
    "buttons_suppress = {} # Dictionnaire des boutons permettant de supprimer une inclusion de la structure et inclusions associés\n",
    "\n",
    "button_add_inclusion.on_click(add_inclusion_to_structure)\n",
    "button_generate_inclusion.on_click(add_inclusion_to_list)\n",
    "\n",
    "# Génération de la microstructure\n",
    "b_generate_structure = widgets.Button(description='Generate microstructure', layout={'width': 'max-content'})\n",
    "# TODO : widget 'valid' qui indique en temps réel si les fractions volumiques choisies sont cohérentes\n",
    "out3 = widgets.Output()\n",
    "display(widgets.HBox([b_generate_structure]),out3)\n",
    "b_generate_structure.on_click(generate_microstructure)\n"
   ]
  },
  {
   "cell_type": "markdown",
   "metadata": {},
   "source": [
    "### Calcul du comportement homogénéisé"
   ]
  },
  {
   "cell_type": "code",
   "execution_count": 30,
   "metadata": {},
   "outputs": [
    {
     "data": {
      "application/vnd.jupyter.widget-view+json": {
       "model_id": "29514ff81227464c89b99f8aa57d74f9",
       "version_major": 2,
       "version_minor": 0
      },
      "text/plain": [
       "Label(value='Select a model. Only compatible models will be displayed.')"
      ]
     },
     "metadata": {},
     "output_type": "display_data"
    },
    {
     "data": {
      "application/vnd.jupyter.widget-view+json": {
       "model_id": "82eae456d512401992b014ab638c9aa1",
       "version_major": 2,
       "version_minor": 0
      },
      "text/plain": [
       "HBox(children=(Dropdown(options=(('Mori-Tanaka', Modèle de Mori-Tanaka), ('Eshelby', Modèle d'Eshelby'), ('Dif…"
      ]
     },
     "metadata": {},
     "output_type": "display_data"
    },
    {
     "data": {
      "application/vnd.jupyter.widget-view+json": {
       "model_id": "d3228e4e4b1a4069a8b0c84bcff7013b",
       "version_major": 2,
       "version_minor": 0
      },
      "text/plain": [
       "Output()"
      ]
     },
     "metadata": {},
     "output_type": "display_data"
    }
   ],
   "source": [
    "# Choix du modèle\n",
    "def test_models(b=None):\n",
    "    \"\"\"\n",
    "    Fonction appelée lors d'un appui sur le bouton 'Generate microstructure' juste en haut.\n",
    "    Teste les modèles disponibles sur la microstructure générée et met à jour la liste des modèles valides 'valid_models'.\n",
    "    \"\"\"\n",
    "    valid_models = []\n",
    "    if microstructure == None:\n",
    "        # Vérifie que la microstructure a bien été créee\n",
    "        return None\n",
    "    for Model in list_models:\n",
    "        model = Model()\n",
    "        valid = model.check_hypothesis(microstructure)\n",
    "        if valid:\n",
    "            # La microstructure vérifie les hypothèses du modèle.\n",
    "            valid_models.append((model.name, model))\n",
    "    # Mise à jour du widget de séléection du modèle\n",
    "    select_model.options = valid_models\n",
    "\n",
    "valid_models = [] # Liste des modèles pouvant s'appliquer à la microstructure donnée, format : [(model_name, Model)]\n",
    "select_model = widgets.Dropdown()\n",
    "test_models()\n",
    "label = widgets.Label(value=\"Select a model. Only compatible models will be displayed.\")\n",
    "display(label)\n",
    "b_compute = widgets.Button(description='Compute behavior')\n",
    "display(widgets.HBox([select_model, b_compute]))\n",
    "output_behavior = widgets.Output()\n",
    "display(output_behavior)\n",
    "\n",
    "def compute_model(b):\n",
    "    \"\"\"\n",
    "    Fonction appelée lors d'un appui sur le bouton 'Compute behavior'.\n",
    "    Récupère le modèle choisi par l'utilisateur, calcule le comportement homogénéisé de la structure et l'affiche.\n",
    "    \"\"\"\n",
    "    model = select_model.value\n",
    "    homogenised_behavior = model.compute_h_behavior(microstructure)\n",
    "    output_behavior.clear_output()\n",
    "    with output_behavior:\n",
    "        print(\"Homogenised behavior - {} model\".format(model.name))\n",
    "        print(homogenised_behavior)\n",
    "        print(\"Hashin bounds\")\n",
    "        print(microstructure.Hashin_bounds())\n",
    "    \n",
    "\n",
    "b_generate_structure.on_click(test_models)\n",
    "b_compute.on_click(compute_model)"
   ]
  },
  {
   "cell_type": "markdown",
   "metadata": {},
   "source": [
    "### Comparaison de modèles"
   ]
  },
  {
   "cell_type": "code",
   "execution_count": 12,
   "metadata": {},
   "outputs": [],
   "source": [
    "# Fonction de tracé\n",
    "import warnings\n",
    "import matplotlib.cbook\n",
    "warnings.filterwarnings(\"ignore\",category=matplotlib.cbook.mplDeprecation) #Désactive le message de warning de matplotlib \n",
    "\n",
    "def draw_all_data(w_out, dict_models, f_list, dict_data):\n",
    "    \"\"\"\n",
    "    Fonction qui trace le graphe des données contenues dans les deux dictionnaires en entrée dans le widgets de type output w_out.\n",
    "    Les dictionnaires sont définis dans la section suivante.\n",
    "    \"\"\"\n",
    "    out_graph.clear_output()\n",
    "    with w_out:\n",
    "        plt.figure()\n",
    "        # Tracé des modèles\n",
    "        for model_plot, list_behaviors in dict_models.items():\n",
    "            list_parameters = list(list_behaviors.keys())\n",
    "            n_parameters = len(list_parameters)\n",
    "            model_label = model_plot.name\n",
    "            for index, parameter in enumerate(list_parameters):\n",
    "                plt.subplot(n_parameters, 1, index+1)\n",
    "                plt.plot(f_list, list_behaviors[parameter], label=model_label)\n",
    "                plt.xlabel('Volumic fraction of chosen inclusion')\n",
    "                plt.ylabel(parameter)\n",
    "                plt.grid(b=True)\n",
    "                #plt.title(\"Model comparison\")\n",
    "                plt.legend()\n",
    "        # Tracé des données des fichiers .txt\n",
    "        for data_name, data in list(dict_data.items()):\n",
    "            X, Y = data\n",
    "            plt.plot(X, Y, '.', label=data_name)\n",
    "        plt.legend()\n",
    "        plt.show()\n",
    "        # Bornes de Hashin TODO : list des paramètres avec index = indice du subplot du paramètre\n",
    "        \n",
    "        \n",
    "# Lecture des fichiers .txt\n",
    "def read_file(file_path):\n",
    "    \"\"\"\n",
    "    Fonction qui lit un fichier de data et renvoie la liste des abscisses X et la liste des ordonnées.\n",
    "    \"\"\"\n",
    "    X, Y = [], []\n",
    "    with open(file_path) as file:\n",
    "        lines = file.readlines()\n",
    "        for line in lines[1:]:\n",
    "            line = line.strip().split(',')\n",
    "            X.append(float(line[0]))\n",
    "            Y.append(float(line[1]))\n",
    "    return X, Y"
   ]
  },
  {
   "cell_type": "code",
   "execution_count": 13,
   "metadata": {},
   "outputs": [
    {
     "data": {
      "application/vnd.jupyter.widget-view+json": {
       "model_id": "7bb5ee2da3f94197b922d9ffb085c7f5",
       "version_major": 2,
       "version_minor": 0
      },
      "text/plain": [
       "Label(value=\"Select an inclusion, then click on 'Start comparing'. The results of the compared models will be …"
      ]
     },
     "metadata": {},
     "output_type": "display_data"
    },
    {
     "data": {
      "application/vnd.jupyter.widget-view+json": {
       "model_id": "f14512ad1c6348b88db550ba668aef61",
       "version_major": 2,
       "version_minor": 0
      },
      "text/plain": [
       "HBox(children=(Dropdown(layout=Layout(width='max-content'), options=(), value=None), Button(description='Start…"
      ]
     },
     "metadata": {},
     "output_type": "display_data"
    },
    {
     "data": {
      "application/vnd.jupyter.widget-view+json": {
       "model_id": "633a3b9592d748e1a36b1c20b00a1d94",
       "version_major": 2,
       "version_minor": 0
      },
      "text/plain": [
       "Label(value=\"Select a model to plot and click the 'Add model' button.\")"
      ]
     },
     "metadata": {},
     "output_type": "display_data"
    },
    {
     "data": {
      "application/vnd.jupyter.widget-view+json": {
       "model_id": "c393c7d9283841c897fec188e7c22ea0",
       "version_major": 2,
       "version_minor": 0
      },
      "text/plain": [
       "HBox(children=(Dropdown(options=(('Mori-Tanaka', Modèle de Mori-Tanaka), ('Eshelby', Modèle d'Eshelby'), ('Dif…"
      ]
     },
     "metadata": {},
     "output_type": "display_data"
    },
    {
     "data": {
      "application/vnd.jupyter.widget-view+json": {
       "model_id": "1cef6c41b2214da985fa0d5292fd9b28",
       "version_major": 2,
       "version_minor": 0
      },
      "text/plain": [
       "Label(value='Plot data from a text file.')"
      ]
     },
     "metadata": {},
     "output_type": "display_data"
    },
    {
     "data": {
      "application/vnd.jupyter.widget-view+json": {
       "model_id": "86a3e3e519a74e29bb56a2c2420286d2",
       "version_major": 2,
       "version_minor": 0
      },
      "text/plain": [
       "HBox(children=(Dropdown(options=('example.txt',), value='example.txt'), Button(description='Add data', style=B…"
      ]
     },
     "metadata": {},
     "output_type": "display_data"
    },
    {
     "data": {
      "application/vnd.jupyter.widget-view+json": {
       "model_id": "dc2680e11c3f4b4b8899fe2713c52d72",
       "version_major": 2,
       "version_minor": 0
      },
      "text/plain": [
       "Output()"
      ]
     },
     "metadata": {},
     "output_type": "display_data"
    }
   ],
   "source": [
    "out_graph = widgets.Output()\n",
    "dict_models = {} # Dictionnaire avec pour clés, les modèles ajoutés au graphe et pour valeurs, le dictionnaire des comportements homogénéisés en fonction de f ('paramètre': list of values)\n",
    "dict_data = {} # Dictionnaire avec pour clés, les noms des fichiers .txt ajoutés au graphe, et pour values, une liste de liste avec les valeurs de f et de paramètres\n",
    "\n",
    "# Choix de la fraction volumique à faire varier\n",
    "display(widgets.Label(value=\"Select an inclusion, then click on 'Start comparing'. The results of the compared models will be plotted against the volumic fraction of this inclusion.\"))\n",
    "w_inclusion = widgets.Dropdown(layout={'width': 'max-content'})\n",
    "w_setgraph = widgets.Button(description='Start comparing / Reset graph', layout={'width': 'max-content'})\n",
    "display(widgets.HBox([w_inclusion, w_setgraph]))\n",
    "\n",
    "\n",
    "# Mise à jour de la liste des inclusions lors de la génération d'une microstructure\n",
    "def update_inclusions_list(b):\n",
    "    \"\"\"\n",
    "    Routine appelée lors de l'appui sur le bouton 'Generate microstructure'.\n",
    "    Met à jour la liste des inclusions de la microstructure (widget w_inclusion).\n",
    "    \"\"\"\n",
    "    global dict_models, dict_data\n",
    "    inclusions = microstructure.dict_inclusions\n",
    "    w_inclusion.options = list(inclusions.keys())\n",
    "    out_graph.clear_output()\n",
    "    dict_models = {}\n",
    "    dict_data = {}\n",
    "\n",
    "if microstructure!= None:\n",
    "    # Condition permettant d'éviter l'erreur qui a lieu lorsque la section est compilée avant qu'une microstructure ne soit générée\n",
    "    update_inclusions_list(None)\n",
    "b_generate_structure.on_click(update_inclusions_list)\n",
    "\n",
    "# Calcul de la liste des fractions volumiques compatibles\n",
    "f_list = [] # Liste des fractions volumiques compatibles\n",
    "inclusion = None # Inclusion choisie\n",
    "def compute_f_list(b):\n",
    "    \"\"\"\n",
    "    Routine appelée lors de l'appui sur le bouton 'Start comparing'.\n",
    "    Récupère l'inclusion choisie, et calcule l'intervalle de fractions volumiques f_list compatible avec le reste des inclusions.\n",
    "    \"\"\"\n",
    "    global f_list, inclusion, dict_models, dict_data\n",
    "    inclusion = w_inclusion.value\n",
    "    # Calcul de f_max\n",
    "    f_max = 0.99\n",
    "    dict_inclusions = microstructure.dict_inclusions\n",
    "    for other_inclusion, f in list(dict_inclusions.items()):\n",
    "        if other_inclusion != inclusion:\n",
    "            f_max -= f\n",
    "    f_list = np.linspace(0.01, f_max, 200)\n",
    "    out_graph.clear_output()\n",
    "    dict_models = {}\n",
    "    dict_data = {}\n",
    "\n",
    "w_setgraph.on_click(compute_f_list)\n",
    "\n",
    "# Ajout de modèles\n",
    "display(widgets.Label(value=\"Select a model to plot and click the 'Add model' button.\"))\n",
    "w_addmodel = widgets.Button(description=\"Add model\")\n",
    "display(widgets.HBox([select_model, w_addmodel]))\n",
    "\n",
    "def plot_model(b):\n",
    "    \"\"\"\n",
    "    Routine appelée lors de l'appui sur le bouton 'Add model'.\n",
    "    Vérifie que le modèle choisi n'a pas déjà été ajouté au graphe et l'ajoute le cas échéant.\n",
    "    Met à jour le graphe.\n",
    "    \"\"\"\n",
    "    global dict_models, dict_data, f_list, inclusion\n",
    "    model = select_model.value\n",
    "    if model not in dict_models.keys():\n",
    "        microstructure1 = microstructure # Copie de la microstructure\n",
    "        # Calcul de la liste des comportements pour les différents f\n",
    "        list_behaviors = {}\n",
    "        for f in f_list:\n",
    "            microstructure1.dict_inclusions[inclusion] = f\n",
    "            h_behavior = model.compute_h_behavior(microstructure)\n",
    "            for parameter, value in h_behavior.items():\n",
    "                if parameter not in list_behaviors.keys():\n",
    "                    # Le paramètre est rencontré pour la première fois\n",
    "                    list_behaviors[parameter] = [value]\n",
    "                else:\n",
    "                    list_behaviors[parameter].append(value)\n",
    "        dict_models[model] = list_behaviors\n",
    "        draw_all_data(out_graph, dict_models, f_list, dict_data)\n",
    "            \n",
    "w_addmodel.on_click(plot_model)\n",
    "\n",
    "# Ajout de données depuis un fichier texte\n",
    "#TODO description du format\n",
    "#TODO gestion des erreurs de formattage des fichiers d'entrée\n",
    "display(widgets.Label(value=\"Plot data from a text file.\"))\n",
    "list_files = listdir('model_comparison/')\n",
    "w_file = widgets.Dropdown(options=[file for file in list_files if file.endswith('.txt')])\n",
    "w_add_data = widgets.Button(description=\"Add data\")\n",
    "display(widgets.HBox([w_file, w_add_data]))\n",
    "\n",
    "def plot_data(b):\n",
    "    \"\"\"\n",
    "    Routine appelée lors de l'appui sur le bouton 'Add data'.\n",
    "    Vérifie que le fichier choisi n'a pas déjà été ajouté au graphe et l'ajoute le cas échéant.\n",
    "    Met à jour le graphe.\n",
    "    TODO : Pareil avec plusieurs paramètres\n",
    "    \"\"\"\n",
    "    global dict_models, dict_data, f_list, inclusion\n",
    "    file_name = w_file.value[:-4]\n",
    "    if file_name not in dict_data.keys():\n",
    "        # TODO : lecture du fichier, récupération de la liste f et de la liste des ordonnées, update dict_data, appel de draw_all_data.\n",
    "        f, Y = read_file('model_comparison/' + w_file.value)\n",
    "        dict_data[file_name] = [f, Y]\n",
    "        draw_all_data(out_graph, dict_models, f_list, dict_data)\n",
    "\n",
    "w_add_data.on_click(plot_data)\n",
    "display(out_graph)\n",
    "\n",
    "# TODO : retravailler le format des données data"
   ]
  },
  {
   "cell_type": "markdown",
   "metadata": {},
   "source": [
    "---"
   ]
  },
  {
   "cell_type": "markdown",
   "metadata": {},
   "source": [
    "## IV- Calculs automatisés depuis un fichier texte\n",
    "TODO : Description de la section\n",
    "\n",
    "TODO : Décrire les fichiers compatibles et le format voulu, demander à l'utilisateur de mettre ses fichiers dans le dossier inputs \n",
    "\n",
    "TODO : Réfléchir à un format pertinent des fichiers d'entrée \n",
    "\n",
    "TODO : Ajout d'une barre de progression (utile pour les longs fichiers)"
   ]
  },
  {
   "cell_type": "code",
   "execution_count": null,
   "metadata": {},
   "outputs": [],
   "source": [
    "list_inputs = [] # Liste des fichiers compatibles avec le format présents dans le dossier 'inputs'\n",
    "folder = 'inputs/'\n",
    "\n",
    "# Recherche de fichiers\n",
    "def compatible_file(file_name, folder):\n",
    "    \"\"\"\n",
    "    Fonction qui vérifies si un fichier donné 'file_name' (str) dans le dossier 'folder' correspond au format.\n",
    "    Cette fonction vérifie uniquement si le fichier est bien un fichier texte et si sa première ligne est '*homogeneisation'.\n",
    "    Renvoie True si le fichier est compatible et False sinon.\n",
    "    \"\"\"\n",
    "    result = True # Initialisation\n",
    "    # Test du nom du fichier\n",
    "    if len(file_name)<5 or file_name[-4:]!='.txt':\n",
    "        result = False\n",
    "    else:\n",
    "        # Lecture de la première ligne\n",
    "        with open(folder+file_name, 'r') as file:\n",
    "            line = file.readline()\n",
    "            if line.strip() != '*homogeneisation':\n",
    "                result = False\n",
    "    return result\n",
    "\n",
    "def check_files(folder = 'inputs/'):\n",
    "    \"\"\"\n",
    "    Routine qui met à jour la liste 'list_inputs' des fichiers compatibles dans le dossier 'inputs'.\n",
    "    Appelée lors de l'appui sur le bouton 'refresh list' plus bas.\n",
    "    \"\"\"\n",
    "    global list_inputs\n",
    "    list_inputs_raw = listdir(folder)\n",
    "    list_inputs = [] # Réinitialisation de la liste\n",
    "    for file_name in list_inputs_raw:\n",
    "        if compatible_file(file_name, folder):\n",
    "            list_inputs.append(file_name)\n",
    "\n",
    "# Lecture des fichiers et calcul des comportement homogénéisés\n",
    "def read_file(b):\n",
    "    \"\"\"\n",
    "    Routine appelée lors d'un appui sur le bouton 'Generate output file'.\n",
    "    Lis le nom du fichier choisi par l'utilisateur. Ouvre et lit le fichier.\n",
    "    Affiche un message à l'utilisateur si une erreur est détectée.\n",
    "    Sinon, calcule le comportement homogénéisé de chaque microstructure et crée un fichier de sortie dans le dossier 'outputs'.\n",
    "    \"\"\"\n",
    "    folder_in = 'inputs/'\n",
    "    folder_out = 'outputs/'\n",
    "    file_name = w_file.value\n",
    "    out_file.clear_output()\n",
    "    read_matrix = False # Définit si la ligne lue correspond à la définition d'une nouvelle microstructure ou d'une inclusion.\n",
    "    read_model = True # Définit si la ligne lue correspond à la définition d'un modèle.\n",
    "    dict_inclusions = {}\n",
    "    n = 0\n",
    "    # Initialisation du fichier de sortie\n",
    "    with open(folder_out+'out_'+file_name, 'w') as file_out:\n",
    "        None\n",
    "    # lecture du fichier d'entrée\n",
    "    with open(folder_in+file_name, 'r') as file:\n",
    "        lines = file.readlines()\n",
    "        for n_line, line in enumerate(lines[1:]):\n",
    "            try:\n",
    "                if read_model:\n",
    "                    # Définition du modèle\n",
    "                    model_name = line.strip()\n",
    "                    model = str_to_model(model_name)\n",
    "                    # Passage à la ligne suivante\n",
    "                    read_model = False\n",
    "                    read_matrix = True\n",
    "                elif read_matrix:\n",
    "                    # Lecture du comportement de la matrice\n",
    "                    matrix_behavior = {}\n",
    "                    line1 = line.strip().split(',')\n",
    "                    for parameter in line1:\n",
    "                        parameter = parameter.split(':')\n",
    "                        matrix_behavior[parameter[0]] = float(parameter[1])\n",
    "                    # Passage à la ligne suivante\n",
    "                    read_matrix = False\n",
    "                elif line.strip() == '*':\n",
    "                    # Calcul de la microstructure précédente\n",
    "                    microstructure = Microstructure(matrix_behavior, dict_inclusions)\n",
    "                    behavior_h = model.compute_h_behavior(microstructure)\n",
    "                    # Écriture du comportement dans le fichier de sortie\n",
    "                    with open(folder_out+'out_'+file_name, 'a') as file_out:\n",
    "                        file_out.write('Essai {}\\n'.format(n))\n",
    "                        file_out.write(str(behavior_h)+'\\n')\n",
    "                    # Passage à la ligne suivante\n",
    "                    read_model = True\n",
    "                    dict_inclusions = {}\n",
    "                    n += 1\n",
    "                else:\n",
    "                    # Lecture d'une inclusion\n",
    "                    line1 = line.strip().split(',')\n",
    "                    type_inclusion = line1[0]\n",
    "                    f = line1[-1] # Fraction volumique\n",
    "                    inclusion_behavior = {}\n",
    "                    for parameter in line1[1:-1]:\n",
    "                        parameter = parameter.strip().split(':')\n",
    "                        inclusion_behavior[parameter[0]] = float(parameter[1])\n",
    "                    # Génération de l'inclusion\n",
    "                    inclusion = Inclusion(int(type_inclusion), inclusion_behavior)\n",
    "                    dict_inclusions[inclusion] = float(f)\n",
    "            except:\n",
    "                with out_file:\n",
    "                    print(\"Error on line {} : {} \".format(n_line+1, line))\n",
    "                    return None\n",
    "    with out_file:\n",
    "        print(\"Output file generated in the 'outputs' folder \")"
   ]
  },
  {
   "cell_type": "code",
   "execution_count": null,
   "metadata": {},
   "outputs": [],
   "source": [
    "def refresh(b):\n",
    "    \"\"\"\n",
    "    Routine appelée lors d'un appui sur le bouton 'Refresh input files'. \n",
    "    Met à jour la liste des fichiers d'input compatibles et met à jour le widget de sélection.\n",
    "    \"\"\"\n",
    "    check_files()\n",
    "    w_file.options = list_inputs\n",
    "\n",
    "b_refresh = widgets.Button(description='Refresh input files list')\n",
    "display(b_refresh)\n",
    "w_label = widgets.Label(value='Choose an input file :')\n",
    "w_file = widgets.Dropdown(options=list_inputs)\n",
    "refresh(None) # Mise à jour de la liste des fichiers d'entrée disponibles\n",
    "b_compute = widgets.Button(description='Generate output file')\n",
    "display(widgets.HBox([w_label, w_file, b_compute]))\n",
    "out_file = widgets.Output(layout={'width': 'max-content', 'border': '1px solid #FF625BF5'})\n",
    "display(out_file)\n",
    "out_file.clear_output()\n",
    "with out_file:\n",
    "    print(\"Press 'Generate output file' to compute \")\n",
    "    \n",
    "b_refresh.on_click(refresh)\n",
    "b_compute.on_click(read_file)\n",
    "\n",
    "message = \"\"\"If your file does not appear :\n",
    "- Check that it is a '.txt' file and that its first line is '*homogeneisation',\n",
    "- Check that your file is in the 'inputs' folder,\n",
    "- Press the 'Refresh input files list' button.\"\"\"\n",
    "\n",
    "print(message)\n"
   ]
  },
  {
   "cell_type": "markdown",
   "metadata": {},
   "source": [
    "---"
   ]
  },
  {
   "cell_type": "markdown",
   "metadata": {},
   "source": [
    "## V- Description des modèles\n",
    "\n",
    "Pour ajouter un modèle, écrire simplement sa description dans un fichier Markdown (.md) dans le dossier 'model_descriptions'. \n",
    "\n",
    "La première ligne doit être de la forme :\n",
    "\n",
    "'# Nom du modèle'\n"
   ]
  },
  {
   "cell_type": "code",
   "execution_count": null,
   "metadata": {},
   "outputs": [],
   "source": [
    "from IPython.display import Latex, Markdown\n",
    "from os import listdir\n",
    "\n",
    "# Récupération des fichiers de description des modèles  \n",
    "folder = 'model_descriptions/'\n",
    "folder_files = listdir(folder)\n",
    "descriptions = [] # Liste des fichiers correspondants aux modèles décrits, sous la forme [('nom modèle', chemin_fichier)]\n",
    "for file_name in folder_files:\n",
    "    if file_name.endswith('.md'):\n",
    "        path = folder + file_name\n",
    "        with open(path, 'r') as opened_file:\n",
    "            title = opened_file.readline()\n",
    "        model_name = title[2:].strip() # Suppression des caractères '# ' au début du titre\n",
    "        descriptions.append((model_name, path))"
   ]
  },
  {
   "cell_type": "code",
   "execution_count": null,
   "metadata": {},
   "outputs": [],
   "source": [
    "# Affichage de la description\n",
    "w_description = widgets.Dropdown(options=descriptions)\n",
    "display(w_description)\n",
    "out_description = widgets.Output(layout={'border': '1px solid #FF625BF5'})\n",
    "display(out_description)\n",
    "\n",
    "def display_description(change):\n",
    "    \"\"\"\n",
    "    Fonction appelée lors d'un changement de value du widget w_description.\n",
    "    Récupère le modèle choisi et affiche sa description.\n",
    "    \"\"\"\n",
    "    out_description.clear_output()\n",
    "    file_name = w_description.value\n",
    "    with open(file_name, 'r') as file:\n",
    "        description = file.read()\n",
    "        with out_description:\n",
    "            display(Markdown(description))\n",
    "            \n",
    "display_description(None)\n",
    "w_description.observe(display_description, names='value')\n"
   ]
  },
  {
   "cell_type": "markdown",
   "metadata": {},
   "source": [
    "---"
   ]
  },
  {
   "cell_type": "markdown",
   "metadata": {},
   "source": [
    "# Tests "
   ]
  },
  {
   "cell_type": "code",
   "execution_count": 14,
   "metadata": {},
   "outputs": [],
   "source": [
    "# Fonction de tracé\n",
    "import warnings\n",
    "import matplotlib.cbook\n",
    "warnings.filterwarnings(\"ignore\",category=matplotlib.cbook.mplDeprecation) #Désactive le message de warning de matplotlib \n",
    "\n",
    "def draw_all_data(w_out, dict_models, f_list, dict_data):\n",
    "    \"\"\"\n",
    "    Fonction qui trace le graphe des données contenues dans les deux dictionnaires en entrée dans le widgets de type output w_out.\n",
    "    Les dictionnaires sont définis dans la section suivante.\n",
    "    \"\"\"\n",
    "    out_graph.clear_output()\n",
    "    with w_out:\n",
    "        plt.figure()\n",
    "        # Tracé des modèles\n",
    "        for model_plot, list_behaviors in dict_models.items():\n",
    "            list_parameters = list(list_behaviors.keys())\n",
    "            n_parameters = len(list_parameters)\n",
    "            model_label = model_plot.name\n",
    "            f, axs = plt.subplots(2,2,figsize=(15,15))\n",
    "            for index, parameter in enumerate(list_parameters):\n",
    "                plt.subplot(2, 2, index+1)\n",
    "                plt.plot(f_list, list_behaviors[parameter], label=model_label)\n",
    "                plt.xlabel('Volumic fraction of chosen inclusion')\n",
    "                plt.ylabel(parameter)\n",
    "                plt.grid(b=True)\n",
    "                #plt.title(\"Model comparison\")\n",
    "                plt.legend()\n",
    "        # Tracé des données des fichiers .txt\n",
    "        for data_name, data in list(dict_data.items()):\n",
    "            X, Y = data\n",
    "            plt.plot(X, Y, '.', label=data_name)\n",
    "        plt.legend()\n",
    "        plt.show()\n",
    "        # Bornes de Hashin TODO : Adapter au cas non isotrope en créant un dictionnaire de subplots\n",
    "        \n",
    "        \n",
    "# Lecture des fichiers .txt\n",
    "def read_file(file_path):\n",
    "    \"\"\"\n",
    "    Fonction qui lit un fichier de data et renvoie la liste des abscisses X et la liste des ordonnées.\n",
    "    \"\"\"\n",
    "    X, Y = [], []\n",
    "    with open(file_path) as file:\n",
    "        lines = file.readlines()\n",
    "        for line in lines[1:]:\n",
    "            line = line.strip().split(',')\n",
    "            X.append(float(line[0]))\n",
    "            Y.append(float(line[1]))\n",
    "    return X, Y"
   ]
  },
  {
   "cell_type": "code",
   "execution_count": 15,
   "metadata": {},
   "outputs": [
    {
     "data": {
      "application/vnd.jupyter.widget-view+json": {
       "model_id": "b95a44ff707e48be8f6fc2d5efb0ef5c",
       "version_major": 2,
       "version_minor": 0
      },
      "text/plain": [
       "Label(value=\"Select an inclusion, then click on 'Start comparing'. The results of the compared models will be …"
      ]
     },
     "metadata": {},
     "output_type": "display_data"
    },
    {
     "data": {
      "application/vnd.jupyter.widget-view+json": {
       "model_id": "09f4ece543cc4b47b090f95b755d3a3c",
       "version_major": 2,
       "version_minor": 0
      },
      "text/plain": [
       "HBox(children=(Dropdown(layout=Layout(width='max-content'), options=(), value=None), Button(description='Start…"
      ]
     },
     "metadata": {},
     "output_type": "display_data"
    },
    {
     "data": {
      "application/vnd.jupyter.widget-view+json": {
       "model_id": "6d997aabc4dc4321b4b31c34edb9eb10",
       "version_major": 2,
       "version_minor": 0
      },
      "text/plain": [
       "Label(value=\"Select a model to plot and click the 'Add model' button.\")"
      ]
     },
     "metadata": {},
     "output_type": "display_data"
    },
    {
     "data": {
      "application/vnd.jupyter.widget-view+json": {
       "model_id": "9e1625bbe41d4d4093e9406f9dd684be",
       "version_major": 2,
       "version_minor": 0
      },
      "text/plain": [
       "HBox(children=(Dropdown(options=(('Mori-Tanaka', Modèle de Mori-Tanaka), ('Eshelby', Modèle d'Eshelby'), ('Dif…"
      ]
     },
     "metadata": {},
     "output_type": "display_data"
    },
    {
     "data": {
      "application/vnd.jupyter.widget-view+json": {
       "model_id": "56fe3c29c1e7494ebbd7223ba0ff278c",
       "version_major": 2,
       "version_minor": 0
      },
      "text/plain": [
       "Label(value='Plot data from a text file.')"
      ]
     },
     "metadata": {},
     "output_type": "display_data"
    },
    {
     "data": {
      "application/vnd.jupyter.widget-view+json": {
       "model_id": "9f4bdf2dfd1840729e5c49bfa212f609",
       "version_major": 2,
       "version_minor": 0
      },
      "text/plain": [
       "HBox(children=(Dropdown(options=('example.txt',), value='example.txt'), Button(description='Add data', style=B…"
      ]
     },
     "metadata": {},
     "output_type": "display_data"
    },
    {
     "data": {
      "application/vnd.jupyter.widget-view+json": {
       "model_id": "de7ab6db8f2f4ae3aaac56d0ceaba70e",
       "version_major": 2,
       "version_minor": 0
      },
      "text/plain": [
       "Output()"
      ]
     },
     "metadata": {},
     "output_type": "display_data"
    }
   ],
   "source": [
    "# TODO : reprendre tout en sauvegardant les associations subplots - paramètres et sans effacer sans cesse les graphes\n",
    "\n",
    "out_graph = widgets.Output()\n",
    "dict_models = {} # Dictionnaire avec pour clés, les modèles ajoutés au graphe et pour valeurs, le dictionnaire des comportements homogénéisés en fonction de f ('paramètre': list of values)\n",
    "dict_data = {} # Dictionnaire avec pour clés, les noms des fichiers .txt ajoutés au graphe, et pour values, une liste de liste avec les valeurs de f et de paramètres\n",
    "\n",
    "# Choix de la fraction volumique à faire varier\n",
    "display(widgets.Label(value=\"Select an inclusion, then click on 'Start comparing'. The results of the compared models will be plotted against the volumic fraction of this inclusion.\"))\n",
    "w_inclusion = widgets.Dropdown(layout={'width': 'max-content'})\n",
    "w_setgraph = widgets.Button(description='Start comparing / Reset graph', layout={'width': 'max-content'})\n",
    "display(widgets.HBox([w_inclusion, w_setgraph]))\n",
    "\n",
    "\n",
    "# Mise à jour de la liste des inclusions lors de la génération d'une microstructure\n",
    "def update_inclusions_list(b):\n",
    "    \"\"\"\n",
    "    Routine appelée lors de l'appui sur le bouton 'Generate microstructure'.\n",
    "    Met à jour la liste des inclusions de la microstructure (widget w_inclusion).\n",
    "    \"\"\"\n",
    "    global dict_models, dict_data\n",
    "    inclusions = microstructure.dict_inclusions\n",
    "    w_inclusion.options = list(inclusions.keys())\n",
    "    out_graph.clear_output()\n",
    "    dict_models = {}\n",
    "    dict_data = {}\n",
    "\n",
    "if microstructure!= None:\n",
    "    # Condition permettant d'éviter l'erreur qui a lieu lorsque la section est compilée avant qu'une microstructure ne soit générée\n",
    "    update_inclusions_list(None)\n",
    "b_generate_structure.on_click(update_inclusions_list)\n",
    "\n",
    "# Calcul de la liste des fractions volumiques compatibles\n",
    "f_list = [] # Liste des fractions volumiques compatibles\n",
    "inclusion = None # Inclusion choisie\n",
    "def compute_f_list(b):\n",
    "    \"\"\"\n",
    "    Routine appelée lors de l'appui sur le bouton 'Start comparing'.\n",
    "    Récupère l'inclusion choisie, et calcule l'intervalle de fractions volumiques f_list compatible avec le reste des inclusions.\n",
    "    \"\"\"\n",
    "    global f_list, inclusion, dict_models, dict_data\n",
    "    inclusion = w_inclusion.value\n",
    "    # Calcul de f_max\n",
    "    f_max = 0.99\n",
    "    dict_inclusions = microstructure.dict_inclusions\n",
    "    for other_inclusion, f in list(dict_inclusions.items()):\n",
    "        if other_inclusion != inclusion:\n",
    "            f_max -= f\n",
    "    f_list = np.linspace(0.01, f_max, 200)\n",
    "    out_graph.clear_output()\n",
    "    dict_models = {}\n",
    "    dict_data = {}\n",
    "\n",
    "w_setgraph.on_click(compute_f_list)\n",
    "\n",
    "# Ajout de modèles\n",
    "display(widgets.Label(value=\"Select a model to plot and click the 'Add model' button.\"))\n",
    "w_addmodel = widgets.Button(description=\"Add model\")\n",
    "display(widgets.HBox([select_model, w_addmodel]))\n",
    "\n",
    "def plot_model(b):\n",
    "    \"\"\"\n",
    "    Routine appelée lors de l'appui sur le bouton 'Add model'.\n",
    "    Vérifie que le modèle choisi n'a pas déjà été ajouté au graphe et l'ajoute le cas échéant.\n",
    "    Met à jour le graphe.\n",
    "    \"\"\"\n",
    "    global dict_models, dict_data, f_list, inclusion\n",
    "    model = select_model.value\n",
    "    if model not in dict_models.keys():\n",
    "        microstructure1 = microstructure # Copie de la microstructure\n",
    "        # Calcul de la liste des comportements pour les différents f\n",
    "        list_behaviors = {}\n",
    "        for f in f_list:\n",
    "            microstructure1.dict_inclusions[inclusion] = f\n",
    "            h_behavior = model.compute_h_behavior(microstructure)\n",
    "            for parameter, value in h_behavior.items():\n",
    "                if parameter not in list_behaviors.keys():\n",
    "                    # Le paramètre est rencontré pour la première fois\n",
    "                    list_behaviors[parameter] = [value]\n",
    "                else:\n",
    "                    list_behaviors[parameter].append(value)\n",
    "        dict_models[model] = list_behaviors\n",
    "        draw_all_data(out_graph, dict_models, f_list, dict_data)\n",
    "            \n",
    "w_addmodel.on_click(plot_model)\n",
    "\n",
    "# Ajout de données depuis un fichier texte\n",
    "#TODO description du format\n",
    "#TODO gestion des erreurs de formattage des fichiers d'entrée\n",
    "display(widgets.Label(value=\"Plot data from a text file.\"))\n",
    "list_files = listdir('model_comparison/')\n",
    "w_file = widgets.Dropdown(options=[file for file in list_files if file.endswith('.txt')])\n",
    "w_add_data = widgets.Button(description=\"Add data\")\n",
    "display(widgets.HBox([w_file, w_add_data]))\n",
    "\n",
    "def plot_data(b):\n",
    "    \"\"\"\n",
    "    Routine appelée lors de l'appui sur le bouton 'Add data'.\n",
    "    Vérifie que le fichier choisi n'a pas déjà été ajouté au graphe et l'ajoute le cas échéant.\n",
    "    Met à jour le graphe.\n",
    "    TODO : Pareil avec plusieurs paramètres\n",
    "    \"\"\"\n",
    "    global dict_models, dict_data, f_list, inclusion\n",
    "    file_name = w_file.value[:-4]\n",
    "    if file_name not in dict_data.keys():\n",
    "        f, Y = read_file('model_comparison/' + w_file.value)\n",
    "        dict_data[file_name] = [f, Y]\n",
    "        draw_all_data(out_graph, dict_models, f_list, dict_data)\n",
    "\n",
    "w_add_data.on_click(plot_data)\n",
    "display(out_graph)\n",
    "\n",
    "# TODO : retravailler le format des données data"
   ]
  },
  {
   "cell_type": "code",
   "execution_count": 17,
   "metadata": {},
   "outputs": [
    {
     "data": {
      "image/png": "[encoded data removed]",
      "text/plain": [
       "<Figure size 432x288 with 1 Axes>"
      ]
     },
     "metadata": {
      "needs_background": "light"
     },
     "output_type": "display_data"
    },
    {
     "data": {
      "image/png": "[encoded data removed]",
      "text/plain": [
       "<Figure size 432x288 with 1 Axes>"
      ]
     },
     "metadata": {
      "needs_background": "light"
     },
     "output_type": "display_data"
    }
   ],
   "source": [
    "X = np.linspace(0,10,11)\n",
    "Y = 2*X\n",
    "Z = 3*X\n",
    "plt.subplot(1,2,1)\n",
    "plt.plot(X,Y, label=\"Y\")\n",
    "plt.legend()\n",
    "plt.show()\n",
    "plt.subplot(1,2,2)\n",
    "plt.plot(X,Z,label=\"Z\")\n",
    "plt.legend()\n",
    "plt.show()\n"
   ]
  },
  {
   "cell_type": "code",
   "execution_count": 18,
   "metadata": {},
   "outputs": [],
   "source": [
    "# Fonction de tracé\n",
    "import warnings\n",
    "import matplotlib.cbook\n",
    "warnings.filterwarnings(\"ignore\",category=matplotlib.cbook.mplDeprecation) # Désactive le message de warning de matplotlib \n",
    "        \n",
    "# Lecture des fichiers .txt\n",
    "def read_file(file_path):\n",
    "    \"\"\"\n",
    "    Fonction qui lit un fichier de data et renvoie la liste des abscisses X et la liste des ordonnées.\n",
    "    \"\"\"\n",
    "    X, Y = [], []\n",
    "    with open(file_path) as file:\n",
    "        lines = file.readlines()\n",
    "        for line in lines[1:]:\n",
    "            line = line.strip().split(',')\n",
    "            X.append(float(line[0]))\n",
    "            Y.append(float(line[1]))\n",
    "    return X, Y"
   ]
  },
  {
   "cell_type": "code",
   "execution_count": 19,
   "metadata": {},
   "outputs": [
    {
     "data": {
      "application/vnd.jupyter.widget-view+json": {
       "model_id": "6714fdc90c3c45d082c78dbcba932c71",
       "version_major": 2,
       "version_minor": 0
      },
      "text/plain": [
       "Label(value=\"Select an inclusion, then click on 'Start comparing'. The results of the compared models will be …"
      ]
     },
     "metadata": {},
     "output_type": "display_data"
    },
    {
     "data": {
      "application/vnd.jupyter.widget-view+json": {
       "model_id": "076eba8d80f346cbb7eaf745756e4734",
       "version_major": 2,
       "version_minor": 0
      },
      "text/plain": [
       "HBox(children=(Dropdown(layout=Layout(width='max-content'), options=(), value=None), Button(description='Start…"
      ]
     },
     "metadata": {},
     "output_type": "display_data"
    },
    {
     "data": {
      "application/vnd.jupyter.widget-view+json": {
       "model_id": "ba0fb54d7f5d43edb601655387422593",
       "version_major": 2,
       "version_minor": 0
      },
      "text/plain": [
       "Label(value=\"Select a model to plot and click the 'Add model' button.\")"
      ]
     },
     "metadata": {},
     "output_type": "display_data"
    },
    {
     "data": {
      "application/vnd.jupyter.widget-view+json": {
       "model_id": "4d15e75a308d4655a0fde632b5d5f176",
       "version_major": 2,
       "version_minor": 0
      },
      "text/plain": [
       "HBox(children=(Dropdown(options=(('Mori-Tanaka', Modèle de Mori-Tanaka), ('Eshelby', Modèle d'Eshelby'), ('Dif…"
      ]
     },
     "metadata": {},
     "output_type": "display_data"
    },
    {
     "data": {
      "application/vnd.jupyter.widget-view+json": {
       "model_id": "438d0b34e41b454d90d0da88e591e632",
       "version_major": 2,
       "version_minor": 0
      },
      "text/plain": [
       "Label(value='Plot data from a text file.')"
      ]
     },
     "metadata": {},
     "output_type": "display_data"
    },
    {
     "data": {
      "application/vnd.jupyter.widget-view+json": {
       "model_id": "6a0f751fcd8a4e5682afa62e151e07bd",
       "version_major": 2,
       "version_minor": 0
      },
      "text/plain": [
       "HBox(children=(Dropdown(options=('example.txt',), value='example.txt'), Button(description='Add data', style=B…"
      ]
     },
     "metadata": {},
     "output_type": "display_data"
    },
    {
     "data": {
      "application/vnd.jupyter.widget-view+json": {
       "model_id": "af6ff71be0e94448b95a9a4c6a1dba3f",
       "version_major": 2,
       "version_minor": 0
      },
      "text/plain": [
       "Output()"
      ]
     },
     "metadata": {},
     "output_type": "display_data"
    }
   ],
   "source": [
    "out_graph = widgets.Output()\n",
    "plotted = [] # Liste des modèles et nom des fichiers déjà tracés, permet de vérifier que le modèle/le fichier selectionné n'a pas été tracé\n",
    "subplots = {} # Associe les paramètres aux numéros des subplots {\"parameter\": index} TODO : choix des paramètres par l'utilisateur\n",
    "%matplotlib inline\n",
    "\n",
    "# Choix de la fraction volumique à faire varier\n",
    "display(widgets.Label(value=\"Select an inclusion, then click on 'Start comparing'. The results of the compared models will be plotted against the volumic fraction of this inclusion.\"))\n",
    "w_inclusion = widgets.Dropdown(layout={'width': 'max-content'})\n",
    "w_setgraph = widgets.Button(description='Start comparing / Reset graph', layout={'width': 'max-content'})\n",
    "display(widgets.HBox([w_inclusion, w_setgraph]))\n",
    "\n",
    "# Mise à jour de la liste des inclusions lors de la génération d'une microstructure\n",
    "def update_inclusions_list(b):\n",
    "    \"\"\"\n",
    "    Routine appelée lors de l'appui sur le bouton 'Generate microstructure'.\n",
    "    Met à jour la liste des inclusions de la microstructure (widget w_inclusion).\n",
    "    \"\"\"\n",
    "    global plotted, subplots\n",
    "    inclusions = microstructure.dict_inclusions\n",
    "    w_inclusion.options = list(inclusions.keys())\n",
    "    out_graph.clear_output()\n",
    "    plotted = []\n",
    "    subplots = {}\n",
    "\n",
    "if microstructure != None:\n",
    "    # Condition permettant d'éviter l'erreur qui a lieu lorsque la section est compilée avant qu'une microstructure ne soit générée\n",
    "    update_inclusions_list(None)\n",
    "b_generate_structure.on_click(update_inclusions_list)\n",
    "\n",
    "# Calcul de la liste des fractions volumiques compatibles\n",
    "f_list = [] # Liste des fractions volumiques compatibles\n",
    "inclusion = None # Inclusion choisie\n",
    "\n",
    "def compute_f_list(b):\n",
    "    \"\"\"\n",
    "    Routine appelée lors de l'appui sur le bouton 'Start comparing'.\n",
    "    Récupère l'inclusion choisie, et calcule l'intervalle de fractions volumiques f_list compatible avec le reste des inclusions.\n",
    "    \"\"\"\n",
    "    global f_list, inclusion, plotted, subplots\n",
    "    inclusion = w_inclusion.value\n",
    "    # Calcul de f_max tel que la somme des f des inclusions n'excède pas 1\n",
    "    f_max = 0.99\n",
    "    dict_inclusions = microstructure.dict_inclusions\n",
    "    for other_inclusion, f in list(dict_inclusions.items()):\n",
    "        if other_inclusion != inclusion:\n",
    "            f_max -= f\n",
    "    f_list = np.linspace(0.01, f_max, 200)\n",
    "    out_graph.clear_output()\n",
    "    plotted = []\n",
    "    subplots = {}\n",
    "\n",
    "w_setgraph.on_click(compute_f_list)\n",
    "\n",
    "# Ajout de modèles\n",
    "display(widgets.Label(value=\"Select a model to plot and click the 'Add model' button.\"))\n",
    "w_addmodel = widgets.Button(description=\"Add model\")\n",
    "display(widgets.HBox([select_model, w_addmodel]))\n",
    "\n",
    "def plot_model():\n",
    "    \"\"\"\n",
    "    Routine appelée lors de l'appui sur le bouton 'Add model'.\n",
    "    Vérifie que le modèle choisi n'a pas déjà été ajouté au graphe et l'ajoute le cas échéant.\n",
    "    \"\"\"\n",
    "    global plotted, f_list, inclusion, subplots\n",
    "    for model in plotted:\n",
    "        plotted.append(model)\n",
    "        microstructure1 = microstructure # Copie de la microstructure\n",
    "        # Calcul de la liste des comportements pour les différents f. Format : {'parameter': [value(f)]}\n",
    "        behaviors = {}\n",
    "        for f in f_list:\n",
    "            microstructure1.dict_inclusions[inclusion] = f\n",
    "            h_behavior = model.compute_h_behavior(microstructure)\n",
    "            for parameter, value in h_behavior.items():\n",
    "                if parameter not in behaviors.keys():\n",
    "                    # Le paramètre est rencontré pour la première fois\n",
    "                    behaviors[parameter] = [value]\n",
    "                else:\n",
    "                    behaviors[parameter].append(value)\n",
    "        # Création du dictionnaire subplots\n",
    "        if subplots == {}:\n",
    "            subplots = {parameter: index+1 for (index, parameter) in enumerate(list(behaviors.keys()))}\n",
    "        # Tracé du modèle\n",
    "        n = len(subplots.keys())\n",
    "        out_graph.clear_output()\n",
    "        for parameter in subplots.keys():\n",
    "            subplot = subplots[parameter]\n",
    "            with out_graph:\n",
    "                plt.subplot(n, 1, subplot)\n",
    "                plt.plot(f_list, behaviors[parameter], label=model.name)\n",
    "                plt.xlabel('Volumic fraction')\n",
    "                plt.ylabel(parameter)\n",
    "                plt.legend()\n",
    "                plt.grid(b=True)\n",
    "                plt.show()\n",
    "\n",
    "def add_model(b):\n",
    "    \"\"\"\n",
    "    Ajoute le modèle à la liste plotted.\n",
    "    \"\"\"\n",
    "    global plotted\n",
    "    model = select_model.value\n",
    "    if model not in plotted:\n",
    "        plotted.append(model)\n",
    "        plot_model()\n",
    "        \n",
    "w_addmodel.on_click(add_model)\n",
    "\n",
    "# Ajout de données depuis un fichier texte\n",
    "#TODO description du format\n",
    "#TODO gestion des erreurs de formattage des fichiers d'entrée\n",
    "display(widgets.Label(value=\"Plot data from a text file.\"))\n",
    "list_files = listdir('model_comparison/')\n",
    "w_file = widgets.Dropdown(options=[file for file in list_files if file.endswith('.txt')])\n",
    "w_add_data = widgets.Button(description=\"Add data\")\n",
    "display(widgets.HBox([w_file, w_add_data]))\n",
    "\n",
    "def plot_data(b):\n",
    "    \"\"\"\n",
    "    Routine appelée lors de l'appui sur le bouton 'Add data'.\n",
    "    Vérifie que le fichier choisi n'a pas déjà été ajouté au graphe et l'ajoute le cas échéant.\n",
    "    Met à jour le graphe.\n",
    "    TODO : Pareil avec plusieurs paramètres\n",
    "    \"\"\"\n",
    "    global dict_models, dict_data, f_list, inclusion\n",
    "    file_name = w_file.value[:-4]\n",
    "    if file_name not in dict_data.keys():\n",
    "        f, Y = read_file('model_comparison/' + w_file.value)\n",
    "        dict_data[file_name] = [f, Y]\n",
    "        draw_all_data(out_graph, dict_models, f_list, dict_data)\n",
    "\n",
    "w_add_data.on_click(plot_data)\n",
    "display(out_graph)\n",
    "\n",
    "# TODO : retravailler le format des données data"
   ]
  },
  {
   "cell_type": "markdown",
   "metadata": {},
   "source": [
    "# Nouvelle structure"
   ]
  },
  {
   "cell_type": "code",
   "execution_count": 54,
   "metadata": {},
   "outputs": [],
   "source": [
    "# Fonction de tracé\n",
    "import warnings\n",
    "import matplotlib.cbook\n",
    "warnings.filterwarnings(\"ignore\",category=matplotlib.cbook.mplDeprecation) #Désactive le message de warning de matplotlib \n",
    "\n",
    "def draw_all_data(subplots):\n",
    "    \"\"\"\n",
    "    Fonction qui trace le graphe des données dans la base de données subplots, dans le widgets de type output w_out.\n",
    "    Le format de la bdd est explicité dans la section suivante.\n",
    "    \"\"\"\n",
    "    out_graph.clear_output()\n",
    "    # Calcul du nombre de subplots\n",
    "    parameters = list(subplots.keys())\n",
    "    n_parameters = len(parameters)\n",
    "    n_lines = n_parameters//2\n",
    "    if n_parameters%2 == 0:\n",
    "        None\n",
    "    else:\n",
    "        n_lines += 1\n",
    "    with out_graph:\n",
    "        f, axs = plt.subplots(n_lines, 2, figsize=(15,15))\n",
    "        for index, parameter in enumerate(parameters):\n",
    "            plt.subplot(n_lines, 2, index+1)\n",
    "            list_data = subplots[parameter]\n",
    "            for data in list_data:\n",
    "                x = data[0]\n",
    "                if len(x)>50:\n",
    "                    # Représentation continue\n",
    "                    plt.plot(data[0], data[1], label=data[2])\n",
    "                else:\n",
    "                    # Représentation discrète\n",
    "                    plt.plot(data[0], data[1], '.', label=data[2])\n",
    "            plt.xlabel(\"Volumic fraction\")\n",
    "            plt.ylabel(parameter)\n",
    "            plt.grid(b=True)\n",
    "            plt.title(\"Model comparison - \"+parameter)\n",
    "            plt.legend()\n",
    "        plt.show()\n"
   ]
  },
  {
   "cell_type": "code",
   "execution_count": 55,
   "metadata": {},
   "outputs": [
    {
     "data": {
      "application/vnd.jupyter.widget-view+json": {
       "model_id": "950a541355604bf2b30a7e21f8994a14",
       "version_major": 2,
       "version_minor": 0
      },
      "text/plain": [
       "Label(value=\"Select an inclusion, then click on 'Start comparing'. The results of the compared models will be …"
      ]
     },
     "metadata": {},
     "output_type": "display_data"
    },
    {
     "data": {
      "application/vnd.jupyter.widget-view+json": {
       "model_id": "9ce433abb50743c6b52b8fdb41d39f8b",
       "version_major": 2,
       "version_minor": 0
      },
      "text/plain": [
       "HBox(children=(Dropdown(layout=Layout(width='max-content'), options=(), value=None), Button(description='Start…"
      ]
     },
     "metadata": {},
     "output_type": "display_data"
    },
    {
     "data": {
      "application/vnd.jupyter.widget-view+json": {
       "model_id": "5e9aa6b587c94646bc3b3d1946c29848",
       "version_major": 2,
       "version_minor": 0
      },
      "text/plain": [
       "Label(value=\"Select a model to plot and click the 'Add model' button.\")"
      ]
     },
     "metadata": {},
     "output_type": "display_data"
    },
    {
     "data": {
      "application/vnd.jupyter.widget-view+json": {
       "model_id": "b7153cd88ea0409a96090ae39809d860",
       "version_major": 2,
       "version_minor": 0
      },
      "text/plain": [
       "HBox(children=(Dropdown(index=1, options=(('Mori-Tanaka', Modèle de Mori-Tanaka), ('Eshelby', Modèle d'Eshelby…"
      ]
     },
     "metadata": {},
     "output_type": "display_data"
    },
    {
     "data": {
      "application/vnd.jupyter.widget-view+json": {
       "model_id": "3cc0c55bb496417c86a37b16d33eb623",
       "version_major": 2,
       "version_minor": 0
      },
      "text/plain": [
       "Label(value='Plot data from a text file.')"
      ]
     },
     "metadata": {},
     "output_type": "display_data"
    },
    {
     "data": {
      "application/vnd.jupyter.widget-view+json": {
       "model_id": "8a4b4114052d472281f71f73123ed201",
       "version_major": 2,
       "version_minor": 0
      },
      "text/plain": [
       "HBox(children=(Dropdown(options=('example.txt',), value='example.txt'), Button(description='Add data', style=B…"
      ]
     },
     "metadata": {},
     "output_type": "display_data"
    },
    {
     "data": {
      "application/vnd.jupyter.widget-view+json": {
       "model_id": "ad5314bd1ed040cdbcc470346f43dead",
       "version_major": 2,
       "version_minor": 0
      },
      "text/plain": [
       "Output()"
      ]
     },
     "metadata": {},
     "output_type": "display_data"
    }
   ],
   "source": [
    "out_graph = widgets.Output()\n",
    "subplot_data = {} # Format {parameter: subplot_data}, avec subplot_data = [[f_list, value, label]] et autant de liste que de modèles\n",
    "plotted = [] # Liste des modèles et fichiers déjà tracés\n",
    "\n",
    "# Choix de la fraction volumique à faire varier\n",
    "display(widgets.Label(value=\"Select an inclusion, then click on 'Start comparing'. The results of the compared models will be plotted against the volumic fraction of this inclusion.\"))\n",
    "w_inclusion = widgets.Dropdown(layout={'width': 'max-content'})\n",
    "w_setgraph = widgets.Button(description='Start comparing / Reset graph', layout={'width': 'max-content'})\n",
    "display(widgets.HBox([w_inclusion, w_setgraph]))\n",
    "\n",
    "# Mise à jour de la liste des inclusions lors de la génération d'une microstructure\n",
    "def update_inclusions_list(b):\n",
    "    \"\"\"\n",
    "    Routine appelée lors de l'appui sur le bouton 'Generate microstructure'.\n",
    "    Met à jour la liste des inclusions de la microstructure (widget w_inclusion).\n",
    "    \"\"\"\n",
    "    global subplot_data, plotted\n",
    "    inclusions = microstructure.dict_inclusions\n",
    "    w_inclusion.options = list(inclusions.keys())\n",
    "    out_graph.clear_output()\n",
    "    subplot_data = {}\n",
    "    plotted = []\n",
    "\n",
    "if microstructure!= None:\n",
    "    # Condition permettant d'éviter l'erreur qui a lieu lorsque la section est compilée avant qu'une microstructure ne soit générée\n",
    "    update_inclusions_list(None)\n",
    "b_generate_structure.on_click(update_inclusions_list)\n",
    "\n",
    "# Calcul de la liste des fractions volumiques compatibles\n",
    "f_list = [] # Liste des fractions volumiques compatibles\n",
    "inclusion = None # Inclusion choisie\n",
    "\n",
    "def compute_f_list(b):\n",
    "    \"\"\"\n",
    "    Routine appelée lors de l'appui sur le bouton 'Start comparing'.\n",
    "    Récupère l'inclusion choisie, et calcule l'intervalle de fractions volumiques f_list compatible avec le reste des inclusions.\n",
    "    \"\"\"\n",
    "    global f_list, inclusion, subplot_data, plotted\n",
    "    inclusion = w_inclusion.value\n",
    "    # Calcul de f_max\n",
    "    f_max = 0.99\n",
    "    dict_inclusions = microstructure.dict_inclusions\n",
    "    for other_inclusion, f in list(dict_inclusions.items()):\n",
    "        if other_inclusion != inclusion:\n",
    "            f_max -= f\n",
    "    f_list = np.linspace(0.01, f_max, 200)\n",
    "    out_graph.clear_output()\n",
    "    subplot_data = {}\n",
    "    plotted = []\n",
    "\n",
    "w_setgraph.on_click(compute_f_list)\n",
    "\n",
    "# Ajout de modèles\n",
    "display(widgets.Label(value=\"Select a model to plot and click the 'Add model' button.\"))\n",
    "w_addmodel = widgets.Button(description=\"Add model\")\n",
    "display(widgets.HBox([select_model, w_addmodel]))\n",
    "\n",
    "def plot_model(b):\n",
    "    \"\"\"\n",
    "    Routine appelée lors de l'appui sur le bouton 'Add model'.\n",
    "    Vérifie que le modèle choisi n'a pas déjà été ajouté au graphe et l'ajoute le cas échéant.\n",
    "    Met à jour le graphe.\n",
    "    \"\"\"\n",
    "    global subplot_data, plotted, f_list, inclusion\n",
    "    model = select_model.value\n",
    "    if model not in plotted:\n",
    "        plotted.append(model)\n",
    "        microstructure1 = microstructure # Copie de la microstructure\n",
    "        # Calcul de la liste des comportements pour les différents f\n",
    "        list_behaviors = {} # Format : {parameter: [values selon f]}\n",
    "        for f in f_list:\n",
    "            microstructure1.dict_inclusions[inclusion] = f\n",
    "            h_behavior = model.compute_h_behavior(microstructure1)\n",
    "            for parameter, value in h_behavior.items():\n",
    "                if parameter not in list_behaviors.keys():\n",
    "                    # Le paramètre est rencontré pour la première fois\n",
    "                    list_behaviors[parameter] = []\n",
    "                list_behaviors[parameter].append(value)\n",
    "        # Mise à jour de subplot_data\n",
    "        for parameter, values in list_behaviors.items():\n",
    "            data = [f_list, values, model.name]\n",
    "            # Création de l'entrée correspondant au paramètre s'il s'agit du premier plot\n",
    "            if parameter not in subplot_data.keys():\n",
    "                subplot_data[parameter] = []\n",
    "            subplot_data[parameter].append(data)\n",
    "        # Tracé des données\n",
    "        draw_all_data(subplot_data)\n",
    "                    \n",
    "w_addmodel.on_click(plot_model)\n",
    "\n",
    "# Ajout de données depuis un fichier texte\n",
    "#TODO description du format\n",
    "#TODO gestion des erreurs de formattage des fichiers d'entrée\n",
    "display(widgets.Label(value=\"Plot data from a text file.\"))\n",
    "list_files = listdir('model_comparison/')\n",
    "w_file = widgets.Dropdown(options=[file for file in list_files if file.endswith('.txt')])\n",
    "w_add_data = widgets.Button(description=\"Add data\")\n",
    "display(widgets.HBox([w_file, w_add_data]))\n",
    "\n",
    "def plot_data(b):\n",
    "    \"\"\"\n",
    "    Routine appelée lors de l'appui sur le bouton 'Add data'.\n",
    "    Vérifie que le fichier choisi n'a pas déjà été ajouté au graphe et l'ajoute le cas échéant.\n",
    "    Met à jour le graphe.\n",
    "    TODO : Pareil avec plusieurs paramètres\n",
    "    \"\"\"\n",
    "    global dict_models, dict_data, f_list, inclusion\n",
    "    file_name = w_file.value[:-4]\n",
    "    if file_name not in dict_data.keys():\n",
    "        f, Y = read_file('model_comparison/' + w_file.value)\n",
    "        dict_data[file_name] = [f, Y]\n",
    "        draw_all_data(out_graph, dict_models, f_list, dict_data)\n",
    "\n",
    "w_add_data.on_click(plot_data)\n",
    "display(out_graph)\n",
    "\n",
    "# TODO : retravailler le format des données data"
   ]
  },
  {
   "cell_type": "code",
   "execution_count": null,
   "metadata": {},
   "outputs": [],
   "source": []
  }
 ],
 "metadata": {
  "kernelspec": {
   "display_name": "Python 3",
   "language": "python",
   "name": "python3"
  },
  "language_info": {
   "codemirror_mode": {
    "name": "ipython",
    "version": 3
   },
   "file_extension": ".py",
   "mimetype": "text/x-python",
   "name": "python",
   "nbconvert_exporter": "python",
   "pygments_lexer": "ipython3",
   "version": "3.8.1"
  }
 },
 "nbformat": 4,
 "nbformat_minor": 4
}
