{
 "cells": [
  {
   "cell_type": "markdown",
   "metadata": {},
   "source": [
    "# Homogeneisation - main"
   ]
  },
  {
   "cell_type": "markdown",
   "metadata": {},
   "source": [
    "L'objectif est de mettre à disposition des chercheurs une interface permettant :\n",
    "- le calcul de comportements homogénéisés sur des microstructures données à l'aide de différents modèles pré-implémentés, manuellement ou à partir d'un fichier texte,\n",
    "- de faciliter des études parmaétriques sur ces mêmes modèles et microstructures,\n",
    "- de déterminer des paramètres idéaux pour atteindre des comportements homogénéisés cibles(TODO),\n",
    "- de fournir une description des modèles utilisés, de leur forces et de leurs limites."
   ]
  },
  {
   "cell_type": "markdown",
   "metadata": {},
   "source": [
    "Ce code contient plusieurs sections. **Lorsque le code est lancé pour la première fois sur un nouveau kernel, les sections suivantes doivent être executées dans l'ordre** :\n",
    "- Importation des classes et des modules utiles\n",
    "- Fonctions utiles \n",
    "\n",
    "Les sections suivantes sont indépendantes. Si une section est lancée pour la première fois, ses cellules doivent être executées dans l'ordre."
   ]
  },
  {
   "cell_type": "markdown",
   "metadata": {},
   "source": [
    "---"
   ]
  },
  {
   "cell_type": "markdown",
   "metadata": {},
   "source": [
    "## I- Importation des classes et des modules utiles"
   ]
  },
  {
   "cell_type": "code",
   "execution_count": 1,
   "metadata": {},
   "outputs": [
    {
     "name": "stdout",
     "output_type": "stream",
     "text": [
      "Package downloaded\n"
     ]
    }
   ],
   "source": [
    "!pip install ipywidgets # Installation du package permettant la gestion des widgets\n",
    "from IPython.display import clear_output, display\n",
    "clear_output()\n",
    "print(\"Package downloaded\")"
   ]
  },
  {
   "cell_type": "code",
   "execution_count": 1,
   "metadata": {},
   "outputs": [],
   "source": [
    "import ipywidgets as widgets\n",
    "from classes import *\n",
    "from os import listdir\n",
    "import pandas as pd"
   ]
  },
  {
   "cell_type": "code",
   "execution_count": 2,
   "metadata": {},
   "outputs": [
    {
     "name": "stdout",
     "output_type": "stream",
     "text": [
      "Modèles importés : [<class 'classes.Mori_Tanaka'>, <class 'classes.Eshelby_Approximation'>, <class 'classes.Differential_Scheme'>]\n"
     ]
    }
   ],
   "source": [
    "print(\"Modèles importés : {}\".format(list_models))"
   ]
  },
  {
   "cell_type": "markdown",
   "metadata": {},
   "source": [
    "---"
   ]
  },
  {
   "cell_type": "markdown",
   "metadata": {},
   "source": [
    "## II- Fonctions utiles"
   ]
  },
  {
   "cell_type": "code",
   "execution_count": 3,
   "metadata": {},
   "outputs": [],
   "source": [
    "parameters_name = {'K': 'Bulk modulus K', 'G': 'Shear modulus G', 'E': 'Young modulus E', 'nu': \"Poisson's ratio nu\"}\n",
    "parameters_name = {'K': 'Bulk modulus K', 'G': 'Shear modulus G', 'E': 'Young modulus E', 'nu': \"Poisson's ratio \" + r'\\(\\nu\\)'}\n",
    "parameters_name_bis = {value: key for (key, value) in parameters_name.items()}\n",
    "\n",
    "def gen_tab_behavior():\n",
    "    \"\"\"\n",
    "    Routine qui génère un widget de type 'tab' permettant le choix des paramètres associés aux comportements. \n",
    "    Chaque onglet généré correspond à un comportement du dictionnaire 'dict_behaviors' implémenté dans 'classes.py'.\n",
    "    La fonction renvoie :\n",
    "    - une liste de liste de widgets (list_widgets) contenant autant de listes que d'onglet. Chaque liste contient les widgets générant les paramètres asssociés au comportement \n",
    "    de l'onglet correspondant.\n",
    "    - un widget tab correspondant au résultat final à afficher.    \n",
    "    \"\"\"\n",
    "    behaviors_str = list(dict_behaviors.keys()) # Liste des noms des comportements déjà implémentés, définis dans classes.py\n",
    "    list_widgets = [] # Liste de liste, chaque liste correspond à un onglet du tab et contient les widgets de cet onglet non formatés\n",
    "    tab_titles = [] # Nom des onglets, chaque onglet est associé à un type de comportement\n",
    "    # Construction des widgets associés à chaque onglet\n",
    "    for behavior_str in behaviors_str:\n",
    "        widgets_onglet = []\n",
    "        parameters = dict_behaviors[behavior_str] # Paramètres associés au comportement (exemple : ['K', 'G'] pour Isotropic)\n",
    "        for parameter in parameters:\n",
    "            w = widgets.FloatSlider(value=1, min=0.01, max=1000, step=0.01) # Widget associé au paramètre parameter\n",
    "            if parameter == 'nu':\n",
    "                w.max = 0.5\n",
    "                w.value = 0.3\n",
    "            w_label = widgets.Label(value=parameters_name[parameter])\n",
    "            widgets_onglet.append(widgets.HBox([w_label, w]))\n",
    "        list_widgets.append(widgets_onglet)\n",
    "        tab_titles.append(behavior_str)\n",
    "    # Création du tab\n",
    "    tab = widgets.Tab()\n",
    "    tab.children = [widgets.HBox(w) for w in list_widgets]\n",
    "    for pos, title in enumerate(tab_titles):\n",
    "        tab.set_title(pos, title)\n",
    "    return list_widgets, tab\n",
    "\n",
    "def read_behavior(tab, list_widgets):\n",
    "    \"\"\"\n",
    "    Fonction qui, à partir d'un widget 'tab' comme celui construit par la fonction précédente, renvoie le dictionnaire 'behavior' construit par l'utilisateur.\n",
    "    \"\"\"\n",
    "    behavior_int = tab.selected_index # Onglet ouvert par l'utilisateur\n",
    "    widgets_parameters = list_widgets[behavior_int] # Widgets des paramètres de l'onglet ouvert\n",
    "    behavior = {parameters_name_bis[w.children[0].value] : w.children[1].value for w in widgets_parameters}\n",
    "    return behavior\n",
    "\n",
    "def gen_tab_type():\n",
    "    \"\"\"\n",
    "    Routine qui génère un widget de type 'tab' permettant le choix des paramètres associés aux types d'inclusions (aspect ratio, orientation, etc..). \n",
    "    TODO : Inclure l'orientation\n",
    "    Chaque onglet généré correspond à un type du dictionnaire 'dict_types' implémenté dans 'classes.py'.\n",
    "    La fonction renvoie :\n",
    "    - une liste de liste de widgets (list_widgets) contenant autant de listes que d'onglets. Chaque liste contient les widgets générant les paramètres asssociés au comportement \n",
    "    de l'onglet correspondant.\n",
    "    - un widget tab correspondant au résultat final à afficher.    \n",
    "    \"\"\"\n",
    "    list_widgets = [] # Liste de listes, chaque liste correspond à un onglet et contient les widgets de cet onglet\n",
    "    # Construction des widgets associés à chaque onglet\n",
    "    for type_int in dict_types.keys():\n",
    "        if type_int == 0:\n",
    "            # Sphères, pas besoin de paramètres supllémentaires\n",
    "            list_widgets.append([])\n",
    "        elif type_int == 1:\n",
    "            # Oblate\n",
    "            w_label = widgets.Label(value=\"Aspect ratio\")\n",
    "            w_aspect_ratio = widgets.FloatSlider(min=0.01, max=0.99, step=0.01, value=0.5)\n",
    "            list_widgets.append([w_label, w_aspect_ratio])\n",
    "        elif type_int == 2:\n",
    "            # Prolate\n",
    "            w_label = widgets.Label(value=\"Aspect ratio\")\n",
    "            w_aspect_ratio = widgets.FloatSlider(min=1.01, max=10, step=0.01, value=1.5)\n",
    "            list_widgets.append([w_label, w_aspect_ratio])\n",
    "    # Création du tab\n",
    "    tab = widgets.Tab()\n",
    "    # Attribution des onglets\n",
    "    tab.children = [widgets.HBox(w) for w in list_widgets]\n",
    "    # Attribution des noms des onglets\n",
    "    for pos, title in dict_types.items():\n",
    "        tab.set_title(pos, title)\n",
    "    return list_widgets, tab         \n",
    "\n",
    "def read_type(tab, list_widgets):\n",
    "    \"\"\"\n",
    "    Fonction qui, à partir d'un widget 'tab' comme celui construit par la fonction gen_tab_type, renvoie le type d'inclusion et le rapport d'apsect.\n",
    "    \"\"\"\n",
    "    type_int = tab.selected_index # Onglet ouvert par l'utilisateur\n",
    "    widgets_parameters = list_widgets[type_int]\n",
    "    try:\n",
    "        aspect_ratio = widgets_parameters[1].value\n",
    "    except:\n",
    "        # Il n'y a pas de rapport de forme, cas des sphères par exemple\n",
    "        aspect_ratio = 1\n",
    "    return type_int, aspect_ratio\n",
    "\n",
    "def str_to_model(model_name):\n",
    "    \"\"\"\n",
    "    Fonction qui renvoie l'instance de classe Model associée au nom de classe model_name (str).\n",
    "    \"\"\"\n",
    "    for Model in list_models:\n",
    "        model = Model()\n",
    "        if model.name.upper() == model_name.upper():\n",
    "            return model"
   ]
  },
  {
   "cell_type": "markdown",
   "metadata": {},
   "source": [
    "---"
   ]
  },
  {
   "cell_type": "markdown",
   "metadata": {},
   "source": [
    "## III- Calcul de comportement homogénéisé de microstructures\n",
    "Cette section permet la génération manuelle de microstructure et le calcul de comportement homogénéisé avec les modèles disponibles."
   ]
  },
  {
   "cell_type": "code",
   "execution_count": 5,
   "metadata": {},
   "outputs": [],
   "source": [
    "dict_inclusions = {}\n",
    "# Initialise la liste des inclusions créees. dict_inclusions est sous la forme {nam_inclusion (str): inclusion (Inclusion)}"
   ]
  },
  {
   "cell_type": "markdown",
   "metadata": {},
   "source": [
    "### Construction d'une inclusion"
   ]
  },
  {
   "cell_type": "code",
   "execution_count": 6,
   "metadata": {},
   "outputs": [
    {
     "data": {
      "application/vnd.jupyter.widget-view+json": {
       "model_id": "43639a351fc54b78b6311b3044e91b15",
       "version_major": 2,
       "version_minor": 0
      },
      "text/plain": [
       "Label(value='Inclusion name')"
      ]
     },
     "metadata": {},
     "output_type": "display_data"
    },
    {
     "data": {
      "application/vnd.jupyter.widget-view+json": {
       "model_id": "cbc9c50f211448d6ab3e99341ec4b5fe",
       "version_major": 2,
       "version_minor": 0
      },
      "text/plain": [
       "Text(value='inclusion 0')"
      ]
     },
     "metadata": {},
     "output_type": "display_data"
    },
    {
     "data": {
      "application/vnd.jupyter.widget-view+json": {
       "model_id": "fcd8a80f16004cb8b4b76a9e1f76e7e9",
       "version_major": 2,
       "version_minor": 0
      },
      "text/plain": [
       "Label(value='Inclusion type')"
      ]
     },
     "metadata": {},
     "output_type": "display_data"
    },
    {
     "data": {
      "application/vnd.jupyter.widget-view+json": {
       "model_id": "8544170c052b4d73982661a3aee09ecf",
       "version_major": 2,
       "version_minor": 0
      },
      "text/plain": [
       "Tab(children=(HBox(), HBox(children=(Label(value='Aspect ratio'), FloatSlider(value=0.5, max=0.99, min=0.01, s…"
      ]
     },
     "metadata": {},
     "output_type": "display_data"
    },
    {
     "data": {
      "application/vnd.jupyter.widget-view+json": {
       "model_id": "fc3e63a9e0be4f1fa5a969ac4030363f",
       "version_major": 2,
       "version_minor": 0
      },
      "text/plain": [
       "Label(value='Inclusion behavior')"
      ]
     },
     "metadata": {},
     "output_type": "display_data"
    },
    {
     "data": {
      "application/vnd.jupyter.widget-view+json": {
       "model_id": "0d4ee5c8a0344cb59eb185ced0451f1f",
       "version_major": 2,
       "version_minor": 0
      },
      "text/plain": [
       "Tab(children=(HBox(children=(HBox(children=(Label(value='Bulk modulus K'), FloatSlider(value=1.0, max=1000.0, …"
      ]
     },
     "metadata": {},
     "output_type": "display_data"
    },
    {
     "data": {
      "application/vnd.jupyter.widget-view+json": {
       "model_id": "07b7031671b0469eab1435bd091a082c",
       "version_major": 2,
       "version_minor": 0
      },
      "text/plain": [
       "Button(description='Generate Inclusion', style=ButtonStyle())"
      ]
     },
     "metadata": {},
     "output_type": "display_data"
    },
    {
     "data": {
      "application/vnd.jupyter.widget-view+json": {
       "model_id": "76f495e4ddb14e118c715e14f20291df",
       "version_major": 2,
       "version_minor": 0
      },
      "text/plain": [
       "Output()"
      ]
     },
     "metadata": {},
     "output_type": "display_data"
    }
   ],
   "source": [
    "# Nom de l'inclusion\n",
    "w_label = widgets.Label(value='Inclusion name')\n",
    "n_inclusion = 0 # Identifiant servant à donner automatiquement un nom unique à chaque inclusion\n",
    "w_name = widgets.Text(value='inclusion '+str(n_inclusion))\n",
    "display(w_label, w_name)\n",
    "\n",
    "# Type d'inclusion\n",
    "display(widgets.Label(value='Inclusion type'))\n",
    "widgets_type, tab_type = gen_tab_type() # Génération du widgets tab de choix du type d'inclusion\n",
    "display(tab_type)\n",
    "\n",
    "# Comportement de l'inclusion\n",
    "caption = widgets.Label(value='Inclusion behavior')\n",
    "display(caption)\n",
    "list_widgets, tab = gen_tab_behavior()\n",
    "display(tab)\n",
    "\n",
    "# Génération de l'inclusion\n",
    "button_generate_inclusion = widgets.Button(description=\"Generate Inclusion\")\n",
    "output = widgets.Output()\n",
    "display(button_generate_inclusion, output)\n",
    "def generate_inclusion(b):\n",
    "    \"\"\"\n",
    "    Fonction appelée lors d'un click sur le bouton, génère une inclusion avec les paramètres choisis.\n",
    "    TODO : modifier le nom de l'inclusion automatiquement\n",
    "    \"\"\"\n",
    "    global n_inclusion\n",
    "    # Récupération des paramètres choisis\n",
    "    output.clear_output()\n",
    "    inclusion_name = w_name.value\n",
    "    if inclusion_name in list(dict_inclusions.keys()):\n",
    "        with output:\n",
    "            print(\"Name already exists\")\n",
    "    else :\n",
    "        type_inclusion, inclusion_aspect_ratio = read_type(tab_type, widgets_type)\n",
    "        behavior = read_behavior(tab, list_widgets)\n",
    "        inclusion = Inclusion(type_inclusion, behavior, name=inclusion_name, aspect_ratio=inclusion_aspect_ratio)\n",
    "        dict_inclusions[inclusion_name] = inclusion\n",
    "        with output:\n",
    "            print(\"Inclusion generated: \", inclusion)\n",
    "        # Mise à jour automatique du nom de l'inclusion\n",
    "        n_inclusion += 1\n",
    "        w_name.value = 'inclusion '+str(n_inclusion)\n",
    "    \n",
    "button_generate_inclusion.on_click(generate_inclusion)"
   ]
  },
  {
   "cell_type": "markdown",
   "metadata": {},
   "source": [
    "### Construction d'une microstructure"
   ]
  },
  {
   "cell_type": "code",
   "execution_count": 7,
   "metadata": {},
   "outputs": [],
   "source": [
    "# Création de la variable contenant la microstructure\n",
    "microstructure = None # Initialisation\n",
    "\n",
    "# Fonctions liées aux appuis sur les boutons\n",
    "def add_inclusion_to_structure(b):\n",
    "    \"\"\"\n",
    "    Fonction appelée lors d'un click sur le bouton \"Add inclusion\", génère un widget associé à la fraction volumique de l'inclusion et l'ajoute au dictionnaire \"widgets_f\".\n",
    "    Crée aussi un bouton permettant la suppression de l'inclusion et l'ajoute au dictionnaire buttons.\n",
    "    Enfin, affiche la ligne de widgets correspondante.\n",
    "    \"\"\"\n",
    "    out2.clear_output()\n",
    "    inclusion = w_inclusions.value\n",
    "    if inclusion in list(widgets_f.keys()):\n",
    "        with out2:\n",
    "            print(\"Already added\")\n",
    "    else:\n",
    "        w_name = widgets.Label(inclusion.name)\n",
    "        w_f = widgets.FloatSlider(min=0.01, max=0.99, step=0.01, description='f')\n",
    "        w_b = widgets.Button(description=\"Remove inclusion\")\n",
    "        w_b.on_click(remove_inclusion)\n",
    "        widgets_f[inclusion] = (w_name, w_f)\n",
    "        buttons_suppress[w_b] = inclusion\n",
    "        with out1:\n",
    "            display(w_name, widgets.HBox([w_f, w_b]))\n",
    "\n",
    "def add_inclusion_to_list(b):\n",
    "    \"\"\"\n",
    "    Fonction appelée lors d'un clic sur le bouton 'generate inclusion' de la section précédente.\n",
    "    met à jour le widget permettant le choix des inclusions à ajouter.\n",
    "    \"\"\"\n",
    "    w_inclusions.options = list(dict_inclusions.values())\n",
    "    \n",
    "def remove_inclusion(b):\n",
    "    \"\"\"\n",
    "    Fonction appelée lorsqu'un bouton 'Remove inclusion' est appelé. \n",
    "    Repère l'inclusion associée au bouton, ferme les widgets associés et supprime l'entrée du dictionnaire widgets_f\n",
    "    \"\"\"\n",
    "    out2.clear_output()\n",
    "    inclusion = buttons_suppress[b]\n",
    "    w_name, w_f = widgets_f[inclusion]\n",
    "    # Fermeture des widgets\n",
    "    b.close()\n",
    "    w_name.close()\n",
    "    w_f.close()\n",
    "    del widgets_f[inclusion]\n",
    "    del buttons_suppress[b]\n",
    "\n",
    "def generate_microstructure(b):\n",
    "    \"\"\"\n",
    "    Génère la microstructure avec les paramètres choisis par l'utilisateur. \n",
    "    Si les fractions volumiques choisies ne sont pas cohérentes, affiche un message.\n",
    "    Affiche une description de la microsructure créee.\n",
    "    \"\"\"\n",
    "    global microstructure\n",
    "    matrix_behavior = read_behavior(tab_m, widgets_m) # Lecture des widgets définis dans la section 'Comportement de la matrice'\n",
    "    dict_inclusions = {}\n",
    "    # Lecture des fractions volumiques choisies\n",
    "    for inclusion, widgets in widgets_f.items():\n",
    "        w_name, w_f = widgets\n",
    "        f = w_f.value\n",
    "        dict_inclusions[inclusion] = f\n",
    "    # Génération de la microstructure\n",
    "    out3.clear_output()\n",
    "    try:\n",
    "        microstructure = Microstructure(matrix_behavior, dict_inclusions)\n",
    "        with out3:\n",
    "            print(\"Microstructure generated\\n\" + str(microstructure))\n",
    "            # Dessin de la microstructure TODO : ajouter le dessin d'inclusion ellipsoïdales\n",
    "            microstructure.draw()\n",
    "    except NameError:\n",
    "        microstructure = None\n",
    "        with out3:\n",
    "            print(\"Inconsistent choice of volumic fractions\")"
   ]
  },
  {
   "cell_type": "code",
   "execution_count": 8,
   "metadata": {},
   "outputs": [
    {
     "data": {
      "application/vnd.jupyter.widget-view+json": {
       "model_id": "79028b2e06714a93a726aab30870a4ca",
       "version_major": 2,
       "version_minor": 0
      },
      "text/plain": [
       "Label(value='Matrix behavior')"
      ]
     },
     "metadata": {},
     "output_type": "display_data"
    },
    {
     "data": {
      "application/vnd.jupyter.widget-view+json": {
       "model_id": "36aa97b7614040db8c56628ceea6f64f",
       "version_major": 2,
       "version_minor": 0
      },
      "text/plain": [
       "Tab(children=(HBox(children=(HBox(children=(Label(value='Bulk modulus K'), FloatSlider(value=1.0, max=1000.0, …"
      ]
     },
     "metadata": {},
     "output_type": "display_data"
    },
    {
     "data": {
      "application/vnd.jupyter.widget-view+json": {
       "model_id": "2077dffbdebb46c1b318abd702b06a69",
       "version_major": 2,
       "version_minor": 0
      },
      "text/plain": [
       "HBox(children=(Dropdown(layout=Layout(width='max-content'), options=(), value=None), Button(description='Add i…"
      ]
     },
     "metadata": {},
     "output_type": "display_data"
    },
    {
     "data": {
      "application/vnd.jupyter.widget-view+json": {
       "model_id": "0a6de1c483d54ac49818f1f3ca95b4bd",
       "version_major": 2,
       "version_minor": 0
      },
      "text/plain": [
       "Output()"
      ]
     },
     "metadata": {},
     "output_type": "display_data"
    },
    {
     "data": {
      "application/vnd.jupyter.widget-view+json": {
       "model_id": "b0fdcf4d05344e2cb28ca7122f6ce0c2",
       "version_major": 2,
       "version_minor": 0
      },
      "text/plain": [
       "HBox(children=(Button(description='Generate microstructure', layout=Layout(width='max-content'), style=ButtonS…"
      ]
     },
     "metadata": {},
     "output_type": "display_data"
    },
    {
     "data": {
      "application/vnd.jupyter.widget-view+json": {
       "model_id": "4cc84ae000ca438f9037b47844b930b4",
       "version_major": 2,
       "version_minor": 0
      },
      "text/plain": [
       "Output()"
      ]
     },
     "metadata": {},
     "output_type": "display_data"
    }
   ],
   "source": [
    "# Comportement de la matrice\n",
    "caption = widgets.Label(value='Matrix behavior')\n",
    "display(caption)\n",
    "widgets_m, tab_m = gen_tab_behavior()\n",
    "display(tab_m)\n",
    "\n",
    "# Ajout d'inclusions\n",
    "w_inclusions = widgets.Dropdown(options=list(dict_inclusions.values()), layout={'width': 'max-content'})\n",
    "button_add_inclusion = widgets.Button(description=\"Add inclusion\")\n",
    "out1 = widgets.Output()\n",
    "out2 = widgets.Output()\n",
    "display(widgets.HBox([w_inclusions, button_add_inclusion, out2]), out1)\n",
    "widgets_f = {} # Dictionnaire des inclusions ajoutées et de leurs widgets ('name','fraction volumique') associés\n",
    "buttons_suppress = {} # Dictionnaire des boutons permettant de supprimer une inclusion de la structure et inclusions associés\n",
    "\n",
    "button_add_inclusion.on_click(add_inclusion_to_structure)\n",
    "button_generate_inclusion.on_click(add_inclusion_to_list)\n",
    "\n",
    "# Génération de la microstructure\n",
    "b_generate_structure = widgets.Button(description='Generate microstructure', layout={'width': 'max-content'})\n",
    "# TODO : widget 'valid' qui indique en temps réel si les fractions volumiques choisies sont cohérentes\n",
    "out3 = widgets.Output()\n",
    "display(widgets.HBox([b_generate_structure]),out3)\n",
    "b_generate_structure.on_click(generate_microstructure)\n"
   ]
  },
  {
   "cell_type": "markdown",
   "metadata": {},
   "source": [
    "### Calcul du comportement homogénéisé"
   ]
  },
  {
   "cell_type": "code",
   "execution_count": 9,
   "metadata": {},
   "outputs": [
    {
     "data": {
      "application/vnd.jupyter.widget-view+json": {
       "model_id": "35c0c7b87ff04320a7ff975e8c2456c3",
       "version_major": 2,
       "version_minor": 0
      },
      "text/plain": [
       "Label(value='Select a model. Only compatible models will be displayed.')"
      ]
     },
     "metadata": {},
     "output_type": "display_data"
    },
    {
     "data": {
      "application/vnd.jupyter.widget-view+json": {
       "model_id": "666e1fc1d20349848daa4203e748d9ce",
       "version_major": 2,
       "version_minor": 0
      },
      "text/plain": [
       "HBox(children=(Dropdown(options=(), value=None), Button(description='Compute behavior', style=ButtonStyle())))"
      ]
     },
     "metadata": {},
     "output_type": "display_data"
    },
    {
     "data": {
      "application/vnd.jupyter.widget-view+json": {
       "model_id": "0e8945b7467a48e0b4eaa29a9dffb2e0",
       "version_major": 2,
       "version_minor": 0
      },
      "text/plain": [
       "Output()"
      ]
     },
     "metadata": {},
     "output_type": "display_data"
    }
   ],
   "source": [
    "# Choix du modèle\n",
    "def test_models(b=None):\n",
    "    \"\"\"\n",
    "    Fonction appelée lors d'un appui sur le bouton 'Generate microstructure' juste en haut.\n",
    "    Teste les modèles disponibles sur la microstructure générée et met à jour la liste des modèles valides 'valid_models'.\n",
    "    \"\"\"\n",
    "    valid_models = []\n",
    "    if microstructure == None:\n",
    "        # Vérifie que la microstructure a bien été créee\n",
    "        return None\n",
    "    for Model in list_models:\n",
    "        model = Model()\n",
    "        valid = model.check_hypothesis(microstructure)\n",
    "        if valid:\n",
    "            # La microstructure vérifie les hypothèses du modèle.\n",
    "            valid_models.append((model.name, model))\n",
    "    # Mise à jour du widget de séléection du modèle\n",
    "    select_model.options = valid_models\n",
    "\n",
    "valid_models = [] # Liste des modèles pouvant s'appliquer à la microstructure donnée, format : [(model_name, Model)]\n",
    "select_model = widgets.Dropdown()\n",
    "test_models()\n",
    "label = widgets.Label(value=\"Select a model. Only compatible models will be displayed.\")\n",
    "display(label)\n",
    "b_compute = widgets.Button(description='Compute behavior')\n",
    "display(widgets.HBox([select_model, b_compute]))\n",
    "output_behavior = widgets.Output()\n",
    "display(output_behavior)\n",
    "\n",
    "def compute_model(b):\n",
    "    \"\"\"\n",
    "    Fonction appelée lors d'un appui sur le bouton 'Compute behavior'.\n",
    "    Récupère le modèle choisi par l'utilisateur, calcule le comportement homogénéisé de la structure et l'affiche.\n",
    "    \"\"\"\n",
    "    model = select_model.value\n",
    "    homogenised_behavior = model.compute_h_behavior(microstructure)\n",
    "    output_behavior.clear_output()\n",
    "    with output_behavior:\n",
    "        print(\"Homogenised behavior - {} model\".format(model.name))\n",
    "        print(homogenised_behavior)\n",
    "        print(\"Hashin bounds\")\n",
    "        print(microstructure.Hashin_bounds())\n",
    "    \n",
    "\n",
    "b_generate_structure.on_click(test_models)\n",
    "b_compute.on_click(compute_model)"
   ]
  },
  {
   "cell_type": "markdown",
   "metadata": {},
   "source": [
    "### Comparaison de modèles"
   ]
  },
  {
   "cell_type": "code",
   "execution_count": 10,
   "metadata": {},
   "outputs": [],
   "source": [
    "# Fonction de tracé\n",
    "import warnings\n",
    "import matplotlib.cbook\n",
    "warnings.filterwarnings(\"ignore\",category=matplotlib.cbook.mplDeprecation) #Désactive le message de warning de matplotlib \n",
    "\n",
    "def draw_all_data(subplots):\n",
    "    \"\"\"\n",
    "    Fonction qui trace le graphe des données dans la base de données subplots, dans le widgets de type output w_out.\n",
    "    Le format de la bdd est explicité dans la section suivante.\n",
    "    \"\"\"\n",
    "    global fig\n",
    "    out_graph.clear_output()\n",
    "    # Calcul du nombre de subplots\n",
    "    parameters = list(subplots.keys())\n",
    "    n_parameters = len(parameters)\n",
    "    n_lines = n_parameters//2\n",
    "    if n_parameters%2 == 0:\n",
    "        None\n",
    "    else:\n",
    "        n_lines += 1\n",
    "    with out_graph:\n",
    "        fig, axs = plt.subplots(n_lines, 2, figsize=(20,n_lines*7))\n",
    "        for index, parameter in enumerate(parameters):\n",
    "            plt.subplot(n_lines, 2, index+1)\n",
    "            list_data = subplots[parameter]\n",
    "            for data in list_data:\n",
    "                x = data[0]\n",
    "                if len(x)>50:\n",
    "                    # Représentation continue\n",
    "                    plt.plot(data[0], data[1], label=data[2])\n",
    "                else:\n",
    "                    # Représentation discrète\n",
    "                    plt.plot(data[0], data[1], '.', label=data[2])\n",
    "            plt.xlabel(\"Volumic fraction\")\n",
    "            plt.ylabel(parameter)\n",
    "            plt.grid(b=True)\n",
    "            plt.title(\"Model comparison - \"+parameter)\n",
    "            plt.legend()\n",
    "        plt.show()\n"
   ]
  },
  {
   "cell_type": "code",
   "execution_count": 11,
   "metadata": {},
   "outputs": [
    {
     "data": {
      "application/vnd.jupyter.widget-view+json": {
       "model_id": "d7566739bbf44a188ff799e48b570f7e",
       "version_major": 2,
       "version_minor": 0
      },
      "text/plain": [
       "Label(value=\"Select an inclusion, then click on 'Start comparing'. The results of the compared models will be …"
      ]
     },
     "metadata": {},
     "output_type": "display_data"
    },
    {
     "data": {
      "application/vnd.jupyter.widget-view+json": {
       "model_id": "433b48d010bc41ca8fa518097f380e7d",
       "version_major": 2,
       "version_minor": 0
      },
      "text/plain": [
       "HBox(children=(Dropdown(layout=Layout(width='max-content'), options=(), value=None), Button(description='Start…"
      ]
     },
     "metadata": {},
     "output_type": "display_data"
    },
    {
     "data": {
      "application/vnd.jupyter.widget-view+json": {
       "model_id": "63a23a94532c4c159db07cd69ca53216",
       "version_major": 2,
       "version_minor": 0
      },
      "text/plain": [
       "Label(value=\"Select a model to plot and click the 'Add model' button.\")"
      ]
     },
     "metadata": {},
     "output_type": "display_data"
    },
    {
     "data": {
      "application/vnd.jupyter.widget-view+json": {
       "model_id": "a5ac65285e5b4a66a5f0594b76fe5185",
       "version_major": 2,
       "version_minor": 0
      },
      "text/plain": [
       "HBox(children=(Dropdown(options=(), value=None), Button(description='Add model', style=ButtonStyle())))"
      ]
     },
     "metadata": {},
     "output_type": "display_data"
    },
    {
     "data": {
      "application/vnd.jupyter.widget-view+json": {
       "model_id": "b25940c594574288ba3273c7b0697438",
       "version_major": 2,
       "version_minor": 0
      },
      "text/plain": [
       "Label(value=\"Plot data from a text file. Input files are in the 'model_comparison' folder. See 'example.txt' f…"
      ]
     },
     "metadata": {},
     "output_type": "display_data"
    },
    {
     "data": {
      "application/vnd.jupyter.widget-view+json": {
       "model_id": "97796bcdaeca4339a9851d170291179e",
       "version_major": 2,
       "version_minor": 0
      },
      "text/plain": [
       "HBox(children=(Dropdown(options=('example.txt',), value='example.txt'), Button(description='Add data', style=B…"
      ]
     },
     "metadata": {},
     "output_type": "display_data"
    },
    {
     "data": {
      "application/vnd.jupyter.widget-view+json": {
       "model_id": "b0b9578839904018862ee0ca7654c03a",
       "version_major": 2,
       "version_minor": 0
      },
      "text/plain": [
       "Label(value='Add Hashin bounds to figures')"
      ]
     },
     "metadata": {},
     "output_type": "display_data"
    },
    {
     "data": {
      "application/vnd.jupyter.widget-view+json": {
       "model_id": "3d4355e16f68483e84c60fa4b9c862c2",
       "version_major": 2,
       "version_minor": 0
      },
      "text/plain": [
       "Button(description='Add Hashin bounds', style=ButtonStyle())"
      ]
     },
     "metadata": {},
     "output_type": "display_data"
    },
    {
     "data": {
      "application/vnd.jupyter.widget-view+json": {
       "model_id": "89bddc3a45b94ee794e36c0fe812cf02",
       "version_major": 2,
       "version_minor": 0
      },
      "text/plain": [
       "Label(value=\"Enter a valid file name with an extension (ex: .pdf, .png, .jpg) and click the save button to sav…"
      ]
     },
     "metadata": {},
     "output_type": "display_data"
    },
    {
     "data": {
      "application/vnd.jupyter.widget-view+json": {
       "model_id": "f42ea4c404504e13acb628b25085f999",
       "version_major": 2,
       "version_minor": 0
      },
      "text/plain": [
       "HBox(children=(Text(value='fig0.pdf'), Button(description='Save figures', style=ButtonStyle())))"
      ]
     },
     "metadata": {},
     "output_type": "display_data"
    },
    {
     "data": {
      "application/vnd.jupyter.widget-view+json": {
       "model_id": "75442485fa9d44ceb29fb5c67dc1b66e",
       "version_major": 2,
       "version_minor": 0
      },
      "text/plain": [
       "Output()"
      ]
     },
     "metadata": {},
     "output_type": "display_data"
    }
   ],
   "source": [
    "out_graph = widgets.Output()\n",
    "subplot_data = {} # Format {parameter: subplot_data}, avec subplot_data = [[f_list, value, label]] et autant de liste que de modèles\n",
    "plotted = [] # Liste des modèles et fichiers déjà tracés\n",
    "fig = None\n",
    "\n",
    "# Choix de la fraction volumique à faire varier\n",
    "display(widgets.Label(value=\"Select an inclusion, then click on 'Start comparing'. The results of the compared models will be plotted against the volumic fraction of this inclusion.\"))\n",
    "w_inclusion = widgets.Dropdown(layout={'width': 'max-content'})\n",
    "w_setgraph = widgets.Button(description='Start comparing / Reset graph', layout={'width': 'max-content'})\n",
    "display(widgets.HBox([w_inclusion, w_setgraph]))\n",
    "\n",
    "# Mise à jour de la liste des inclusions lors de la génération d'une microstructure\n",
    "def update_inclusions_list(b):\n",
    "    \"\"\"\n",
    "    Routine appelée lors de l'appui sur le bouton 'Generate microstructure'.\n",
    "    Met à jour la liste des inclusions de la microstructure (widget w_inclusion).\n",
    "    \"\"\"\n",
    "    global subplot_data, plotted\n",
    "    inclusions = microstructure.dict_inclusions\n",
    "    w_inclusion.options = list(inclusions.keys())\n",
    "    out_graph.clear_output()\n",
    "    subplot_data = {}\n",
    "    plotted = []\n",
    "\n",
    "if microstructure!= None:\n",
    "    # Condition permettant d'éviter l'erreur qui a lieu lorsque la section est compilée avant qu'une microstructure ne soit générée\n",
    "    update_inclusions_list(None)\n",
    "b_generate_structure.on_click(update_inclusions_list)\n",
    "\n",
    "# Calcul de la liste des fractions volumiques compatibles\n",
    "f_list = [] # Liste des fractions volumiques compatibles\n",
    "inclusion = None # Inclusion choisie\n",
    "\n",
    "def compute_f_list(b):\n",
    "    \"\"\"\n",
    "    Routine appelée lors de l'appui sur le bouton 'Start comparing'.\n",
    "    Récupère l'inclusion choisie, et calcule l'intervalle de fractions volumiques f_list compatible avec le reste des inclusions.\n",
    "    \"\"\"\n",
    "    global f_list, inclusion, subplot_data, plotted\n",
    "    inclusion = w_inclusion.value\n",
    "    # Calcul de f_max\n",
    "    f_max = 0.99\n",
    "    dict_inclusions = microstructure.dict_inclusions\n",
    "    for other_inclusion, f in list(dict_inclusions.items()):\n",
    "        if other_inclusion != inclusion:\n",
    "            f_max -= f\n",
    "    f_list = np.linspace(0.01, f_max, 100)\n",
    "    out_graph.clear_output()\n",
    "    subplot_data = {}\n",
    "    plotted = []\n",
    "\n",
    "w_setgraph.on_click(compute_f_list)\n",
    "\n",
    "# Ajout de modèles\n",
    "display(widgets.Label(value=\"Select a model to plot and click the 'Add model' button.\"))\n",
    "w_addmodel = widgets.Button(description=\"Add model\")\n",
    "display(widgets.HBox([select_model, w_addmodel]))\n",
    "\n",
    "def plot_model(b):\n",
    "    \"\"\"\n",
    "    Routine appelée lors de l'appui sur le bouton 'Add model'.\n",
    "    Vérifie que le modèle choisi n'a pas déjà été ajouté au graphe et l'ajoute le cas échéant.\n",
    "    Met à jour le graphe.\n",
    "    \"\"\"\n",
    "    global subplot_data, plotted, f_list, inclusion, fig\n",
    "    model = select_model.value\n",
    "    if model not in plotted:\n",
    "        f_old = microstructure.dict_inclusions[inclusion] # Sauvegarde de la valeur initiale\n",
    "        plotted.append(model)\n",
    "        # Calcul de la liste des comportements pour les différents f\n",
    "        list_behaviors = {} # Format : {parameter: [values selon f]}\n",
    "        for f in f_list:\n",
    "            microstructure.change_fi(inclusion, f)\n",
    "            h_behavior = model.compute_h_behavior(microstructure)\n",
    "            for parameter, value in h_behavior.items():\n",
    "                if parameter not in list_behaviors.keys():\n",
    "                    # Le paramètre est rencontré pour la première fois\n",
    "                    list_behaviors[parameter] = []\n",
    "                list_behaviors[parameter].append(value)\n",
    "        # Mise à jour de subplot_data\n",
    "        for parameter, values in list_behaviors.items():\n",
    "            data = [f_list, values, model.name]\n",
    "            # Création de l'entrée correspondant au paramètre s'il s'agit du premier plot\n",
    "            if parameter not in subplot_data.keys():\n",
    "                subplot_data[parameter] = []\n",
    "            subplot_data[parameter].append(data)\n",
    "        # Annulation des modifications sur la microstructure\n",
    "        microstructure.change_fi(inclusion, f_old)\n",
    "        # Tracé des données\n",
    "        draw_all_data(subplot_data)\n",
    "                    \n",
    "w_addmodel.on_click(plot_model)\n",
    "\n",
    "# Ajout de données depuis un fichier texte\n",
    "display(widgets.Label(value=\"Plot data from a text file. Input files are in the 'model_comparison' folder. See 'example.txt' for the format.\"))\n",
    "list_files = listdir('model_comparison/')\n",
    "w_file = widgets.Dropdown(options=[file for file in list_files if file.endswith('.txt')])\n",
    "w_add_data = widgets.Button(description=\"Add data\")\n",
    "display(widgets.HBox([w_file, w_add_data]))\n",
    "\n",
    "def plot_data(b):\n",
    "    \"\"\"\n",
    "    Routine appelée lors de l'appui sur le bouton 'Add data'.\n",
    "    Vérifie que le fichier choisi n'a pas déjà été ajouté au graphe et l'ajoute le cas échéant.\n",
    "    Met à jour le graphe.\n",
    "    \"\"\"\n",
    "    global subplot_data, plotted, fig\n",
    "    file_name = w_file.value[:-4]\n",
    "    if file_name not in plotted:\n",
    "        plotted.append(file_name)\n",
    "        df = pd.read_csv('model_comparison/'+w_file.value)\n",
    "        # Récupération de la liste des fractions volumiques\n",
    "        try:\n",
    "            f_values = df['f']\n",
    "        except KeyError:\n",
    "            with out_graph:\n",
    "                print(\"Wrong format\")\n",
    "        # Récupération des paramètres\n",
    "        parameters = df.keys()\n",
    "        for parameter in parameters:\n",
    "            if parameter == 'f':\n",
    "                continue\n",
    "            # Création de l'entrée associée au paramètre\n",
    "            if parameter not in subplot_data.keys():\n",
    "                subplot_data[parameter] = []\n",
    "            values = list(df[parameter])\n",
    "            subplot_data[parameter].append([f_values, values, file_name])\n",
    "        # Tracé du graphe\n",
    "        draw_all_data(subplot_data)\n",
    "    \n",
    "w_add_data.on_click(plot_data)\n",
    "\n",
    "# Bornes de Hashin\n",
    "w_addbounds = widgets.Button(description=\"Add Hashin bounds\")\n",
    "display(widgets.Label(value=\"Add Hashin bounds to figures\"))\n",
    "display(w_addbounds)\n",
    "\n",
    "def plot_bounds(b):\n",
    "    \"\"\"\n",
    "    Routine appelée lors de l'appui sur le bouton 'Add Hashin bounds'.\n",
    "    Vérifie que les bornes (str \"bounds\") n'ont pas été ajoutées aux graphes et les ajoute le cas échéant.\n",
    "    Met à jour le graphe.\n",
    "    \"\"\"\n",
    "    global subplot_data, plotted, f_list, inclusion\n",
    "    if \"bounds\" not in plotted:\n",
    "        plotted.append(\"bounds\")\n",
    "        f_old = microstructure.dict_inclusions[inclusion] # Sauvegarde de la valeur initiale\n",
    "        # Calcul de la liste des comportements pour les différents f\n",
    "        list_behaviors = {} # Format : {parameter: [values selon f]}\n",
    "        for f in f_list:\n",
    "            microstructure.change_fi(inclusion, f)\n",
    "            h_bounds = microstructure.Hashin_bounds()\n",
    "            for parameter, value in h_bounds.items():\n",
    "                if parameter not in list_behaviors.keys():\n",
    "                    # Le paramètre est rencontré pour la première fois\n",
    "                    list_behaviors[parameter] = []\n",
    "                list_behaviors[parameter].append(value)\n",
    "        # Mise à jour de subplot_data\n",
    "        for parameter, values in list_behaviors.items():\n",
    "            parameter_key = parameter[:-3] # Permet de retirer 'inf' et 'sup'\n",
    "            data = [f_list, values, \"Hashin bound \"+parameter]\n",
    "            # Création de l'entrée correspondant au paramètre s'il s'agit du premier plot\n",
    "            if parameter_key not in subplot_data.keys():\n",
    "                subplot_data[parameter_key] = []\n",
    "            subplot_data[parameter_key].append(data)\n",
    "        # Annulation des modifications sur la microstructure\n",
    "        microstructure.change_fi(inclusion, f_old)\n",
    "        # Tracé des données\n",
    "        draw_all_data(subplot_data)\n",
    "\n",
    "w_addbounds.on_click(plot_bounds)\n",
    "\n",
    "# Sauvegarde\n",
    "n_fig = 0 # Identifiant de la figure\n",
    "w_save = widgets.Button(description=\"Save figures\")\n",
    "w_filename = widgets.Text(value='fig0.pdf')\n",
    "display(widgets.Label(value=\"Enter a valid file name with an extension (ex: .pdf, .png, .jpg) and click the save button to save the figures. The pdf file will be saved in the 'outputs' folder\"))\n",
    "display(widgets.HBox([w_filename, w_save]))\n",
    "\n",
    "def save(b):\n",
    "    \"\"\"\n",
    "    Routine appelée lors d'un appui sur le bouton 'Save figures', sauvegarde la figure dans le dossier 'outputs' avec le nom choisi par l'utilisateur.\n",
    "    Incrémente le nom automatiquement.\n",
    "    \"\"\"\n",
    "    global fig, n_fig\n",
    "    filename = w_filename.value\n",
    "    fig.savefig(\"outputs/\"+filename)\n",
    "    # Mise à jour automatique du nom\n",
    "    n_fig += 1\n",
    "    w_filename.value = 'fig{}.pdf'.format(n_fig)\n",
    "    \n",
    "w_save.on_click(save)\n",
    "\n",
    "display(out_graph)"
   ]
  },
  {
   "cell_type": "markdown",
   "metadata": {},
   "source": [
    "---"
   ]
  },
  {
   "cell_type": "markdown",
   "metadata": {},
   "source": [
    "## IV- Calculs automatisés depuis un fichier texte\n",
    "TODO : Description de la section\n",
    "\n",
    "TODO : Décrire les fichiers compatibles et le format voulu, demander à l'utilisateur de mettre ses fichiers dans le dossier inputs \n",
    "\n",
    "TODO : Réfléchir à un format pertinent des fichiers d'entrée \n",
    "\n",
    "TODO : Ajout d'une barre de progression (utile pour les longs fichiers)"
   ]
  },
  {
   "cell_type": "code",
   "execution_count": 12,
   "metadata": {},
   "outputs": [],
   "source": [
    "list_inputs = [] # Liste des fichiers compatibles avec le format présents dans le dossier 'inputs'\n",
    "folder = 'inputs/'\n",
    "\n",
    "# Recherche de fichiers\n",
    "def compatible_file(file_name, folder):\n",
    "    \"\"\"\n",
    "    Fonction qui vérifies si un fichier donné 'file_name' (str) dans le dossier 'folder' correspond au format.\n",
    "    Cette fonction vérifie uniquement si le fichier est bien un fichier texte et si sa première ligne est '*homogeneisation'.\n",
    "    Renvoie True si le fichier est compatible et False sinon.\n",
    "    \"\"\"\n",
    "    result = True # Initialisation\n",
    "    # Test du nom du fichier\n",
    "    if len(file_name)<5 or file_name[-4:]!='.txt':\n",
    "        result = False\n",
    "    else:\n",
    "        # Lecture de la première ligne\n",
    "        with open(folder+file_name, 'r') as file:\n",
    "            line = file.readline()\n",
    "            if line.strip() != '*homogeneisation':\n",
    "                result = False\n",
    "    return result\n",
    "\n",
    "def check_files(folder = 'inputs/'):\n",
    "    \"\"\"\n",
    "    Routine qui met à jour la liste 'list_inputs' des fichiers compatibles dans le dossier 'inputs'.\n",
    "    Appelée lors de l'appui sur le bouton 'refresh list' plus bas.\n",
    "    \"\"\"\n",
    "    global list_inputs\n",
    "    list_inputs_raw = listdir(folder)\n",
    "    list_inputs = [] # Réinitialisation de la liste\n",
    "    for file_name in list_inputs_raw:\n",
    "        if compatible_file(file_name, folder):\n",
    "            list_inputs.append(file_name)\n",
    "\n",
    "# Lecture des fichiers et calcul des comportement homogénéisés\n",
    "def read_file(b):\n",
    "    \"\"\"\n",
    "    Routine appelée lors d'un appui sur le bouton 'Generate output file'.\n",
    "    Lis le nom du fichier choisi par l'utilisateur. Ouvre et lit le fichier.\n",
    "    Affiche un message à l'utilisateur si une erreur est détectée.\n",
    "    Sinon, calcule le comportement homogénéisé de chaque microstructure et crée un fichier de sortie dans le dossier 'outputs'.\n",
    "    \"\"\"\n",
    "    folder_in = 'inputs/'\n",
    "    folder_out = 'outputs/'\n",
    "    file_name = w_file.value\n",
    "    out_file.clear_output()\n",
    "    read_matrix = False # Définit si la ligne lue correspond à la définition d'une nouvelle microstructure ou d'une inclusion.\n",
    "    read_model = True # Définit si la ligne lue correspond à la définition d'un modèle.\n",
    "    dict_inclusions = {}\n",
    "    n = 0\n",
    "    # Initialisation du fichier de sortie\n",
    "    with open(folder_out+'out_'+file_name, 'w') as file_out:\n",
    "        None\n",
    "    # lecture du fichier d'entrée\n",
    "    with open(folder_in+file_name, 'r') as file:\n",
    "        lines = file.readlines()\n",
    "        for n_line, line in enumerate(lines[1:]):\n",
    "            try:\n",
    "                if read_model:\n",
    "                    # Définition du modèle\n",
    "                    model_name = line.strip()\n",
    "                    model = str_to_model(model_name)\n",
    "                    # Passage à la ligne suivante\n",
    "                    read_model = False\n",
    "                    read_matrix = True\n",
    "                elif read_matrix:\n",
    "                    # Lecture du comportement de la matrice\n",
    "                    matrix_behavior = {}\n",
    "                    line1 = line.strip().split(',')\n",
    "                    for parameter in line1:\n",
    "                        parameter = parameter.split(':')\n",
    "                        matrix_behavior[parameter[0]] = float(parameter[1])\n",
    "                    # Passage à la ligne suivante\n",
    "                    read_matrix = False\n",
    "                elif line.strip() == '*':\n",
    "                    # Calcul de la microstructure précédente\n",
    "                    microstructure = Microstructure(matrix_behavior, dict_inclusions)\n",
    "                    behavior_h = model.compute_h_behavior(microstructure)\n",
    "                    # Écriture du comportement dans le fichier de sortie\n",
    "                    with open(folder_out+'out_'+file_name, 'a') as file_out:\n",
    "                        file_out.write('Essai {}\\n'.format(n))\n",
    "                        file_out.write(str(behavior_h)+'\\n')\n",
    "                    # Passage à la ligne suivante\n",
    "                    read_model = True\n",
    "                    dict_inclusions = {}\n",
    "                    n += 1\n",
    "                else:\n",
    "                    # Lecture d'une inclusion\n",
    "                    line1 = line.strip().split(',')\n",
    "                    type_inclusion = line1[0]\n",
    "                    f = line1[-1] # Fraction volumique\n",
    "                    inclusion_behavior = {}\n",
    "                    for parameter in line1[1:-1]:\n",
    "                        parameter = parameter.strip().split(':')\n",
    "                        inclusion_behavior[parameter[0]] = float(parameter[1])\n",
    "                    # Génération de l'inclusion\n",
    "                    inclusion = Inclusion(int(type_inclusion), inclusion_behavior)\n",
    "                    dict_inclusions[inclusion] = float(f)\n",
    "            except:\n",
    "                with out_file:\n",
    "                    print(\"Error on line {} : {} \".format(n_line+1, line))\n",
    "                    return None\n",
    "    with out_file:\n",
    "        print(\"Output file generated in the 'outputs' folder \")"
   ]
  },
  {
   "cell_type": "code",
   "execution_count": 13,
   "metadata": {},
   "outputs": [
    {
     "data": {
      "application/vnd.jupyter.widget-view+json": {
       "model_id": "42b08ab39c8e4ac0994f9d48435faa31",
       "version_major": 2,
       "version_minor": 0
      },
      "text/plain": [
       "Button(description='Refresh input files list', style=ButtonStyle())"
      ]
     },
     "metadata": {},
     "output_type": "display_data"
    },
    {
     "data": {
      "application/vnd.jupyter.widget-view+json": {
       "model_id": "a7ed6e9014964f1e949641eab43c2d74",
       "version_major": 2,
       "version_minor": 0
      },
      "text/plain": [
       "HBox(children=(Label(value='Choose an input file :'), Dropdown(options=('example.txt',), value='example.txt'),…"
      ]
     },
     "metadata": {},
     "output_type": "display_data"
    },
    {
     "data": {
      "application/vnd.jupyter.widget-view+json": {
       "model_id": "318e5c3fa50f4249a57e37fe2dcdbb77",
       "version_major": 2,
       "version_minor": 0
      },
      "text/plain": [
       "Output(layout=Layout(border='1px solid #FF625BF5', width='max-content'))"
      ]
     },
     "metadata": {},
     "output_type": "display_data"
    },
    {
     "name": "stdout",
     "output_type": "stream",
     "text": [
      "If your file does not appear :\n",
      "- Check that it is a '.txt' file and that its first line is '*homogeneisation',\n",
      "- Check that your file is in the 'inputs' folder,\n",
      "- Press the 'Refresh input files list' button.\n"
     ]
    }
   ],
   "source": [
    "def refresh(b):\n",
    "    \"\"\"\n",
    "    Routine appelée lors d'un appui sur le bouton 'Refresh input files'. \n",
    "    Met à jour la liste des fichiers d'input compatibles et met à jour le widget de sélection.\n",
    "    \"\"\"\n",
    "    check_files()\n",
    "    w_file.options = list_inputs\n",
    "\n",
    "b_refresh = widgets.Button(description='Refresh input files list')\n",
    "display(b_refresh)\n",
    "w_label = widgets.Label(value='Choose an input file :')\n",
    "w_file = widgets.Dropdown(options=list_inputs)\n",
    "refresh(None) # Mise à jour de la liste des fichiers d'entrée disponibles\n",
    "b_compute = widgets.Button(description='Generate output file')\n",
    "display(widgets.HBox([w_label, w_file, b_compute]))\n",
    "out_file = widgets.Output(layout={'width': 'max-content', 'border': '1px solid #FF625BF5'})\n",
    "display(out_file)\n",
    "out_file.clear_output()\n",
    "with out_file:\n",
    "    print(\"Press 'Generate output file' to compute \")\n",
    "    \n",
    "b_refresh.on_click(refresh)\n",
    "b_compute.on_click(read_file)\n",
    "\n",
    "message = \"\"\"If your file does not appear :\n",
    "- Check that it is a '.txt' file and that its first line is '*homogeneisation',\n",
    "- Check that your file is in the 'inputs' folder,\n",
    "- Press the 'Refresh input files list' button.\"\"\"\n",
    "\n",
    "print(message)\n"
   ]
  },
  {
   "cell_type": "markdown",
   "metadata": {},
   "source": [
    "---"
   ]
  },
  {
   "cell_type": "markdown",
   "metadata": {},
   "source": [
    "## V- Description des modèles\n",
    "\n",
    "Pour ajouter un modèle, écrire simplement sa description dans un fichier Markdown (.md) dans le dossier 'model_descriptions'. \n",
    "\n",
    "La première ligne doit être de la forme :\n",
    "\n",
    "'# Nom du modèle'\n"
   ]
  },
  {
   "cell_type": "code",
   "execution_count": 14,
   "metadata": {},
   "outputs": [],
   "source": [
    "from IPython.display import Latex, Markdown\n",
    "from os import listdir\n",
    "\n",
    "# Récupération des fichiers de description des modèles  \n",
    "folder = 'model_descriptions/'\n",
    "folder_files = listdir(folder)\n",
    "descriptions = [] # Liste des fichiers correspondants aux modèles décrits, sous la forme [('nom modèle', chemin_fichier)]\n",
    "for file_name in folder_files:\n",
    "    if file_name.endswith('.md'):\n",
    "        path = folder + file_name\n",
    "        with open(path, 'r') as opened_file:\n",
    "            title = opened_file.readline()\n",
    "        model_name = title[2:].strip() # Suppression des caractères '# ' au début du titre\n",
    "        descriptions.append((model_name, path))"
   ]
  },
  {
   "cell_type": "code",
   "execution_count": 15,
   "metadata": {},
   "outputs": [
    {
     "data": {
      "application/vnd.jupyter.widget-view+json": {
       "model_id": "cd8379e3ddad4173877ac96f736fae4e",
       "version_major": 2,
       "version_minor": 0
      },
      "text/plain": [
       "Dropdown(options=(('Differential scheme', 'model_descriptions/Differential_scheme.md'), ('Self-consistent mode…"
      ]
     },
     "metadata": {},
     "output_type": "display_data"
    },
    {
     "data": {
      "application/vnd.jupyter.widget-view+json": {
       "model_id": "b6ade43d918144a5be59b1aba2710d62",
       "version_major": 2,
       "version_minor": 0
      },
      "text/plain": [
       "Output(layout=Layout(border='1px solid #FF625BF5'))"
      ]
     },
     "metadata": {},
     "output_type": "display_data"
    }
   ],
   "source": [
    "# Affichage de la description\n",
    "w_description = widgets.Dropdown(options=descriptions)\n",
    "display(w_description)\n",
    "out_description = widgets.Output(layout={'border': '1px solid #FF625BF5'})\n",
    "display(out_description)\n",
    "\n",
    "def display_description(change):\n",
    "    \"\"\"\n",
    "    Fonction appelée lors d'un changement de value du widget w_description.\n",
    "    Récupère le modèle choisi et affiche sa description.\n",
    "    \"\"\"\n",
    "    out_description.clear_output()\n",
    "    file_name = w_description.value\n",
    "    with open(file_name, 'r') as file:\n",
    "        description = file.read()\n",
    "        with out_description:\n",
    "            display(Markdown(description))\n",
    "            \n",
    "display_description(None)\n",
    "w_description.observe(display_description, names='value')\n"
   ]
  },
  {
   "cell_type": "markdown",
   "metadata": {},
   "source": [
    "---"
   ]
  },
  {
   "cell_type": "markdown",
   "metadata": {},
   "source": [
    "# Tests "
   ]
  },
  {
   "cell_type": "markdown",
   "metadata": {},
   "source": [
    "## Initialisation micro"
   ]
  },
  {
   "cell_type": "code",
   "execution_count": 16,
   "metadata": {},
   "outputs": [],
   "source": [
    "### Paramètres de test ###\n",
    "K_target = 300\n",
    "G_target = 10\n",
    "Ki = 833.33\n",
    "Gi = 384.62 \n",
    "fi = 0.01\n",
    "Km = 200\n",
    "Gm = 1\n",
    "inclusion = Inclusion(0, {'K': Ki, 'G': Gi})\n",
    "microstructure = Microstructure({'K': Km, 'G': Gm}, {inclusion: fi})"
   ]
  },
  {
   "cell_type": "markdown",
   "metadata": {},
   "source": [
    "## Premier algo"
   ]
  },
  {
   "cell_type": "code",
   "execution_count": 17,
   "metadata": {},
   "outputs": [
    {
     "name": "stdout",
     "output_type": "stream",
     "text": [
      "Microstructure\n",
      "f_m = 0.99, matrix, K: 200.00, G: 1.00, E: 3.00, nu: 0.50\n",
      "f_i = 0.01, None, Spheres, K: 833.33, G: 384.62, E: 1000.01, nu: 0.30\n",
      "[300  10] {'K': 300.15312760403594, 'G': 9.112830975639724, 'E': 27.064593767077564, 'nu': 0.48497178535551727}\n",
      "Microstructure\n",
      "f_m = 0.23, matrix, K: 200.00, G: 1.00, E: 3.00, nu: 0.50\n",
      "f_i = 0.7700000000000005, None, Spheres, K: 833.33, G: 384.62, E: 1000.01, nu: 0.30\n"
     ]
    }
   ],
   "source": [
    "# TODO : fonction qui change la fraction de matrice dans classes\n",
    "\n",
    "\n",
    "target = np.array([K_target, G_target])\n",
    "# f_opti = 0.5 à peu près\n",
    "\n",
    "def grad(target, model, microstructure, inclusion, error):\n",
    "    \"\"\"\n",
    "    Renvoie le gradient en f de l'écart des moindres carrés entre le comportement cible et le comportement homogénéisé pour la microstructure et le modèle donnés.\n",
    "    \"\"\"\n",
    "    pas = 0.001\n",
    "    # Valeur de l'erreur en n+1\n",
    "    microstructure.dict_inclusions[inclusion] += pas\n",
    "    microstructure.f_matrix = microstructure.compute_fm()\n",
    "    behavior = model.compute_h_behavior(microstructure)\n",
    "    list_behavior = np.array([behavior['K'], behavior['G']])\n",
    "    error1 = np.linalg.norm(list_behavior-target)\n",
    "    # Retour à la microstructure de base\n",
    "    microstructure.dict_inclusions[inclusion] -= pas\n",
    "    microstructure.f_matrix = microstructure.compute_fm()\n",
    "    return((error1-error)/pas)\n",
    "\n",
    "def newton(target, model, microstructure, inclusion):\n",
    "    \"\"\"\n",
    "    Réalise une descente du gradient pour trouver la fraction volumique idéale d'inclusion pour atteindre le comportement homogénéisé cible.\n",
    "    \"\"\"\n",
    "    seuil = 10**(-5)\n",
    "    max_iterations = 1000\n",
    "    iteration = 0\n",
    "    # Valeur de l'erreur\n",
    "    behavior = model.compute_h_behavior(microstructure)\n",
    "    list_behavior = np.array([behavior['K'], behavior['G']])\n",
    "    error = np.linalg.norm(list_behavior-target)\n",
    "    while error>seuil and iteration<max_iterations:\n",
    "        grad_error = grad(target, model, microstructure, inclusion, error)\n",
    "        iteration += 1\n",
    "        # TODO : coder une optimisation de alpha\n",
    "        f = microstructure.dict_inclusions[inclusion] - 0.01*np.sign(grad_error)\n",
    "        if f>=1:\n",
    "            f = 0.99\n",
    "        elif f<=0:\n",
    "            f = 0.01\n",
    "        microstructure.dict_inclusions[inclusion] = f\n",
    "        microstructure.f_matrix = microstructure.compute_fm()\n",
    "        behavior = model.compute_h_behavior(microstructure)\n",
    "        list_behavior = np.array([behavior['K'], behavior['G']])\n",
    "        error = np.linalg.norm(list_behavior-target)\n",
    "    print(target, behavior)\n",
    "    return(microstructure)\n",
    "\n",
    "inclusion = list(microstructure.dict_inclusions.keys())[0]\n",
    "microstructure.dict_inclusions[inclusion] = 0.01\n",
    "microstructure.f_matrix = microstructure.compute_fm()\n",
    "print(microstructure)\n",
    "model = Mori_Tanaka()\n",
    "print(newton(target, model, microstructure, inclusion))\n"
   ]
  },
  {
   "cell_type": "markdown",
   "metadata": {},
   "source": [
    "## Initialisation micro"
   ]
  },
  {
   "cell_type": "code",
   "execution_count": 4,
   "metadata": {},
   "outputs": [],
   "source": [
    "### Paramètres de test ###\n",
    "K_target = 200\n",
    "G_target = 10\n",
    "Ki = 833.33\n",
    "Gi = 384.62 \n",
    "fi = 0.01\n",
    "Km = 200\n",
    "Gm = 1\n",
    "inclusion = Inclusion(0, {'K': Ki, 'G': Gi})\n",
    "microstructure = Microstructure({'K': Km, 'G': Gm}, {inclusion: fi})"
   ]
  },
  {
   "cell_type": "markdown",
   "metadata": {},
   "source": [
    "### Deuxième algo"
   ]
  },
  {
   "cell_type": "code",
   "execution_count": 40,
   "metadata": {},
   "outputs": [
    {
     "name": "stdout",
     "output_type": "stream",
     "text": [
      "Microstructure\n",
      "f_m = 0.99, matrix, K: 200.00, G: 1.00, E: 3.00, nu: 0.50\n",
      "f_i = 0.01, None, Spheres, K: 833.33, G: 384.62, E: 1000.01, nu: 0.30\n",
      "iter  1  error  178.9408747736584  Gm  1.1711299602871463  grad  -0.855692586065035  value_incr  0.17112996028714633\n",
      "iter  1  error  178.9408747736584  Gm  1.1711299602871463  grad  -0.855692586065035  value_incr  -0.0\n",
      "iter  2  error  178.79443474065016  Gm  1.342185130438736  grad  -0.8553186166887827  value_incr  0.17105517015158966\n",
      "iter  2  error  178.79443474065016  Gm  1.342185130438736  grad  -0.8553186166887827  value_incr  -0.0\n",
      "iter  3  error  178.6481226582042  Gm  1.513165479436907  grad  -0.8549444922154654  value_incr  0.17098034899817094\n",
      "iter  3  error  178.6481226582042  Gm  1.513165479436907  grad  -0.8549444922154654  value_incr  -0.0\n",
      "iter  4  error  178.50193852333217  Gm  1.6840709753051328  grad  -0.854570207851522  value_incr  0.1709054958682259\n",
      "iter  4  error  178.50193852333217  Gm  1.6840709753051328  grad  -0.854570207851522  value_incr  -0.0\n",
      "iter  5  error  178.3558823346145  Gm  1.854901585116977  grad  -0.8541957588471633  value_incr  0.17083060981184417\n",
      "iter  5  error  178.3558823346145  Gm  1.854901585116977  grad  -0.8541957588471633  value_incr  -0.0\n",
      "iter  6  error  178.2099540921826  Gm  2.0256572750046757  grad  -0.8538211404955185  value_incr  0.17075568988769874\n",
      "iter  6  error  178.2099540921826  Gm  2.0256572750046757  grad  -0.8538211404955185  value_incr  -0.0\n",
      "iter  7  error  178.06415379770124  Gm  2.1963380101677217  grad  -0.8534463481326363  value_incr  0.17068073516304594\n",
      "iter  7  error  178.06415379770124  Gm  2.1963380101677217  grad  -0.8534463481326363  value_incr  -0.0\n",
      "iter  8  error  177.918481454351  Gm  2.366943754881305  grad  -0.8530713771367736  value_incr  0.17060574471358336\n",
      "iter  8  error  177.918481454351  Gm  2.366943754881305  grad  -0.8530713771367736  value_incr  -0.0\n",
      "iter  9  error  177.77293706681118  Gm  2.5374744725044707  grad  -0.8526962229269744  value_incr  0.17053071762316563\n",
      "iter  9  error  177.77293706681118  Gm  2.5374744725044707  grad  -0.8526962229269744  value_incr  -0.0\n",
      "iter  10  error  177.62752064124302  Gm  2.707930125488474  grad  -0.8523208809640649  value_incr  0.17045565298400334\n",
      "iter  10  error  177.62752064124302  Gm  2.707930125488474  grad  -0.8523208809640649  value_incr  -0.0\n",
      "iter  11  error  177.48223218527252  Gm  2.878310675384739  grad  -0.8519453467486633  value_incr  0.17038054989626517\n",
      "iter  11  error  177.48223218527252  Gm  2.878310675384739  grad  -0.8519453467486633  value_incr  -0.0\n",
      "iter  12  error  177.33707170797442  Gm  3.048616082852959  grad  -0.8515696158218911  value_incr  0.17030540746821998\n",
      "iter  12  error  177.33707170797442  Gm  3.048616082852959  grad  -0.8515696158218911  value_incr  -0.0\n",
      "iter  13  error  177.19203921985536  Gm  3.218846307668855  grad  -0.8511936837636671  value_incr  0.17023022481589578\n",
      "iter  13  error  177.19203921985536  Gm  3.218846307668855  grad  -0.8511936837636671  value_incr  -0.0\n",
      "iter  14  error  177.04713473283806  Gm  3.3890013087320483  grad  -0.8508175461932765  value_incr  0.17015500106319337\n",
      "iter  14  error  177.04713473283806  Gm  3.3890013087320483  grad  -0.8508175461932765  value_incr  -0.0\n",
      "iter  15  error  176.90235826024522  Gm  3.5590810440736504  grad  -0.8504411987679491  value_incr  0.17007973534160215\n",
      "iter  15  error  176.90235826024522  Gm  3.5590810440736504  grad  -0.8504411987679491  value_incr  -0.0\n",
      "iter  16  error  176.75770981678394  Gm  3.729085470863936  grad  -0.8500646371832861  value_incr  0.17000442679028538\n",
      "iter  16  error  176.75770981678394  Gm  3.729085470863936  grad  -0.8500646371832861  value_incr  -0.0\n",
      "iter  17  error  176.61318941852997  Gm  3.899014545419732  grad  -0.8496878571718385  value_incr  0.16992907455579598\n",
      "iter  17  error  176.61318941852997  Gm  3.899014545419732  grad  -0.8496878571718385  value_incr  -0.0\n",
      "iter  18  error  176.46879708291254  Gm  4.068868223211979  grad  -0.8493108545039604  value_incr  0.16985367779224703\n",
      "iter  18  error  176.46879708291254  Gm  4.068868223211979  grad  -0.8493108545039604  value_incr  -0.0\n",
      "iter  19  error  176.32453282869884  Gm  4.238646458872864  grad  -0.8489336249856766  value_incr  0.16977823566088546\n",
      "iter  19  error  176.32453282869884  Gm  4.238646458872864  grad  -0.8489336249856766  value_incr  -0.0\n",
      "iter  20  error  176.18039667597935  Gm  4.40834920620307  grad  -0.8485561644592516  value_incr  0.16970274733020574\n",
      "iter  20  error  176.18039667597935  Gm  4.40834920620307  grad  -0.8485561644592516  value_incr  -0.0\n",
      "iter  21  error  176.03638864615291  Gm  4.577976418178963  grad  -0.8481784688029053  value_incr  0.16962721197589303\n",
      "iter  21  error  176.03638864615291  Gm  4.577976418178963  grad  -0.8481784688029053  value_incr  -0.0\n",
      "iter  22  error  175.89250876191196  Gm  4.747528046959445  grad  -0.8478005339291071  value_incr  0.16955162878048213\n",
      "iter  22  error  175.89250876191196  Gm  4.747528046959445  grad  -0.8478005339291071  value_incr  -0.0\n",
      "iter  23  error  175.7487570472283  Gm  4.917004043893144  grad  -0.8474223557862819  value_incr  0.16947599693369853\n",
      "iter  23  error  175.7487570472283  Gm  4.917004043893144  grad  -0.8474223557862819  value_incr  -0.0\n",
      "iter  24  error  175.60513352733855  Gm  5.086404359525176  grad  -0.8470439303566781  value_incr  0.16940031563203206\n",
      "iter  24  error  175.60513352733855  Gm  5.086404359525176  grad  -0.8470439303566781  value_incr  -0.0\n",
      "iter  25  error  175.46163822873  Gm  5.2557289436038275  grad  -0.8466652536559413  value_incr  0.1693245840786517\n",
      "iter  25  error  175.46163822873  Gm  5.2557289436038275  grad  -0.8466652536559413  value_incr  -0.0\n",
      "iter  26  error  175.31827117912678  Gm  5.424977745087318  grad  -0.8462863217335405  value_incr  0.16924880148349075\n",
      "iter  26  error  175.31827117912678  Gm  5.424977745087318  grad  -0.8462863217335405  value_incr  -0.0\n",
      "iter  27  error  175.17503240747607  Gm  5.59415071215048  grad  -0.8459071306723419  value_incr  0.16917296706316165\n",
      "iter  27  error  175.17503240747607  Gm  5.59415071215048  grad  -0.8459071306723419  value_incr  -0.0\n",
      "iter  28  error  175.03192194393418  Gm  5.763247792191152  grad  -0.8455276765871879  value_incr  0.1690970800406717\n",
      "iter  28  error  175.03192194393418  Gm  5.763247792191152  grad  -0.8455276765871879  value_incr  -0.0\n",
      "iter  29  error  174.88893981985336  Gm  5.932268931836774  grad  -0.8451479556258915  value_incr  0.16902113964562204\n",
      "iter  29  error  174.88893981985336  Gm  5.932268931836774  grad  -0.8451479556258915  value_incr  -0.0\n",
      "iter  30  error  174.7460860677682  Gm  6.101214076950669  grad  -0.8447679639676735  value_incr  0.16894514511389502\n",
      "iter  30  error  174.7460860677682  Gm  6.101214076950669  grad  -0.8447679639676735  value_incr  -0.0\n",
      "iter  31  error  174.6033607213826  Gm  6.270083172638351  grad  -0.8443876978233041  value_incr  0.1688690956876826\n",
      "iter  31  error  174.6033607213826  Gm  6.270083172638351  grad  -0.8443876978233041  value_incr  -0.0\n",
      "iter  32  error  174.46076381555653  Gm  6.438876163253809  grad  -0.8440071534349615  value_incr  0.16879299061545794\n",
      "iter  32  error  174.46076381555653  Gm  6.438876163253809  grad  -0.8440071534349615  value_incr  -0.0\n",
      "iter  33  error  174.31829538629347  Gm  6.6075929924056425  grad  -0.8436263270755202  value_incr  0.16871682915183328\n",
      "iter  33  error  174.31829538629347  Gm  6.6075929924056425  grad  -0.8436263270755202  value_incr  -0.0\n",
      "iter  34  error  174.1759554707271  Gm  6.77623360296306  grad  -0.8432452150478417  value_incr  0.16864061055741786\n",
      "iter  34  error  174.1759554707271  Gm  6.77623360296306  grad  -0.8432452150478417  value_incr  -0.0\n",
      "iter  35  error  174.03374410710933  Gm  6.94479793706202  grad  -0.8428638136854842  value_incr  0.16856433409896\n",
      "iter  35  error  174.03374410710933  Gm  6.94479793706202  grad  -0.8428638136854842  value_incr  -0.0\n",
      "iter  36  error  173.89166133479722  Gm  7.113285936111083  grad  -0.8424821193512819  value_incr  0.16848799904906286\n",
      "iter  36  error  173.89166133479722  Gm  7.113285936111083  grad  -0.8424821193512819  value_incr  -0.0\n",
      "iter  37  error  173.74970719424104  Gm  7.281697540797353  grad  -0.8421001284377709  value_incr  0.1684116046862698\n",
      "iter  37  error  173.74970719424104  Gm  7.281697540797353  grad  -0.8421001284377709  value_incr  -0.0\n",
      "iter  38  error  173.6078817269718  Gm  7.45003269109219  grad  -0.8417178373660529  value_incr  0.16833515029483692\n",
      "iter  38  error  173.6078817269718  Gm  7.45003269109219  grad  -0.8417178373660529  value_incr  -0.0\n",
      "iter  39  error  173.46618497558933  Gm  7.61829132625698  grad  -0.8413352425860787  value_incr  0.1682586351647899\n",
      "iter  39  error  173.46618497558933  Gm  7.61829132625698  grad  -0.8413352425860787  value_incr  -0.0\n",
      "iter  40  error  173.3246169837503  Gm  7.786473384848904  grad  -0.840952340576649  value_incr  0.16818205859192403\n",
      "iter  40  error  173.3246169837503  Gm  7.786473384848904  grad  -0.840952340576649  value_incr  -0.0\n",
      "iter  41  error  173.18317779615631  Gm  7.954578804726424  grad  -0.8405691278439924  value_incr  0.16810541987752003\n",
      "iter  41  error  173.18317779615631  Gm  7.954578804726424  grad  -0.8405691278439924  value_incr  -0.0\n",
      "iter  42  error  173.0418674585423  Gm  8.122607523054853  grad  -0.8401856009221923  value_incr  0.16802871832842925\n",
      "iter  42  error  173.0418674585423  Gm  8.122607523054853  grad  -0.8401856009221923  value_incr  -0.0\n",
      "iter  43  error  172.90068601766487  Gm  8.290559476311927  grad  -0.8398017563731871  value_incr  0.16795195325707368\n",
      "iter  43  error  172.90068601766487  Gm  8.290559476311927  grad  -0.8398017563731871  value_incr  -0.0\n",
      "iter  44  error  172.75963352129082  Gm  8.458434600293089  grad  -0.8394175907853482  value_incr  0.16787512398116178\n",
      "iter  44  error  172.75963352129082  Gm  8.458434600293089  grad  -0.8394175907853482  value_incr  -0.0\n",
      "iter  45  error  172.61871001818605  Gm  8.626232830116976  grad  -0.8390331007744756  value_incr  0.16779822982388737\n",
      "iter  45  error  172.61871001818605  Gm  8.626232830116976  grad  -0.8390331007744756  value_incr  -0.0\n",
      "iter  46  error  172.47791555810397  Gm  8.793954100230621  grad  -0.8386482829823764  value_incr  0.16772127011364546\n",
      "iter  46  error  172.47791555810397  Gm  8.793954100230621  grad  -0.8386482829823764  value_incr  -0.0\n",
      "iter  47  error  172.33725019177473  Gm  8.961598344414824  grad  -0.8382631340777177  value_incr  0.16764424418420276\n",
      "iter  47  error  172.33725019177473  Gm  8.961598344414824  grad  -0.8382631340777177  value_incr  -0.0\n",
      "iter  48  error  172.19671397089397  Gm  9.129165495789152  grad  -0.8378776507541787  value_incr  0.1675671513743282\n",
      "iter  48  error  172.19671397089397  Gm  9.129165495789152  grad  -0.8378776507541787  value_incr  -0.0\n",
      "iter  49  error  172.0563069481121  Gm  9.296655486817286  grad  -0.8374918297321566  value_incr  0.167489991028134\n",
      "iter  49  error  172.0563069481121  Gm  9.296655486817286  grad  -0.8374918297321566  value_incr  -0.0\n",
      "iter  50  error  171.91602917702352  Gm  9.464068249311907  grad  -0.8371056677564923  value_incr  0.1674127624946209\n",
      "iter  50  error  171.91602917702352  Gm  9.464068249311907  grad  -0.8371056677564923  value_incr  -0.0\n",
      "iter  51  error  171.77588071215595  Gm  9.63140371443987  grad  -0.8367191615978918  value_incr  0.16733546512796238\n",
      "iter  51  error  171.77588071215595  Gm  9.63140371443987  grad  -0.8367191615978918  value_incr  -0.0\n",
      "iter  52  error  171.63586160895971  Gm  9.798661812727005  grad  -0.8363323080510787  value_incr  0.16725809828713523\n",
      "iter  52  error  171.63586160895971  Gm  9.798661812727005  grad  -0.8363323080510787  value_incr  -0.0\n",
      "iter  53  error  171.49597192379773  Gm  9.965842474063322  grad  -0.8359451039367837  value_incr  0.16718066133631737\n",
      "iter  53  error  171.49597192379773  Gm  9.965842474063322  grad  -0.8359451039367837  value_incr  -0.0\n",
      "iter  54  error  171.35621171393444  Gm  10.132945627707471  grad  -0.8355575460980497  value_incr  0.16710315364414896\n",
      "iter  54  error  171.35621171393444  Gm  10.132945627707471  grad  -0.8355575460980497  value_incr  -0.0\n",
      "iter  55  error  171.21658103752637  Gm  10.299971202291857  grad  -0.8351696314035004  value_incr  0.16702557458438605\n",
      "iter  55  error  171.21658103752637  Gm  10.299971202291857  grad  -0.8351696314035004  value_incr  -0.0\n",
      "iter  56  error  171.0770799536115  Gm  10.466919125827388  grad  -0.8347813567454928  value_incr  0.16694792353553112\n",
      "iter  56  error  171.0770799536115  Gm  10.466919125827388  grad  -0.8347813567454928  value_incr  -0.0\n",
      "iter  57  error  170.93770852209923  Gm  10.633789325707994  grad  -0.8343927190389804  value_incr  0.1668701998806057\n",
      "iter  57  error  170.93770852209923  Gm  10.633789325707994  grad  -0.8343927190389804  value_incr  -0.0\n",
      "iter  58  error  170.7984668037606  Gm  10.800581728715457  grad  -0.8340037152230761  value_incr  0.166792403007463\n",
      "iter  58  error  170.7984668037606  Gm  10.800581728715457  grad  -0.8340037152230761  value_incr  -0.0\n",
      "iter  59  error  170.65935486021834  Gm  10.967296261024018  grad  -0.8336143422599159  value_incr  0.1667145323085606\n",
      "iter  59  error  170.65935486021834  Gm  10.967296261024018  grad  -0.8336143422599159  value_incr  -0.0\n",
      "iter  60  error  170.52037275393712  Gm  11.133932848204836  grad  -0.8332245971339477  value_incr  0.1666365871808182\n",
      "iter  60  error  170.52037275393712  Gm  11.133932848204836  grad  -0.8332245971339477  value_incr  -0.0\n",
      "iter  61  error  170.38152054821393  Gm  11.300491415230624  grad  -0.8328344768527842  value_incr  0.1665585670257883\n",
      "iter  61  error  170.38152054821393  Gm  11.300491415230624  grad  -0.8328344768527842  value_incr  -0.0\n",
      "iter  62  error  170.2427983071684  Gm  11.466971886480081  grad  -0.8324439784462083  value_incr  0.1664804712494572\n",
      "iter  62  error  170.2427983071684  Gm  11.466971886480081  grad  -0.8324439784462083  value_incr  -0.0\n",
      "iter  63  error  170.10420609573347  Gm  11.633374185742383  grad  -0.8320530989664572  value_incr  0.16640229926230177\n",
      "iter  63  error  170.10420609573347  Gm  11.633374185742383  grad  -0.8320530989664572  value_incr  -0.0\n",
      "iter  64  error  169.96574397964565  Gm  11.799698236221445  grad  -0.8316618354870853  value_incr  0.16632405047906218\n",
      "iter  64  error  169.96574397964565  Gm  11.799698236221445  grad  -0.8316618354870853  value_incr  -0.0\n",
      "iter  65  error  169.8274120254362  Gm  11.965943960540386  grad  -0.8312701851039592  value_incr  0.1662457243189408\n",
      "iter  65  error  169.8274120254362  Gm  11.965943960540386  grad  -0.8312701851039592  value_incr  -0.0\n",
      "iter  66  error  169.68921030042142  Gm  12.13211128074579  grad  -0.830878144934263  value_incr  0.16616732020540326\n",
      "iter  66  error  169.68921030042142  Gm  12.13211128074579  grad  -0.830878144934263  value_incr  -0.0\n",
      "iter  67  error  169.5511388726938  Gm  12.298200118311968  grad  -0.8304857121164979  value_incr  0.16608883756617843\n",
      "iter  67  error  169.5511388726938  Gm  12.298200118311968  grad  -0.8304857121164979  value_incr  -0.0\n",
      "iter  68  error  169.4131978111128  Gm  12.464210394145113  grad  -0.8300928838099143  value_incr  0.16601027583314476\n",
      "iter  68  error  169.4131978111128  Gm  12.464210394145113  grad  -0.8300928838099143  value_incr  -0.0\n",
      "iter  69  error  169.27538718529613  Gm  12.63014202858767  grad  -0.8296996571956481  value_incr  0.16593163444255765\n",
      "iter  69  error  169.27538718529613  Gm  12.63014202858767  grad  -0.8296996571956481  value_incr  -0.0\n",
      "iter  70  error  169.1377070656103  Gm  12.795994941422293  grad  -0.8293060294745893  value_incr  0.1658529128346231\n",
      "iter  70  error  169.1377070656103  Gm  12.795994941422293  grad  -0.8293060294745893  value_incr  -0.0\n",
      "iter  71  error  169.00015752316224  Gm  12.961769051875905  grad  -0.8289119978679507  value_incr  0.16577411045361146\n",
      "iter  71  error  169.00015752316224  Gm  12.961769051875905  grad  -0.8289119978679507  value_incr  -0.0\n",
      "iter  72  error  168.86273862979067  Gm  13.12746427862399  grad  -0.8285175596184043  value_incr  0.16569522674808468\n",
      "iter  72  error  168.86273862979067  Gm  13.12746427862399  grad  -0.8285175596184043  value_incr  -0.0\n",
      "iter  73  error  168.72545045805688  Gm  13.293080539794516  grad  -0.8281227119882343  value_incr  0.16561626117052697\n",
      "iter  73  error  168.72545045805688  Gm  13.293080539794516  grad  -0.8281227119882343  value_incr  -0.0\n",
      "iter  74  error  168.58829308123643  Gm  13.458617752971747  grad  -0.8277274522587681  value_incr  0.16553721317723102\n",
      "iter  74  error  168.58829308123643  Gm  13.458617752971747  grad  -0.8277274522587681  value_incr  -0.0\n",
      "iter  75  error  168.45126657331082  Gm  13.624075835200472  grad  -0.8273317777325085  value_incr  0.16545808222872438\n",
      "iter  75  error  168.45126657331082  Gm  13.624075835200472  grad  -0.8273317777325085  value_incr  -0.0\n",
      "iter  76  error  168.31437100895866  Gm  13.78945470298973  grad  -0.8269356857305756  value_incr  0.1653788677892578\n",
      "iter  76  error  168.31437100895866  Gm  13.78945470298973  grad  -0.8269356857305756  value_incr  -0.0\n",
      "iter  77  error  168.17760646354748  Gm  13.954754272316762  grad  -0.8265391735938432  value_incr  0.1652995693270327\n",
      "iter  77  error  168.17760646354748  Gm  13.954754272316762  grad  -0.8265391735938432  value_incr  -0.0\n",
      "iter  78  error  168.04097301312535  Gm  14.119974458630821  grad  -0.826142238682229  value_incr  0.165220186314059\n",
      "iter  78  error  168.04097301312535  Gm  14.119974458630821  grad  -0.826142238682229  value_incr  -0.0\n",
      "iter  79  error  167.90447073441277  Gm  14.285115176857033  grad  -0.8257448783749782  value_incr  0.1651407182262119\n",
      "iter  79  error  167.90447073441277  Gm  14.285115176857033  grad  -0.8257448783749782  value_incr  -0.0\n",
      "iter  80  error  167.76809970479425  Gm  14.450176341400152  grad  -0.8253470900700953  value_incr  0.16506116454311837\n",
      "iter  80  error  167.76809970479425  Gm  14.450176341400152  grad  -0.8253470900700953  value_incr  -0.0\n",
      "iter  81  error  167.63186000231033  Gm  14.615157866148223  grad  -0.8249488711839177  value_incr  0.1649815247480717\n",
      "iter  81  error  167.63186000231033  Gm  14.615157866148223  grad  -0.8249488711839177  value_incr  -0.0\n",
      "iter  82  error  167.49575170564958  Gm  14.780059664476454  grad  -0.8245502191521106  value_incr  0.1649017983282306\n",
      "iter  82  error  167.49575170564958  Gm  14.780059664476454  grad  -0.8245502191521106  value_incr  -0.0\n",
      "iter  83  error  167.35977489414057  Gm  14.94488164925076  grad  -0.8241511314281036  value_incr  0.16482198477430643\n",
      "iter  83  error  167.35977489414057  Gm  14.94488164925076  grad  -0.8241511314281036  value_incr  -0.0\n",
      "iter  84  error  167.2239296477437  Gm  15.109623732831437  grad  -0.8237516054836591  value_incr  0.164742083580677\n",
      "iter  84  error  167.2239296477437  Gm  15.109623732831437  grad  -0.8237516054836591  value_incr  -0.0\n",
      "iter  85  error  167.0882160470439  Gm  15.274285827076852  grad  -0.8233516388090149  value_incr  0.1646620942454149\n",
      "iter  85  error  167.0882160470439  Gm  15.274285827076852  grad  -0.8233516388090149  value_incr  -0.0\n",
      "iter  86  error  166.95263417324222  Gm  15.43886784334694  grad  -0.8229512289118887  value_incr  0.16458201627008862\n",
      "iter  86  error  166.95263417324222  Gm  15.43886784334694  grad  -0.8229512289118887  value_incr  -0.0\n",
      "iter  87  error  166.81718410814847  Gm  15.603369692506789  grad  -0.8225503733179048  value_incr  0.16450184915984778\n",
      "iter  87  error  166.81718410814847  Gm  15.603369692506789  grad  -0.8225503733179048  value_incr  -0.0\n",
      "iter  88  error  166.6818659341734  Gm  15.767791284930155  grad  -0.82214906957031  value_incr  0.1644215924233663\n",
      "iter  88  error  166.6818659341734  Gm  15.767791284930155  grad  -0.82214906957031  value_incr  -0.0\n",
      "iter  89  error  166.54667973432123  Gm  15.932132530502997  grad  -0.8217473152299732  value_incr  0.16434124557284235\n",
      "iter  89  error  166.54667973432123  Gm  15.932132530502997  grad  -0.8217473152299732  value_incr  -0.0\n",
      "iter  90  error  166.4116255921818  Gm  16.09639333862694  grad  -0.8213451078751018  value_incr  0.16426080812394162\n",
      "iter  90  error  166.4116255921818  Gm  16.09639333862694  grad  -0.8213451078751018  value_incr  -0.0\n",
      "iter  91  error  166.27670359192328  Gm  16.26057361822265  grad  -0.8209424451008146  value_incr  0.1641802795957119\n",
      "iter  91  error  166.27670359192328  Gm  16.26057361822265  grad  -0.8209424451008146  value_incr  -0.0\n",
      "iter  92  error  166.14191381828468  Gm  16.424673277733348  grad  -0.8205393245197107  value_incr  0.16409965951069694\n",
      "iter  92  error  166.14191381828468  Gm  16.424673277733348  grad  -0.8205393245197107  value_incr  -0.0\n",
      "iter  93  error  166.0072563565684  Gm  16.588692225128113  grad  -0.8201357437610167  value_incr  0.16401894739476575\n",
      "iter  93  error  166.0072563565684  Gm  16.588692225128113  grad  -0.8201357437610167  value_incr  -0.0\n",
      "iter  94  error  165.87273129263295  Gm  16.752630367905283  grad  -0.8197317004708713  value_incr  0.16393814277716956\n",
      "iter  94  error  165.87273129263295  Gm  16.752630367905283  grad  -0.8197317004708713  value_incr  -0.0\n",
      "iter  95  error  165.73833871288562  Gm  16.916487613095825  grad  -0.8193271923123245  value_incr  0.1638572451905418\n",
      "iter  95  error  165.73833871288562  Gm  16.916487613095825  grad  -0.8193271923123245  value_incr  -0.0\n",
      "iter  96  error  165.60407870427514  Gm  17.080263867266495  grad  -0.8189222169642014  value_incr  0.16377625417067065\n",
      "iter  96  error  165.60407870427514  Gm  17.080263867266495  grad  -0.8189222169642014  value_incr  -0.0\n",
      "iter  97  error  165.46995135428477  Gm  17.24395903652328  grad  -0.8185167721225232  value_incr  0.1636951692567834\n",
      "iter  97  error  165.46995135428477  Gm  17.24395903652328  grad  -0.8185167721225232  value_incr  -0.0\n",
      "iter  98  error  165.3359567509249  Gm  17.407573026514626  grad  -0.8181108554995117  value_incr  0.16361398999134735\n",
      "iter  98  error  165.3359567509249  Gm  17.407573026514626  grad  -0.8181108554995117  value_incr  -0.0\n",
      "iter  99  error  165.202094982726  Gm  17.57110574243461  grad  -0.8177044648231644  value_incr  0.16353271591998464\n",
      "iter  99  error  165.202094982726  Gm  17.57110574243461  grad  -0.8177044648231644  value_incr  -0.0\n",
      "iter  100  error  165.0683661387317  Gm  17.734557089026225  grad  -0.8172975978379634  value_incr  0.1634513465916143\n",
      "iter  100  error  165.0683661387317  Gm  17.734557089026225  grad  -0.8172975978379634  value_incr  -0.0\n",
      "iter  101  error  164.93477030849164  Gm  17.89792697058448  grad  -0.8168902523038821  value_incr  0.16336988155825338\n",
      "iter  101  error  164.93477030849164  Gm  17.89792697058448  grad  -0.8168902523038821  value_incr  -0.0\n",
      "iter  102  error  164.80130758205468  Gm  18.061215290959638  grad  -0.8164824259970945  value_incr  0.16328832037515895\n",
      "iter  102  error  164.80130758205468  Gm  18.061215290959638  grad  -0.8164824259970945  value_incr  -0.0\n",
      "iter  103  error  164.66797804996187  Gm  18.224421953560267  grad  -0.8160741167089816  value_incr  0.16320666260062922\n",
      "iter  103  error  164.66797804996187  Gm  18.224421953560267  grad  -0.8160741167089816  value_incr  -0.0\n",
      "iter  104  error  164.53478180323978  Gm  18.387546861356526  grad  -0.815665322247409  value_incr  0.16312490779625932\n",
      "iter  104  error  164.53478180323978  Gm  18.387546861356526  grad  -0.815665322247409  value_incr  -0.0\n",
      "iter  105  error  164.4017189333934  Gm  18.55058991688307  grad  -0.8152560404347388  value_incr  0.1630430555265434\n",
      "iter  105  error  164.4017189333934  Gm  18.55058991688307  grad  -0.8152560404347388  value_incr  -0.0\n",
      "iter  106  error  164.26878953239964  Gm  18.713551022242257  grad  -0.8148462691093918  value_incr  0.16296110535918729\n",
      "iter  106  error  164.26878953239964  Gm  18.713551022242257  grad  -0.8148462691093918  value_incr  -0.0\n",
      "iter  107  error  164.13599369270045  Gm  18.87643007910708  grad  -0.8144360061244271  value_incr  0.16287905686482418\n",
      "iter  107  error  164.13599369270045  Gm  18.87643007910708  grad  -0.8144360061244271  value_incr  -0.0\n",
      "iter  108  error  164.00333150719635  Gm  19.03922698872438  grad  -0.8140252493489624  value_incr  0.16279690961729898\n",
      "iter  108  error  164.00333150719635  Gm  19.03922698872438  grad  -0.8140252493489624  value_incr  -0.0\n",
      "iter  109  error  163.87080306923946  Gm  19.20194165191768  grad  -0.813613996666327  value_incr  0.16271466319329875\n",
      "iter  109  error  163.87080306923946  Gm  19.20194165191768  grad  -0.813613996666327  value_incr  -0.0\n",
      "iter  110  error  163.7384084726272  Gm  19.36457396909023  grad  -0.8132022459750571  value_incr  0.16263231717255167\n",
      "iter  110  error  163.7384084726272  Gm  19.36457396909023  grad  -0.8132022459750571  value_incr  -0.0\n",
      "iter  111  error  163.60614781159563  Gm  19.52712384022803  grad  -0.8127899951887525  value_incr  0.16254987113779862\n",
      "iter  111  error  163.60614781159563  Gm  19.52712384022803  grad  -0.8127899951887525  value_incr  -0.0\n",
      "iter  112  error  163.47402118081297  Gm  19.689591164902794  grad  -0.8123772422359357  value_incr  0.16246732467476477\n",
      "iter  112  error  163.47402118081297  Gm  19.689591164902794  grad  -0.8123772422359357  value_incr  -0.0\n",
      "iter  113  error  163.34202867537297  Gm  19.85197584227481  grad  -0.8119639850593402  value_incr  0.16238467737201745\n",
      "iter  113  error  163.34202867537297  Gm  19.85197584227481  grad  -0.8119639850593402  value_incr  -0.0\n",
      "iter  114  error  163.21017039078873  Gm  20.01427777109589  grad  -0.81155022161648  value_incr  0.16230192882107985\n",
      "iter  114  error  163.21017039078873  Gm  20.01427777109589  grad  -0.81155022161648  value_incr  -0.0\n",
      "iter  115  error  163.07844642298605  Gm  20.17649684971221  grad  -0.8111359498790807  value_incr  0.16221907861631735\n",
      "iter  115  error  163.07844642298605  Gm  20.17649684971221  grad  -0.8111359498790807  value_incr  -0.0\n",
      "iter  116  error  162.94685686829735  Gm  20.338632976067316  grad  -0.8107211678339317  value_incr  0.162136126355108\n",
      "iter  116  error  162.94685686829735  Gm  20.338632976067316  grad  -0.8107211678339317  value_incr  -0.0\n",
      "iter  117  error  162.81540182345503  Gm  20.500686047704846  grad  -0.8103058734813237  value_incr  0.1620530716375299\n",
      "iter  117  error  162.81540182345503  Gm  20.500686047704846  grad  -0.8103058734813237  value_incr  -0.0\n",
      "iter  118  error  162.68408138558553  Gm  20.66265596177149  grad  -0.8098900648364694  value_incr  0.16196991406664552\n",
      "iter  118  error  162.68408138558553  Gm  20.66265596177149  grad  -0.8098900648364694  value_incr  -0.0\n",
      "iter  119  error  162.55289565220278  Gm  20.824542615019794  grad  -0.8094737399285091  value_incr  0.16188665324830254\n",
      "iter  119  error  162.55289565220278  Gm  20.824542615019794  grad  -0.8094737399285091  value_incr  -0.0\n",
      "iter  120  error  162.42184472120206  Gm  20.9863459038109  grad  -0.8090568968003681  value_incr  0.16180328879110562\n",
      "iter  120  error  162.42184472120206  Gm  20.9863459038109  grad  -0.8090568968003681  value_incr  -0.0\n",
      "iter  121  error  162.290928690854  Gm  21.14806572411743  grad  -0.8086395335093254  value_incr  0.16171982030652998\n",
      "iter  121  error  162.290928690854  Gm  21.14806572411743  grad  -0.8086395335093254  value_incr  -0.0\n",
      "iter  122  error  162.16014765979818  Gm  21.30970197152618  grad  -0.8082216481261609  value_incr  0.16163624740875093\n",
      "iter  122  error  162.16014765979818  Gm  21.30970197152618  grad  -0.8082216481261609  value_incr  -0.0\n",
      "iter  123  error  162.02950172703714  Gm  21.471254541240967  grad  -0.8078032387358665  value_incr  0.16155256971478593\n",
      "iter  123  error  162.02950172703714  Gm  21.471254541240967  grad  -0.8078032387358665  value_incr  -0.0\n",
      "iter  124  error  161.8989909919304  Gm  21.63272332808529  grad  -0.8073843034367922  value_incr  0.16146878684432409\n",
      "iter  124  error  161.8989909919304  Gm  21.63272332808529  grad  -0.8073843034367922  value_incr  -0.0\n",
      "iter  125  error  161.7686155541882  Gm  21.79410822650513  grad  -0.8069648403412162  value_incr  0.16138489841983983\n",
      "iter  125  error  161.7686155541882  Gm  21.79410822650513  grad  -0.8069648403412162  value_incr  -0.0\n",
      "iter  126  error  161.63837551386564  Gm  21.95540913057161  grad  -0.8065448475747748  value_incr  0.16130090406647923\n",
      "iter  126  error  161.63837551386564  Gm  21.95540913057161  grad  -0.8065448475747748  value_incr  -0.0\n",
      "iter  127  error  161.50827097135672  Gm  22.11662593398384  grad  -0.8061243232773166  value_incr  0.16121680341223055\n",
      "iter  127  error  161.50827097135672  Gm  22.11662593398384  grad  -0.8061243232773166  value_incr  -0.0\n",
      "iter  128  error  161.37830202738812  Gm  22.277758530071367  grad  -0.8057032656009114  value_incr  0.16113259608752628\n",
      "iter  128  error  161.37830202738812  Gm  22.277758530071367  grad  -0.8057032656009114  value_incr  -0.0\n",
      "iter  129  error  161.24846878301372  Gm  22.438806811797036  grad  -0.8052816727119833  value_incr  0.16104828172566954\n",
      "iter  129  error  161.24846878301372  Gm  22.438806811797036  grad  -0.8052816727119833  value_incr  -0.0\n",
      "iter  130  error  161.11877133960832  Gm  22.599770671759643  grad  -0.8048595427901728  value_incr  0.16096385996260665\n",
      "iter  130  error  161.11877133960832  Gm  22.599770671759643  grad  -0.8048595427901728  value_incr  -0.0\n",
      "iter  131  error  160.98920979886185  Gm  22.7606500021964  grad  -0.8044368740274844  value_incr  0.16087933043675662\n",
      "iter  131  error  160.98920979886185  Gm  22.7606500021964  grad  -0.8044368740274844  value_incr  -0.0\n",
      "iter  132  error  160.85978426277387  Gm  22.921444694985865  grad  -0.804013664630561  value_incr  0.1607946927894659\n",
      "iter  132  error  160.85978426277387  Gm  22.921444694985865  grad  -0.804013664630561  value_incr  -0.0\n",
      "iter  133  error  160.73049483364727  Gm  23.082154641650305  grad  -0.8035899128178405  value_incr  0.16070994666443994\n",
      "iter  133  error  160.73049483364727  Gm  23.082154641650305  grad  -0.8035899128178405  value_incr  -0.0\n",
      "iter  134  error  160.60134161408283  Gm  23.242779733358475  grad  -0.8031656168216886  value_incr  0.16062509170816952\n",
      "iter  134  error  160.60134161408283  Gm  23.242779733358475  grad  -0.8031656168216886  value_incr  -0.0\n",
      "iter  135  error  160.4723247069732  Gm  23.403319860928036  grad  -0.8027407748865506  value_incr  0.16054012756956126\n",
      "iter  135  error  160.4723247069732  Gm  23.403319860928036  grad  -0.8027407748865506  value_incr  -0.0\n",
      "iter  136  error  160.34344421549758  Gm  23.563774914828286  grad  -0.8023153852705149  value_incr  0.16045505390025028\n",
      "iter  136  error  160.34344421549758  Gm  23.563774914828286  grad  -0.8023153852705149  value_incr  -0.0\n",
      "iter  137  error  160.21470024311577  Gm  23.724144785182773  grad  -0.8018894462447446  value_incr  0.16036987035448647\n",
      "iter  137  error  160.21470024311577  Gm  23.724144785182773  grad  -0.8018894462447446  value_incr  -0.0\n",
      "iter  138  error  160.08609289356227  Gm  23.88442936177165  grad  -0.8014629560921983  value_incr  0.16028457658887874\n",
      "iter  138  error  160.08609289356227  Gm  23.88442936177165  grad  -0.8014629560921983  value_incr  -0.0\n",
      "iter  139  error  159.95762227084114  Gm  24.044628534034473  grad  -0.8010359131097621  value_incr  0.16019917226282132\n",
      "iter  139  error  159.95762227084114  Gm  24.044628534034473  grad  -0.8010359131097621  value_incr  -0.0\n",
      "iter  140  error  159.82928847921994  Gm  24.204742191072455  grad  -0.8006083156056912  value_incr  0.1601136570379822\n",
      "iter  140  error  159.82928847921994  Gm  24.204742191072455  grad  -0.8006083156056912  value_incr  -0.0\n",
      "iter  141  error  159.70109162322456  Gm  24.364770221651327  grad  -0.8001801619024526  value_incr  0.1600280305788715\n",
      "iter  141  error  159.70109162322456  Gm  24.364770221651327  grad  -0.8001801619024526  value_incr  -0.0\n",
      "iter  142  error  159.57303180763316  Gm  24.524712514203543  grad  -0.799751450333598  value_incr  0.15994229255221626\n",
      "iter  142  error  159.57303180763316  Gm  24.524712514203543  grad  -0.799751450333598  value_incr  -0.0\n",
      "iter  143  error  159.44510913747098  Gm  24.684568956830958  grad  -0.7993221792460381  value_incr  0.15985644262741516\n",
      "iter  143  error  159.44510913747098  Gm  24.684568956830958  grad  -0.7993221792460381  value_incr  -0.0\n",
      "iter  144  error  159.31732371800484  Gm  24.844339437307355  grad  -0.798892346999332  value_incr  0.15977048047639641\n",
      "iter  144  error  159.31732371800484  Gm  24.844339437307355  grad  -0.798892346999332  value_incr  -0.0\n",
      "iter  145  error  159.18967565473733  Gm  25.00402384308083  grad  -0.7984619519649765  value_incr  0.15968440577347565\n",
      "iter  145  error  159.18967565473733  Gm  25.00402384308083  grad  -0.7984619519649765  value_incr  -0.0\n",
      "iter  146  error  159.06216505340154  Gm  25.163622061276243  grad  -0.7980309925266901  value_incr  0.15959821819541276\n",
      "iter  146  error  159.06216505340154  Gm  25.163622061276243  grad  -0.7980309925266901  value_incr  -0.0\n",
      "iter  147  error  158.93479201995578  Gm  25.323133978697825  grad  -0.7975994670812663  value_incr  0.15951191742158244\n",
      "iter  147  error  158.93479201995578  Gm  25.323133978697825  grad  -0.7975994670812663  value_incr  -0.0\n",
      "iter  148  error  158.80755666057775  Gm  25.482559481831487  grad  -0.7971673740370095  value_incr  0.15942550313366155\n",
      "iter  148  error  158.80755666057775  Gm  25.482559481831487  grad  -0.7971673740370095  value_incr  -0.0\n",
      "iter  149  error  158.6804590816595  Gm  25.6418984568474  grad  -0.7967347118151573  value_incr  0.15933897501591332\n",
      "iter  149  error  158.6804590816595  Gm  25.6418984568474  grad  -0.7967347118151573  value_incr  -0.0\n",
      "iter  150  error  158.55349938980177  Gm  25.801150789602275  grad  -0.796301478848316  value_incr  0.15925233275487471\n",
      "iter  150  error  158.55349938980177  Gm  25.801150789602275  grad  -0.796301478848316  value_incr  -0.0\n",
      "iter  151  error  158.42667769180895  Gm  25.960316365642  grad  -0.7958676735823087  value_incr  0.15916557603972592\n",
      "iter  151  error  158.42667769180895  Gm  25.960316365642  grad  -0.7958676735823087  value_incr  -0.0\n",
      "iter  152  error  158.29999409468323  Gm  26.119395070203836  grad  -0.7954332944739017  value_incr  0.1590787045618356\n",
      "iter  152  error  158.29999409468323  Gm  26.119395070203836  grad  -0.7954332944739017  value_incr  -0.0\n",
      "iter  153  error  158.17344870561993  Gm  26.27838678821908  grad  -0.7949983399932198  value_incr  0.15899171801524403\n",
      "iter  153  error  158.17344870561993  Gm  26.27838678821908  grad  -0.7949983399932198  value_incr  -0.0\n",
      "iter  154  error  158.04704163200148  Gm  26.437291404315175  grad  -0.7945628086209048  value_incr  0.15890461609609474\n",
      "iter  154  error  158.04704163200148  Gm  26.437291404315175  grad  -0.7945628086209048  value_incr  -0.0\n",
      "iter  155  error  157.92077298139284  Gm  26.596108802818407  grad  -0.794126698851099  value_incr  0.1588173985032313\n",
      "iter  155  error  157.92077298139284  Gm  26.596108802818407  grad  -0.794126698851099  value_incr  -0.0\n",
      "iter  156  error  157.7946428615357  Gm  26.754838867756064  grad  -0.7936900091887459  value_incr  0.1587300649376573\n",
      "iter  156  error  157.7946428615357  Gm  26.754838867756064  grad  -0.7936900091887459  value_incr  -0.0\n",
      "iter  157  error  157.66865138034345  Gm  26.913481482858913  grad  -0.7932527381511528  value_incr  0.15864261510284905\n",
      "iter  157  error  157.66865138034345  Gm  26.913481482858913  grad  -0.7932527381511528  value_incr  -0.0\n",
      "iter  158  error  157.54279864589606  Gm  27.07203653156361  grad  -0.792814884267707  value_incr  0.15855504870469872\n",
      "iter  158  error  157.54279864589606  Gm  27.07203653156361  grad  -0.792814884267707  value_incr  -0.0\n",
      "iter  159  error  157.41708476643464  Gm  27.230503897014984  grad  -0.7923764460791649  value_incr  0.1584673654513722\n",
      "iter  159  error  157.41708476643464  Gm  27.230503897014984  grad  -0.7923764460791649  value_incr  -0.0\n",
      "iter  160  error  157.29150985035642  Gm  27.388883462068463  grad  -0.7919374221385049  value_incr  0.1583795650534796\n",
      "iter  160  error  157.29150985035642  Gm  27.388883462068463  grad  -0.7919374221385049  value_incr  -0.0\n",
      "iter  161  error  157.16607400620956  Gm  27.547175109292425  grad  -0.7914978110103591  value_incr  0.15829164722396172\n",
      "iter  161  error  157.16607400620956  Gm  27.547175109292425  grad  -0.7914978110103591  value_incr  -0.0\n",
      "iter  162  error  157.04077734268787  Gm  27.705378720970515  grad  -0.7910576112710127  value_incr  0.15820361167808983\n",
      "iter  162  error  157.04077734268787  Gm  27.705378720970515  grad  -0.7910576112710127  value_incr  -0.0\n",
      "iter  163  error  156.9156199686258  Gm  27.863494179103952  grad  -0.7906168215082625  value_incr  0.15811545813343741\n",
      "iter  163  error  156.9156199686258  Gm  27.863494179103952  grad  -0.7906168215082625  value_incr  -0.0\n",
      "iter  164  error  156.79060199299337  Gm  28.021521365413946  grad  -0.7901754403219851  value_incr  0.1580271863099938\n",
      "iter  164  error  156.79060199299337  Gm  28.021521365413946  grad  -0.7901754403219851  value_incr  -0.0\n",
      "iter  165  error  156.6657235248909  Gm  28.179460161343968  grad  -0.7897334663234263  value_incr  0.15793879593002202\n",
      "iter  165  error  156.6657235248909  Gm  28.179460161343968  grad  -0.7897334663234263  value_incr  -0.0\n",
      "iter  166  error  156.54098467354407  Gm  28.33731044806214  grad  -0.7892908981357697  value_incr  0.15785028671817258\n",
      "iter  166  error  156.54098467354407  Gm  28.33731044806214  grad  -0.7892908981357697  value_incr  -0.0\n",
      "iter  167  error  156.41638554829873  Gm  28.495072106463397  grad  -0.7888477343929996  value_incr  0.157761658401256\n",
      "iter  167  error  156.41638554829873  Gm  28.495072106463397  grad  -0.7888477343929996  value_incr  -0.0\n",
      "iter  168  error  156.2919262586161  Gm  28.652745017172037  grad  -0.7884039737418909  value_incr  0.15767291070864076\n",
      "iter  168  error  156.2919262586161  Gm  28.652745017172037  grad  -0.7884039737418909  value_incr  -0.0\n",
      "iter  169  error  156.16760691406728  Gm  28.810329060543808  grad  -0.7879596148395925  value_incr  0.15758404337177012\n",
      "iter  169  error  156.16760691406728  Gm  28.810329060543808  grad  -0.7879596148395925  value_incr  -0.0\n",
      "iter  170  error  156.04342762432867  Gm  28.967824116668282  grad  -0.7875146563551917  value_incr  0.15749505612447479\n",
      "iter  170  error  156.04342762432867  Gm  28.967824116668282  grad  -0.7875146563551917  value_incr  -0.0\n",
      "iter  171  error  155.91938849917685  Gm  29.125230065371227  grad  -0.7870690969695707  value_incr  0.15740594870294444\n",
      "iter  171  error  155.91938849917685  Gm  29.125230065371227  grad  -0.7870690969695707  value_incr  -0.0\n",
      "iter  172  error  155.79548964848337  Gm  29.282546786216756  grad  -0.7866229353744129  value_incr  0.15731672084552883\n",
      "iter  172  error  155.79548964848337  Gm  29.282546786216756  grad  -0.7866229353744129  value_incr  -0.0\n",
      "iter  173  error  155.6717311822101  Gm  29.43977415850975  grad  -0.7861761702734814  value_incr  0.15722737229299355\n",
      "iter  173  error  155.6717311822101  Gm  29.43977415850975  grad  -0.7861761702734814  value_incr  -0.0\n",
      "iter  174  error  155.548113210404  Gm  29.59691206129807  grad  -0.7857288003816244  value_incr  0.15713790278832107\n",
      "iter  174  error  155.548113210404  Gm  29.59691206129807  grad  -0.7857288003816244  value_incr  -0.0\n",
      "iter  175  error  155.42463584319236  Gm  29.75396037337481  grad  -0.7852808244249172  value_incr  0.1570483120767392\n",
      "iter  175  error  155.42463584319236  Gm  29.75396037337481  grad  -0.7852808244249172  value_incr  -0.0\n",
      "iter  176  error  155.30129919077774  Gm  29.910918973280616  grad  -0.7848322411410885  value_incr  0.1569585999058063\n",
      "iter  176  error  155.30129919077774  Gm  29.910918973280616  grad  -0.7848322411410885  value_incr  -0.0\n",
      "iter  177  error  155.1781033634331  Gm  30.067787739305913  grad  -0.7843830492789522  value_incr  0.15686876602529765\n",
      "iter  177  error  155.1781033634331  Gm  30.067787739305913  grad  -0.7843830492789522  value_incr  -0.0\n",
      "iter  178  error  155.05504847149703  Gm  30.224566549493233  grad  -0.7839332475989754  value_incr  0.1567788101873191\n",
      "iter  178  error  155.05504847149703  Gm  30.224566549493233  grad  -0.7839332475989754  value_incr  -0.0\n",
      "iter  179  error  154.93213462536855  Gm  30.38125528163937  grad  -0.7834828348724263  value_incr  0.15668873214613654\n",
      "iter  179  error  154.93213462536855  Gm  30.38125528163937  grad  -0.7834828348724263  value_incr  -0.0\n",
      "iter  180  error  154.80936193550258  Gm  30.537853813297772  grad  -0.7830318098825108  value_incr  0.15659853165840332\n",
      "iter  180  error  154.80936193550258  Gm  30.537853813297772  grad  -0.7830318098825108  value_incr  -0.0\n",
      "iter  181  error  154.6867305124048  Gm  30.69436202178062  grad  -0.7825801714228088  value_incr  0.15650820848284752\n",
      "iter  181  error  154.6867305124048  Gm  30.69436202178062  grad  -0.7825801714228088  value_incr  -0.0\n",
      "iter  182  error  154.564240466627  Gm  30.85077978416126  grad  -0.7821279182991226  value_incr  0.15641776238064153\n",
      "iter  182  error  154.564240466627  Gm  30.85077978416126  grad  -0.7821279182991226  value_incr  -0.0\n",
      "iter  183  error  154.44189190876213  Gm  31.007106977276322  grad  -0.7816750493277711  value_incr  0.15632719311506094\n",
      "iter  183  error  154.44189190876213  Gm  31.007106977276322  grad  -0.7816750493277711  value_incr  -0.0\n",
      "iter  184  error  154.31968494943945  Gm  31.163343477728006  grad  -0.7812215633365842  value_incr  0.15623650045168347\n",
      "iter  184  error  154.31968494943945  Gm  31.163343477728006  grad  -0.7812215633365842  value_incr  -0.0\n",
      "iter  185  error  154.19761969931986  Gm  31.31948916188631  grad  -0.7807674591644771  value_incr  0.15614568415830377\n",
      "iter  185  error  154.19761969931986  Gm  31.31948916188631  grad  -0.7807674591644771  value_incr  -0.0\n",
      "iter  186  error  154.0756962690909  Gm  31.47554390589127  grad  -0.780312735661592  value_incr  0.15605474400496178\n",
      "iter  186  error  154.0756962690909  Gm  31.47554390589127  grad  -0.780312735661592  value_incr  -0.0\n",
      "iter  187  error  153.95391476946222  Gm  31.631507585655214  grad  -0.7798573916892982  value_incr  0.15596367976394276\n",
      "iter  187  error  153.95391476946222  Gm  31.631507585655214  grad  -0.7798573916892982  value_incr  -0.0\n",
      "iter  188  error  153.8322753111605  Gm  31.787380076864935  grad  -0.7794014261199084  value_incr  0.15587249120972047\n",
      "iter  188  error  153.8322753111605  Gm  31.787380076864935  grad  -0.7794014261199084  value_incr  -0.0\n",
      "iter  189  error  153.7107780049249  Gm  31.943161254983977  grad  -0.7789448378371036  value_incr  0.15578117811904235\n",
      "iter  189  error  153.7107780049249  Gm  31.943161254983977  grad  -0.7789448378371036  value_incr  -0.0\n",
      "iter  190  error  153.58942296150232  Gm  32.09885099525485  grad  -0.7784876257356508  value_incr  0.1556897402708728\n",
      "iter  190  error  153.58942296150232  Gm  32.09885099525485  grad  -0.7784876257356508  value_incr  -0.0\n",
      "iter  191  error  153.4682102916424  Gm  32.254449172701186  grad  -0.778029788721117  value_incr  0.1555981774463362\n",
      "iter  191  error  153.4682102916424  Gm  32.254449172701186  grad  -0.778029788721117  value_incr  -0.0\n",
      "iter  192  error  153.3471401060932  Gm  32.40995566213007  grad  -0.7775713257107233  value_incr  0.15550648942888756\n",
      "iter  192  error  153.3471401060932  Gm  32.40995566213007  grad  -0.7775713257107233  value_incr  -0.0\n",
      "iter  193  error  153.2262125155961  Gm  32.56537033813416  grad  -0.7771122356322071  value_incr  0.1554146760040851\n",
      "iter  193  error  153.2262125155961  Gm  32.56537033813416  grad  -0.7771122356322071  value_incr  -0.0\n",
      "iter  194  error  153.10542763088128  Gm  32.72069307509395  grad  -0.776652517424817  value_incr  0.15532273695978915\n",
      "iter  194  error  153.10542763088128  Gm  32.72069307509395  grad  -0.776652517424817  value_incr  -0.0\n",
      "iter  195  error  152.98478556266298  Gm  32.87592374717997  grad  -0.7761921700386026  value_incr  0.15523067208602015\n",
      "iter  195  error  152.98478556266298  Gm  32.87592374717997  grad  -0.7761921700386026  value_incr  -0.0\n",
      "iter  196  error  152.86428642163483  Gm  33.031062228354926  grad  -0.7757311924344145  value_incr  0.15513848117495854\n",
      "iter  196  error  152.86428642163483  Gm  33.031062228354926  grad  -0.7757311924344145  value_incr  -0.0\n",
      "iter  197  error  152.74393031846526  Gm  33.186108392376156  grad  -0.7752695835853246  value_incr  0.15504616402122906\n",
      "iter  197  error  152.74393031846526  Gm  33.186108392376156  grad  -0.7752695835853246  value_incr  -0.0\n",
      "iter  198  error  152.62371736379254  Gm  33.341062112797516  grad  -0.7748073424739271  value_incr  0.15495372042136069\n",
      "iter  198  error  152.62371736379254  Gm  33.341062112797516  grad  -0.7748073424739271  value_incr  -0.0\n",
      "iter  199  error  152.50364766822042  Gm  33.495923262971786  grad  -0.7743444680947539  value_incr  0.15486115017426982\n",
      "iter  199  error  152.50364766822042  Gm  33.495923262971786  grad  -0.7743444680947539  value_incr  -0.0\n",
      "iter  200  error  152.38372134231346  Gm  33.65069171605282  grad  -0.7738809594531373  value_incr  0.15476845308103293\n",
      "iter  200  error  152.38372134231346  Gm  33.65069171605282  grad  -0.7738809594531373  value_incr  -0.0\n",
      "iter  201  error  152.26393849659217  Gm  33.805367344997734  grad  -0.7734168155653529  value_incr  0.15467562894491493\n",
      "iter  201  error  152.26393849659217  Gm  33.805367344997734  grad  -0.7734168155653529  value_incr  -0.0\n",
      "iter  202  error  152.14429924152873  Gm  33.959950022569245  grad  -0.7729520354593297  value_incr  0.15458267757151134\n",
      "iter  202  error  152.14429924152873  Gm  33.959950022569245  grad  -0.7729520354593297  value_incr  -0.0\n",
      "iter  203  error  152.02480368754183  Gm  34.11443962133757  grad  -0.7724866181725182  value_incr  0.1544895987683219\n",
      "iter  203  error  152.02480368754183  Gm  34.11443962133757  grad  -0.7724866181725182  value_incr  -0.0\n",
      "iter  204  error  151.90545194499276  Gm  34.268836013682886  grad  -0.7720205627547332  value_incr  0.1543963923453191\n",
      "iter  204  error  151.90545194499276  Gm  34.268836013682886  grad  -0.7720205627547332  value_incr  -0.0\n",
      "iter  205  error  151.78624412418034  Gm  34.42313907179752  grad  -0.7715538682665903  value_incr  0.1543030581146354\n",
      "iter  205  error  151.78624412418034  Gm  34.42313907179752  grad  -0.7715538682665903  value_incr  -0.0\n",
      "iter  206  error  151.66718033533638  Gm  34.57734866768806  grad  -0.7710865337793638  value_incr  0.15420959589053496\n",
      "iter  206  error  151.66718033533638  Gm  34.57734866768806  grad  -0.7710865337793638  value_incr  -0.0\n",
      "iter  207  error  151.54826068862124  Gm  34.731464673177555  grad  -0.7706185583754126  value_incr  0.15411600548949878\n",
      "iter  207  error  151.54826068862124  Gm  34.731464673177555  grad  -0.7706185583754126  value_incr  -0.0\n",
      "iter  208  error  151.42948529411908  Gm  34.885486959907695  grad  -0.7701499411477549  value_incr  0.1540222867301395\n",
      "iter  208  error  151.42948529411908  Gm  34.885486959907695  grad  -0.7701499411477549  value_incr  -0.0\n",
      "iter  209  error  151.31085426183353  Gm  35.03941539934107  grad  -0.7696806812009199  value_incr  0.15392843943337198\n",
      "iter  209  error  151.31085426183353  Gm  35.03941539934107  grad  -0.7696806812009199  value_incr  -0.0\n",
      "iter  210  error  151.19236770168303  Gm  35.193249862763366  grad  -0.7692107776503798  value_incr  0.15383446342229945\n",
      "iter  210  error  151.19236770168303  Gm  35.193249862763366  grad  -0.7692107776503798  value_incr  -0.0\n",
      "iter  211  error  151.07402572349616  Gm  35.34699022128552  grad  -0.7687402296222653  value_incr  0.15374035852215684\n",
      "iter  211  error  151.07402572349616  Gm  35.34699022128552  grad  -0.7687402296222653  value_incr  -0.0\n",
      "iter  212  error  150.95582843700728  Gm  35.50063634584592  grad  -0.7682690362537924  value_incr  0.15364612456039595\n",
      "iter  212  error  150.95582843700728  Gm  35.50063634584592  grad  -0.7682690362537924  value_incr  -0.0\n",
      "iter  213  error  150.83777595185197  Gm  35.65418810721266  grad  -0.7677971966935462  value_incr  0.1535517613667423\n",
      "iter  213  error  150.83777595185197  Gm  35.65418810721266  grad  -0.7677971966935462  value_incr  -0.0\n",
      "iter  214  error  150.7198683775624  Gm  35.80764537598566  grad  -0.7673247101004863  value_incr  0.15345726877299626\n",
      "iter  214  error  150.7198683775624  Gm  35.80764537598566  grad  -0.7673247101004863  value_incr  -0.0\n",
      "iter  215  error  150.60210582356282  Gm  35.961008022598804  grad  -0.7668515756445151  value_incr  0.15336264661314658\n",
      "iter  215  error  150.60210582356282  Gm  35.961008022598804  grad  -0.7668515756445151  value_incr  -0.0\n",
      "iter  216  error  150.4844883991654  Gm  36.11427591732229  grad  -0.7663777925070465  value_incr  0.15326789472348423\n",
      "iter  216  error  150.4844883991654  Gm  36.11427591732229  grad  -0.7663777925070465  value_incr  -0.0\n",
      "iter  217  error  150.36701621356536  Gm  36.26744893026475  grad  -0.7659033598802951  value_incr  0.15317301294246022\n",
      "iter  217  error  150.36701621356536  Gm  36.26744893026475  grad  -0.7659033598802951  value_incr  -0.0\n",
      "iter  218  error  150.2496893758365  Gm  36.420526931375434  grad  -0.7654282769672763  value_incr  0.1530780011106856\n",
      "iter  218  error  150.2496893758365  Gm  36.420526931375434  grad  -0.7654282769672763  value_incr  -0.0\n",
      "iter  219  error  150.13250799492695  Gm  36.57350979044645  grad  -0.7649525429822327  value_incr  0.15298285907101672\n",
      "iter  219  error  150.13250799492695  Gm  36.57350979044645  grad  -0.7649525429822327  value_incr  -0.0\n",
      "iter  220  error  150.01547217965447  Gm  36.726397377114864  grad  -0.7644761571499233  value_incr  0.15288758666841318\n",
      "iter  220  error  150.01547217965447  Gm  36.726397377114864  grad  -0.7644761571499233  value_incr  -0.0\n",
      "iter  221  error  149.89858203870222  Gm  36.87918956086503  grad  -0.763999118706761  value_incr  0.15279218375016512\n",
      "iter  221  error  149.89858203870222  Gm  36.87918956086503  grad  -0.763999118706761  value_incr  -0.0\n",
      "iter  222  error  149.78183768061402  Gm  37.03188621103061  grad  -0.7635214268992482  value_incr  0.15269665016558065\n",
      "iter  222  error  149.78183768061402  Gm  37.03188621103061  grad  -0.7635214268992482  value_incr  -0.0\n",
      "iter  223  error  149.66523921379024  Gm  37.184487196796965  grad  -0.7630430809858257  value_incr  0.15260098576635528\n",
      "iter  223  error  149.66523921379024  Gm  37.184487196796965  grad  -0.7630430809858257  value_incr  -0.0\n",
      "iter  224  error  149.54878674648313  Gm  37.336992387203225  grad  -0.7625640802353083  value_incr  0.15250519040625932\n",
      "iter  224  error  149.54878674648313  Gm  37.336992387203225  grad  -0.7625640802353083  value_incr  -0.0\n",
      "iter  225  error  149.43248038679235  Gm  37.489401651144505  grad  -0.7620844239275961  value_incr  0.15240926394127996\n",
      "iter  225  error  149.43248038679235  Gm  37.489401651144505  grad  -0.7620844239275961  value_incr  -0.0\n",
      "iter  226  error  149.31632024266085  Gm  37.641714857374154  grad  -0.7616041113538163  value_incr  0.15231320622964972\n",
      "iter  226  error  149.31632024266085  Gm  37.641714857374154  grad  -0.7616041113538163  value_incr  -0.0\n",
      "iter  227  error  149.20030642187007  Gm  37.793931874505944  grad  -0.7611231418160388  value_incr  0.1522170171317896\n",
      "iter  227  error  149.20030642187007  Gm  37.793931874505944  grad  -0.7611231418160388  value_incr  -0.0\n",
      "iter  228  error  149.0844390320358  Gm  37.946052571016196  grad  -0.7606415146269923  value_incr  0.15212069651025217\n",
      "iter  228  error  149.0844390320358  Gm  37.946052571016196  grad  -0.7606415146269923  value_incr  -0.0\n",
      "iter  229  error  148.96871818060364  Gm  38.09807681524606  grad  -0.7601592291107747  value_incr  0.15202424422986383\n",
      "iter  229  error  148.96871818060364  Gm  38.09807681524606  grad  -0.7601592291107747  value_incr  -0.0\n",
      "iter  230  error  148.8531439748447  Gm  38.25000447540364  grad  -0.7596762846021428  value_incr  0.15192766015758252\n",
      "iter  230  error  148.8531439748447  Gm  38.25000447540364  grad  -0.7596762846021428  value_incr  -0.0\n",
      "iter  231  error  148.73771652185127  Gm  38.40183541956631  grad  -0.7591926804473643  value_incr  0.1518309441626684\n",
      "iter  231  error  148.73771652185127  Gm  38.40183541956631  grad  -0.7591926804473643  value_incr  -0.0\n",
      "iter  232  error  148.6224359285323  Gm  38.55356951568288  grad  -0.7587084160036506  value_incr  0.15173409611657007\n",
      "iter  232  error  148.6224359285323  Gm  38.55356951568288  grad  -0.7587084160036506  value_incr  -0.0\n",
      "iter  233  error  148.5073023016089  Gm  38.70520663157569  grad  -0.7582234906385865  value_incr  0.15163711589281093\n",
      "iter  233  error  148.5073023016089  Gm  38.70520663157569  grad  -0.7582234906385865  value_incr  -0.0\n",
      "iter  234  error  148.3923157476104  Gm  38.856746634942965  grad  -0.7577379037315534  value_incr  0.15154000336727336\n",
      "iter  234  error  148.3923157476104  Gm  38.856746634942965  grad  -0.7577379037315534  value_incr  -0.0\n",
      "iter  235  error  148.2774763728697  Gm  39.00818939336094  grad  -0.7572516546725906  value_incr  0.1514427584179714\n",
      "iter  235  error  148.2774763728697  Gm  39.00818939336094  grad  -0.7572516546725906  value_incr  -0.0\n",
      "iter  236  error  148.16278428351887  Gm  39.159534774286044  grad  -0.7567647428626807  value_incr  0.15134538092510752\n",
      "iter  236  error  148.16278428351887  Gm  39.159534774286044  grad  -0.7567647428626807  value_incr  -0.0\n",
      "iter  237  error  148.04823958548508  Gm  39.3107826450572  grad  -0.7562771677141756  value_incr  0.15124787077115798\n",
      "iter  237  error  148.04823958548508  Gm  39.3107826450572  grad  -0.7562771677141756  value_incr  -0.0\n",
      "iter  238  error  147.933842384486  Gm  39.461932872898046  grad  -0.7557889286506541  value_incr  0.1511502278408443\n",
      "iter  238  error  147.933842384486  Gm  39.461932872898046  grad  -0.7557889286506541  value_incr  -0.0\n",
      "iter  239  error  147.8195927860256  Gm  39.61298532491904  grad  -0.7553000251062116  value_incr  0.15105245202099127\n",
      "iter  239  error  147.8195927860256  Gm  39.61298532491904  grad  -0.7553000251062116  value_incr  -0.0\n",
      "iter  240  error  147.70549089538972  Gm  39.76393986811971  grad  -0.754810456526171  value_incr  0.15095454320066892\n",
      "iter  240  error  147.70549089538972  Gm  39.76393986811971  grad  -0.754810456526171  value_incr  -0.0\n",
      "iter  241  error  147.59153681764198  Gm  39.9147963693909  grad  -0.7543202223670816  value_incr  0.15085650127119266\n",
      "iter  241  error  147.59153681764198  Gm  39.9147963693909  grad  -0.7543202223670816  value_incr  -0.0\n",
      "iter  242  error  147.47773065761928  Gm  40.06555469551702  grad  -0.7538293220967207  value_incr  0.15075832612612317\n",
      "iter  242  error  147.47773065761928  Gm  40.06555469551702  grad  -0.7538293220967207  value_incr  -0.0\n",
      "iter  243  error  147.36407251992753  Gm  40.2162147131782  grad  -0.7533377551936656  value_incr  0.1506600176611812\n",
      "iter  243  error  147.36407251992753  Gm  40.2162147131782  grad  -0.7533377551936656  value_incr  -0.0\n",
      "iter  244  error  147.25056250893735  Gm  40.36677628895251  grad  -0.7528455211475794  value_incr  0.1505615757743044\n",
      "iter  244  error  147.25056250893735  Gm  40.36677628895251  grad  -0.7528455211475794  value_incr  -0.0\n",
      "iter  245  error  147.13720072877993  Gm  40.51723928931821  grad  -0.7523526194594937  value_incr  0.15046300036570415\n",
      "iter  245  error  147.13720072877993  Gm  40.51723928931821  grad  -0.7523526194594937  value_incr  -0.0\n",
      "iter  246  error  147.02398728334262  Gm  40.66760358065602  grad  -0.7518590496415256  value_incr  0.1503642913378087\n",
      "iter  246  error  147.02398728334262  Gm  40.66760358065602  grad  -0.7518590496415256  value_incr  -0.0\n",
      "iter  247  error  146.9109222762646  Gm  40.817869029251256  grad  -0.7513648112167349  value_incr  0.15026544859523483\n",
      "iter  247  error  146.9109222762646  Gm  40.817869029251256  grad  -0.7513648112167349  value_incr  -0.0\n",
      "iter  248  error  146.79800581093278  Gm  40.96803550129613  grad  -0.7508699037195509  value_incr  0.150166472044873\n",
      "iter  248  error  146.79800581093278  Gm  40.96803550129613  grad  -0.7508699037195509  value_incr  -0.0\n",
      "iter  249  error  146.6852379904774  Gm  41.11810286289193  grad  -0.7503743266953454  value_incr  0.15006736159580214\n",
      "iter  249  error  146.6852379904774  Gm  41.11810286289193  grad  -0.7503743266953454  value_incr  -0.0\n",
      "iter  250  error  146.57261891776784  Gm  41.26807098005125  grad  -0.7498780797005756  value_incr  0.14996811715931813\n",
      "iter  250  error  146.57261891776784  Gm  41.26807098005125  grad  -0.7498780797005756  value_incr  -0.0\n",
      "iter  251  error  146.46014869540846  Gm  41.417939718700296  grad  -0.749381162303352  value_incr  0.14986873864904737\n",
      "iter  251  error  146.46014869540846  Gm  41.417939718700296  grad  -0.749381162303352  value_incr  -0.0\n",
      "iter  252  error  146.3478274257342  Gm  41.5677089446811  grad  -0.748883574082728  value_incr  0.14976922598080478\n",
      "iter  252  error  146.3478274257342  Gm  41.5677089446811  grad  -0.748883574082728  value_incr  -0.0\n",
      "iter  253  error  146.23565521080644  Gm  41.71737852375364  grad  -0.7483853146284157  value_incr  0.14966957907253686\n",
      "iter  253  error  146.23565521080644  Gm  41.71737852375364  grad  -0.7483853146284157  value_incr  -0.0\n",
      "iter  254  error  146.12363215240882  Gm  41.866948321598244  grad  -0.7478863835422072  value_incr  0.149569797844606\n",
      "iter  254  error  146.12363215240882  Gm  41.866948321598244  grad  -0.7478863835422072  value_incr  -0.0\n",
      "iter  255  error  146.0117583520429  Gm  42.01641820381775  grad  -0.7473867804365528  value_incr  0.1494698822195062\n",
      "iter  255  error  146.0117583520429  Gm  42.01641820381775  grad  -0.7473867804365528  value_incr  -0.0\n",
      "iter  256  error  145.90003391092407  Gm  42.165788035939755  grad  -0.7468865049352725  value_incr  0.14936983212200516\n",
      "iter  256  error  145.90003391092407  Gm  42.165788035939755  grad  -0.7468865049352725  value_incr  -0.0\n",
      "iter  257  error  145.7884589299773  Gm  42.3150576834189  grad  -0.7463855566735557  value_incr  0.1492696474791444\n",
      "iter  257  error  145.7884589299773  Gm  42.3150576834189  grad  -0.7463855566735557  value_incr  -0.0\n",
      "iter  258  error  145.6770335098329  Gm  42.464227011639025  grad  -0.7458839352973919  value_incr  0.1491693282201254\n",
      "iter  258  error  145.6770335098329  Gm  42.464227011639025  grad  -0.7458839352973919  value_incr  -0.0\n",
      "iter  259  error  145.56575775082248  Gm  42.61329588591556  grad  -0.745381640464709  value_incr  0.14906887427653714\n",
      "iter  259  error  145.56575775082248  Gm  42.61329588591556  grad  -0.745381640464709  value_incr  -0.0\n",
      "iter  260  error  145.45463175297454  Gm  42.762264171497606  grad  -0.7448786718438088  value_incr  0.14896828558204334\n",
      "iter  260  error  145.45463175297454  Gm  42.762264171497606  grad  -0.7448786718438088  value_incr  -0.0\n",
      "iter  261  error  145.34365561601058  Gm  42.911131733570386  grad  -0.7443750291153578  value_incr  0.1488675620727804\n",
      "iter  261  error  145.34365561601058  Gm  42.911131733570386  grad  -0.7443750291153578  value_incr  -0.0\n",
      "iter  262  error  145.23282943934066  Gm  43.059898437257345  grad  -0.7438707119703962  value_incr  0.14876670368695954\n",
      "iter  262  error  145.23282943934066  Gm  43.059898437257345  grad  -0.7438707119703962  value_incr  -0.0\n",
      "iter  263  error  145.12215332205938  Gm  43.208564147622496  grad  -0.7433657201117604  value_incr  0.14866571036515097\n",
      "iter  263  error  145.12215332205938  Gm  43.208564147622496  grad  -0.7433657201117604  value_incr  -0.0\n",
      "iter  264  error  145.01162736294174  Gm  43.35712872967267  grad  -0.7428600532535137  value_incr  0.1485645820501702\n",
      "iter  264  error  145.01162736294174  Gm  43.35712872967267  grad  -0.7428600532535137  value_incr  -0.0\n",
      "iter  265  error  144.90125166043893  Gm  43.50559204835969  grad  -0.7423537111206622  value_incr  0.14846331868702123\n",
      "iter  265  error  144.90125166043893  Gm  43.50559204835969  grad  -0.7423537111206622  value_incr  -0.0\n",
      "iter  266  error  144.79102631267432  Gm  43.65395396858287  grad  -0.7418466934505762  value_incr  0.14836192022318073\n",
      "iter  266  error  144.79102631267432  Gm  43.65395396858287  grad  -0.7418466934505762  value_incr  -0.0\n",
      "iter  267  error  144.68095141743905  Gm  43.80221435519098  grad  -0.7413389999905741  value_incr  0.1482603866081149\n",
      "iter  267  error  144.68095141743905  Gm  43.80221435519098  grad  -0.7413389999905741  value_incr  -0.0\n",
      "iter  268  error  144.5710270721882  Gm  43.95037307298469  grad  -0.740830630500054  value_incr  0.14815871779370582\n",
      "iter  268  error  144.5710270721882  Gm  43.95037307298469  grad  -0.740830630500054  value_incr  -0.0\n",
      "iter  269  error  144.4612533740367  Gm  44.09842998671894  grad  -0.7403215847504943  value_incr  0.14805691373425134\n",
      "iter  269  error  144.4612533740367  Gm  44.09842998671894  grad  -0.7403215847504943  value_incr  -0.0\n",
      "iter  270  error  144.35163041975477  Gm  44.246384961105036  grad  -0.7398118625236049  value_incr  0.14795497438609573\n",
      "iter  270  error  144.35163041975477  Gm  44.246384961105036  grad  -0.7398118625236049  value_incr  -0.0\n",
      "iter  271  error  144.24215830576435  Gm  44.39423786081295  grad  -0.7393014636127497  value_incr  0.14785289970791382\n",
      "iter  271  error  144.24215830576435  Gm  44.39423786081295  grad  -0.7393014636127497  value_incr  -0.0\n",
      "iter  272  error  144.13283712813475  Gm  44.54198855047369  grad  -0.7387903878230884  value_incr  0.14775068966073945\n",
      "iter  272  error  144.13283712813475  Gm  44.54198855047369  grad  -0.7387903878230884  value_incr  -0.0\n",
      "iter  273  error  144.0236669825786  Gm  44.68963689468157  grad  -0.7382786349711495  value_incr  0.1476483442078802\n",
      "iter  273  error  144.0236669825786  Gm  44.68963689468157  grad  -0.7382786349711495  value_incr  -0.0\n",
      "iter  274  error  143.9146479644477  Gm  44.8371827579964  grad  -0.7377662048844047  value_incr  0.1475458633148321\n",
      "iter  274  error  143.9146479644477  Gm  44.8371827579964  grad  -0.7377662048844047  value_incr  -0.0\n",
      "iter  275  error  143.80578016872917  Gm  44.98462600494594  grad  -0.7372530974025475  value_incr  0.14744324694953548\n",
      "iter  275  error  143.80578016872917  Gm  44.98462600494594  grad  -0.7372530974025475  value_incr  -0.0\n",
      "iter  276  error  143.69706369004103  Gm  45.13196650002803  grad  -0.7367393123760723  value_incr  0.14734049508209068\n",
      "iter  276  error  143.69706369004103  Gm  45.13196650002803  grad  -0.7367393123760723  value_incr  -0.0\n",
      "iter  277  error  143.58849862262852  Gm  45.279204107712985  grad  -0.7362248496672688  value_incr  0.14723760768495708\n",
      "iter  277  error  143.58849862262852  Gm  45.279204107712985  grad  -0.7362248496672688  value_incr  -0.0\n",
      "iter  278  error  143.48008506035978  Gm  45.42633869244591  grad  -0.7357097091500806  value_incr  0.14713458473292462\n",
      "iter  278  error  143.48008506035978  Gm  45.42633869244591  grad  -0.7357097091500806  value_incr  -0.0\n",
      "iter  279  error  143.3718230967219  Gm  45.57337011864891  grad  -0.7351938907095361  value_incr  0.14703142620300014\n",
      "iter  279  error  143.3718230967219  Gm  45.57337011864891  grad  -0.7351938907095361  value_incr  -0.0\n",
      "iter  280  error  143.26371282481685  Gm  45.720298250723374  grad  -0.7346773942420332  value_incr  0.1469281320744642\n",
      "iter  280  error  143.26371282481685  Gm  45.720298250723374  grad  -0.7346773942420332  value_incr  -0.0\n",
      "iter  281  error  143.15575433735765  Gm  45.867122953052444  grad  -0.7341602196563332  value_incr  0.14682470232907008\n",
      "iter  281  error  143.15575433735765  Gm  45.867122953052444  grad  -0.7341602196563332  value_incr  -0.0\n",
      "iter  282  error  143.04794772666406  Gm  46.013844090003204  grad  -0.7336423668721411  value_incr  0.1467211369507595\n",
      "iter  282  error  143.04794772666406  Gm  46.013844090003204  grad  -0.7336423668721411  value_incr  -0.0\n",
      "iter  283  error  142.9402930846587  Gm  46.16046152592898  grad  -0.7331238358206729  value_incr  0.14661743592577636\n",
      "iter  283  error  142.9402930846587  Gm  46.16046152592898  grad  -0.7331238358206729  value_incr  -0.0\n",
      "iter  284  error  142.83279050286305  Gm  46.306975125171704  grad  -0.7326046264449401  value_incr  0.14651359924272356\n",
      "iter  284  error  142.83279050286305  Gm  46.306975125171704  grad  -0.7326046264449401  value_incr  -0.0\n",
      "iter  285  error  142.72544007239352  Gm  46.45338475206421  grad  -0.7320847386994657  value_incr  0.14640962689250614\n",
      "iter  285  error  142.72544007239352  Gm  46.45338475206421  grad  -0.7320847386994657  value_incr  -0.0\n",
      "iter  286  error  142.6182418839573  Gm  46.59969027093254  grad  -0.731564172550284  value_incr  0.14630551886833132\n",
      "iter  286  error  142.6182418839573  Gm  46.59969027093254  grad  -0.731564172550284  value_incr  -0.0\n",
      "iter  287  error  142.51119602784854  Gm  46.745891546098306  grad  -0.7310429279752253  value_incr  0.1462012751657653\n",
      "iter  287  error  142.51119602784854  Gm  46.745891546098306  grad  -0.7310429279752253  value_incr  -0.0\n",
      "iter  288  error  142.40430259394432  Gm  46.89198844188098  grad  -0.7305210049636306  value_incr  0.14609689578267648\n",
      "iter  288  error  142.40430259394432  Gm  46.89198844188098  grad  -0.7305210049636306  value_incr  -0.0\n",
      "iter  289  error  142.29756167170058  Gm  47.03798082260025  grad  -0.7299984035164948  value_incr  0.1459923807192638\n",
      "iter  289  error  142.29756167170058  Gm  47.03798082260025  grad  -0.7299984035164948  value_incr  -0.0\n",
      "iter  290  error  142.1909733501483  Gm  47.18386855257825  grad  -0.7294751236461819  value_incr  0.14588772997799992\n",
      "iter  290  error  142.1909733501483  Gm  47.18386855257825  grad  -0.7294751236461819  value_incr  -0.0\n",
      "iter  291  error  142.08453771788967  Gm  47.32965149614205  grad  -0.728951165377278  value_incr  0.14578294356380184\n",
      "iter  291  error  142.08453771788967  Gm  47.32965149614205  grad  -0.728951165377278  value_incr  -0.0\n",
      "iter  292  error  141.97825486309375  Gm  47.47532951762588  grad  -0.7284265287455963  value_incr  0.1456780214838318\n",
      "iter  292  error  141.97825486309375  Gm  47.47532951762588  grad  -0.7284265287455963  value_incr  -0.0\n",
      "iter  293  error  141.872124873493  Gm  47.62090248137352  grad  -0.7279012137988875  value_incr  0.1455729637476395\n",
      "iter  293  error  141.872124873493  Gm  47.62090248137352  grad  -0.7279012137988875  value_incr  -0.0\n",
      "iter  294  error  141.76614783637893  Gm  47.76637025174054  grad  -0.7273752205961296  value_incr  0.14546777036701997\n",
      "iter  294  error  141.76614783637893  Gm  47.76637025174054  grad  -0.7273752205961296  value_incr  -0.0\n",
      "iter  295  error  141.66032383859869  Gm  47.91173269309684  grad  -0.726848549208949  value_incr  0.14536244135629772\n",
      "iter  295  error  141.66032383859869  Gm  47.91173269309684  grad  -0.726848549208949  value_incr  -0.0\n",
      "iter  296  error  141.5546529665506  Gm  48.056989669828795  grad  -0.7263211997197728  value_incr  0.14525697673195737\n",
      "iter  296  error  141.5546529665506  Gm  48.056989669828795  grad  -0.7263211997197728  value_incr  -0.0\n",
      "iter  297  error  141.44913530618075  Gm  48.20214104634172  grad  -0.7257931722232499  value_incr  0.14515137651292775\n",
      "iter  297  error  141.44913530618075  Gm  48.20214104634172  grad  -0.7257931722232499  value_incr  -0.0\n",
      "iter  298  error  141.3437709429787  Gm  48.34718668706219  grad  -0.7252644668256829  value_incr  0.14504564072046833\n",
      "iter  298  error  141.3437709429787  Gm  48.34718668706219  grad  -0.7252644668256829  value_incr  -0.0\n",
      "iter  299  error  141.23855996197395  Gm  48.49212645644033  grad  -0.7247350836448857  value_incr  0.14493976937814068\n",
      "iter  299  error  141.23855996197395  Gm  48.49212645644033  grad  -0.7247350836448857  value_incr  -0.0\n",
      "iter  300  error  141.13350244773187  Gm  48.63696021895228  grad  -0.7242050228108939  value_incr  0.14483376251195068\n",
      "iter  300  error  141.13350244773187  Gm  48.63696021895228  grad  -0.7242050228108939  value_incr  -0.0\n",
      "{'K': 300, 'G': 150} {'K': 201.09978780714331, 'G': 49.4623770985811, 'E': 137.14324276931134, 'nu': 0.38633897938202283}\n",
      "Microstructure\n",
      "f_m = 0.99, matrix, K: 200.00, G: 48.64, E: 3.00, nu: 0.50\n",
      "f_i = 0.01, None, Spheres, K: 833.33, G: 384.62, E: 1000.01, nu: 0.30\n"
     ]
    }
   ],
   "source": [
    "### Paramètres de test ###\n",
    "K_target = 300\n",
    "G_target = 150\n",
    "Ki = 833.33\n",
    "Gi = 384.62 \n",
    "fi = 0.01\n",
    "Km = 200\n",
    "Gm = 1\n",
    "inclusion = Inclusion(0, {'K': Ki, 'G': Gi})\n",
    "microstructure = Microstructure({'K': Km, 'G': Gm}, {inclusion: fi})\n",
    "\n",
    "import pickle as pk\n",
    "                \n",
    "# ### Paramètres de test ###\n",
    "target = {'K': K_target, 'G': G_target}\n",
    "# Ki = 833.33\n",
    "# Gi = 384.62 \n",
    "# fi = 0.01\n",
    "# Km = 200\n",
    "# Gm = 1\n",
    "# inclusion = Inclusion(0, {'K': Ki, 'G': Gi})\n",
    "# microstructure = Microstructure({'K': Km, 'G': Gm}, {inclusion: fi})\n",
    "\n",
    "def fun(value_incr, maxi, mini):\n",
    "    \"\"\"\n",
    "    Incrémente la valeur du paramètre.\n",
    "    \"\"\"\n",
    "    inclusion = list(microstructure.dict_inclusions.keys())[0]\n",
    "    value = microstructure.dict_inclusions[inclusion]\n",
    "    value += value_incr\n",
    "    if value > maxi:\n",
    "        value = maxi\n",
    "    if value < mini:\n",
    "        value = mini\n",
    "    microstructure.change_fi(inclusion, value)\n",
    "\n",
    "def fun_G(value_incr, maxi, mini):\n",
    "    \"\"\"\n",
    "    Liée à G_matrice\n",
    "    \"\"\"\n",
    "    value = microstructure.matrix_behavior['G']\n",
    "    value += value_incr\n",
    "    if value > maxi:\n",
    "        value = maxi\n",
    "    if value < mini:\n",
    "        value = mini\n",
    "    microstructure.matrix_behavior['G'] = value\n",
    "    \n",
    "def fun_K(value_incr, maxi, mini):\n",
    "    \"\"\"\n",
    "    Liée à K_matrice\n",
    "    \"\"\"\n",
    "    value = microstructure.matrix_behavior['K']\n",
    "    value += value_incr\n",
    "    if value > maxi:\n",
    "        value = maxi\n",
    "    if value < mini:\n",
    "        value = mini\n",
    "    microstructure.matrix_behavior['K'] = value\n",
    "        \n",
    "# ddl = {fun: [0.01, 0.99]}\n",
    "ddl = {fun_G: [0.01, 200], fun_K: [0.01, 200]}\n",
    "model = Mori_Tanaka()\n",
    "### ###\n",
    "\n",
    "def compute_error(microstructure, model, target):\n",
    "    \"\"\"\n",
    "    Calcule l'erreur au sens des moindres carrés entre le comportement cible et le comportement homogénéisé.\n",
    "    \"\"\"\n",
    "    behavior_h = model.compute_h_behavior(microstructure)\n",
    "    difference = [target[parameter]-behavior_h[parameter] for parameter in target.keys()]\n",
    "    return np.linalg.norm(difference)\n",
    "\n",
    "def grad(target, model, ddl, error_old):\n",
    "    \"\"\"\n",
    "    target: dict, comportement cible\n",
    "    model: instance de classe Model\n",
    "    microstructure: instance de classe Microstructure\n",
    "    ddl: dict des variables du problème d'optimisation avec leurs valeurs min et max\n",
    "    error_old: float, erreur calculée pour le set de variables de l'itération en cours\n",
    "    \"\"\"\n",
    "    global microstructure\n",
    "    result = {} # format: {function associée à la variable: valeur_du_gradient}\n",
    "    pas = 0.001\n",
    "    # Sauvegarde de la microstructure\n",
    "    with open('save', 'bw') as file:\n",
    "        pickler = pk.Pickler(file)\n",
    "        pickler.dump(microstructure)\n",
    "    # Calcul du gradient terme à terme\n",
    "    for function, min_max in ddl.items():\n",
    "        mini, maxi = min_max # Bornes de la variable\n",
    "        # TODO : Prendre en compte des inclusions mutliples\n",
    "        pas_i = (maxi - mini)*pas # Pas spécifique au paramètre\n",
    "        function(pas_i, maxi, mini) # Mise à jour du paramètre\n",
    "        # Calcul de la nouvelle erreur\n",
    "        error_new = compute_error(microstructure, model, target)\n",
    "        # Calcul du gradient associé au paramètre\n",
    "        result[function] = (error_new - error_old)/pas_i\n",
    "        # Annulation des modifications sur la microstructure\n",
    "        with open('save', 'br') as file:\n",
    "            unpickler = pk.Unpickler(file)\n",
    "            microstructure = unpickler.load()\n",
    "    # Suppression du fichier de sauvegarde de la microstructure\n",
    "    !rm save\n",
    "    return result\n",
    "\n",
    "def newton(target, model, ddl):\n",
    "    \"\"\"\n",
    "    Réalise une descente du gradient pour trouver la fraction volumique idéale d'inclusion pour atteindre le comportement homogénéisé cible.\n",
    "    \"\"\"\n",
    "    global microstructure\n",
    "    pas = 0.001\n",
    "    seuil = 10**(-5)\n",
    "    max_iterations = 300\n",
    "    iteration = 0\n",
    "    # Valeur de l'erreur\n",
    "    error = compute_error(microstructure, model, target)\n",
    "    while error>seuil and iteration<max_iterations:\n",
    "        # Calcul du gradient\n",
    "        grad_error = grad(target, model, ddl, error)\n",
    "        #print(\"iter \", iteration, \" error \", error,\" fi \", microstructure.dict_inclusions[inclusion],\" grad \", list(grad_error.values())[0])\n",
    "        iteration += 1\n",
    "        # TODO : coder une optimisation de alpha\n",
    "        # Mise à jour des variables\n",
    "        for function, minmax in ddl.items():\n",
    "            mini, maxi = minmax\n",
    "            pas_i = pas*(maxi-mini)\n",
    "            value_incr = -pas_i*grad_error[function]\n",
    "            function(value_incr, maxi, mini) # Calcul des variables à l'itération suivante\n",
    "            print(\"iter \", iteration, \" error \", error,\" Gm \", microstructure.matrix_behavior['G'],\" grad \", list(grad_error.values())[0],\" value_incr \", value_incr)\n",
    "        # Mise à jour de l'erreur\n",
    "        error = compute_error(microstructure, model, target)\n",
    "    behavior = model.compute_h_behavior(microstructure)\n",
    "    print(target, behavior)\n",
    "    return(microstructure)\n",
    "\n",
    "# print(grad(target, model, microstructure, ddl, 80.7))\n",
    "# print(compute_error(microstructure, model, target))\n",
    "\n",
    "print(microstructure)\n",
    "newton(target, model, ddl)\n",
    "print(microstructure)\n",
    "\n",
    "# print(microstructure)\n",
    "# function = list(ddl.keys())[0]\n",
    "# function(5,200,0)\n",
    "# print(microstructure)"
   ]
  },
  {
   "cell_type": "markdown",
   "metadata": {},
   "source": [
    "## Autres tests"
   ]
  },
  {
   "cell_type": "code",
   "execution_count": 33,
   "metadata": {},
   "outputs": [
    {
     "data": {
      "text/plain": [
       "[<matplotlib.lines.Line2D at 0x7f329d5997f0>]"
      ]
     },
     "execution_count": 33,
     "metadata": {},
     "output_type": "execute_result"
    },
    {
     "data": {
      "image/png": "[encoded data removed]",
      "text/plain": [
       "<Figure size 432x288 with 1 Axes>"
      ]
     },
     "metadata": {
      "needs_background": "light"
     },
     "output_type": "display_data"
    }
   ],
   "source": [
    "f_list = np.linspace(0,0.99,200)\n",
    "errors = []\n",
    "for f in f_list:\n",
    "    microstructure.dict_inclusions[inclusion] = f\n",
    "    microstructure.f_matrix = microstructure.compute_fm()\n",
    "    behavior = model.compute_h_behavior(microstructure)\n",
    "    list_behavior = np.array([behavior['K'], behavior['G']])\n",
    "    error = np.linalg.norm(list_behavior-target)\n",
    "    errors.append(error)\n",
    "plt.plot(f_list,errors)"
   ]
  },
  {
   "cell_type": "code",
   "execution_count": 34,
   "metadata": {},
   "outputs": [
    {
     "data": {
      "text/plain": [
       "[<matplotlib.lines.Line2D at 0x7f329d0dd310>]"
      ]
     },
     "execution_count": 34,
     "metadata": {},
     "output_type": "execute_result"
    },
    {
     "data": {
      "image/png": "[encoded data removed]",
      "text/plain": [
       "<Figure size 432x288 with 1 Axes>"
      ]
     },
     "metadata": {
      "needs_background": "light"
     },
     "output_type": "display_data"
    }
   ],
   "source": [
    "microstructure.dict_inclusions[inclusion] = 0.2\n",
    "microstructure.f_matrix = microstructure.compute_fm()\n",
    "G_list = np.linspace(0,1000,500)\n",
    "errors = []\n",
    "for G in G_list:\n",
    "    microstructure.matrix_behavior['G'] = G\n",
    "    behavior = model.compute_h_behavior(microstructure)\n",
    "    list_behavior = np.array([behavior['K'], behavior['G']])\n",
    "    error = np.linalg.norm(list_behavior-target)\n",
    "    errors.append(error)\n",
    "plt.plot(G_list,errors)"
   ]
  },
  {
   "cell_type": "code",
   "execution_count": 35,
   "metadata": {},
   "outputs": [
    {
     "name": "stdout",
     "output_type": "stream",
     "text": [
      "Microstructure generated\n",
      "Microstructure\n",
      "f_m = 1.00, matrix, K: 1.00, G: 1.00, E: 2.25, nu: 0.12\n",
      "Microstructure\n",
      "f_m = 1.00, matrix, K: 1.00, G: 1.00, E: 2.25, nu: 0.12\n"
     ]
    }
   ],
   "source": [
    "generate_microstructure(None)\n",
    "print(microstructure)"
   ]
  },
  {
   "cell_type": "markdown",
   "metadata": {},
   "source": [
    "## Dernière version - chantier"
   ]
  },
  {
   "cell_type": "code",
   "execution_count": 21,
   "metadata": {},
   "outputs": [
    {
     "name": "stdout",
     "output_type": "stream",
     "text": [
      "Microstructure\n",
      "f_m = 0.60, matrix, E: 10.00, nu: 0.30, K: 8.33, G: 3.85\n",
      "f_i = 0.2, None, Spheres, E: 200.00, nu: 0.30, K: 166.67, G: 76.92\n",
      "f_i = 0.2, None, Spheres, E: 500.00, nu: 0.30, K: 416.67, G: 192.31\n",
      "Microstructure\n",
      "f_m = 0.60, matrix, E: 10.00, nu: 0.30, K: 8.33, G: 3.85\n",
      "f_i = 0.2, None, Spheres, E: 200.00, nu: 0.30, K: 166.67, G: 76.92\n",
      "f_i = 0.5, None, Spheres, E: 500.00, nu: 0.30, K: 416.67, G: 192.31\n"
     ]
    }
   ],
   "source": [
    "inclusion1 = Inclusion(0, {'E': 200, 'nu': 0.3})\n",
    "inclusion2 = Inclusion(0, {'E': 500, 'nu': 0.3})\n",
    "microstructure = Microstructure({'E': 10, 'nu': 0.3}, {inclusion1: 0.2, inclusion2: 0.2})\n",
    "print(microstructure)\n",
    "\n",
    "dl = []\n",
    "for inclusion in microstructure.dict_inclusions.keys():\n",
    "    def fun(value):\n",
    "        microstructure.dict_inclusions[inclusion] = value\n",
    "        if value>=1:\n",
    "            value == 0.99\n",
    "        elif value<=0:\n",
    "            value = 0.01\n",
    "    dl.append(fun)\n",
    "\n",
    "dl[0](0.5)\n",
    "print(microstructure)"
   ]
  },
  {
   "cell_type": "markdown",
   "metadata": {},
   "source": [
    "### Deuxième algo"
   ]
  },
  {
   "cell_type": "code",
   "execution_count": 20,
   "metadata": {},
   "outputs": [
    {
     "name": "stdout",
     "output_type": "stream",
     "text": [
      "iter  0  error  314.9798963855185  fi  0.01\n",
      "iter  1  error  314.9798963855185  fi  0.01\n",
      "iter  2  error  314.9798963855185  fi  0.01\n",
      "iter  3  error  314.9798963855185  fi  0.01\n",
      "iter  4  error  314.9798963855185  fi  0.01\n",
      "{'K': 300, 'G': 300} {'K': 200.87236728850834, 'G': 1.0250051257671327, 'E': 3.0697938950902635, 'nu': 0.49745294824392877}\n",
      "Microstructure\n",
      "f_m = 0.99, matrix, K: 200.00, G: 1.00, E: 3.00, nu: 0.50\n",
      "f_i = 0.01, None, Spheres, K: 833.33, G: 384.62, E: 1000.01, nu: 0.30\n"
     ]
    }
   ],
   "source": [
    "import pickle as pk\n",
    "                \n",
    "# ### Paramètres de test ###\n",
    "target = {'K': k_target, 'G': G_target}\n",
    "# Ki = 833.33\n",
    "# Gi = 384.62 \n",
    "# fi = 0.01\n",
    "# Km = 200\n",
    "# Gm = 1\n",
    "# inclusion = Inclusion(0, {'K': Ki, 'G': Gi})\n",
    "# microstructure = Microstructure({'K': Km, 'G': Gm}, {inclusion: fi})\n",
    "\n",
    "def fun(value_incr, maxi, mini):\n",
    "    \"\"\"\n",
    "    Incrémente la valeur du paramètre.\n",
    "    \"\"\"\n",
    "    value = microstructure.dict_inclusions[inclusion]\n",
    "    value += value_incr\n",
    "    if value > maxi:\n",
    "        value = maxi\n",
    "    if value < mini:\n",
    "        value = mini\n",
    "    microstructure.change_fi(inclusion, value)\n",
    "        \n",
    "ddl = {fun: [0.01, 0.99]}\n",
    "model = Mori_Tanaka()\n",
    "### ###\n",
    "\n",
    "def compute_error(microstructure, model, target):\n",
    "    \"\"\"\n",
    "    Calcule l'erreur au sens des moindres carrés entre le comportement cible et le comportement homogénéisé.\n",
    "    \"\"\"\n",
    "    behavior_h = model.compute_h_behavior(microstructure)\n",
    "    difference = [target[parameter]-behavior_h[parameter] for parameter in target.keys()]\n",
    "    return np.linalg.norm(difference)\n",
    "\n",
    "def grad(target, model, microstructure, ddl, error_old):\n",
    "    \"\"\"\n",
    "    target: dict, comportement cible\n",
    "    model: instance de classe Model\n",
    "    microstructure: instance de classe Microstructure\n",
    "    ddl: dict des variables du problème d'optimisation avec leurs valeurs min et max\n",
    "    error_old: float, erreur calculée pour le set de variables de l'itération en cours\n",
    "    \"\"\"\n",
    "    result = {} # format: {function associée à la variable: valeur_du_gradient}\n",
    "    pas = 0.001\n",
    "    # Sauvegarde de la microstructure\n",
    "    with open('save', 'bw') as file:\n",
    "        pickler = pk.Pickler(file)\n",
    "        pickler.dump(microstructure)\n",
    "    # Calcul du gradient terme à terme\n",
    "    for function, min_max in ddl.items():\n",
    "        mini, maxi = min_max # Bornes de la variable\n",
    "        # TODO : Prendre en compte des inclusions mutliples\n",
    "        pas_i = (maxi - mini)*pas # Pas spécifique au paramètre\n",
    "        function(pas_i, maxi, mini) # Mise à jour du paramètre\n",
    "        # Calcul de la nouvelle erreur\n",
    "        error_new = compute_error(microstructure, model, target)\n",
    "        # Calcul du gradient associé au paramètre\n",
    "        result[function] = (error_new - error_old)/pas_i\n",
    "        # Annulation des modifications sur la microstructure\n",
    "        with open('save', 'br') as file:\n",
    "            unpickler = pk.Unpickler(file)\n",
    "            microstructure = unpickler.load()\n",
    "    # Suppression du fichier de sauvegarde de la microstructure\n",
    "    !rm save\n",
    "    return result\n",
    "\n",
    "def newton(target, model, microstructure, ddl):\n",
    "    \"\"\"\n",
    "    Réalise une descente du gradient pour trouver la fraction volumique idéale d'inclusion pour atteindre le comportement homogénéisé cible.\n",
    "    \"\"\"\n",
    "    pas = 0.001\n",
    "    seuil = 10**(-5)\n",
    "    max_iterations = 5\n",
    "    iteration = 0\n",
    "    # Valeur de l'erreur\n",
    "    error = compute_error(microstructure, model, target)\n",
    "    while error>seuil and iteration<max_iterations:\n",
    "        print(\"iter \", iteration, \" error \", error,\" fi \", microstructure.dict_inclusions[inclusion])\n",
    "        # Calcul du gradient\n",
    "        grad_error = grad(target, model, microstructure, ddl, error)\n",
    "        iteration += 1\n",
    "        # TODO : coder une optimisation de alpha\n",
    "        # Mise à jour des variables\n",
    "        for function, minmax in ddl.items():\n",
    "            mini, maxi = minmax\n",
    "            pas_i = pas*(maxi-mini)\n",
    "            function(pas_i*grad_error[function], maxi, mini) # Calcul des variables à l'itération suivante\n",
    "        # Mise à jour de l'erreur\n",
    "        error = compute_error(microstructure, model, target)\n",
    "    behavior = model.compute_h_behavior(microstructure)\n",
    "    print(target, behavior)\n",
    "    return(microstructure)\n",
    "\n",
    "# print(grad(target, model, microstructure, ddl, 80.7))\n",
    "# print(compute_error(microstructure, model, target))\n",
    "microstructure = newton(target, model, microstructure, ddl)\n",
    "print(microstructure)"
   ]
  },
  {
   "cell_type": "code",
   "execution_count": null,
   "metadata": {},
   "outputs": [],
   "source": []
  }
 ],
 "metadata": {
  "kernelspec": {
   "display_name": "Python 3",
   "language": "python",
   "name": "python3"
  },
  "language_info": {
   "codemirror_mode": {
    "name": "ipython",
    "version": 3
   },
   "file_extension": ".py",
   "mimetype": "text/x-python",
   "name": "python",
   "nbconvert_exporter": "python",
   "pygments_lexer": "ipython3",
   "version": "3.8.1"
  }
 },
 "nbformat": 4,
 "nbformat_minor": 4
}
